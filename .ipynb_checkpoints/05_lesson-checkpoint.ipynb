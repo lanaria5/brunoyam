{
 "cells": [
  {
   "cell_type": "markdown",
   "metadata": {},
   "source": [
    "## Easy\n",
    "\n",
    "Оценить с помощью доверительных интервалов:\n",
    "- выживаемость всех пассажиров (оценить среднее по isSurvived)\n",
    "- выживаемость женщин\n",
    "- выживаемость людей с каютами первого класса"
   ]
  },
  {
   "cell_type": "code",
   "execution_count": 48,
   "metadata": {},
   "outputs": [],
   "source": [
    "import pandas as pn\n",
    "import numpy as np\n",
    "import scipy\n",
    "from scipy.stats import norm\n",
    "from scipy.stats import t"
   ]
  },
  {
   "cell_type": "markdown",
   "metadata": {},
   "source": [
    "Загрузим данные с титаника. "
   ]
  },
  {
   "cell_type": "code",
   "execution_count": 49,
   "metadata": {},
   "outputs": [],
   "source": [
    "titanic = pn.read_csv('../02_lesson/titanic/train.csv')"
   ]
  },
  {
   "cell_type": "markdown",
   "metadata": {},
   "source": [
    "Расcчитаем дисперсию признака выживаемости, а также среднюю выживаемости:"
   ]
  },
  {
   "cell_type": "code",
   "execution_count": 50,
   "metadata": {},
   "outputs": [
    {
     "name": "stdout",
     "output_type": "stream",
     "text": [
      "Дисперсия выживаемости:  0.4865924542648585\n",
      "Средняя выживаемости:  0.3838383838383838\n",
      "Количество пассажиров:  891\n"
     ]
    }
   ],
   "source": [
    "std = titanic.Survived.std()\n",
    "mean = titanic.Survived.mean()\n",
    "n = titanic.Survived.count()\n",
    "print('Дисперсия выживаемости: ', std)\n",
    "print('Средняя выживаемости: ', mean)\n",
    "print('Количество пассажиров: ', n)"
   ]
  },
  {
   "cell_type": "markdown",
   "metadata": {},
   "source": [
    "Определим функцию нахождения доверительного интервала при известной дисперсии."
   ]
  },
  {
   "cell_type": "code",
   "execution_count": 51,
   "metadata": {},
   "outputs": [],
   "source": [
    "def get_confidence_interval(mean, std, n, alpha):\n",
    "    h = norm.ppf(1 - alpha / 2) * std / np.sqrt(n)\n",
    "    return mean - h, mean + h"
   ]
  },
  {
   "cell_type": "markdown",
   "metadata": {},
   "source": [
    "Рассчитаем доверительный интервал при достоверности 0.05 (alpha=0.05)"
   ]
  },
  {
   "cell_type": "code",
   "execution_count": 52,
   "metadata": {},
   "outputs": [
    {
     "data": {
      "text/plain": [
       "(0.3518881082221273, 0.41578865945464033)"
      ]
     },
     "execution_count": 52,
     "metadata": {},
     "output_type": "execute_result"
    }
   ],
   "source": [
    "confidence_interval = get_confidence_interval(mean, std, n, 0.05)\n",
    "confidence_interval"
   ]
  },
  {
   "cell_type": "markdown",
   "metadata": {},
   "source": [
    "Ответ: вероятность выживаемости на Титанике составляет от 35% до 41% с 95% точностью."
   ]
  },
  {
   "cell_type": "markdown",
   "metadata": {},
   "source": [
    "Поробуем расчитать вероятность выживания на Титанике если бы дисперсия и среднее были бы неизвестны"
   ]
  },
  {
   "cell_type": "code",
   "execution_count": 53,
   "metadata": {},
   "outputs": [
    {
     "data": {
      "text/plain": [
       "(-0.5711640365064437, 1.3388408041832114)"
      ]
     },
     "execution_count": 53,
     "metadata": {},
     "output_type": "execute_result"
    }
   ],
   "source": [
    "t.interval(1- 0.05, n - 1, loc=mean, scale=std)"
   ]
  },
  {
   "cell_type": "markdown",
   "metadata": {},
   "source": [
    "## Normal\n",
    "\n",
    "- Проверить гипотезу о том, что женщины выживают чаще мужчин с уровнем значимости 0.05\n",
    "- Проверить гипотезу о том, что дети выживают чаще, чем взрослые"
   ]
  },
  {
   "cell_type": "markdown",
   "metadata": {},
   "source": [
    "Для проверки гипотезы будем использовать критерий Стьюдента, для оценки средних двух выборок. В качестве выборки возьмем фактор выживаемости. Если средняя выживаемость женщин будет значимо отличатся от средней выживаемости мужчин, значит наша гипотеза верна. Критерий Стьюдента в качестве нулевой гипотезы использует предположение о том, что выборки равны. Таким образом, наша гипотеза является альтернативной, и для ее подтверждения нам необходимо выполнить тест с результатом достоверности p-value меньше 0.05 (среднее двух выборок равно с низкой степенью достоверности)"
   ]
  },
  {
   "cell_type": "code",
   "execution_count": 56,
   "metadata": {},
   "outputs": [
    {
     "name": "stdout",
     "output_type": "stream",
     "text": [
      "Альтернативная гипотеза верна, p_value:  7.030330654401297e-70  Средняя выживаемости не равна\n"
     ]
    }
   ],
   "source": [
    "male = titanic[titanic.Sex == 'male']\n",
    "female = titanic[titanic.Sex == 'female']\n",
    "x, p_value = scipy.stats.ttest_ind(male.Survived.array, female.Survived.array, alternative = 'less')\n",
    "\n",
    "if p_value < 0.05:\n",
    "    print('Альтернативная гипотеза верна, p_value: ', p_value, ' Средняя выживаемости мужчин меньше средней выживаемости женщин')\n",
    "else:\n",
    "    print('Основная гипотеза верна, p_value: ', p_value, ' Средние выживаемости  с большой долей вероятностью равны')"
   ]
  }
 ],
 "metadata": {
  "interpreter": {
   "hash": "7b08bf3cd01773cc2551ad6fc56132757b541253642b9416b0d416138fe266f0"
  },
  "kernelspec": {
   "display_name": "Python 3.9.7 64-bit ('data-scine-class': conda)",
   "name": "python3"
  },
  "language_info": {
   "codemirror_mode": {
    "name": "ipython",
    "version": 3
   },
   "file_extension": ".py",
   "mimetype": "text/x-python",
   "name": "python",
   "nbconvert_exporter": "python",
   "pygments_lexer": "ipython3",
   "version": "3.9.7"
  },
  "orig_nbformat": 4
 },
 "nbformat": 4,
 "nbformat_minor": 2
}

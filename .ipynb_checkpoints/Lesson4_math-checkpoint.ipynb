{
 "cells": [
  {
   "cell_type": "markdown",
   "id": "8464e75b-d5e7-41a0-a121-dca339899514",
   "metadata": {
    "tags": []
   },
   "source": [
    "## Домашнее задание к 4 уроку (математика, теория вероятностей)\n",
    "\n",
    "Easy\n",
    "Вычислить вероятность выживания, если пассажиру:\n",
    "\n",
    "от 0 до 25 лет\n",
    "от 25 до 50 лет\n",
    "от 50 лет и старше"
   ]
  },
  {
   "cell_type": "markdown",
   "id": "f12907c5-8d5f-4d00-8549-28d65aa55036",
   "metadata": {},
   "source": [
    "Medium\n",
    "\n",
    "Вычислить с какой вероятностью пассажир женского пола, если известно, что он выжил (использовать теорему Байеса)"
   ]
  },
  {
   "cell_type": "markdown",
   "id": "82000f77-5315-4ce7-a4ed-3f6906bea4d5",
   "metadata": {},
   "source": [
    "Hard\n",
    "\n",
    "Закон распределения задается функцией плотности\n",
    "\n",
    "𝑓(𝑥)=𝜆𝑒−𝜆𝑥,𝑥>0 \n",
    "𝑓(𝑥)=0,𝑥<=0 \n",
    "Найти вероятность того, что событие произойдет при  𝑥∈[1,2] \n",
    "P.S. в scipy есть функция для интегрирования функции"
   ]
  },
  {
   "cell_type": "markdown",
   "id": "ed44e6b2-9fc3-43a5-a7ec-d18fd77e9a88",
   "metadata": {},
   "source": [
    "## Ответы:"
   ]
  },
  {
   "cell_type": "code",
   "execution_count": 1,
   "id": "e777c448-5837-4fee-831a-1af4f1b327a2",
   "metadata": {
    "tags": []
   },
   "outputs": [],
   "source": [
    "import pandas as pd  # Импортируем pandas"
   ]
  },
  {
   "cell_type": "markdown",
   "id": "0207afd0-ae08-4257-a0cb-b2fe457154a2",
   "metadata": {
    "tags": []
   },
   "source": [
    "# 1. Задача Easy\n",
    "Вычислить вероятность выживания, если пассажиру:\n",
    "\n",
    "от 0 до 25 лет\n",
    "от 25 до 50 лет\n",
    "от 50 лет и старше"
   ]
  },
  {
   "cell_type": "markdown",
   "id": "cecba899-5083-4bcd-95d6-be593a3c720a",
   "metadata": {},
   "source": [
    "Исправлена задача easy"
   ]
  },
  {
   "cell_type": "code",
   "execution_count": 2,
   "id": "70af3ea8-e977-4d23-8e30-fb2231978d0a",
   "metadata": {},
   "outputs": [
    {
     "data": {
      "text/html": [
       "<div>\n",
       "<style scoped>\n",
       "    .dataframe tbody tr th:only-of-type {\n",
       "        vertical-align: middle;\n",
       "    }\n",
       "\n",
       "    .dataframe tbody tr th {\n",
       "        vertical-align: top;\n",
       "    }\n",
       "\n",
       "    .dataframe thead th {\n",
       "        text-align: right;\n",
       "    }\n",
       "</style>\n",
       "<table border=\"1\" class=\"dataframe\">\n",
       "  <thead>\n",
       "    <tr style=\"text-align: right;\">\n",
       "      <th></th>\n",
       "      <th>PassengerId</th>\n",
       "      <th>Survived</th>\n",
       "      <th>Pclass</th>\n",
       "      <th>Name</th>\n",
       "      <th>Sex</th>\n",
       "      <th>Age</th>\n",
       "      <th>SibSp</th>\n",
       "      <th>Parch</th>\n",
       "      <th>Ticket</th>\n",
       "      <th>Fare</th>\n",
       "      <th>Cabin</th>\n",
       "      <th>Embarked</th>\n",
       "    </tr>\n",
       "  </thead>\n",
       "  <tbody>\n",
       "    <tr>\n",
       "      <th>0</th>\n",
       "      <td>1</td>\n",
       "      <td>0</td>\n",
       "      <td>3</td>\n",
       "      <td>Braund, Mr. Owen Harris</td>\n",
       "      <td>male</td>\n",
       "      <td>22.0</td>\n",
       "      <td>1</td>\n",
       "      <td>0</td>\n",
       "      <td>A/5 21171</td>\n",
       "      <td>7.2500</td>\n",
       "      <td>NaN</td>\n",
       "      <td>S</td>\n",
       "    </tr>\n",
       "    <tr>\n",
       "      <th>1</th>\n",
       "      <td>2</td>\n",
       "      <td>1</td>\n",
       "      <td>1</td>\n",
       "      <td>Cumings, Mrs. John Bradley (Florence Briggs Th...</td>\n",
       "      <td>female</td>\n",
       "      <td>38.0</td>\n",
       "      <td>1</td>\n",
       "      <td>0</td>\n",
       "      <td>PC 17599</td>\n",
       "      <td>71.2833</td>\n",
       "      <td>C85</td>\n",
       "      <td>C</td>\n",
       "    </tr>\n",
       "    <tr>\n",
       "      <th>2</th>\n",
       "      <td>3</td>\n",
       "      <td>1</td>\n",
       "      <td>3</td>\n",
       "      <td>Heikkinen, Miss. Laina</td>\n",
       "      <td>female</td>\n",
       "      <td>26.0</td>\n",
       "      <td>0</td>\n",
       "      <td>0</td>\n",
       "      <td>STON/O2. 3101282</td>\n",
       "      <td>7.9250</td>\n",
       "      <td>NaN</td>\n",
       "      <td>S</td>\n",
       "    </tr>\n",
       "    <tr>\n",
       "      <th>3</th>\n",
       "      <td>4</td>\n",
       "      <td>1</td>\n",
       "      <td>1</td>\n",
       "      <td>Futrelle, Mrs. Jacques Heath (Lily May Peel)</td>\n",
       "      <td>female</td>\n",
       "      <td>35.0</td>\n",
       "      <td>1</td>\n",
       "      <td>0</td>\n",
       "      <td>113803</td>\n",
       "      <td>53.1000</td>\n",
       "      <td>C123</td>\n",
       "      <td>S</td>\n",
       "    </tr>\n",
       "    <tr>\n",
       "      <th>4</th>\n",
       "      <td>5</td>\n",
       "      <td>0</td>\n",
       "      <td>3</td>\n",
       "      <td>Allen, Mr. William Henry</td>\n",
       "      <td>male</td>\n",
       "      <td>35.0</td>\n",
       "      <td>0</td>\n",
       "      <td>0</td>\n",
       "      <td>373450</td>\n",
       "      <td>8.0500</td>\n",
       "      <td>NaN</td>\n",
       "      <td>S</td>\n",
       "    </tr>\n",
       "  </tbody>\n",
       "</table>\n",
       "</div>"
      ],
      "text/plain": [
       "   PassengerId  Survived  Pclass  \\\n",
       "0            1         0       3   \n",
       "1            2         1       1   \n",
       "2            3         1       3   \n",
       "3            4         1       1   \n",
       "4            5         0       3   \n",
       "\n",
       "                                                Name     Sex   Age  SibSp  \\\n",
       "0                            Braund, Mr. Owen Harris    male  22.0      1   \n",
       "1  Cumings, Mrs. John Bradley (Florence Briggs Th...  female  38.0      1   \n",
       "2                             Heikkinen, Miss. Laina  female  26.0      0   \n",
       "3       Futrelle, Mrs. Jacques Heath (Lily May Peel)  female  35.0      1   \n",
       "4                           Allen, Mr. William Henry    male  35.0      0   \n",
       "\n",
       "   Parch            Ticket     Fare Cabin Embarked  \n",
       "0      0         A/5 21171   7.2500   NaN        S  \n",
       "1      0          PC 17599  71.2833   C85        C  \n",
       "2      0  STON/O2. 3101282   7.9250   NaN        S  \n",
       "3      0            113803  53.1000  C123        S  \n",
       "4      0            373450   8.0500   NaN        S  "
      ]
     },
     "execution_count": 2,
     "metadata": {},
     "output_type": "execute_result"
    }
   ],
   "source": [
    "titanic = pd.read_csv('./data/train.csv')\n",
    "titanic.head()"
   ]
  },
  {
   "cell_type": "markdown",
   "id": "44917dce-8563-455a-9fc4-2a3a07c0ae8b",
   "metadata": {},
   "source": [
    "Для определения вероятности выживания, сначала считаем общее число пассажиров по PassengerID, \n",
    "присваиваем значение переменной people_total"
   ]
  },
  {
   "cell_type": "markdown",
   "id": "6ca883cf-6b8c-4a53-9dcd-460a6f9fa9ff",
   "metadata": {},
   "source": [
    "Cчитаем число пассажиров меньше 25 лет, от 25 до 50, старше 50\n",
    "Записываем в переменные."
   ]
  },
  {
   "cell_type": "code",
   "execution_count": 3,
   "id": "8ab523c7-f484-44a8-9d1e-eefed058ad56",
   "metadata": {},
   "outputs": [],
   "source": [
    "people_younger_25 = titanic[titanic.Age < 25].PassengerId.count()"
   ]
  },
  {
   "cell_type": "code",
   "execution_count": 4,
   "id": "46818b0c-e06a-44ef-80f2-78f767424dcd",
   "metadata": {},
   "outputs": [],
   "source": [
    "people_older_25_50 = titanic[(titanic.Age >= 25) & (titanic.Age < 50)].PassengerId.count()                          "
   ]
  },
  {
   "cell_type": "code",
   "execution_count": 5,
   "id": "1768ad59-d573-41cd-a9b4-f5b936ce4806",
   "metadata": {},
   "outputs": [],
   "source": [
    "people_older_50 = titanic[titanic.Age >= 50].PassengerId.count()"
   ]
  },
  {
   "cell_type": "code",
   "execution_count": 6,
   "id": "1b26ebb4-a7a3-495f-b756-94cbbe4e1b67",
   "metadata": {},
   "outputs": [],
   "source": [
    "surviveddf = titanic[titanic.Survived == 1]"
   ]
  },
  {
   "cell_type": "markdown",
   "id": "14af0593-1e72-422b-ae62-f1acbf2cd1aa",
   "metadata": {},
   "source": [
    "Считаем вероятность выживания по группам до 25 лет, 25-50 лет, старше 50"
   ]
  },
  {
   "cell_type": "code",
   "execution_count": 7,
   "id": "170e05dc-ddb4-4580-b5a4-5927dbc2e45d",
   "metadata": {},
   "outputs": [
    {
     "name": "stdout",
     "output_type": "stream",
     "text": [
      "Вероятность выживания в группе до 25 лет 0.38935574229691877\n"
     ]
    }
   ],
   "source": [
    "survived_25 = people_younger_25/(titanic.Age.count())\n",
    "print('Вероятность выживания в группе до 25 лет', survived_25)"
   ]
  },
  {
   "cell_type": "code",
   "execution_count": 8,
   "id": "606c19a7-3f0c-4e59-b9d1-856bb2f6cb3b",
   "metadata": {},
   "outputs": [
    {
     "name": "stdout",
     "output_type": "stream",
     "text": [
      "Вероятность выживания в группе 25-50 лет 0.5070028011204482\n"
     ]
    }
   ],
   "source": [
    "survived_25_50 = people_older_25_50/(titanic.Age.count())\n",
    "print('Вероятность выживания в группе 25-50 лет', survived_25_50)"
   ]
  },
  {
   "cell_type": "code",
   "execution_count": 9,
   "id": "ef31e21d-b27c-44d3-85d9-d7a07cf9c494",
   "metadata": {},
   "outputs": [
    {
     "name": "stdout",
     "output_type": "stream",
     "text": [
      "Вероятность выживания в группе старше 50 лет 0.10364145658263306\n"
     ]
    }
   ],
   "source": [
    "survived_50 = people_older_50/(titanic.Age.count())\n",
    "print('Вероятность выживания в группе старше 50 лет', survived_50)"
   ]
  },
  {
   "cell_type": "markdown",
   "id": "f71d9eca-030c-4a25-8408-d605a86891c9",
   "metadata": {},
   "source": [
    "Проверка:"
   ]
  },
  {
   "cell_type": "code",
   "execution_count": 10,
   "id": "c546670a-e01c-4ccd-baa0-8498b67b868b",
   "metadata": {},
   "outputs": [
    {
     "name": "stdout",
     "output_type": "stream",
     "text": [
      "Сумма вероятностей = 1.0\n"
     ]
    }
   ],
   "source": [
    "control1 = survived_25+survived_25_50+survived_50\n",
    "print('Сумма вероятностей =', round(control1, 1))"
   ]
  },
  {
   "cell_type": "code",
   "execution_count": null,
   "id": "df77c052-4464-4c53-9c39-ae6f2c843b4c",
   "metadata": {},
   "outputs": [],
   "source": []
  },
  {
   "cell_type": "markdown",
   "id": "8b11799e-b9a1-48ea-90f9-eecc4d6435e7",
   "metadata": {},
   "source": [
    "# 2. Задача Medium\n",
    "\n",
    "Вычислить с какой вероятностью пассажир женского пола, если известно, что он выжил (использовать теорему Байеса)"
   ]
  },
  {
   "cell_type": "markdown",
   "id": "5d96fa17-75e0-445e-8923-d228043c471b",
   "metadata": {},
   "source": [
    "Ответ:\n",
    "у нас все пассажиры на борту мужского и женского пола. Для начала считаем доли пассажиров женского и мужского пола на борту.\n",
    "Записываем расчетные показатели в переменные, которые потребуются для дальнейших расчетов (см. комментарии ниже)"
   ]
  },
  {
   "cell_type": "code",
   "execution_count": 11,
   "id": "a9044f55-650b-4f03-a2be-50b2841cafc4",
   "metadata": {},
   "outputs": [
    {
     "name": "stdout",
     "output_type": "stream",
     "text": [
      "Число пассажиров всего, человек =  891\n"
     ]
    }
   ],
   "source": [
    "people_total = titanic.PassengerId.count()    \n",
    "print('Число пассажиров всего, человек = ', people_total)"
   ]
  },
  {
   "cell_type": "code",
   "execution_count": 12,
   "id": "1a80c117-8dc4-448c-ab6e-823d02e53f8b",
   "metadata": {},
   "outputs": [
    {
     "name": "stdout",
     "output_type": "stream",
     "text": [
      "Число женщин на борту:  314\n"
     ]
    }
   ],
   "source": [
    "female_passengers = titanic[titanic.Sex == 'female'].Sex.count()\n",
    "print('Число женщин на борту: ', female_passengers)"
   ]
  },
  {
   "cell_type": "code",
   "execution_count": 13,
   "id": "6307d2e6-05b0-451e-a40f-90a6830323e4",
   "metadata": {},
   "outputs": [
    {
     "name": "stdout",
     "output_type": "stream",
     "text": [
      "Число мужчин на борту:  577\n"
     ]
    }
   ],
   "source": [
    "male_passengers = titanic[titanic.Sex == 'male'].Sex.count()\n",
    "print('Число мужчин на борту: ', male_passengers)"
   ]
  },
  {
   "cell_type": "code",
   "execution_count": 14,
   "id": "5db672bf-ef14-494e-a1af-820a914be650",
   "metadata": {},
   "outputs": [
    {
     "name": "stdout",
     "output_type": "stream",
     "text": [
      "Доля женщин на борту:  0.35241301907968575\n",
      "Доля мужчин на борту:  0.6475869809203143\n"
     ]
    }
   ],
   "source": [
    "part_of_female = female_passengers / people_total \n",
    "part_of_male = male_passengers / people_total \n",
    "print('Доля женщин на борту: ', part_of_female)\n",
    "print('Доля мужчин на борту: ', part_of_male)"
   ]
  },
  {
   "cell_type": "markdown",
   "id": "5703ff7f-e642-4445-b61d-1df2a2856874",
   "metadata": {},
   "source": [
    "Решение:\n",
    "Первая часть решения состоит в использовании формулы полной вероятности. Иными словами, вычисления проводятся в предположении, \n",
    "что испытание ещё не произведено и событие «пассажир выжил\" пока не наступило. Возможны две гипотезы:\n",
    "1) пассажир будет из 1-й группы - женщин;\n",
    "2) пассажир будет из 2-й группы - мужчин;\n",
    " Всего: 314 + 577 = 891 пассажиров на борту. По классическому определению:\n",
    "P_B1 = 314 / 891 = 0.35   P_B2 = 577 / 891 = 0.65  \n",
    "Контроль:  0.35 + 0.65 = 1"
   ]
  },
  {
   "cell_type": "code",
   "execution_count": 15,
   "id": "d88972ad-6e28-468a-a7fe-3d009d168152",
   "metadata": {},
   "outputs": [
    {
     "name": "stdout",
     "output_type": "stream",
     "text": [
      "P_B1=  0.35241301907968575\n",
      "P_B2=  0.6475869809203143\n"
     ]
    }
   ],
   "source": [
    "P_B1 = part_of_female\n",
    "P_B2 = part_of_male\n",
    "print('P_B1= ', part_of_female)\n",
    "print('P_B2= ', part_of_male)"
   ]
  },
  {
   "cell_type": "code",
   "execution_count": null,
   "id": "13637721-b115-4d17-b4af-a3a6e09791f3",
   "metadata": {},
   "outputs": [],
   "source": []
  },
  {
   "cell_type": "markdown",
   "id": "8288faf5-e001-4292-ba0c-a318d47ee3c9",
   "metadata": {},
   "source": [
    "Для удобства расчетов и определения долей выживших женщин и мужчин в общем числе каждой группы - мужчин и женщин -\n",
    "формируем датафрейм с выжившими и на базе его считаем выживших и их доли"
   ]
  },
  {
   "cell_type": "code",
   "execution_count": 16,
   "id": "06e7de55-4d4c-4847-b221-0914da1a9592",
   "metadata": {},
   "outputs": [],
   "source": [
    "female_passengers_alive = surviveddf[surviveddf.Sex == 'female'].Survived.count()"
   ]
  },
  {
   "cell_type": "code",
   "execution_count": 17,
   "id": "7c0ad1ab-e00f-4594-9979-8ae5031875ba",
   "metadata": {},
   "outputs": [],
   "source": [
    "male_passengers_alive = surviveddf[surviveddf.Sex == 'male'].Survived.count()"
   ]
  },
  {
   "cell_type": "code",
   "execution_count": 18,
   "id": "0012b33a-ee34-4097-9590-9ec4d6c7afc6",
   "metadata": {},
   "outputs": [
    {
     "name": "stdout",
     "output_type": "stream",
     "text": [
      "Число выживших женщин:  233\n",
      "Число выживших мужчин:  109\n",
      "Доля выживших женщин в общем количестве женщин:  0.7420382165605095\n",
      "Доля выживших мужчин в общем количестве мужчин:  0.18890814558058924\n"
     ]
    }
   ],
   "source": [
    "female_part_alive = (female_passengers_alive / female_passengers)\n",
    "male_part_alive = (male_passengers_alive / male_passengers)\n",
    "print('Число выживших женщин: ', female_passengers_alive)\n",
    "print('Число выживших мужчин: ', male_passengers_alive)\n",
    "print('Доля выживших женщин в общем количестве женщин: ', female_part_alive)\n",
    "print('Доля выживших мужчин в общем количестве мужчин: ', male_part_alive)"
   ]
  },
  {
   "cell_type": "markdown",
   "id": "94611294-72e0-43d5-8dd8-9e4c0afd2a2f",
   "metadata": {},
   "source": [
    "Для удобства можно отобразить используемые данные в таблице:"
   ]
  },
  {
   "cell_type": "code",
   "execution_count": 19,
   "id": "522fbed0-63a0-4f79-92de-f79964276b9c",
   "metadata": {},
   "outputs": [
    {
     "data": {
      "text/html": [
       "<div>\n",
       "<style scoped>\n",
       "    .dataframe tbody tr th:only-of-type {\n",
       "        vertical-align: middle;\n",
       "    }\n",
       "\n",
       "    .dataframe tbody tr th {\n",
       "        vertical-align: top;\n",
       "    }\n",
       "\n",
       "    .dataframe thead th {\n",
       "        text-align: right;\n",
       "    }\n",
       "</style>\n",
       "<table border=\"1\" class=\"dataframe\">\n",
       "  <thead>\n",
       "    <tr style=\"text-align: right;\">\n",
       "      <th></th>\n",
       "      <th>0</th>\n",
       "      <th>total (survived and dead)</th>\n",
       "      <th>part in all passengers</th>\n",
       "      <th>survived</th>\n",
       "      <th>part of survived in group</th>\n",
       "    </tr>\n",
       "  </thead>\n",
       "  <tbody>\n",
       "    <tr>\n",
       "      <th>0</th>\n",
       "      <td>female</td>\n",
       "      <td>314</td>\n",
       "      <td>0.352413</td>\n",
       "      <td>233</td>\n",
       "      <td>0.742038</td>\n",
       "    </tr>\n",
       "    <tr>\n",
       "      <th>1</th>\n",
       "      <td>male</td>\n",
       "      <td>577</td>\n",
       "      <td>0.647587</td>\n",
       "      <td>109</td>\n",
       "      <td>0.188908</td>\n",
       "    </tr>\n",
       "  </tbody>\n",
       "</table>\n",
       "</div>"
      ],
      "text/plain": [
       "        0  total (survived and dead)  part in all passengers  survived  \\\n",
       "0  female                        314                0.352413       233   \n",
       "1    male                        577                0.647587       109   \n",
       "\n",
       "   part of survived in group  \n",
       "0                   0.742038  \n",
       "1                   0.188908  "
      ]
     },
     "execution_count": 19,
     "metadata": {},
     "output_type": "execute_result"
    }
   ],
   "source": [
    "survived_male_female = pd.DataFrame(['female', 'male'])\n",
    "survived_male_female['total (survived and dead)'] = pd.Series([female_passengers, male_passengers])\n",
    "survived_male_female['part in all passengers'] = pd.Series([part_of_female, part_of_male])\n",
    "survived_male_female['survived'] = pd.Series([female_passengers_alive, male_passengers_alive])\n",
    "survived_male_female['part of survived in group'] = pd.Series([female_part_alive, male_part_alive])\n",
    "survived_male_female"
   ]
  },
  {
   "cell_type": "markdown",
   "id": "c3aabf65-dddf-43c6-acf9-32a068bd53d7",
   "metadata": {},
   "source": [
    "Рассмотрим зависимое событие:  –  пассажир выжил.\n",
    "В первой группе - женщин - 0,7420 выживших, поэтому P_B1_A = 233/314 = 0,7420 вероятность того, \n",
    "что пассажир выжил при условии, что он женщина.\n",
    "\n",
    "Аналогично, во второй группе - мужчин - 0,1889 выживших и  – вероятность того, что пассажир выжил при условии при условии,\n",
    "что он мужчина, P_B2_A = 109 / 577 = 0,1889."
   ]
  },
  {
   "cell_type": "markdown",
   "id": "bb488084-fa8d-41df-9e7a-d147589a8458",
   "metadata": {},
   "source": [
    "По формуле полной вероятности:\n",
    "P_A = P_B1 * P_B1_A + P_B2 * P_B2_A\n",
    "– вероятность того, что пассажир выжил."
   ]
  },
  {
   "cell_type": "code",
   "execution_count": 20,
   "id": "c45427a9-a9fe-4407-9d9e-fb556f2a82ef",
   "metadata": {},
   "outputs": [
    {
     "name": "stdout",
     "output_type": "stream",
     "text": [
      "P_B1_A =  0.7420382165605095\n",
      "P_B2_A =  0.18890814558058924\n"
     ]
    }
   ],
   "source": [
    "P_B1_A = female_part_alive\n",
    "P_B2_A = male_part_alive\n",
    "print('P_B1_A = ', female_part_alive)\n",
    "print('P_B2_A = ', male_part_alive)"
   ]
  },
  {
   "cell_type": "code",
   "execution_count": 21,
   "id": "7a8668bb-b28c-421e-bd36-fdf0eb0aa148",
   "metadata": {},
   "outputs": [],
   "source": [
    "P_A = P_B1*P_B1_A + P_B2*P_B2_A"
   ]
  },
  {
   "cell_type": "code",
   "execution_count": 22,
   "id": "2ad7208c-5c43-41d1-acbe-3b6be9850797",
   "metadata": {},
   "outputs": [
    {
     "name": "stdout",
     "output_type": "stream",
     "text": [
      "Вероятность того, что пассажир выжил = 0.3838383838383838\n"
     ]
    }
   ],
   "source": [
    "print(\"Вероятность того, что пассажир выжил =\", P_A)"
   ]
  },
  {
   "cell_type": "code",
   "execution_count": null,
   "id": "a81eb7b1-e38e-43df-96c4-c69ed6fac1da",
   "metadata": {},
   "outputs": [],
   "source": []
  },
  {
   "cell_type": "markdown",
   "id": "75615733-dd75-4f30-876b-2ed6f1f626dd",
   "metadata": {},
   "source": [
    "Часть вторая. Пусть пассажир выжил, то есть событие A произошло. \n",
    "То есть мы констатируем тот факт, что событие  произошло. По формулам Байеса:\n",
    "\n",
    "PA_B1 = (P_B1 * P_B1_A) / P_A\n",
    "- вероятность того, что выживший пассажир женщина\n",
    "\n",
    "PA_B2 = (P_B2 * P_B2_A) / P_A\n",
    "- вероятность того, что выживший пассажир мужчина\n",
    "\n",
    "Проверка: PA_B1 + PA_B2 = 1"
   ]
  },
  {
   "cell_type": "code",
   "execution_count": 23,
   "id": "56b60bd2-1198-404b-b035-08e8809ed952",
   "metadata": {},
   "outputs": [
    {
     "name": "stdout",
     "output_type": "stream",
     "text": [
      "Вероятность того, что выживший пассажир ЖЕНЩИНА = 0.6812865497076023\n"
     ]
    }
   ],
   "source": [
    "PA_B1 = (P_B1 * P_B1_A) / P_A\n",
    "print(\"Вероятность того, что выживший пассажир ЖЕНЩИНА =\", PA_B1)"
   ]
  },
  {
   "cell_type": "code",
   "execution_count": 24,
   "id": "01b8bc91-4ba2-42c4-a688-5eb7f8788eac",
   "metadata": {},
   "outputs": [
    {
     "name": "stdout",
     "output_type": "stream",
     "text": [
      "Вероятность того, что выживший пассажир мужчина = 0.31871345029239767\n"
     ]
    }
   ],
   "source": [
    "PA_B2 = (P_B2 * P_B2_A) / P_A\n",
    "print(\"Вероятность того, что выживший пассажир мужчина =\", PA_B2)"
   ]
  },
  {
   "cell_type": "markdown",
   "id": "0ec9d8a7-c048-4232-a0da-dd866db72a24",
   "metadata": {},
   "source": [
    "На всякий случай проверим корректность полученных результатов:"
   ]
  },
  {
   "cell_type": "code",
   "execution_count": 25,
   "id": "99369e9b-3077-47c3-b07b-567825254b48",
   "metadata": {
    "tags": []
   },
   "outputs": [
    {
     "name": "stdout",
     "output_type": "stream",
     "text": [
      "корректно\n"
     ]
    }
   ],
   "source": [
    "if round(PA_B1 + PA_B2, 2) == 1:\n",
    "    print('корректно')\n",
    "else:\n",
    "    print('некорректно')"
   ]
  },
  {
   "cell_type": "code",
   "execution_count": 26,
   "id": "62b18e58-1cd2-4350-8ddc-abe4ecd74e57",
   "metadata": {},
   "outputs": [
    {
     "name": "stdout",
     "output_type": "stream",
     "text": [
      "ОТВЕТ: Вероятность того, что выживший пассажир ЖЕНЩИНА составляет, c учетом округлений: 0.6813 или 68.13 %\n"
     ]
    }
   ],
   "source": [
    "print(\"ОТВЕТ: Вероятность того, что выживший пассажир ЖЕНЩИНА составляет, c учетом округлений:\", \n",
    "      round(PA_B1, 4), 'или', round(PA_B1*100, 2), '%')"
   ]
  },
  {
   "cell_type": "code",
   "execution_count": null,
   "id": "7a9ed040-070f-4765-a8e4-4214cd82ef12",
   "metadata": {},
   "outputs": [],
   "source": []
  }
 ],
 "metadata": {
  "kernelspec": {
   "display_name": "Python 3",
   "language": "python",
   "name": "python3"
  },
  "language_info": {
   "codemirror_mode": {
    "name": "ipython",
    "version": 3
   },
   "file_extension": ".py",
   "mimetype": "text/x-python",
   "name": "python",
   "nbconvert_exporter": "python",
   "pygments_lexer": "ipython3",
   "version": "3.8.8"
  }
 },
 "nbformat": 4,
 "nbformat_minor": 5
}

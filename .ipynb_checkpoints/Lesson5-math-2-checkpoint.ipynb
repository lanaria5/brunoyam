{
 "cells": [
  {
   "cell_type": "markdown",
   "id": "14cb03f5-50d6-4796-9c41-4663d93ef418",
   "metadata": {
    "tags": []
   },
   "source": [
    "# Easy\n",
    "\n",
    "Оценить с помощью доверительных интервалов:\n",
    "\n",
    "выживаемость всех пассажиров (оценить среднее по isSurvived)\n",
    "\n",
    "выживаемость женщин\n",
    "\n",
    "выживаемость людей с каютами первого класса"
   ]
  },
  {
   "cell_type": "code",
   "execution_count": 1,
   "id": "121cfeac-5522-463e-beea-ea5c0f703d59",
   "metadata": {},
   "outputs": [],
   "source": [
    "import pandas as pd\n",
    "import numpy as np\n",
    "import matplotlib.pyplot as plt"
   ]
  },
  {
   "cell_type": "code",
   "execution_count": 2,
   "id": "f6cc1e83-039e-473d-a701-65964656a034",
   "metadata": {},
   "outputs": [
    {
     "data": {
      "text/html": [
       "<div>\n",
       "<style scoped>\n",
       "    .dataframe tbody tr th:only-of-type {\n",
       "        vertical-align: middle;\n",
       "    }\n",
       "\n",
       "    .dataframe tbody tr th {\n",
       "        vertical-align: top;\n",
       "    }\n",
       "\n",
       "    .dataframe thead th {\n",
       "        text-align: right;\n",
       "    }\n",
       "</style>\n",
       "<table border=\"1\" class=\"dataframe\">\n",
       "  <thead>\n",
       "    <tr style=\"text-align: right;\">\n",
       "      <th></th>\n",
       "      <th>PassengerId</th>\n",
       "      <th>Survived</th>\n",
       "      <th>Pclass</th>\n",
       "      <th>Name</th>\n",
       "      <th>Sex</th>\n",
       "      <th>Age</th>\n",
       "      <th>SibSp</th>\n",
       "      <th>Parch</th>\n",
       "      <th>Ticket</th>\n",
       "      <th>Fare</th>\n",
       "      <th>Cabin</th>\n",
       "      <th>Embarked</th>\n",
       "    </tr>\n",
       "  </thead>\n",
       "  <tbody>\n",
       "    <tr>\n",
       "      <th>0</th>\n",
       "      <td>1</td>\n",
       "      <td>0</td>\n",
       "      <td>3</td>\n",
       "      <td>Braund, Mr. Owen Harris</td>\n",
       "      <td>male</td>\n",
       "      <td>22.0</td>\n",
       "      <td>1</td>\n",
       "      <td>0</td>\n",
       "      <td>A/5 21171</td>\n",
       "      <td>7.2500</td>\n",
       "      <td>NaN</td>\n",
       "      <td>S</td>\n",
       "    </tr>\n",
       "    <tr>\n",
       "      <th>1</th>\n",
       "      <td>2</td>\n",
       "      <td>1</td>\n",
       "      <td>1</td>\n",
       "      <td>Cumings, Mrs. John Bradley (Florence Briggs Th...</td>\n",
       "      <td>female</td>\n",
       "      <td>38.0</td>\n",
       "      <td>1</td>\n",
       "      <td>0</td>\n",
       "      <td>PC 17599</td>\n",
       "      <td>71.2833</td>\n",
       "      <td>C85</td>\n",
       "      <td>C</td>\n",
       "    </tr>\n",
       "    <tr>\n",
       "      <th>2</th>\n",
       "      <td>3</td>\n",
       "      <td>1</td>\n",
       "      <td>3</td>\n",
       "      <td>Heikkinen, Miss. Laina</td>\n",
       "      <td>female</td>\n",
       "      <td>26.0</td>\n",
       "      <td>0</td>\n",
       "      <td>0</td>\n",
       "      <td>STON/O2. 3101282</td>\n",
       "      <td>7.9250</td>\n",
       "      <td>NaN</td>\n",
       "      <td>S</td>\n",
       "    </tr>\n",
       "    <tr>\n",
       "      <th>3</th>\n",
       "      <td>4</td>\n",
       "      <td>1</td>\n",
       "      <td>1</td>\n",
       "      <td>Futrelle, Mrs. Jacques Heath (Lily May Peel)</td>\n",
       "      <td>female</td>\n",
       "      <td>35.0</td>\n",
       "      <td>1</td>\n",
       "      <td>0</td>\n",
       "      <td>113803</td>\n",
       "      <td>53.1000</td>\n",
       "      <td>C123</td>\n",
       "      <td>S</td>\n",
       "    </tr>\n",
       "    <tr>\n",
       "      <th>4</th>\n",
       "      <td>5</td>\n",
       "      <td>0</td>\n",
       "      <td>3</td>\n",
       "      <td>Allen, Mr. William Henry</td>\n",
       "      <td>male</td>\n",
       "      <td>35.0</td>\n",
       "      <td>0</td>\n",
       "      <td>0</td>\n",
       "      <td>373450</td>\n",
       "      <td>8.0500</td>\n",
       "      <td>NaN</td>\n",
       "      <td>S</td>\n",
       "    </tr>\n",
       "  </tbody>\n",
       "</table>\n",
       "</div>"
      ],
      "text/plain": [
       "   PassengerId  Survived  Pclass  \\\n",
       "0            1         0       3   \n",
       "1            2         1       1   \n",
       "2            3         1       3   \n",
       "3            4         1       1   \n",
       "4            5         0       3   \n",
       "\n",
       "                                                Name     Sex   Age  SibSp  \\\n",
       "0                            Braund, Mr. Owen Harris    male  22.0      1   \n",
       "1  Cumings, Mrs. John Bradley (Florence Briggs Th...  female  38.0      1   \n",
       "2                             Heikkinen, Miss. Laina  female  26.0      0   \n",
       "3       Futrelle, Mrs. Jacques Heath (Lily May Peel)  female  35.0      1   \n",
       "4                           Allen, Mr. William Henry    male  35.0      0   \n",
       "\n",
       "   Parch            Ticket     Fare Cabin Embarked  \n",
       "0      0         A/5 21171   7.2500   NaN        S  \n",
       "1      0          PC 17599  71.2833   C85        C  \n",
       "2      0  STON/O2. 3101282   7.9250   NaN        S  \n",
       "3      0            113803  53.1000  C123        S  \n",
       "4      0            373450   8.0500   NaN        S  "
      ]
     },
     "execution_count": 2,
     "metadata": {},
     "output_type": "execute_result"
    }
   ],
   "source": [
    "titanic = pd.read_csv('./data/train.csv')   # читаем файл в pandas, сохраняем в датафрейме titanic\n",
    "titanic.head() # выводим файл (первые строки, смотрим, корректно ли)"
   ]
  },
  {
   "cell_type": "markdown",
   "id": "259f7f23-10f9-4d43-9a8f-b5ab0c06b8bb",
   "metadata": {},
   "source": [
    "1. Выживаемость всех пассажиров"
   ]
  },
  {
   "cell_type": "markdown",
   "id": "8f86f10a-4dbd-4e00-913c-18adf3b0fc4e",
   "metadata": {},
   "source": [
    "Вариант A: Дисперсия известна"
   ]
  },
  {
   "cell_type": "markdown",
   "id": "5b4e3f41-8a0b-44ab-9b5b-1098d5e9ebcd",
   "metadata": {},
   "source": [
    "Рассчитаем число пассажиров Титаника"
   ]
  },
  {
   "cell_type": "code",
   "execution_count": 3,
   "id": "a4321509-b83f-46be-85ca-b2cb8ba2afbf",
   "metadata": {},
   "outputs": [
    {
     "name": "stdout",
     "output_type": "stream",
     "text": [
      "Количество пассажиров Титаника:  891 человек\n"
     ]
    }
   ],
   "source": [
    "n = titanic.Survived.count()\n",
    "print('Количество пассажиров Титаника: ', n, 'человек')"
   ]
  },
  {
   "cell_type": "markdown",
   "id": "05582106-4bd1-4213-bd02-a04637a5c35c",
   "metadata": {},
   "source": [
    "Определим дисперсию \"по выживаемости\""
   ]
  },
  {
   "cell_type": "code",
   "execution_count": 4,
   "id": "65684ce1-5202-4154-a929-9d0f17aa2d66",
   "metadata": {
    "tags": []
   },
   "outputs": [
    {
     "name": "stdout",
     "output_type": "stream",
     "text": [
      "Дисперсия составляет: 0.4865924542648585\n"
     ]
    }
   ],
   "source": [
    "std = titanic.Survived.std()\n",
    "print('Дисперсия составляет:', std)"
   ]
  },
  {
   "cell_type": "markdown",
   "id": "47aba982-ab70-4b24-b951-d5fbd7719432",
   "metadata": {},
   "source": [
    "Среднее по выживаемости:"
   ]
  },
  {
   "cell_type": "code",
   "execution_count": 5,
   "id": "59cbb988-0c31-4bbd-aa85-93374d642935",
   "metadata": {},
   "outputs": [
    {
     "name": "stdout",
     "output_type": "stream",
     "text": [
      "Значение показателя среднего составляет:  0.3838383838383838\n"
     ]
    }
   ],
   "source": [
    "mean = titanic.Survived.mean()\n",
    "print('Значение показателя среднего составляет: ', mean)"
   ]
  },
  {
   "cell_type": "markdown",
   "id": "220e8bbb-ec5a-47ab-b35d-cbb5b9cc727c",
   "metadata": {},
   "source": [
    "Зная дисперсию, можно сформировать специальную функцию для того, чтобы найти доверительный интервал."
   ]
  },
  {
   "cell_type": "code",
   "execution_count": 6,
   "id": "9f22d2e1-275d-43ef-a0e1-7b277f64562f",
   "metadata": {},
   "outputs": [],
   "source": [
    "from scipy.stats import norm"
   ]
  },
  {
   "cell_type": "code",
   "execution_count": 7,
   "id": "e008243c-5ddf-4e27-b21d-52c77cd221c6",
   "metadata": {},
   "outputs": [],
   "source": [
    "def dov_int (mean, std, n, alpha):\n",
    "    x = norm.ppf(1 - alpha / 2) * std / np.sqrt(n)\n",
    "    return mean - x, mean + x"
   ]
  },
  {
   "cell_type": "markdown",
   "id": "3b771e15-8014-474e-9f42-25e86e8c701d",
   "metadata": {},
   "source": [
    "Доверительный интервал при достоверности alpha равной:"
   ]
  },
  {
   "cell_type": "code",
   "execution_count": 8,
   "id": "62c5e753-266c-4572-81eb-112220fc1daa",
   "metadata": {
    "tags": []
   },
   "outputs": [],
   "source": [
    "alpha = 0.05"
   ]
  },
  {
   "cell_type": "markdown",
   "id": "21001bc9-edf5-4849-b5ae-e5e0d2fbde5b",
   "metadata": {},
   "source": [
    "составляет по выживаемости для всех пассажиров:"
   ]
  },
  {
   "cell_type": "code",
   "execution_count": 9,
   "id": "9e9ac41b-c796-4987-8d03-9b72777b11ec",
   "metadata": {},
   "outputs": [
    {
     "data": {
      "text/plain": [
       "(0.3518881082221273, 0.41578865945464033)"
      ]
     },
     "execution_count": 9,
     "metadata": {},
     "output_type": "execute_result"
    }
   ],
   "source": [
    "confidence_interval = dov_int(mean, std, n, alpha)\n",
    "confidence_interval"
   ]
  },
  {
   "cell_type": "markdown",
   "id": "d261a150-ae1d-44ef-ba57-12e7ab871a6c",
   "metadata": {},
   "source": [
    "Вывод: доверительный интервал по выживаемости всех пассажиров находится в диапазоне 35,19 - 41,58%% с уровнем значимости alpha = 0,05"
   ]
  },
  {
   "cell_type": "code",
   "execution_count": null,
   "id": "7f7ba492-7bc0-4071-9776-dc051790c8af",
   "metadata": {},
   "outputs": [],
   "source": []
  },
  {
   "cell_type": "markdown",
   "id": "f19b0f3d-510a-4811-952c-680644f30791",
   "metadata": {},
   "source": [
    "Вариант B: Если дисперсия неизвестна, используется формула:"
   ]
  },
  {
   "cell_type": "code",
   "execution_count": 10,
   "id": "4a362ee5-0e59-4993-a596-0ab03a231463",
   "metadata": {},
   "outputs": [
    {
     "data": {
      "text/plain": [
       "(-0.5711640365064437, 1.3388408041832114)"
      ]
     },
     "execution_count": 10,
     "metadata": {},
     "output_type": "execute_result"
    }
   ],
   "source": [
    "from scipy.stats import t\n",
    "\n",
    "t.interval(1 - alpha, n - 1, loc=mean, scale=std)"
   ]
  },
  {
   "cell_type": "markdown",
   "id": "a8b9c642-d17b-4623-aafe-1a685a39bde5",
   "metadata": {},
   "source": [
    "Вывод: доверительный интервал по выживаемости всех пассажиров находится в диапазоне -57,11 - 133,89%% с уровнем значимости alpha = 0,05"
   ]
  },
  {
   "cell_type": "code",
   "execution_count": null,
   "id": "527f8e68-d3d7-4914-981d-9998f71cf293",
   "metadata": {},
   "outputs": [],
   "source": []
  },
  {
   "cell_type": "markdown",
   "id": "bcf350d6-592e-4633-b691-97f99cacfb3e",
   "metadata": {},
   "source": [
    "2.Выживаемость женщин"
   ]
  },
  {
   "cell_type": "markdown",
   "id": "9e8f5048-d16c-49fc-97d2-fd02c9c80afe",
   "metadata": {},
   "source": [
    "Вариант A: Дисперсия известна"
   ]
  },
  {
   "cell_type": "code",
   "execution_count": 11,
   "id": "aca58f5c-8d85-429a-80c2-204b44a02c80",
   "metadata": {},
   "outputs": [],
   "source": [
    "def alive(sex):             # Пишем функцию для сопоставления данных по полу с 0 и 1 (для удобства)\n",
    "    if sex == 'male':       # То есть если пол мужской - возвращается 0\n",
    "        return 0\n",
    "    else: \n",
    "        return 1            # иначе, если пол женский - возвращается 1"
   ]
  },
  {
   "cell_type": "code",
   "execution_count": 12,
   "id": "a47a26a2-5caa-4945-b3eb-f742ecf7d9cf",
   "metadata": {},
   "outputs": [],
   "source": [
    "sex_0_or_1 = titanic['Sex'].apply(alive) # формируем серию, для того, чтобы включить ее в колонку"
   ]
  },
  {
   "cell_type": "code",
   "execution_count": 13,
   "id": "3a8c5cb2-707a-4f92-a2f3-e18bdc3cd7d5",
   "metadata": {},
   "outputs": [],
   "source": [
    "titanic['Sex_0_1'] = sex_0_or_1   # создаем новую колонку в датафрейме titanic (для удобства)"
   ]
  },
  {
   "cell_type": "code",
   "execution_count": 14,
   "id": "dcf8f95d-c2c7-4f48-a6d7-bee835a09809",
   "metadata": {},
   "outputs": [
    {
     "data": {
      "text/html": [
       "<div>\n",
       "<style scoped>\n",
       "    .dataframe tbody tr th:only-of-type {\n",
       "        vertical-align: middle;\n",
       "    }\n",
       "\n",
       "    .dataframe tbody tr th {\n",
       "        vertical-align: top;\n",
       "    }\n",
       "\n",
       "    .dataframe thead th {\n",
       "        text-align: right;\n",
       "    }\n",
       "</style>\n",
       "<table border=\"1\" class=\"dataframe\">\n",
       "  <thead>\n",
       "    <tr style=\"text-align: right;\">\n",
       "      <th></th>\n",
       "      <th>PassengerId</th>\n",
       "      <th>Survived</th>\n",
       "      <th>Pclass</th>\n",
       "      <th>Name</th>\n",
       "      <th>Sex</th>\n",
       "      <th>Age</th>\n",
       "      <th>SibSp</th>\n",
       "      <th>Parch</th>\n",
       "      <th>Ticket</th>\n",
       "      <th>Fare</th>\n",
       "      <th>Cabin</th>\n",
       "      <th>Embarked</th>\n",
       "      <th>Sex_0_1</th>\n",
       "    </tr>\n",
       "  </thead>\n",
       "  <tbody>\n",
       "    <tr>\n",
       "      <th>0</th>\n",
       "      <td>1</td>\n",
       "      <td>0</td>\n",
       "      <td>3</td>\n",
       "      <td>Braund, Mr. Owen Harris</td>\n",
       "      <td>male</td>\n",
       "      <td>22.0</td>\n",
       "      <td>1</td>\n",
       "      <td>0</td>\n",
       "      <td>A/5 21171</td>\n",
       "      <td>7.2500</td>\n",
       "      <td>NaN</td>\n",
       "      <td>S</td>\n",
       "      <td>0</td>\n",
       "    </tr>\n",
       "    <tr>\n",
       "      <th>1</th>\n",
       "      <td>2</td>\n",
       "      <td>1</td>\n",
       "      <td>1</td>\n",
       "      <td>Cumings, Mrs. John Bradley (Florence Briggs Th...</td>\n",
       "      <td>female</td>\n",
       "      <td>38.0</td>\n",
       "      <td>1</td>\n",
       "      <td>0</td>\n",
       "      <td>PC 17599</td>\n",
       "      <td>71.2833</td>\n",
       "      <td>C85</td>\n",
       "      <td>C</td>\n",
       "      <td>1</td>\n",
       "    </tr>\n",
       "    <tr>\n",
       "      <th>2</th>\n",
       "      <td>3</td>\n",
       "      <td>1</td>\n",
       "      <td>3</td>\n",
       "      <td>Heikkinen, Miss. Laina</td>\n",
       "      <td>female</td>\n",
       "      <td>26.0</td>\n",
       "      <td>0</td>\n",
       "      <td>0</td>\n",
       "      <td>STON/O2. 3101282</td>\n",
       "      <td>7.9250</td>\n",
       "      <td>NaN</td>\n",
       "      <td>S</td>\n",
       "      <td>1</td>\n",
       "    </tr>\n",
       "    <tr>\n",
       "      <th>3</th>\n",
       "      <td>4</td>\n",
       "      <td>1</td>\n",
       "      <td>1</td>\n",
       "      <td>Futrelle, Mrs. Jacques Heath (Lily May Peel)</td>\n",
       "      <td>female</td>\n",
       "      <td>35.0</td>\n",
       "      <td>1</td>\n",
       "      <td>0</td>\n",
       "      <td>113803</td>\n",
       "      <td>53.1000</td>\n",
       "      <td>C123</td>\n",
       "      <td>S</td>\n",
       "      <td>1</td>\n",
       "    </tr>\n",
       "    <tr>\n",
       "      <th>4</th>\n",
       "      <td>5</td>\n",
       "      <td>0</td>\n",
       "      <td>3</td>\n",
       "      <td>Allen, Mr. William Henry</td>\n",
       "      <td>male</td>\n",
       "      <td>35.0</td>\n",
       "      <td>0</td>\n",
       "      <td>0</td>\n",
       "      <td>373450</td>\n",
       "      <td>8.0500</td>\n",
       "      <td>NaN</td>\n",
       "      <td>S</td>\n",
       "      <td>0</td>\n",
       "    </tr>\n",
       "  </tbody>\n",
       "</table>\n",
       "</div>"
      ],
      "text/plain": [
       "   PassengerId  Survived  Pclass  \\\n",
       "0            1         0       3   \n",
       "1            2         1       1   \n",
       "2            3         1       3   \n",
       "3            4         1       1   \n",
       "4            5         0       3   \n",
       "\n",
       "                                                Name     Sex   Age  SibSp  \\\n",
       "0                            Braund, Mr. Owen Harris    male  22.0      1   \n",
       "1  Cumings, Mrs. John Bradley (Florence Briggs Th...  female  38.0      1   \n",
       "2                             Heikkinen, Miss. Laina  female  26.0      0   \n",
       "3       Futrelle, Mrs. Jacques Heath (Lily May Peel)  female  35.0      1   \n",
       "4                           Allen, Mr. William Henry    male  35.0      0   \n",
       "\n",
       "   Parch            Ticket     Fare Cabin Embarked  Sex_0_1  \n",
       "0      0         A/5 21171   7.2500   NaN        S        0  \n",
       "1      0          PC 17599  71.2833   C85        C        1  \n",
       "2      0  STON/O2. 3101282   7.9250   NaN        S        1  \n",
       "3      0            113803  53.1000  C123        S        1  \n",
       "4      0            373450   8.0500   NaN        S        0  "
      ]
     },
     "execution_count": 14,
     "metadata": {},
     "output_type": "execute_result"
    }
   ],
   "source": [
    "titanic.head()"
   ]
  },
  {
   "cell_type": "code",
   "execution_count": 15,
   "id": "79582831-fe0b-4e36-9978-5fd926e15069",
   "metadata": {},
   "outputs": [
    {
     "data": {
      "text/html": [
       "<div>\n",
       "<style scoped>\n",
       "    .dataframe tbody tr th:only-of-type {\n",
       "        vertical-align: middle;\n",
       "    }\n",
       "\n",
       "    .dataframe tbody tr th {\n",
       "        vertical-align: top;\n",
       "    }\n",
       "\n",
       "    .dataframe thead th {\n",
       "        text-align: right;\n",
       "    }\n",
       "</style>\n",
       "<table border=\"1\" class=\"dataframe\">\n",
       "  <thead>\n",
       "    <tr style=\"text-align: right;\">\n",
       "      <th></th>\n",
       "      <th>Survived</th>\n",
       "      <th>Sex_0_1</th>\n",
       "    </tr>\n",
       "  </thead>\n",
       "  <tbody>\n",
       "    <tr>\n",
       "      <th>1</th>\n",
       "      <td>1</td>\n",
       "      <td>1</td>\n",
       "    </tr>\n",
       "    <tr>\n",
       "      <th>2</th>\n",
       "      <td>1</td>\n",
       "      <td>1</td>\n",
       "    </tr>\n",
       "    <tr>\n",
       "      <th>3</th>\n",
       "      <td>1</td>\n",
       "      <td>1</td>\n",
       "    </tr>\n",
       "    <tr>\n",
       "      <th>8</th>\n",
       "      <td>1</td>\n",
       "      <td>1</td>\n",
       "    </tr>\n",
       "    <tr>\n",
       "      <th>9</th>\n",
       "      <td>1</td>\n",
       "      <td>1</td>\n",
       "    </tr>\n",
       "  </tbody>\n",
       "</table>\n",
       "</div>"
      ],
      "text/plain": [
       "   Survived  Sex_0_1\n",
       "1         1        1\n",
       "2         1        1\n",
       "3         1        1\n",
       "8         1        1\n",
       "9         1        1"
      ]
     },
     "execution_count": 15,
     "metadata": {},
     "output_type": "execute_result"
    }
   ],
   "source": [
    "female = titanic[['Survived','Sex_0_1']].query('Sex_0_1 == 1')  # датафрейм с лицами женского пола\n",
    "female.head()"
   ]
  },
  {
   "cell_type": "code",
   "execution_count": 16,
   "id": "52116b80-9479-4728-9a33-6a2fa34d6cbc",
   "metadata": {},
   "outputs": [
    {
     "name": "stdout",
     "output_type": "stream",
     "text": [
      "число женщин = 314\n"
     ]
    }
   ],
   "source": [
    "n = female.Sex_0_1.count()\n",
    "print('число женщин =', n)"
   ]
  },
  {
   "cell_type": "code",
   "execution_count": 17,
   "id": "8e825ba0-f0ec-49bb-bb59-a936d464465d",
   "metadata": {
    "tags": []
   },
   "outputs": [
    {
     "name": "stdout",
     "output_type": "stream",
     "text": [
      "Дисперсия составляет: 0.43821120391621965\n"
     ]
    }
   ],
   "source": [
    "std = female.Survived.std()\n",
    "print('Дисперсия составляет:', std)"
   ]
  },
  {
   "cell_type": "code",
   "execution_count": 18,
   "id": "96d65948-2437-460a-96e1-354d08e600f0",
   "metadata": {},
   "outputs": [
    {
     "name": "stdout",
     "output_type": "stream",
     "text": [
      "Значение показателя среднего составляет:  0.7420382165605095\n"
     ]
    }
   ],
   "source": [
    "mean = female.Survived.mean()\n",
    "print('Значение показателя среднего составляет: ', mean)"
   ]
  },
  {
   "cell_type": "markdown",
   "id": "b4c47cfd-5b51-4cbc-879e-1156b895404e",
   "metadata": {},
   "source": [
    "Доверительный интервал при достоверности alpha равной:"
   ]
  },
  {
   "cell_type": "code",
   "execution_count": 19,
   "id": "ee296182-510c-46b9-a2b8-481f9ec834ab",
   "metadata": {},
   "outputs": [],
   "source": [
    "alpha = 0.05"
   ]
  },
  {
   "cell_type": "code",
   "execution_count": 20,
   "id": "f4bf92a6-0322-455e-85ba-ba836afe3270",
   "metadata": {},
   "outputs": [
    {
     "data": {
      "text/plain": [
       "(0.693568916951577, 0.790507516169442)"
      ]
     },
     "execution_count": 20,
     "metadata": {},
     "output_type": "execute_result"
    }
   ],
   "source": [
    "confidence_interval = dov_int(mean, std, n, alpha)\n",
    "confidence_interval"
   ]
  },
  {
   "cell_type": "markdown",
   "id": "444098db-156c-44a5-9f9b-05378141a91e",
   "metadata": {},
   "source": [
    "Вывод: доверительный интервал по выживаемости женщин в диапазоне 69,36 - 79,05%% с уровнем значимости alpha = 0,05"
   ]
  },
  {
   "cell_type": "markdown",
   "id": "654adf61-a10d-4654-9682-f58b4adb56f2",
   "metadata": {},
   "source": [
    "Вариант В: Если дисперсия неизвестна, воспользуемся формулой:"
   ]
  },
  {
   "cell_type": "code",
   "execution_count": 21,
   "id": "37b1a7f8-8053-4507-8993-e0e2fdc2bdca",
   "metadata": {
    "tags": []
   },
   "outputs": [
    {
     "data": {
      "text/plain": [
       "(-0.12017388689013297, 1.604250320011152)"
      ]
     },
     "execution_count": 21,
     "metadata": {},
     "output_type": "execute_result"
    }
   ],
   "source": [
    "t.interval(1 - alpha, n - 1, loc=mean, scale=std)"
   ]
  },
  {
   "cell_type": "markdown",
   "id": "cc24c11e-eecd-4a13-afad-d9c072869ebc",
   "metadata": {},
   "source": [
    "Вывод: доверительный интервал по выживаемости женщин находится в диапазоне -12,01 - 160,43%% с уровнем значимости alpha = 0,05"
   ]
  },
  {
   "cell_type": "markdown",
   "id": "fd71f025-a74d-4f13-be15-54de0867dd3b",
   "metadata": {},
   "source": [
    "3. Выживаемость людей с каютами первого класса"
   ]
  },
  {
   "cell_type": "markdown",
   "id": "a691e017-cad2-44b2-8954-219d572fe06f",
   "metadata": {},
   "source": [
    "Вариант A: Дисперсия известна"
   ]
  },
  {
   "cell_type": "code",
   "execution_count": 22,
   "id": "070ab64f-de04-4d46-8129-ed5a592db1df",
   "metadata": {},
   "outputs": [
    {
     "data": {
      "text/html": [
       "<div>\n",
       "<style scoped>\n",
       "    .dataframe tbody tr th:only-of-type {\n",
       "        vertical-align: middle;\n",
       "    }\n",
       "\n",
       "    .dataframe tbody tr th {\n",
       "        vertical-align: top;\n",
       "    }\n",
       "\n",
       "    .dataframe thead th {\n",
       "        text-align: right;\n",
       "    }\n",
       "</style>\n",
       "<table border=\"1\" class=\"dataframe\">\n",
       "  <thead>\n",
       "    <tr style=\"text-align: right;\">\n",
       "      <th></th>\n",
       "      <th>Survived</th>\n",
       "      <th>Pclass</th>\n",
       "    </tr>\n",
       "  </thead>\n",
       "  <tbody>\n",
       "    <tr>\n",
       "      <th>1</th>\n",
       "      <td>1</td>\n",
       "      <td>1</td>\n",
       "    </tr>\n",
       "    <tr>\n",
       "      <th>3</th>\n",
       "      <td>1</td>\n",
       "      <td>1</td>\n",
       "    </tr>\n",
       "    <tr>\n",
       "      <th>6</th>\n",
       "      <td>0</td>\n",
       "      <td>1</td>\n",
       "    </tr>\n",
       "    <tr>\n",
       "      <th>11</th>\n",
       "      <td>1</td>\n",
       "      <td>1</td>\n",
       "    </tr>\n",
       "    <tr>\n",
       "      <th>23</th>\n",
       "      <td>1</td>\n",
       "      <td>1</td>\n",
       "    </tr>\n",
       "  </tbody>\n",
       "</table>\n",
       "</div>"
      ],
      "text/plain": [
       "    Survived  Pclass\n",
       "1          1       1\n",
       "3          1       1\n",
       "6          0       1\n",
       "11         1       1\n",
       "23         1       1"
      ]
     },
     "execution_count": 22,
     "metadata": {},
     "output_type": "execute_result"
    }
   ],
   "source": [
    "class_1 = titanic[['Survived','Pclass']].query('Pclass == 1')\n",
    "class_1.head()"
   ]
  },
  {
   "cell_type": "code",
   "execution_count": null,
   "id": "dbca0664-74bb-4697-9899-b67036012061",
   "metadata": {},
   "outputs": [],
   "source": []
  },
  {
   "cell_type": "code",
   "execution_count": 23,
   "id": "0257d77e-0837-4856-931f-d0cacd97815f",
   "metadata": {},
   "outputs": [
    {
     "name": "stdout",
     "output_type": "stream",
     "text": [
      "n равно 216\n"
     ]
    }
   ],
   "source": [
    "n = class_1.Pclass.count()\n",
    "print('n равно', n)"
   ]
  },
  {
   "cell_type": "code",
   "execution_count": 24,
   "id": "d1614b65-c3d9-4561-acae-5a03cebba5b9",
   "metadata": {},
   "outputs": [
    {
     "name": "stdout",
     "output_type": "stream",
     "text": [
      "Дисперсия составляет: 0.48402561132684707\n"
     ]
    }
   ],
   "source": [
    "std = class_1.Survived.std()\n",
    "print('Дисперсия составляет:', std)"
   ]
  },
  {
   "cell_type": "code",
   "execution_count": 25,
   "id": "77eff3a9-de97-471c-bcc0-dcf12b9b0c49",
   "metadata": {},
   "outputs": [
    {
     "name": "stdout",
     "output_type": "stream",
     "text": [
      "Значение показателя среднего составляет:  0.6296296296296297\n"
     ]
    }
   ],
   "source": [
    "mean = class_1.Survived.mean()\n",
    "print('Значение показателя среднего составляет: ', mean)"
   ]
  },
  {
   "cell_type": "markdown",
   "id": "9acd84de-958b-4791-b48f-e2da39bb2e52",
   "metadata": {},
   "source": [
    "Доверительный интервал при достоверности alpha равной:"
   ]
  },
  {
   "cell_type": "code",
   "execution_count": 26,
   "id": "7ea58d34-c190-4933-ad87-6e81103c4139",
   "metadata": {},
   "outputs": [],
   "source": [
    "alpha = 0.05"
   ]
  },
  {
   "cell_type": "code",
   "execution_count": 27,
   "id": "a4a08e4f-3968-4b51-94e8-2e2993252d77",
   "metadata": {
    "tags": []
   },
   "outputs": [
    {
     "data": {
      "text/plain": [
       "(0.5650806238220164, 0.6941786354372429)"
      ]
     },
     "execution_count": 27,
     "metadata": {},
     "output_type": "execute_result"
    }
   ],
   "source": [
    "confidence_interval = dov_int(mean, std, n, alpha)\n",
    "confidence_interval"
   ]
  },
  {
   "cell_type": "markdown",
   "id": "c2a14943-b14d-47f2-af73-659e3aa19098",
   "metadata": {},
   "source": [
    "Доверительный интервал по выживаемости пассажиров 1 класса - в диапазоне 56,51% - 69,42% с уровнем значимости alpha = 0,05"
   ]
  },
  {
   "cell_type": "code",
   "execution_count": null,
   "id": "b9a756dc-3c48-4372-919c-690bb1ca75d0",
   "metadata": {},
   "outputs": [],
   "source": []
  },
  {
   "cell_type": "markdown",
   "id": "71ec3247-064c-4821-af52-205a0e2c28d6",
   "metadata": {},
   "source": [
    "Вариант В: Если дисперсия неизвестна, воспользуемся формулой:"
   ]
  },
  {
   "cell_type": "code",
   "execution_count": 28,
   "id": "422c7ba1-bd8e-472b-85b0-0c6e03120844",
   "metadata": {},
   "outputs": [
    {
     "data": {
      "text/plain": [
       "(-0.3244134669216916, 1.583672726180951)"
      ]
     },
     "execution_count": 28,
     "metadata": {},
     "output_type": "execute_result"
    }
   ],
   "source": [
    "t.interval(1 - alpha, n - 1, loc=mean, scale=std)"
   ]
  },
  {
   "cell_type": "markdown",
   "id": "9dbf75e6-8070-4647-a300-e93a40af9ab3",
   "metadata": {},
   "source": [
    "Вывод: доверительный интервал по выживаемости пассажиров с каютами 1 кл. находится в диапазоне -32,44 - 158,37%% с уровнем значимости alpha = 0,05"
   ]
  },
  {
   "cell_type": "code",
   "execution_count": null,
   "id": "37e00938-830c-44d6-a40b-ae014e3d4946",
   "metadata": {},
   "outputs": [],
   "source": []
  },
  {
   "cell_type": "markdown",
   "id": "3f03684c-4fd5-4d7e-9e31-604c6663bda6",
   "metadata": {},
   "source": [
    "Ответить на вопросы:\n",
    "\n",
    "какой вариант оценки доверительных интервалов нужно использовать в данной задаче и почему?\n",
    "\n",
    "какая из ошибок более критична для данной задачи - I или II рода?"
   ]
  },
  {
   "cell_type": "markdown",
   "id": "60395d12-a57b-4c21-a21e-a51969e060e0",
   "metadata": {},
   "source": [
    "Ответы:\n",
    "1 - вариант оценки доверительных интервалов, когда настоящая дисперсия неизвестна"
   ]
  },
  {
   "cell_type": "markdown",
   "id": "f59c7eb1-71ce-460f-9c70-7ab17cbbca82",
   "metadata": {},
   "source": [
    "2 - Ошибка 1го рода - решить, что пассажир выживет, в то время как погибнет; ошибка 2го рода - посчитать, что пассажир не выживет, в то время как в действительности он выживет. Наиболее критична ошибка 1 рода (с точки зрения пассажира)."
   ]
  },
  {
   "cell_type": "markdown",
   "id": "761433c3-8c18-408f-8e4e-08ac55aa2fe7",
   "metadata": {},
   "source": [
    "# Normal"
   ]
  },
  {
   "cell_type": "code",
   "execution_count": 29,
   "id": "9f0ff530-9585-419d-afa2-10fa225c6c2c",
   "metadata": {},
   "outputs": [],
   "source": [
    "import scipy"
   ]
  },
  {
   "cell_type": "markdown",
   "id": "e4541558-a556-47d2-b310-c71ae2a9ee4a",
   "metadata": {},
   "source": [
    "часть 1.  Проверить гипотезу о том, что женщины выживают чаще мужчин с уровнем значимости 0.05"
   ]
  },
  {
   "cell_type": "markdown",
   "id": "8b84d1f8-ff23-41c5-8689-02fa53ff2f90",
   "metadata": {},
   "source": [
    "Сформулируем гипотезы:\n",
    "\n",
    "H0 - женщины выживают с такой же частотой, как и мужчины\n",
    "\n",
    "H1 - женщины выживают чаще мужчин"
   ]
  },
  {
   "cell_type": "markdown",
   "id": "8df478b0-f84a-44bc-986a-a330b3bc0a85",
   "metadata": {},
   "source": [
    "Сформируем две выборки - мужчины и женщины"
   ]
  },
  {
   "cell_type": "markdown",
   "id": "e2cd13d8-0cdd-4971-81e0-24c1910c4e11",
   "metadata": {},
   "source": [
    "При р-значении (p-value) менее 0,05 мы можем отвергать нулевую гипотезу"
   ]
  },
  {
   "cell_type": "code",
   "execution_count": 30,
   "id": "e6e8ee8c-e28c-4c9a-a6e2-93d453b019b6",
   "metadata": {
    "tags": []
   },
   "outputs": [],
   "source": [
    "male = titanic[titanic.Sex == 'male']"
   ]
  },
  {
   "cell_type": "code",
   "execution_count": 31,
   "id": "675ac1b0-a814-49a1-b229-e72fa6b474a1",
   "metadata": {},
   "outputs": [],
   "source": [
    "female = titanic[titanic.Sex == 'female']"
   ]
  },
  {
   "cell_type": "markdown",
   "id": "025cc081-85da-43d0-b1e7-2403ad95eb4c",
   "metadata": {},
   "source": [
    "Воспользуемся критерием Стьюдента"
   ]
  },
  {
   "cell_type": "markdown",
   "id": "17a7b416-dd68-44e1-b21a-de5eb6519289",
   "metadata": {},
   "source": [
    "Для подтверждения гипотезы о том, что женщины выживают чаще, необходимо выполнить тест с результатом достоверности p-value меньше 0.05"
   ]
  },
  {
   "cell_type": "code",
   "execution_count": 32,
   "id": "ffc5df06-dc14-4599-80b0-5ba01121851d",
   "metadata": {},
   "outputs": [],
   "source": [
    "x, p_value = scipy.stats.ttest_ind(male.Survived.array, female.Survived.array, alternative = 'less')"
   ]
  },
  {
   "cell_type": "code",
   "execution_count": 33,
   "id": "994c4102-c70c-44d6-834e-23959186be08",
   "metadata": {},
   "outputs": [
    {
     "name": "stdout",
     "output_type": "stream",
     "text": [
      "p_value составляет:  7.030330654401297e-70\n"
     ]
    }
   ],
   "source": [
    "print('p_value составляет: ', p_value)"
   ]
  },
  {
   "cell_type": "code",
   "execution_count": 34,
   "id": "2c1f1561-80c6-4a72-9429-9b9ac4bd4ff1",
   "metadata": {},
   "outputs": [
    {
     "name": "stdout",
     "output_type": "stream",
     "text": [
      "Следовательно,\n",
      "Гипотеза о том, что женщины выживают чаще, верна\n"
     ]
    }
   ],
   "source": [
    "print('Следовательно,')\n",
    "if p_value < 0.05:\n",
    "    print('Гипотеза о том, что женщины выживают чаще, верна')\n",
    "else:\n",
    "    print('Гипотеза о том, что женщины выживают чаще, НЕ верна')"
   ]
  },
  {
   "cell_type": "code",
   "execution_count": null,
   "id": "dd0a9344-8cba-4c51-9fb8-729f81fad65b",
   "metadata": {
    "tags": []
   },
   "outputs": [],
   "source": []
  },
  {
   "cell_type": "markdown",
   "id": "8f97170e-5471-4d33-b83b-87d5915a229f",
   "metadata": {},
   "source": [
    "2. Проверить гипотезу о том, что дети выживают чаще, чем взрослые"
   ]
  },
  {
   "cell_type": "markdown",
   "id": "36a6dea9-fe9a-48ad-8b3a-6284334e9644",
   "metadata": {},
   "source": [
    "Сформулируем гипотезы:\n",
    "\n",
    "H0 - дети выживают с такой же частотой, что и взрослые\n",
    "\n",
    "H1 - дети выживают чаще, чем взрослые"
   ]
  },
  {
   "cell_type": "code",
   "execution_count": null,
   "id": "86489d30-2c17-420a-9f74-a9adaff33f75",
   "metadata": {},
   "outputs": [],
   "source": []
  },
  {
   "cell_type": "markdown",
   "id": "349a3389-eb33-4d4a-ab99-b9ab788e5aaa",
   "metadata": {},
   "source": [
    "Сформируем две выборки - взрослые и дети"
   ]
  },
  {
   "cell_type": "code",
   "execution_count": 35,
   "id": "318b7af7-d2d0-4e96-bc06-43bb1c4e8d4a",
   "metadata": {},
   "outputs": [],
   "source": [
    "old = titanic[titanic.Age >= 18]"
   ]
  },
  {
   "cell_type": "code",
   "execution_count": 36,
   "id": "88a251bd-864d-4ce2-9519-cd8dd8e25bc5",
   "metadata": {},
   "outputs": [],
   "source": [
    "children = titanic[titanic.Age < 18]"
   ]
  },
  {
   "cell_type": "markdown",
   "id": "a1286716-4c9b-4a20-91b8-eb9b75355465",
   "metadata": {},
   "source": [
    "Воспользуемся критерием Стьюдента.\n",
    "\n",
    "Для подтверждения гипотезы необходимо выполнить тест с результатом достоверности p-value меньше 0.05"
   ]
  },
  {
   "cell_type": "code",
   "execution_count": 37,
   "id": "f933c980-e6c0-4fa9-a940-26b84afcba40",
   "metadata": {},
   "outputs": [],
   "source": [
    "x, p_value = scipy.stats.ttest_ind(old.Survived.array, children.Survived.array, alternative = 'less')"
   ]
  },
  {
   "cell_type": "code",
   "execution_count": 38,
   "id": "67fa6c02-7bcb-4b71-9647-d6af4f7686ba",
   "metadata": {},
   "outputs": [
    {
     "name": "stdout",
     "output_type": "stream",
     "text": [
      "p_value составляет:  0.0007919436725484551\n"
     ]
    }
   ],
   "source": [
    "print('p_value составляет: ', p_value)"
   ]
  },
  {
   "cell_type": "code",
   "execution_count": 39,
   "id": "83f3605d-3b68-4b61-944e-68c11a05736d",
   "metadata": {},
   "outputs": [
    {
     "name": "stdout",
     "output_type": "stream",
     "text": [
      "Следовательно,\n",
      "Гипотеза о том, что дети выживают чаще взрослых верна\n"
     ]
    }
   ],
   "source": [
    "print('Следовательно,')\n",
    "if p_value < 0.05:\n",
    "    print('Гипотеза о том, что дети выживают чаще взрослых верна')\n",
    "else:\n",
    "    print('Гипотеза о том, что дети выживают чаще взрослых не верна')"
   ]
  },
  {
   "cell_type": "code",
   "execution_count": null,
   "id": "203bee51-3325-439c-8173-8f9b10baca93",
   "metadata": {},
   "outputs": [],
   "source": []
  }
 ],
 "metadata": {
  "kernelspec": {
   "display_name": "Python 3",
   "language": "python",
   "name": "python3"
  },
  "language_info": {
   "codemirror_mode": {
    "name": "ipython",
    "version": 3
   },
   "file_extension": ".py",
   "mimetype": "text/x-python",
   "name": "python",
   "nbconvert_exporter": "python",
   "pygments_lexer": "ipython3",
   "version": "3.8.8"
  }
 },
 "nbformat": 4,
 "nbformat_minor": 5
}

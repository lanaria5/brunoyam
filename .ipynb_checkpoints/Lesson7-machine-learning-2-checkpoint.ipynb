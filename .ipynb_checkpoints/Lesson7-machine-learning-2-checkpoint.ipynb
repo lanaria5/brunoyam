{
 "cells": [
  {
   "cell_type": "markdown",
   "id": "e352a138-c91c-415a-9be1-c72675714985",
   "metadata": {},
   "source": [
    "# Домашнее задание №7"
   ]
  },
  {
   "cell_type": "markdown",
   "id": "3c2da888-d3bd-45ed-911c-d90b7a9fe7fb",
   "metadata": {},
   "source": [
    "Домашняя работа\n",
    "Будем работать с датасетом подержанных машин https://www.kaggle.com/adityadesai13/used-car-dataset-ford-and-mercedes.\n",
    "\n",
    "Задача - построить прогноз цены машины по ее данным (год выпуска, пробег, расход, размер двигателя, тип коробки передач и тд).\n",
    "\n",
    "Это задача регрессии, поэтому нужно использовать модели регрессоры, а не классификаторы (например, не StackingClassifier, а StackingRegressor)."
   ]
  },
  {
   "cell_type": "markdown",
   "id": "4d31f162-4f77-4742-a6e7-87a48941e16f",
   "metadata": {},
   "source": [
    "## Easy\n",
    "Взять один файл с маркой машины.\n",
    "\n",
    "Построить прогноз, используя модели линейной регрессии и случайного леса. Сравнить результаты, используя кросс-валидацию. Подобрать гиперпараметры моделей (для линейной регрессии можно использовать реализацию с градиентным спуском SGDRegressor). Оценить качество, используя метрику r2_score. Оценить важность признаков (параметр feature_importance_ у случайного леса).\n",
    "\n",
    "## Решение:\n",
    "\n",
    "Импортируем все необходимое, загружаем/сохраняем информацию с kaggle по автомобилям"
   ]
  },
  {
   "cell_type": "code",
   "execution_count": 1,
   "id": "ac91f12f-38f1-45a8-a1c4-e46f0fc77eb4",
   "metadata": {},
   "outputs": [],
   "source": [
    "import numpy as np\n",
    "import pandas as pd\n",
    "import matplotlib.pyplot as plt\n",
    "import seaborn as sns"
   ]
  },
  {
   "cell_type": "code",
   "execution_count": 2,
   "id": "fba3b6a5-90eb-4ba3-b8d9-6c28df679399",
   "metadata": {},
   "outputs": [],
   "source": [
    "from sklearn.ensemble import RandomForestClassifier, RandomForestRegressor\n",
    "from sklearn.datasets import load_digits\n",
    "from sklearn.metrics import accuracy_score, confusion_matrix, r2_score\n",
    "from sklearn.model_selection import train_test_split, cross_val_score, GridSearchCV, RandomizedSearchCV"
   ]
  },
  {
   "cell_type": "code",
   "execution_count": 3,
   "id": "94849894-4bff-4030-8e6a-655c50fcccaf",
   "metadata": {},
   "outputs": [],
   "source": [
    "from sklearn.linear_model import SGDClassifier, SGDRegressor, LogisticRegression, LinearRegression\n",
    "from sklearn.ensemble import GradientBoostingClassifier, StackingClassifier\n",
    "from sklearn.tree import DecisionTreeClassifier"
   ]
  },
  {
   "cell_type": "markdown",
   "id": "9e6fd721-6098-49c2-9113-4aa0894dde1d",
   "metadata": {},
   "source": [
    "Выбираем марку авто - например skoda:\n",
    "читаем файл, \"присвоим\" вещественным признакам (модель, трансмиссия, тип топлива) коды через get_dummies"
   ]
  },
  {
   "cell_type": "code",
   "execution_count": 4,
   "id": "2c344508-2f26-40ea-9ac9-45b3e78f31b4",
   "metadata": {},
   "outputs": [],
   "source": [
    "skoda = pd.read_csv('./data/archive/skoda.csv')"
   ]
  },
  {
   "cell_type": "code",
   "execution_count": 5,
   "id": "c36da6ce-6d74-4c78-9da3-bda5d5b6df17",
   "metadata": {},
   "outputs": [
    {
     "data": {
      "text/html": [
       "<div>\n",
       "<style scoped>\n",
       "    .dataframe tbody tr th:only-of-type {\n",
       "        vertical-align: middle;\n",
       "    }\n",
       "\n",
       "    .dataframe tbody tr th {\n",
       "        vertical-align: top;\n",
       "    }\n",
       "\n",
       "    .dataframe thead th {\n",
       "        text-align: right;\n",
       "    }\n",
       "</style>\n",
       "<table border=\"1\" class=\"dataframe\">\n",
       "  <thead>\n",
       "    <tr style=\"text-align: right;\">\n",
       "      <th></th>\n",
       "      <th>model</th>\n",
       "      <th>year</th>\n",
       "      <th>price</th>\n",
       "      <th>transmission</th>\n",
       "      <th>mileage</th>\n",
       "      <th>fuelType</th>\n",
       "      <th>tax</th>\n",
       "      <th>mpg</th>\n",
       "      <th>engineSize</th>\n",
       "    </tr>\n",
       "  </thead>\n",
       "  <tbody>\n",
       "    <tr>\n",
       "      <th>0</th>\n",
       "      <td>Octavia</td>\n",
       "      <td>2017</td>\n",
       "      <td>10550</td>\n",
       "      <td>Manual</td>\n",
       "      <td>25250</td>\n",
       "      <td>Petrol</td>\n",
       "      <td>150</td>\n",
       "      <td>54.3</td>\n",
       "      <td>1.4</td>\n",
       "    </tr>\n",
       "    <tr>\n",
       "      <th>1</th>\n",
       "      <td>Citigo</td>\n",
       "      <td>2018</td>\n",
       "      <td>8200</td>\n",
       "      <td>Manual</td>\n",
       "      <td>1264</td>\n",
       "      <td>Petrol</td>\n",
       "      <td>145</td>\n",
       "      <td>67.3</td>\n",
       "      <td>1.0</td>\n",
       "    </tr>\n",
       "    <tr>\n",
       "      <th>2</th>\n",
       "      <td>Octavia</td>\n",
       "      <td>2019</td>\n",
       "      <td>15650</td>\n",
       "      <td>Automatic</td>\n",
       "      <td>6825</td>\n",
       "      <td>Diesel</td>\n",
       "      <td>145</td>\n",
       "      <td>67.3</td>\n",
       "      <td>2.0</td>\n",
       "    </tr>\n",
       "    <tr>\n",
       "      <th>3</th>\n",
       "      <td>Yeti Outdoor</td>\n",
       "      <td>2015</td>\n",
       "      <td>14000</td>\n",
       "      <td>Automatic</td>\n",
       "      <td>28431</td>\n",
       "      <td>Diesel</td>\n",
       "      <td>165</td>\n",
       "      <td>51.4</td>\n",
       "      <td>2.0</td>\n",
       "    </tr>\n",
       "    <tr>\n",
       "      <th>4</th>\n",
       "      <td>Superb</td>\n",
       "      <td>2019</td>\n",
       "      <td>18350</td>\n",
       "      <td>Manual</td>\n",
       "      <td>10912</td>\n",
       "      <td>Petrol</td>\n",
       "      <td>150</td>\n",
       "      <td>40.9</td>\n",
       "      <td>1.5</td>\n",
       "    </tr>\n",
       "    <tr>\n",
       "      <th>...</th>\n",
       "      <td>...</td>\n",
       "      <td>...</td>\n",
       "      <td>...</td>\n",
       "      <td>...</td>\n",
       "      <td>...</td>\n",
       "      <td>...</td>\n",
       "      <td>...</td>\n",
       "      <td>...</td>\n",
       "      <td>...</td>\n",
       "    </tr>\n",
       "    <tr>\n",
       "      <th>6262</th>\n",
       "      <td>Yeti</td>\n",
       "      <td>2014</td>\n",
       "      <td>11440</td>\n",
       "      <td>Semi-Auto</td>\n",
       "      <td>14569</td>\n",
       "      <td>Petrol</td>\n",
       "      <td>160</td>\n",
       "      <td>44.8</td>\n",
       "      <td>1.2</td>\n",
       "    </tr>\n",
       "    <tr>\n",
       "      <th>6263</th>\n",
       "      <td>Octavia</td>\n",
       "      <td>2014</td>\n",
       "      <td>10990</td>\n",
       "      <td>Semi-Auto</td>\n",
       "      <td>49999</td>\n",
       "      <td>Petrol</td>\n",
       "      <td>30</td>\n",
       "      <td>56.5</td>\n",
       "      <td>1.4</td>\n",
       "    </tr>\n",
       "    <tr>\n",
       "      <th>6264</th>\n",
       "      <td>Fabia</td>\n",
       "      <td>2017</td>\n",
       "      <td>9500</td>\n",
       "      <td>Semi-Auto</td>\n",
       "      <td>17131</td>\n",
       "      <td>Petrol</td>\n",
       "      <td>145</td>\n",
       "      <td>61.4</td>\n",
       "      <td>1.0</td>\n",
       "    </tr>\n",
       "    <tr>\n",
       "      <th>6265</th>\n",
       "      <td>Citigo</td>\n",
       "      <td>2016</td>\n",
       "      <td>5999</td>\n",
       "      <td>Manual</td>\n",
       "      <td>21747</td>\n",
       "      <td>Petrol</td>\n",
       "      <td>20</td>\n",
       "      <td>62.8</td>\n",
       "      <td>1.0</td>\n",
       "    </tr>\n",
       "    <tr>\n",
       "      <th>6266</th>\n",
       "      <td>Fabia</td>\n",
       "      <td>2017</td>\n",
       "      <td>9232</td>\n",
       "      <td>Semi-Auto</td>\n",
       "      <td>42530</td>\n",
       "      <td>Petrol</td>\n",
       "      <td>20</td>\n",
       "      <td>60.1</td>\n",
       "      <td>1.2</td>\n",
       "    </tr>\n",
       "  </tbody>\n",
       "</table>\n",
       "<p>6267 rows × 9 columns</p>\n",
       "</div>"
      ],
      "text/plain": [
       "              model  year  price transmission  mileage fuelType  tax   mpg  \\\n",
       "0           Octavia  2017  10550       Manual    25250   Petrol  150  54.3   \n",
       "1            Citigo  2018   8200       Manual     1264   Petrol  145  67.3   \n",
       "2           Octavia  2019  15650    Automatic     6825   Diesel  145  67.3   \n",
       "3      Yeti Outdoor  2015  14000    Automatic    28431   Diesel  165  51.4   \n",
       "4            Superb  2019  18350       Manual    10912   Petrol  150  40.9   \n",
       "...             ...   ...    ...          ...      ...      ...  ...   ...   \n",
       "6262           Yeti  2014  11440    Semi-Auto    14569   Petrol  160  44.8   \n",
       "6263        Octavia  2014  10990    Semi-Auto    49999   Petrol   30  56.5   \n",
       "6264          Fabia  2017   9500    Semi-Auto    17131   Petrol  145  61.4   \n",
       "6265         Citigo  2016   5999       Manual    21747   Petrol   20  62.8   \n",
       "6266          Fabia  2017   9232    Semi-Auto    42530   Petrol   20  60.1   \n",
       "\n",
       "      engineSize  \n",
       "0            1.4  \n",
       "1            1.0  \n",
       "2            2.0  \n",
       "3            2.0  \n",
       "4            1.5  \n",
       "...          ...  \n",
       "6262         1.2  \n",
       "6263         1.4  \n",
       "6264         1.0  \n",
       "6265         1.0  \n",
       "6266         1.2  \n",
       "\n",
       "[6267 rows x 9 columns]"
      ]
     },
     "execution_count": 5,
     "metadata": {},
     "output_type": "execute_result"
    }
   ],
   "source": [
    "skoda"
   ]
  },
  {
   "cell_type": "code",
   "execution_count": 6,
   "id": "e3c7dfc6-401e-4f06-acc5-5f01904e25a9",
   "metadata": {},
   "outputs": [
    {
     "data": {
      "text/html": [
       "<div>\n",
       "<style scoped>\n",
       "    .dataframe tbody tr th:only-of-type {\n",
       "        vertical-align: middle;\n",
       "    }\n",
       "\n",
       "    .dataframe tbody tr th {\n",
       "        vertical-align: top;\n",
       "    }\n",
       "\n",
       "    .dataframe thead th {\n",
       "        text-align: right;\n",
       "    }\n",
       "</style>\n",
       "<table border=\"1\" class=\"dataframe\">\n",
       "  <thead>\n",
       "    <tr style=\"text-align: right;\">\n",
       "      <th></th>\n",
       "      <th>Citigo</th>\n",
       "      <th>Fabia</th>\n",
       "      <th>Kamiq</th>\n",
       "      <th>Karoq</th>\n",
       "      <th>Kodiaq</th>\n",
       "      <th>Octavia</th>\n",
       "      <th>Rapid</th>\n",
       "      <th>Roomster</th>\n",
       "      <th>Scala</th>\n",
       "      <th>Superb</th>\n",
       "      <th>...</th>\n",
       "      <th>mpg</th>\n",
       "      <th>Automatic</th>\n",
       "      <th>Manual</th>\n",
       "      <th>Other</th>\n",
       "      <th>Semi-Auto</th>\n",
       "      <th>Diesel</th>\n",
       "      <th>Hybrid</th>\n",
       "      <th>Other</th>\n",
       "      <th>Petrol</th>\n",
       "      <th>tax</th>\n",
       "    </tr>\n",
       "  </thead>\n",
       "  <tbody>\n",
       "    <tr>\n",
       "      <th>0</th>\n",
       "      <td>0</td>\n",
       "      <td>0</td>\n",
       "      <td>0</td>\n",
       "      <td>0</td>\n",
       "      <td>0</td>\n",
       "      <td>1</td>\n",
       "      <td>0</td>\n",
       "      <td>0</td>\n",
       "      <td>0</td>\n",
       "      <td>0</td>\n",
       "      <td>...</td>\n",
       "      <td>54.3</td>\n",
       "      <td>0</td>\n",
       "      <td>1</td>\n",
       "      <td>0</td>\n",
       "      <td>0</td>\n",
       "      <td>0</td>\n",
       "      <td>0</td>\n",
       "      <td>0</td>\n",
       "      <td>1</td>\n",
       "      <td>150</td>\n",
       "    </tr>\n",
       "    <tr>\n",
       "      <th>1</th>\n",
       "      <td>1</td>\n",
       "      <td>0</td>\n",
       "      <td>0</td>\n",
       "      <td>0</td>\n",
       "      <td>0</td>\n",
       "      <td>0</td>\n",
       "      <td>0</td>\n",
       "      <td>0</td>\n",
       "      <td>0</td>\n",
       "      <td>0</td>\n",
       "      <td>...</td>\n",
       "      <td>67.3</td>\n",
       "      <td>0</td>\n",
       "      <td>1</td>\n",
       "      <td>0</td>\n",
       "      <td>0</td>\n",
       "      <td>0</td>\n",
       "      <td>0</td>\n",
       "      <td>0</td>\n",
       "      <td>1</td>\n",
       "      <td>145</td>\n",
       "    </tr>\n",
       "    <tr>\n",
       "      <th>2</th>\n",
       "      <td>0</td>\n",
       "      <td>0</td>\n",
       "      <td>0</td>\n",
       "      <td>0</td>\n",
       "      <td>0</td>\n",
       "      <td>1</td>\n",
       "      <td>0</td>\n",
       "      <td>0</td>\n",
       "      <td>0</td>\n",
       "      <td>0</td>\n",
       "      <td>...</td>\n",
       "      <td>67.3</td>\n",
       "      <td>1</td>\n",
       "      <td>0</td>\n",
       "      <td>0</td>\n",
       "      <td>0</td>\n",
       "      <td>1</td>\n",
       "      <td>0</td>\n",
       "      <td>0</td>\n",
       "      <td>0</td>\n",
       "      <td>145</td>\n",
       "    </tr>\n",
       "    <tr>\n",
       "      <th>3</th>\n",
       "      <td>0</td>\n",
       "      <td>0</td>\n",
       "      <td>0</td>\n",
       "      <td>0</td>\n",
       "      <td>0</td>\n",
       "      <td>0</td>\n",
       "      <td>0</td>\n",
       "      <td>0</td>\n",
       "      <td>0</td>\n",
       "      <td>0</td>\n",
       "      <td>...</td>\n",
       "      <td>51.4</td>\n",
       "      <td>1</td>\n",
       "      <td>0</td>\n",
       "      <td>0</td>\n",
       "      <td>0</td>\n",
       "      <td>1</td>\n",
       "      <td>0</td>\n",
       "      <td>0</td>\n",
       "      <td>0</td>\n",
       "      <td>165</td>\n",
       "    </tr>\n",
       "    <tr>\n",
       "      <th>4</th>\n",
       "      <td>0</td>\n",
       "      <td>0</td>\n",
       "      <td>0</td>\n",
       "      <td>0</td>\n",
       "      <td>0</td>\n",
       "      <td>0</td>\n",
       "      <td>0</td>\n",
       "      <td>0</td>\n",
       "      <td>0</td>\n",
       "      <td>1</td>\n",
       "      <td>...</td>\n",
       "      <td>40.9</td>\n",
       "      <td>0</td>\n",
       "      <td>1</td>\n",
       "      <td>0</td>\n",
       "      <td>0</td>\n",
       "      <td>0</td>\n",
       "      <td>0</td>\n",
       "      <td>0</td>\n",
       "      <td>1</td>\n",
       "      <td>150</td>\n",
       "    </tr>\n",
       "  </tbody>\n",
       "</table>\n",
       "<p>5 rows × 25 columns</p>\n",
       "</div>"
      ],
      "text/plain": [
       "    Citigo   Fabia   Kamiq   Karoq   Kodiaq   Octavia   Rapid   Roomster  \\\n",
       "0        0       0       0       0        0         1       0          0   \n",
       "1        1       0       0       0        0         0       0          0   \n",
       "2        0       0       0       0        0         1       0          0   \n",
       "3        0       0       0       0        0         0       0          0   \n",
       "4        0       0       0       0        0         0       0          0   \n",
       "\n",
       "    Scala   Superb  ...   mpg  Automatic  Manual  Other  Semi-Auto  Diesel  \\\n",
       "0       0        0  ...  54.3          0       1      0          0       0   \n",
       "1       0        0  ...  67.3          0       1      0          0       0   \n",
       "2       0        0  ...  67.3          1       0      0          0       1   \n",
       "3       0        0  ...  51.4          1       0      0          0       1   \n",
       "4       0        1  ...  40.9          0       1      0          0       0   \n",
       "\n",
       "   Hybrid  Other  Petrol  tax  \n",
       "0       0      0       1  150  \n",
       "1       0      0       1  145  \n",
       "2       0      0       0  145  \n",
       "3       0      0       0  165  \n",
       "4       0      0       1  150  \n",
       "\n",
       "[5 rows x 25 columns]"
      ]
     },
     "execution_count": 6,
     "metadata": {},
     "output_type": "execute_result"
    }
   ],
   "source": [
    "df = pd.concat([\n",
    "    pd.get_dummies(skoda['model']),\n",
    "    skoda['year'],\n",
    "    skoda['mileage'],\n",
    "    skoda['engineSize'],\n",
    "    skoda['mpg'],\n",
    "    pd.get_dummies(skoda['transmission']), \n",
    "    pd.get_dummies(skoda['fuelType']), \n",
    "    skoda['tax']], axis=1)\n",
    "\n",
    "df.head()"
   ]
  },
  {
   "cell_type": "markdown",
   "id": "ef92fe8f-e082-4879-826d-e74f6ca65f2a",
   "metadata": {},
   "source": [
    "Сформируем датафрейм с необходимыми признаками для формирования моделей по выбранной марке на базе исходного:\n",
    "год выпуска, пробег, расход топлива, размер двигателя, тип коробки передач и т.п.:"
   ]
  },
  {
   "cell_type": "code",
   "execution_count": 7,
   "id": "75e8be76-be60-4f3e-92c9-fc8f712ee685",
   "metadata": {},
   "outputs": [],
   "source": [
    "x = df.values\n",
    "y = skoda.price.values\n",
    "x_train, x_test, y_train, y_test = train_test_split(x, y)"
   ]
  },
  {
   "cell_type": "markdown",
   "id": "1d540234-41ec-4254-8187-5c78ed644660",
   "metadata": {},
   "source": [
    "Построим прогноз, используя модели линейной регрессии и случайного леса. Качество моделей оценивается по метрике r2_score"
   ]
  },
  {
   "cell_type": "markdown",
   "id": "3fcd84c2-3261-4abe-9e18-1d99432ca3bb",
   "metadata": {},
   "source": [
    "Модель линейной регрессии LinearRegression:"
   ]
  },
  {
   "cell_type": "code",
   "execution_count": 8,
   "id": "c9d49d34-a6ba-4ef6-915b-b91dc8074623",
   "metadata": {},
   "outputs": [],
   "source": [
    "lr = LinearRegression()\n",
    "lr.fit(x_train, y_train)\n",
    "y_pred = lr.predict(x_test)\n",
    "r2_lr = r2_score(y_test, y_pred)"
   ]
  },
  {
   "cell_type": "code",
   "execution_count": 9,
   "id": "7faef94d-73c4-4091-aadb-80dc9dd81925",
   "metadata": {},
   "outputs": [
    {
     "name": "stdout",
     "output_type": "stream",
     "text": [
      "Качество модели линейной регрессии составляет:  86.01038271638448 %\n"
     ]
    }
   ],
   "source": [
    "print('Качество модели линейной регрессии составляет: ', r2_lr*100, '%')"
   ]
  },
  {
   "cell_type": "markdown",
   "id": "64bfc6b1-524e-4d9f-af46-5e177d49f0f9",
   "metadata": {},
   "source": [
    "Модель случайного леса:"
   ]
  },
  {
   "cell_type": "code",
   "execution_count": 10,
   "id": "62ecf971-9206-4e9c-b8fc-441a489c7a53",
   "metadata": {},
   "outputs": [],
   "source": [
    "rf = RandomForestRegressor()  \n",
    "rf.fit(x_train, y_train)\n",
    "y_pred = rf.predict(x_test)\n",
    "r2_rf = r2_score(y_test, y_pred)"
   ]
  },
  {
   "cell_type": "code",
   "execution_count": 11,
   "id": "da4906ec-6462-4828-b85b-e7fdcd296681",
   "metadata": {},
   "outputs": [
    {
     "name": "stdout",
     "output_type": "stream",
     "text": [
      "Качество модели случайного леса по r2_score составляет:  88.95411084368075 %\n"
     ]
    }
   ],
   "source": [
    "print('Качество модели случайного леса по r2_score составляет: ', r2_rf*100, '%')"
   ]
  },
  {
   "cell_type": "code",
   "execution_count": 12,
   "id": "f0aa0c51-041d-40a9-9969-80748450dfed",
   "metadata": {},
   "outputs": [
    {
     "name": "stdout",
     "output_type": "stream",
     "text": [
      "Вывод по качеству моделей по r2_score:\n",
      "Качество модели случайного леса по r2_score выше, чем у модели линейной регрессии\n"
     ]
    }
   ],
   "source": [
    "print('Вывод по качеству моделей по r2_score:')\n",
    "if r2_rf > r2_lr:\n",
    "    print ('Качество модели случайного леса по r2_score выше, чем у модели линейной регрессии')\n",
    "else:\n",
    "    print ('Качество модели случайного леса по r2_score хуже, чем у модели линейной регрессии')"
   ]
  },
  {
   "cell_type": "code",
   "execution_count": null,
   "id": "71444fde-1e80-46fc-a725-a398ea17df98",
   "metadata": {},
   "outputs": [],
   "source": []
  },
  {
   "cell_type": "markdown",
   "id": "fa558d85-5d4f-4475-b0c3-6d5491ed8a82",
   "metadata": {},
   "source": [
    "Сравним результаты, используя кросс-валидацию:"
   ]
  },
  {
   "cell_type": "code",
   "execution_count": 13,
   "id": "d30dfb18-e370-416d-ada5-a71530babe67",
   "metadata": {},
   "outputs": [
    {
     "name": "stdout",
     "output_type": "stream",
     "text": [
      "для модели линейной регрессии:\n",
      "mean составляет:  0.9188308352933419  std составляет: 0.004822575931026813\n",
      "Среднее по кросс-валидации в модели: 91.88308352933419 %\n"
     ]
    }
   ],
   "source": [
    "print ('для модели линейной регрессии:')\n",
    "cross_val_score_lr = cross_val_score(lr, x_train, y_train)\n",
    "lr_result = cross_val_score(lr, x_train, y_train).mean()\n",
    "print(\"mean составляет: \", cross_val_score_lr.mean(), \" std составляет:\", cross_val_score_lr.std())\n",
    "print('Среднее по кросс-валидации в модели:', lr_result*100,'%')"
   ]
  },
  {
   "cell_type": "code",
   "execution_count": 14,
   "id": "67bf62ae-9b5d-4f92-9540-5a7e251dae1d",
   "metadata": {},
   "outputs": [
    {
     "name": "stdout",
     "output_type": "stream",
     "text": [
      "для модели случайного леса:\n",
      "mean составляет:  0.9496544744229961  std составляет: 0.002134400322692062\n",
      "Среднее по кросс-валидации в модели: 94.90960994182258 %\n"
     ]
    }
   ],
   "source": [
    "print ('для модели случайного леса:')\n",
    "scores = cross_val_score(rf, x_train, y_train)\n",
    "rf_result = cross_val_score(rf, x_train, y_train).mean()\n",
    "print(\"mean составляет: \", scores.mean(), \" std составляет:\", scores.std())\n",
    "print('Среднее по кросс-валидации в модели:', rf_result*100,'%')"
   ]
  },
  {
   "cell_type": "code",
   "execution_count": 15,
   "id": "eb488caf-f2e1-4bd3-8ed4-1fa305273a40",
   "metadata": {},
   "outputs": [
    {
     "name": "stdout",
     "output_type": "stream",
     "text": [
      "Вывод по качеству моделей по кросс-валидации:\n",
      "Качество модели случайного леса по кросс-валидации выше, чем у модели линейной регрессии\n"
     ]
    }
   ],
   "source": [
    "print('Вывод по качеству моделей по кросс-валидации:')\n",
    "if rf_result > lr_result:\n",
    "    print ('Качество модели случайного леса по кросс-валидации выше, чем у модели линейной регрессии')\n",
    "else:\n",
    "    print ('Качество модели случайного леса по кросс-валидации хуже, чем у модели линейной регрессии')"
   ]
  },
  {
   "cell_type": "code",
   "execution_count": null,
   "id": "00f01c61-24d9-47b5-ae78-59f87a39e34e",
   "metadata": {},
   "outputs": [],
   "source": []
  },
  {
   "cell_type": "code",
   "execution_count": null,
   "id": "a60113ac-4497-4bd0-98f7-555216547850",
   "metadata": {},
   "outputs": [],
   "source": []
  },
  {
   "cell_type": "markdown",
   "id": "00f0a4c5-d3c2-49d5-98ec-63d3f6cb2f4f",
   "metadata": {},
   "source": [
    "Оценим важность признаков (параметр feature_importance_ у случайного леса)."
   ]
  },
  {
   "cell_type": "code",
   "execution_count": 16,
   "id": "b2a21306-19b8-4591-9aee-869894a2675a",
   "metadata": {},
   "outputs": [
    {
     "data": {
      "text/plain": [
       "array([9.01036553e-03, 6.83911006e-03, 4.95594717e-04, 3.39222661e-03,\n",
       "       2.30981785e-02, 3.02860777e-02, 1.13709547e-03, 3.43052041e-05,\n",
       "       1.55381029e-03, 4.92681927e-03, 2.33792732e-04, 3.47789606e-03,\n",
       "       1.85648506e-01, 7.55400078e-02, 1.46223528e-01, 4.57992250e-01,\n",
       "       1.48879795e-03, 1.98259169e-02, 1.74582447e-06, 1.43418408e-03,\n",
       "       6.06099675e-03, 5.59402006e-03, 5.42696642e-06, 2.11941016e-03,\n",
       "       1.35799374e-02])"
      ]
     },
     "execution_count": 16,
     "metadata": {},
     "output_type": "execute_result"
    }
   ],
   "source": [
    "rf.feature_importances_"
   ]
  },
  {
   "cell_type": "code",
   "execution_count": 17,
   "id": "dca0c9e7-2ddf-4163-adb8-481ad4e77d0c",
   "metadata": {},
   "outputs": [
    {
     "data": {
      "text/plain": [
       "0.45799224959639684"
      ]
     },
     "execution_count": 17,
     "metadata": {},
     "output_type": "execute_result"
    }
   ],
   "source": [
    "rf.feature_importances_.max()  # находим признак с наибольшим определяющим весом"
   ]
  },
  {
   "cell_type": "code",
   "execution_count": 18,
   "id": "317df0d1-47a4-4be0-8fe1-33fd1a38864d",
   "metadata": {},
   "outputs": [
    {
     "name": "stdout",
     "output_type": "stream",
     "text": [
      "Вывод по важности признаков:\n",
      "Наибольший вес - у элемента  0.45799224959639684 - miles per gallon. Это главный определяющий признак\n"
     ]
    }
   ],
   "source": [
    "print('Вывод по важности признаков:')\n",
    "print('Наибольший вес - у элемента ', rf.feature_importances_.max(), '- miles per gallon. Это главный определяющий признак')"
   ]
  },
  {
   "cell_type": "markdown",
   "id": "d40f989b-e98a-41e2-9e6c-f31a6c3760b9",
   "metadata": {},
   "source": [
    "Остальные признаки идут от него с большим отрывом "
   ]
  },
  {
   "cell_type": "markdown",
   "id": "09f575c9-9c43-4411-94f2-f847faea7ec6",
   "metadata": {},
   "source": [
    "Подберем гиперпараметры моделей -"
   ]
  },
  {
   "cell_type": "markdown",
   "id": "728f5e15-6c14-4419-bc97-bd0aba2bbc28",
   "metadata": {},
   "source": [
    "Выберем параметры (основные) и применим RandomizedSearchCV и GridSearchCV -"
   ]
  },
  {
   "cell_type": "code",
   "execution_count": 19,
   "id": "bd32c655-42a2-409c-ab27-ce1199d85361",
   "metadata": {},
   "outputs": [],
   "source": [
    "params3 = {\n",
    "    'n_estimators': [2, 5, 7],\n",
    "    'min_samples_split': [2, 3],\n",
    "    'max_depth': [2, 8, 10]\n",
    "}"
   ]
  },
  {
   "cell_type": "markdown",
   "id": "056de5b1-5cf8-4782-89e6-dd459ac64f30",
   "metadata": {},
   "source": [
    "RandomizedSearchCV к модели случайного леса"
   ]
  },
  {
   "cell_type": "code",
   "execution_count": 20,
   "id": "22900d29-1966-4193-8e66-0a0423c63f9b",
   "metadata": {
    "tags": []
   },
   "outputs": [
    {
     "data": {
      "text/plain": [
       "RandomForestRegressor(max_depth=10, n_estimators=7)"
      ]
     },
     "execution_count": 20,
     "metadata": {},
     "output_type": "execute_result"
    }
   ],
   "source": [
    "r_search = RandomizedSearchCV(RandomForestRegressor(), params3)\n",
    "r_search.fit(x_train, y_train)\n",
    "r_search.best_estimator_"
   ]
  },
  {
   "cell_type": "markdown",
   "id": "4ad26431-22dc-4eb9-9552-da2bb91fe20b",
   "metadata": {},
   "source": [
    "GridSearchCV к модели случайного леса -"
   ]
  },
  {
   "cell_type": "code",
   "execution_count": 21,
   "id": "35f6ccc2-a112-4697-a1db-c9e03546e009",
   "metadata": {},
   "outputs": [
    {
     "data": {
      "text/plain": [
       "RandomForestRegressor(max_depth=10, min_samples_split=3, n_estimators=7)"
      ]
     },
     "execution_count": 21,
     "metadata": {},
     "output_type": "execute_result"
    }
   ],
   "source": [
    "gr_search = GridSearchCV(RandomForestRegressor(), params3)\n",
    "gr_search.fit(x_train, y_train)\n",
    "gr_search.best_estimator_"
   ]
  },
  {
   "cell_type": "markdown",
   "id": "90ff8e38-6471-4fef-ba9b-5b8c5911f361",
   "metadata": {},
   "source": [
    "Оценим качество модели случайного леса при подборе параметров:"
   ]
  },
  {
   "cell_type": "code",
   "execution_count": 22,
   "id": "f5574561-7f2f-4234-977c-75fe99c505b9",
   "metadata": {},
   "outputs": [
    {
     "name": "stdout",
     "output_type": "stream",
     "text": [
      "Качество модели RandomForest при RandomizedSearch составляет:  88.29862372288339 %\n"
     ]
    }
   ],
   "source": [
    "y_pred = r_search.best_estimator_.predict(x_test)\n",
    "r2_r2 = r2_score(y_test, y_pred)\n",
    "print('Качество модели RandomForest при RandomizedSearch составляет: ', r2_r2*100, '%')"
   ]
  },
  {
   "cell_type": "code",
   "execution_count": 23,
   "id": "91560e74-eed6-4fdb-99ec-1a4cd8e0406d",
   "metadata": {},
   "outputs": [
    {
     "name": "stdout",
     "output_type": "stream",
     "text": [
      "Качество модели RandomForest при GridSearch составляет:  88.73780448623324 %\n"
     ]
    }
   ],
   "source": [
    "y_pred = gr_search.best_estimator_.predict(x_test)\n",
    "r2_r2_g = r2_score(y_test, y_pred)\n",
    "print('Качество модели RandomForest при GridSearch составляет: ', r2_r2_g*100, '%')"
   ]
  },
  {
   "cell_type": "code",
   "execution_count": null,
   "id": "d7d5babb-0896-4203-b999-32e4d9743a33",
   "metadata": {},
   "outputs": [],
   "source": []
  },
  {
   "cell_type": "markdown",
   "id": "81f0caaa-8681-466c-83fe-d3a82f66e3e7",
   "metadata": {},
   "source": [
    "Наилучшее качество из рассмотренных моделей по r2_score - у модели RandomForest до подбора параметров."
   ]
  },
  {
   "cell_type": "code",
   "execution_count": null,
   "id": "1682218a-76e2-464f-a871-ae122588bddb",
   "metadata": {},
   "outputs": [],
   "source": []
  },
  {
   "cell_type": "markdown",
   "id": "cc437a4c-24ad-4773-ad21-b6e39537a44c",
   "metadata": {},
   "source": [
    "Для модели SGDRegressor:"
   ]
  },
  {
   "cell_type": "markdown",
   "id": "28b189f0-f3df-4fd3-b3a9-818fbad0d9bb",
   "metadata": {},
   "source": [
    "Для линейной регрессии используем реализацию с градиентным спуском SGDRegressor"
   ]
  },
  {
   "cell_type": "code",
   "execution_count": 24,
   "id": "099d5779-b2fa-4d3d-8445-bc117e899636",
   "metadata": {},
   "outputs": [
    {
     "name": "stdout",
     "output_type": "stream",
     "text": [
      "Качество модели SGDRegressor по r2_score при стандартных параметрах составляет:  -7.725419735422585e+27 %\n",
      "Такое может быть, если модель отработала хуже, чем среднее\n"
     ]
    }
   ],
   "source": [
    "lr_SGD = SGDRegressor()\n",
    "lr_SGD.fit(x_train, y_train)\n",
    "y_pred = lr_SGD.predict(x_test)\n",
    "r2_lr_SGD = r2_score(y_test, y_pred)\n",
    "r2_lr_SGD\n",
    "print('Качество модели SGDRegressor по r2_score при стандартных параметрах составляет: ', r2_lr_SGD*100, '%')\n",
    "print('Такое может быть, если модель отработала хуже, чем среднее')"
   ]
  },
  {
   "cell_type": "code",
   "execution_count": null,
   "id": "681e7996-2600-4523-99f6-1f27a793a062",
   "metadata": {},
   "outputs": [],
   "source": []
  },
  {
   "cell_type": "markdown",
   "id": "1393dbac-96a3-4dac-84cc-0ec03d94b28b",
   "metadata": {},
   "source": [
    "При подборе параметров и применении RandomizedSearchCV и GridSearchCV к модели SGDRegressor"
   ]
  },
  {
   "cell_type": "code",
   "execution_count": 25,
   "id": "17d87274-7cb4-48c8-a5cd-c050d5463201",
   "metadata": {},
   "outputs": [],
   "source": [
    "# применим варианты параметров:\n",
    "\n",
    "params4 = {\n",
    "    'fit_intercept': [2, 5, 7],\n",
    "    'alpha': [0.1, 0.05, 0.5],\n",
    "    'max_iter': [500, 1000, 1200]\n",
    "   }"
   ]
  },
  {
   "cell_type": "markdown",
   "id": "eea0deb8-a20c-498d-b57e-d49965acd154",
   "metadata": {},
   "source": [
    "RandomizedSearchCV к модели SGDRegressor"
   ]
  },
  {
   "cell_type": "code",
   "execution_count": 26,
   "id": "9c0baa65-3810-4924-8ea3-af361e742610",
   "metadata": {
    "tags": []
   },
   "outputs": [
    {
     "data": {
      "text/plain": [
       "SGDRegressor(alpha=0.1, fit_intercept=5)"
      ]
     },
     "execution_count": 26,
     "metadata": {},
     "output_type": "execute_result"
    }
   ],
   "source": [
    "lr_search = RandomizedSearchCV(SGDRegressor(), params4)\n",
    "lr_search.fit(x_train, y_train)\n",
    "lr_search.best_estimator_"
   ]
  },
  {
   "cell_type": "markdown",
   "id": "ce840d44-30ff-46ad-ae47-9a9475e043fd",
   "metadata": {},
   "source": [
    "GridSearchCV к модели SGDRegressor:"
   ]
  },
  {
   "cell_type": "code",
   "execution_count": 27,
   "id": "1cc7f82f-ec14-41a1-aeea-7da821ab17b9",
   "metadata": {},
   "outputs": [
    {
     "data": {
      "text/plain": [
       "SGDRegressor(alpha=0.1, fit_intercept=5, max_iter=500)"
      ]
     },
     "execution_count": 27,
     "metadata": {},
     "output_type": "execute_result"
    }
   ],
   "source": [
    "lr_search_1 = GridSearchCV(SGDRegressor(), params4)\n",
    "lr_search_1.fit(x_train, y_train)\n",
    "lr_search_1.best_estimator_"
   ]
  },
  {
   "cell_type": "code",
   "execution_count": 28,
   "id": "5babd393-1bd3-4ed7-bd75-4d87b941104d",
   "metadata": {},
   "outputs": [
    {
     "name": "stdout",
     "output_type": "stream",
     "text": [
      "Качество модели SGDRegressor при RandomizedSearch составляет:  -7.097719201309263e+29 %\n"
     ]
    }
   ],
   "source": [
    "y_pred = lr_search.best_estimator_.predict(x_test)\n",
    "r2_lr2 = r2_score(y_test, y_pred)\n",
    "print('Качество модели SGDRegressor при RandomizedSearch составляет: ', r2_lr2*100, '%')"
   ]
  },
  {
   "cell_type": "code",
   "execution_count": 29,
   "id": "8eae9a53-f2e0-4692-8109-5900d616907b",
   "metadata": {},
   "outputs": [
    {
     "name": "stdout",
     "output_type": "stream",
     "text": [
      "Качество модели SGDRegressor при GridSearch также составляет:  -2.427773745412967e+29 %\n"
     ]
    }
   ],
   "source": [
    "y_pred = lr_search_1.best_estimator_.predict(x_test)\n",
    "r2_lr2_1 = r2_score(y_test, y_pred)\n",
    "print('Качество модели SGDRegressor при GridSearch также составляет: ', r2_lr2_1*100, '%')"
   ]
  },
  {
   "cell_type": "markdown",
   "id": "deaf17b5-2035-4393-9c55-b80d26b63cbf",
   "metadata": {},
   "source": [
    "Вывод: в целом, наилучшие результаты из представленных вариантов по r2_score дает модель RandomForest"
   ]
  },
  {
   "cell_type": "code",
   "execution_count": null,
   "id": "3cae7c23-7c91-4c94-b46d-e5af2c38fd35",
   "metadata": {},
   "outputs": [],
   "source": []
  },
  {
   "cell_type": "markdown",
   "id": "ac2028ad-49bb-4839-90b1-872b6775bf8a",
   "metadata": {},
   "source": [
    "## Normal\n",
    "\n",
    "\n",
    "Объединить в один датафрейм данные по всем маркам машин. Преобразовать категориальные признаки.\n",
    "\n",
    "Построить еще несколько моделей, используя подбор гиперпараметров. Сравнить между собой все построенные модели."
   ]
  },
  {
   "cell_type": "code",
   "execution_count": null,
   "id": "75797efc-4297-459d-bff8-791e81b6d20a",
   "metadata": {},
   "outputs": [],
   "source": []
  },
  {
   "cell_type": "code",
   "execution_count": 30,
   "id": "0e09c2fd-1b88-4b24-babd-e208a63ee30c",
   "metadata": {},
   "outputs": [],
   "source": [
    "import random as rnd"
   ]
  },
  {
   "cell_type": "code",
   "execution_count": 31,
   "id": "fb44bf91-babe-4702-9871-6963cf67787b",
   "metadata": {},
   "outputs": [],
   "source": [
    "import os"
   ]
  },
  {
   "cell_type": "markdown",
   "id": "9ada8d4f-5d2b-4059-9744-deeccb59e709",
   "metadata": {},
   "source": [
    "Читаем данные, смотрим на соответствие столбцов/данных во всех датафреймах по маркам автомобилей:"
   ]
  },
  {
   "cell_type": "code",
   "execution_count": 32,
   "id": "18c46fbf-10b4-4fa8-ab7e-1a14aef4789e",
   "metadata": {},
   "outputs": [],
   "source": [
    "audi = pd.read_csv('./data/archive/audi.csv')\n",
    "bmw = pd.read_csv('./data/archive/bmw.csv')\n",
    "cclass = pd.read_csv('./data/archive/cclass.csv')\n",
    "focus = pd.read_csv('./data/archive/focus.csv')\n",
    "ford = pd.read_csv('./data/archive/ford.csv')\n",
    "hyundi = pd.read_csv('./data/archive/hyundi.csv')\n",
    "merc = pd.read_csv('./data/archive/merc.csv')\n",
    "skoda = pd.read_csv('./data/archive/skoda.csv')\n",
    "toyota = pd.read_csv('./data/archive/toyota.csv')\n",
    "vauxhall = pd.read_csv('./data/archive/vauxhall.csv')\n",
    "vw = pd.read_csv('./data/archive/vw.csv')"
   ]
  },
  {
   "cell_type": "code",
   "execution_count": 33,
   "id": "849e13cd-b898-442f-9556-54ea89225a2a",
   "metadata": {},
   "outputs": [
    {
     "data": {
      "text/html": [
       "<div>\n",
       "<style scoped>\n",
       "    .dataframe tbody tr th:only-of-type {\n",
       "        vertical-align: middle;\n",
       "    }\n",
       "\n",
       "    .dataframe tbody tr th {\n",
       "        vertical-align: top;\n",
       "    }\n",
       "\n",
       "    .dataframe thead th {\n",
       "        text-align: right;\n",
       "    }\n",
       "</style>\n",
       "<table border=\"1\" class=\"dataframe\">\n",
       "  <thead>\n",
       "    <tr style=\"text-align: right;\">\n",
       "      <th></th>\n",
       "      <th>model</th>\n",
       "      <th>year</th>\n",
       "      <th>price</th>\n",
       "      <th>transmission</th>\n",
       "      <th>mileage</th>\n",
       "      <th>fuelType</th>\n",
       "      <th>tax</th>\n",
       "      <th>mpg</th>\n",
       "      <th>engineSize</th>\n",
       "    </tr>\n",
       "  </thead>\n",
       "  <tbody>\n",
       "    <tr>\n",
       "      <th>0</th>\n",
       "      <td>A1</td>\n",
       "      <td>2017</td>\n",
       "      <td>12500</td>\n",
       "      <td>Manual</td>\n",
       "      <td>15735</td>\n",
       "      <td>Petrol</td>\n",
       "      <td>150</td>\n",
       "      <td>55.4</td>\n",
       "      <td>1.4</td>\n",
       "    </tr>\n",
       "    <tr>\n",
       "      <th>1</th>\n",
       "      <td>A6</td>\n",
       "      <td>2016</td>\n",
       "      <td>16500</td>\n",
       "      <td>Automatic</td>\n",
       "      <td>36203</td>\n",
       "      <td>Diesel</td>\n",
       "      <td>20</td>\n",
       "      <td>64.2</td>\n",
       "      <td>2.0</td>\n",
       "    </tr>\n",
       "    <tr>\n",
       "      <th>2</th>\n",
       "      <td>A1</td>\n",
       "      <td>2016</td>\n",
       "      <td>11000</td>\n",
       "      <td>Manual</td>\n",
       "      <td>29946</td>\n",
       "      <td>Petrol</td>\n",
       "      <td>30</td>\n",
       "      <td>55.4</td>\n",
       "      <td>1.4</td>\n",
       "    </tr>\n",
       "    <tr>\n",
       "      <th>3</th>\n",
       "      <td>A4</td>\n",
       "      <td>2017</td>\n",
       "      <td>16800</td>\n",
       "      <td>Automatic</td>\n",
       "      <td>25952</td>\n",
       "      <td>Diesel</td>\n",
       "      <td>145</td>\n",
       "      <td>67.3</td>\n",
       "      <td>2.0</td>\n",
       "    </tr>\n",
       "    <tr>\n",
       "      <th>4</th>\n",
       "      <td>A3</td>\n",
       "      <td>2019</td>\n",
       "      <td>17300</td>\n",
       "      <td>Manual</td>\n",
       "      <td>1998</td>\n",
       "      <td>Petrol</td>\n",
       "      <td>145</td>\n",
       "      <td>49.6</td>\n",
       "      <td>1.0</td>\n",
       "    </tr>\n",
       "  </tbody>\n",
       "</table>\n",
       "</div>"
      ],
      "text/plain": [
       "  model  year  price transmission  mileage fuelType  tax   mpg  engineSize\n",
       "0    A1  2017  12500       Manual    15735   Petrol  150  55.4         1.4\n",
       "1    A6  2016  16500    Automatic    36203   Diesel   20  64.2         2.0\n",
       "2    A1  2016  11000       Manual    29946   Petrol   30  55.4         1.4\n",
       "3    A4  2017  16800    Automatic    25952   Diesel  145  67.3         2.0\n",
       "4    A3  2019  17300       Manual     1998   Petrol  145  49.6         1.0"
      ]
     },
     "execution_count": 33,
     "metadata": {},
     "output_type": "execute_result"
    }
   ],
   "source": [
    "audi.head()"
   ]
  },
  {
   "cell_type": "code",
   "execution_count": 34,
   "id": "afb14e07-2169-4aa3-a202-8bfe3558f667",
   "metadata": {},
   "outputs": [
    {
     "data": {
      "text/html": [
       "<div>\n",
       "<style scoped>\n",
       "    .dataframe tbody tr th:only-of-type {\n",
       "        vertical-align: middle;\n",
       "    }\n",
       "\n",
       "    .dataframe tbody tr th {\n",
       "        vertical-align: top;\n",
       "    }\n",
       "\n",
       "    .dataframe thead th {\n",
       "        text-align: right;\n",
       "    }\n",
       "</style>\n",
       "<table border=\"1\" class=\"dataframe\">\n",
       "  <thead>\n",
       "    <tr style=\"text-align: right;\">\n",
       "      <th></th>\n",
       "      <th>model</th>\n",
       "      <th>year</th>\n",
       "      <th>price</th>\n",
       "      <th>transmission</th>\n",
       "      <th>mileage</th>\n",
       "      <th>fuelType</th>\n",
       "      <th>tax</th>\n",
       "      <th>mpg</th>\n",
       "      <th>engineSize</th>\n",
       "    </tr>\n",
       "  </thead>\n",
       "  <tbody>\n",
       "    <tr>\n",
       "      <th>0</th>\n",
       "      <td>5 Series</td>\n",
       "      <td>2014</td>\n",
       "      <td>11200</td>\n",
       "      <td>Automatic</td>\n",
       "      <td>67068</td>\n",
       "      <td>Diesel</td>\n",
       "      <td>125</td>\n",
       "      <td>57.6</td>\n",
       "      <td>2.0</td>\n",
       "    </tr>\n",
       "    <tr>\n",
       "      <th>1</th>\n",
       "      <td>6 Series</td>\n",
       "      <td>2018</td>\n",
       "      <td>27000</td>\n",
       "      <td>Automatic</td>\n",
       "      <td>14827</td>\n",
       "      <td>Petrol</td>\n",
       "      <td>145</td>\n",
       "      <td>42.8</td>\n",
       "      <td>2.0</td>\n",
       "    </tr>\n",
       "    <tr>\n",
       "      <th>2</th>\n",
       "      <td>5 Series</td>\n",
       "      <td>2016</td>\n",
       "      <td>16000</td>\n",
       "      <td>Automatic</td>\n",
       "      <td>62794</td>\n",
       "      <td>Diesel</td>\n",
       "      <td>160</td>\n",
       "      <td>51.4</td>\n",
       "      <td>3.0</td>\n",
       "    </tr>\n",
       "    <tr>\n",
       "      <th>3</th>\n",
       "      <td>1 Series</td>\n",
       "      <td>2017</td>\n",
       "      <td>12750</td>\n",
       "      <td>Automatic</td>\n",
       "      <td>26676</td>\n",
       "      <td>Diesel</td>\n",
       "      <td>145</td>\n",
       "      <td>72.4</td>\n",
       "      <td>1.5</td>\n",
       "    </tr>\n",
       "    <tr>\n",
       "      <th>4</th>\n",
       "      <td>7 Series</td>\n",
       "      <td>2014</td>\n",
       "      <td>14500</td>\n",
       "      <td>Automatic</td>\n",
       "      <td>39554</td>\n",
       "      <td>Diesel</td>\n",
       "      <td>160</td>\n",
       "      <td>50.4</td>\n",
       "      <td>3.0</td>\n",
       "    </tr>\n",
       "  </tbody>\n",
       "</table>\n",
       "</div>"
      ],
      "text/plain": [
       "       model  year  price transmission  mileage fuelType  tax   mpg  \\\n",
       "0   5 Series  2014  11200    Automatic    67068   Diesel  125  57.6   \n",
       "1   6 Series  2018  27000    Automatic    14827   Petrol  145  42.8   \n",
       "2   5 Series  2016  16000    Automatic    62794   Diesel  160  51.4   \n",
       "3   1 Series  2017  12750    Automatic    26676   Diesel  145  72.4   \n",
       "4   7 Series  2014  14500    Automatic    39554   Diesel  160  50.4   \n",
       "\n",
       "   engineSize  \n",
       "0         2.0  \n",
       "1         2.0  \n",
       "2         3.0  \n",
       "3         1.5  \n",
       "4         3.0  "
      ]
     },
     "execution_count": 34,
     "metadata": {},
     "output_type": "execute_result"
    }
   ],
   "source": [
    "bmw.head()"
   ]
  },
  {
   "cell_type": "code",
   "execution_count": 35,
   "id": "f392f798-2de4-4d18-a9bb-f92a0324d662",
   "metadata": {},
   "outputs": [
    {
     "data": {
      "text/html": [
       "<div>\n",
       "<style scoped>\n",
       "    .dataframe tbody tr th:only-of-type {\n",
       "        vertical-align: middle;\n",
       "    }\n",
       "\n",
       "    .dataframe tbody tr th {\n",
       "        vertical-align: top;\n",
       "    }\n",
       "\n",
       "    .dataframe thead th {\n",
       "        text-align: right;\n",
       "    }\n",
       "</style>\n",
       "<table border=\"1\" class=\"dataframe\">\n",
       "  <thead>\n",
       "    <tr style=\"text-align: right;\">\n",
       "      <th></th>\n",
       "      <th>model</th>\n",
       "      <th>year</th>\n",
       "      <th>price</th>\n",
       "      <th>transmission</th>\n",
       "      <th>mileage</th>\n",
       "      <th>fuelType</th>\n",
       "      <th>engineSize</th>\n",
       "    </tr>\n",
       "  </thead>\n",
       "  <tbody>\n",
       "    <tr>\n",
       "      <th>0</th>\n",
       "      <td>C Class</td>\n",
       "      <td>2020</td>\n",
       "      <td>30495</td>\n",
       "      <td>Automatic</td>\n",
       "      <td>1200</td>\n",
       "      <td>Diesel</td>\n",
       "      <td>2.0</td>\n",
       "    </tr>\n",
       "    <tr>\n",
       "      <th>1</th>\n",
       "      <td>C Class</td>\n",
       "      <td>2020</td>\n",
       "      <td>29989</td>\n",
       "      <td>Automatic</td>\n",
       "      <td>1000</td>\n",
       "      <td>Petrol</td>\n",
       "      <td>1.5</td>\n",
       "    </tr>\n",
       "    <tr>\n",
       "      <th>2</th>\n",
       "      <td>C Class</td>\n",
       "      <td>2020</td>\n",
       "      <td>37899</td>\n",
       "      <td>Automatic</td>\n",
       "      <td>500</td>\n",
       "      <td>Diesel</td>\n",
       "      <td>2.0</td>\n",
       "    </tr>\n",
       "    <tr>\n",
       "      <th>3</th>\n",
       "      <td>C Class</td>\n",
       "      <td>2019</td>\n",
       "      <td>30399</td>\n",
       "      <td>Automatic</td>\n",
       "      <td>5000</td>\n",
       "      <td>Diesel</td>\n",
       "      <td>2.0</td>\n",
       "    </tr>\n",
       "    <tr>\n",
       "      <th>4</th>\n",
       "      <td>C Class</td>\n",
       "      <td>2019</td>\n",
       "      <td>29899</td>\n",
       "      <td>Automatic</td>\n",
       "      <td>4500</td>\n",
       "      <td>Diesel</td>\n",
       "      <td>2.0</td>\n",
       "    </tr>\n",
       "  </tbody>\n",
       "</table>\n",
       "</div>"
      ],
      "text/plain": [
       "      model  year  price transmission  mileage fuelType  engineSize\n",
       "0   C Class  2020  30495    Automatic     1200   Diesel         2.0\n",
       "1   C Class  2020  29989    Automatic     1000   Petrol         1.5\n",
       "2   C Class  2020  37899    Automatic      500   Diesel         2.0\n",
       "3   C Class  2019  30399    Automatic     5000   Diesel         2.0\n",
       "4   C Class  2019  29899    Automatic     4500   Diesel         2.0"
      ]
     },
     "execution_count": 35,
     "metadata": {},
     "output_type": "execute_result"
    }
   ],
   "source": [
    "cclass.head()"
   ]
  },
  {
   "cell_type": "code",
   "execution_count": 36,
   "id": "00f213bf-c90e-4b03-a026-4445b725e0bd",
   "metadata": {},
   "outputs": [
    {
     "data": {
      "text/html": [
       "<div>\n",
       "<style scoped>\n",
       "    .dataframe tbody tr th:only-of-type {\n",
       "        vertical-align: middle;\n",
       "    }\n",
       "\n",
       "    .dataframe tbody tr th {\n",
       "        vertical-align: top;\n",
       "    }\n",
       "\n",
       "    .dataframe thead th {\n",
       "        text-align: right;\n",
       "    }\n",
       "</style>\n",
       "<table border=\"1\" class=\"dataframe\">\n",
       "  <thead>\n",
       "    <tr style=\"text-align: right;\">\n",
       "      <th></th>\n",
       "      <th>model</th>\n",
       "      <th>year</th>\n",
       "      <th>price</th>\n",
       "      <th>transmission</th>\n",
       "      <th>mileage</th>\n",
       "      <th>fuelType</th>\n",
       "      <th>engineSize</th>\n",
       "    </tr>\n",
       "  </thead>\n",
       "  <tbody>\n",
       "    <tr>\n",
       "      <th>0</th>\n",
       "      <td>Focus</td>\n",
       "      <td>2016</td>\n",
       "      <td>8000</td>\n",
       "      <td>Manual</td>\n",
       "      <td>38852</td>\n",
       "      <td>Petrol</td>\n",
       "      <td>1.0</td>\n",
       "    </tr>\n",
       "    <tr>\n",
       "      <th>1</th>\n",
       "      <td>Focus</td>\n",
       "      <td>2019</td>\n",
       "      <td>13400</td>\n",
       "      <td>Manual</td>\n",
       "      <td>11952</td>\n",
       "      <td>Petrol</td>\n",
       "      <td>1.0</td>\n",
       "    </tr>\n",
       "    <tr>\n",
       "      <th>2</th>\n",
       "      <td>Focus</td>\n",
       "      <td>2019</td>\n",
       "      <td>14600</td>\n",
       "      <td>Manual</td>\n",
       "      <td>22142</td>\n",
       "      <td>Petrol</td>\n",
       "      <td>1.5</td>\n",
       "    </tr>\n",
       "    <tr>\n",
       "      <th>3</th>\n",
       "      <td>Focus</td>\n",
       "      <td>2016</td>\n",
       "      <td>9450</td>\n",
       "      <td>Manual</td>\n",
       "      <td>14549</td>\n",
       "      <td>Diesel</td>\n",
       "      <td>1.6</td>\n",
       "    </tr>\n",
       "    <tr>\n",
       "      <th>4</th>\n",
       "      <td>Focus</td>\n",
       "      <td>2015</td>\n",
       "      <td>9999</td>\n",
       "      <td>Manual</td>\n",
       "      <td>7010</td>\n",
       "      <td>Diesel</td>\n",
       "      <td>1.6</td>\n",
       "    </tr>\n",
       "  </tbody>\n",
       "</table>\n",
       "</div>"
      ],
      "text/plain": [
       "    model  year  price transmission  mileage fuelType  engineSize\n",
       "0   Focus  2016   8000       Manual    38852   Petrol         1.0\n",
       "1   Focus  2019  13400       Manual    11952   Petrol         1.0\n",
       "2   Focus  2019  14600       Manual    22142   Petrol         1.5\n",
       "3   Focus  2016   9450       Manual    14549   Diesel         1.6\n",
       "4   Focus  2015   9999       Manual     7010   Diesel         1.6"
      ]
     },
     "execution_count": 36,
     "metadata": {},
     "output_type": "execute_result"
    }
   ],
   "source": [
    "focus.head()"
   ]
  },
  {
   "cell_type": "code",
   "execution_count": 37,
   "id": "bd6d7b0c-38d9-4954-91ae-9f3d5102ab51",
   "metadata": {},
   "outputs": [
    {
     "data": {
      "text/html": [
       "<div>\n",
       "<style scoped>\n",
       "    .dataframe tbody tr th:only-of-type {\n",
       "        vertical-align: middle;\n",
       "    }\n",
       "\n",
       "    .dataframe tbody tr th {\n",
       "        vertical-align: top;\n",
       "    }\n",
       "\n",
       "    .dataframe thead th {\n",
       "        text-align: right;\n",
       "    }\n",
       "</style>\n",
       "<table border=\"1\" class=\"dataframe\">\n",
       "  <thead>\n",
       "    <tr style=\"text-align: right;\">\n",
       "      <th></th>\n",
       "      <th>model</th>\n",
       "      <th>year</th>\n",
       "      <th>price</th>\n",
       "      <th>transmission</th>\n",
       "      <th>mileage</th>\n",
       "      <th>fuelType</th>\n",
       "      <th>tax</th>\n",
       "      <th>mpg</th>\n",
       "      <th>engineSize</th>\n",
       "    </tr>\n",
       "  </thead>\n",
       "  <tbody>\n",
       "    <tr>\n",
       "      <th>0</th>\n",
       "      <td>Fiesta</td>\n",
       "      <td>2017</td>\n",
       "      <td>12000</td>\n",
       "      <td>Automatic</td>\n",
       "      <td>15944</td>\n",
       "      <td>Petrol</td>\n",
       "      <td>150</td>\n",
       "      <td>57.7</td>\n",
       "      <td>1.0</td>\n",
       "    </tr>\n",
       "    <tr>\n",
       "      <th>1</th>\n",
       "      <td>Focus</td>\n",
       "      <td>2018</td>\n",
       "      <td>14000</td>\n",
       "      <td>Manual</td>\n",
       "      <td>9083</td>\n",
       "      <td>Petrol</td>\n",
       "      <td>150</td>\n",
       "      <td>57.7</td>\n",
       "      <td>1.0</td>\n",
       "    </tr>\n",
       "    <tr>\n",
       "      <th>2</th>\n",
       "      <td>Focus</td>\n",
       "      <td>2017</td>\n",
       "      <td>13000</td>\n",
       "      <td>Manual</td>\n",
       "      <td>12456</td>\n",
       "      <td>Petrol</td>\n",
       "      <td>150</td>\n",
       "      <td>57.7</td>\n",
       "      <td>1.0</td>\n",
       "    </tr>\n",
       "    <tr>\n",
       "      <th>3</th>\n",
       "      <td>Fiesta</td>\n",
       "      <td>2019</td>\n",
       "      <td>17500</td>\n",
       "      <td>Manual</td>\n",
       "      <td>10460</td>\n",
       "      <td>Petrol</td>\n",
       "      <td>145</td>\n",
       "      <td>40.3</td>\n",
       "      <td>1.5</td>\n",
       "    </tr>\n",
       "    <tr>\n",
       "      <th>4</th>\n",
       "      <td>Fiesta</td>\n",
       "      <td>2019</td>\n",
       "      <td>16500</td>\n",
       "      <td>Automatic</td>\n",
       "      <td>1482</td>\n",
       "      <td>Petrol</td>\n",
       "      <td>145</td>\n",
       "      <td>48.7</td>\n",
       "      <td>1.0</td>\n",
       "    </tr>\n",
       "  </tbody>\n",
       "</table>\n",
       "</div>"
      ],
      "text/plain": [
       "     model  year  price transmission  mileage fuelType  tax   mpg  engineSize\n",
       "0   Fiesta  2017  12000    Automatic    15944   Petrol  150  57.7         1.0\n",
       "1    Focus  2018  14000       Manual     9083   Petrol  150  57.7         1.0\n",
       "2    Focus  2017  13000       Manual    12456   Petrol  150  57.7         1.0\n",
       "3   Fiesta  2019  17500       Manual    10460   Petrol  145  40.3         1.5\n",
       "4   Fiesta  2019  16500    Automatic     1482   Petrol  145  48.7         1.0"
      ]
     },
     "execution_count": 37,
     "metadata": {},
     "output_type": "execute_result"
    }
   ],
   "source": [
    "ford.head()"
   ]
  },
  {
   "cell_type": "code",
   "execution_count": 38,
   "id": "a0e2f9da-2028-4920-a995-842eec903dc1",
   "metadata": {},
   "outputs": [
    {
     "data": {
      "text/html": [
       "<div>\n",
       "<style scoped>\n",
       "    .dataframe tbody tr th:only-of-type {\n",
       "        vertical-align: middle;\n",
       "    }\n",
       "\n",
       "    .dataframe tbody tr th {\n",
       "        vertical-align: top;\n",
       "    }\n",
       "\n",
       "    .dataframe thead th {\n",
       "        text-align: right;\n",
       "    }\n",
       "</style>\n",
       "<table border=\"1\" class=\"dataframe\">\n",
       "  <thead>\n",
       "    <tr style=\"text-align: right;\">\n",
       "      <th></th>\n",
       "      <th>model</th>\n",
       "      <th>year</th>\n",
       "      <th>price</th>\n",
       "      <th>transmission</th>\n",
       "      <th>mileage</th>\n",
       "      <th>fuelType</th>\n",
       "      <th>tax(£)</th>\n",
       "      <th>mpg</th>\n",
       "      <th>engineSize</th>\n",
       "    </tr>\n",
       "  </thead>\n",
       "  <tbody>\n",
       "    <tr>\n",
       "      <th>0</th>\n",
       "      <td>I20</td>\n",
       "      <td>2017</td>\n",
       "      <td>7999</td>\n",
       "      <td>Manual</td>\n",
       "      <td>17307</td>\n",
       "      <td>Petrol</td>\n",
       "      <td>145</td>\n",
       "      <td>58.9</td>\n",
       "      <td>1.2</td>\n",
       "    </tr>\n",
       "    <tr>\n",
       "      <th>1</th>\n",
       "      <td>Tucson</td>\n",
       "      <td>2016</td>\n",
       "      <td>14499</td>\n",
       "      <td>Automatic</td>\n",
       "      <td>25233</td>\n",
       "      <td>Diesel</td>\n",
       "      <td>235</td>\n",
       "      <td>43.5</td>\n",
       "      <td>2.0</td>\n",
       "    </tr>\n",
       "    <tr>\n",
       "      <th>2</th>\n",
       "      <td>Tucson</td>\n",
       "      <td>2016</td>\n",
       "      <td>11399</td>\n",
       "      <td>Manual</td>\n",
       "      <td>37877</td>\n",
       "      <td>Diesel</td>\n",
       "      <td>30</td>\n",
       "      <td>61.7</td>\n",
       "      <td>1.7</td>\n",
       "    </tr>\n",
       "    <tr>\n",
       "      <th>3</th>\n",
       "      <td>I10</td>\n",
       "      <td>2016</td>\n",
       "      <td>6499</td>\n",
       "      <td>Manual</td>\n",
       "      <td>23789</td>\n",
       "      <td>Petrol</td>\n",
       "      <td>20</td>\n",
       "      <td>60.1</td>\n",
       "      <td>1.0</td>\n",
       "    </tr>\n",
       "    <tr>\n",
       "      <th>4</th>\n",
       "      <td>IX35</td>\n",
       "      <td>2015</td>\n",
       "      <td>10199</td>\n",
       "      <td>Manual</td>\n",
       "      <td>33177</td>\n",
       "      <td>Diesel</td>\n",
       "      <td>160</td>\n",
       "      <td>51.4</td>\n",
       "      <td>2.0</td>\n",
       "    </tr>\n",
       "  </tbody>\n",
       "</table>\n",
       "</div>"
      ],
      "text/plain": [
       "     model  year  price transmission  mileage fuelType  tax(£)   mpg  \\\n",
       "0      I20  2017   7999       Manual    17307   Petrol     145  58.9   \n",
       "1   Tucson  2016  14499    Automatic    25233   Diesel     235  43.5   \n",
       "2   Tucson  2016  11399       Manual    37877   Diesel      30  61.7   \n",
       "3      I10  2016   6499       Manual    23789   Petrol      20  60.1   \n",
       "4     IX35  2015  10199       Manual    33177   Diesel     160  51.4   \n",
       "\n",
       "   engineSize  \n",
       "0         1.2  \n",
       "1         2.0  \n",
       "2         1.7  \n",
       "3         1.0  \n",
       "4         2.0  "
      ]
     },
     "execution_count": 38,
     "metadata": {},
     "output_type": "execute_result"
    }
   ],
   "source": [
    "hyundi.head()"
   ]
  },
  {
   "cell_type": "code",
   "execution_count": 39,
   "id": "3206a228-dac9-4c95-91a2-c05575db681e",
   "metadata": {},
   "outputs": [
    {
     "data": {
      "text/html": [
       "<div>\n",
       "<style scoped>\n",
       "    .dataframe tbody tr th:only-of-type {\n",
       "        vertical-align: middle;\n",
       "    }\n",
       "\n",
       "    .dataframe tbody tr th {\n",
       "        vertical-align: top;\n",
       "    }\n",
       "\n",
       "    .dataframe thead th {\n",
       "        text-align: right;\n",
       "    }\n",
       "</style>\n",
       "<table border=\"1\" class=\"dataframe\">\n",
       "  <thead>\n",
       "    <tr style=\"text-align: right;\">\n",
       "      <th></th>\n",
       "      <th>model</th>\n",
       "      <th>year</th>\n",
       "      <th>price</th>\n",
       "      <th>transmission</th>\n",
       "      <th>mileage</th>\n",
       "      <th>fuelType</th>\n",
       "      <th>tax(£)</th>\n",
       "      <th>mpg</th>\n",
       "      <th>engineSize</th>\n",
       "    </tr>\n",
       "  </thead>\n",
       "  <tbody>\n",
       "    <tr>\n",
       "      <th>0</th>\n",
       "      <td>I20</td>\n",
       "      <td>2017</td>\n",
       "      <td>7999</td>\n",
       "      <td>Manual</td>\n",
       "      <td>17307</td>\n",
       "      <td>Petrol</td>\n",
       "      <td>145</td>\n",
       "      <td>58.9</td>\n",
       "      <td>1.2</td>\n",
       "    </tr>\n",
       "    <tr>\n",
       "      <th>1</th>\n",
       "      <td>Tucson</td>\n",
       "      <td>2016</td>\n",
       "      <td>14499</td>\n",
       "      <td>Automatic</td>\n",
       "      <td>25233</td>\n",
       "      <td>Diesel</td>\n",
       "      <td>235</td>\n",
       "      <td>43.5</td>\n",
       "      <td>2.0</td>\n",
       "    </tr>\n",
       "    <tr>\n",
       "      <th>2</th>\n",
       "      <td>Tucson</td>\n",
       "      <td>2016</td>\n",
       "      <td>11399</td>\n",
       "      <td>Manual</td>\n",
       "      <td>37877</td>\n",
       "      <td>Diesel</td>\n",
       "      <td>30</td>\n",
       "      <td>61.7</td>\n",
       "      <td>1.7</td>\n",
       "    </tr>\n",
       "    <tr>\n",
       "      <th>3</th>\n",
       "      <td>I10</td>\n",
       "      <td>2016</td>\n",
       "      <td>6499</td>\n",
       "      <td>Manual</td>\n",
       "      <td>23789</td>\n",
       "      <td>Petrol</td>\n",
       "      <td>20</td>\n",
       "      <td>60.1</td>\n",
       "      <td>1.0</td>\n",
       "    </tr>\n",
       "    <tr>\n",
       "      <th>4</th>\n",
       "      <td>IX35</td>\n",
       "      <td>2015</td>\n",
       "      <td>10199</td>\n",
       "      <td>Manual</td>\n",
       "      <td>33177</td>\n",
       "      <td>Diesel</td>\n",
       "      <td>160</td>\n",
       "      <td>51.4</td>\n",
       "      <td>2.0</td>\n",
       "    </tr>\n",
       "  </tbody>\n",
       "</table>\n",
       "</div>"
      ],
      "text/plain": [
       "     model  year  price transmission  mileage fuelType  tax(£)   mpg  \\\n",
       "0      I20  2017   7999       Manual    17307   Petrol     145  58.9   \n",
       "1   Tucson  2016  14499    Automatic    25233   Diesel     235  43.5   \n",
       "2   Tucson  2016  11399       Manual    37877   Diesel      30  61.7   \n",
       "3      I10  2016   6499       Manual    23789   Petrol      20  60.1   \n",
       "4     IX35  2015  10199       Manual    33177   Diesel     160  51.4   \n",
       "\n",
       "   engineSize  \n",
       "0         1.2  \n",
       "1         2.0  \n",
       "2         1.7  \n",
       "3         1.0  \n",
       "4         2.0  "
      ]
     },
     "execution_count": 39,
     "metadata": {},
     "output_type": "execute_result"
    }
   ],
   "source": [
    "hyundi.rename(columns= {'tax(£)': 'tax'})\n",
    "hyundi.head()"
   ]
  },
  {
   "cell_type": "code",
   "execution_count": 40,
   "id": "23642793-4f22-4fb5-9ccf-32423e7ac2ae",
   "metadata": {},
   "outputs": [
    {
     "data": {
      "text/html": [
       "<div>\n",
       "<style scoped>\n",
       "    .dataframe tbody tr th:only-of-type {\n",
       "        vertical-align: middle;\n",
       "    }\n",
       "\n",
       "    .dataframe tbody tr th {\n",
       "        vertical-align: top;\n",
       "    }\n",
       "\n",
       "    .dataframe thead th {\n",
       "        text-align: right;\n",
       "    }\n",
       "</style>\n",
       "<table border=\"1\" class=\"dataframe\">\n",
       "  <thead>\n",
       "    <tr style=\"text-align: right;\">\n",
       "      <th></th>\n",
       "      <th>model</th>\n",
       "      <th>year</th>\n",
       "      <th>price</th>\n",
       "      <th>transmission</th>\n",
       "      <th>mileage</th>\n",
       "      <th>fuelType</th>\n",
       "      <th>tax</th>\n",
       "      <th>mpg</th>\n",
       "      <th>engineSize</th>\n",
       "    </tr>\n",
       "  </thead>\n",
       "  <tbody>\n",
       "    <tr>\n",
       "      <th>0</th>\n",
       "      <td>SLK</td>\n",
       "      <td>2005</td>\n",
       "      <td>5200</td>\n",
       "      <td>Automatic</td>\n",
       "      <td>63000</td>\n",
       "      <td>Petrol</td>\n",
       "      <td>325</td>\n",
       "      <td>32.1</td>\n",
       "      <td>1.8</td>\n",
       "    </tr>\n",
       "    <tr>\n",
       "      <th>1</th>\n",
       "      <td>S Class</td>\n",
       "      <td>2017</td>\n",
       "      <td>34948</td>\n",
       "      <td>Automatic</td>\n",
       "      <td>27000</td>\n",
       "      <td>Hybrid</td>\n",
       "      <td>20</td>\n",
       "      <td>61.4</td>\n",
       "      <td>2.1</td>\n",
       "    </tr>\n",
       "    <tr>\n",
       "      <th>2</th>\n",
       "      <td>SL CLASS</td>\n",
       "      <td>2016</td>\n",
       "      <td>49948</td>\n",
       "      <td>Automatic</td>\n",
       "      <td>6200</td>\n",
       "      <td>Petrol</td>\n",
       "      <td>555</td>\n",
       "      <td>28.0</td>\n",
       "      <td>5.5</td>\n",
       "    </tr>\n",
       "    <tr>\n",
       "      <th>3</th>\n",
       "      <td>G Class</td>\n",
       "      <td>2016</td>\n",
       "      <td>61948</td>\n",
       "      <td>Automatic</td>\n",
       "      <td>16000</td>\n",
       "      <td>Petrol</td>\n",
       "      <td>325</td>\n",
       "      <td>30.4</td>\n",
       "      <td>4.0</td>\n",
       "    </tr>\n",
       "    <tr>\n",
       "      <th>4</th>\n",
       "      <td>G Class</td>\n",
       "      <td>2016</td>\n",
       "      <td>73948</td>\n",
       "      <td>Automatic</td>\n",
       "      <td>4000</td>\n",
       "      <td>Petrol</td>\n",
       "      <td>325</td>\n",
       "      <td>30.1</td>\n",
       "      <td>4.0</td>\n",
       "    </tr>\n",
       "  </tbody>\n",
       "</table>\n",
       "</div>"
      ],
      "text/plain": [
       "       model  year  price transmission  mileage fuelType  tax   mpg  \\\n",
       "0        SLK  2005   5200    Automatic    63000   Petrol  325  32.1   \n",
       "1    S Class  2017  34948    Automatic    27000   Hybrid   20  61.4   \n",
       "2   SL CLASS  2016  49948    Automatic     6200   Petrol  555  28.0   \n",
       "3    G Class  2016  61948    Automatic    16000   Petrol  325  30.4   \n",
       "4    G Class  2016  73948    Automatic     4000   Petrol  325  30.1   \n",
       "\n",
       "   engineSize  \n",
       "0         1.8  \n",
       "1         2.1  \n",
       "2         5.5  \n",
       "3         4.0  \n",
       "4         4.0  "
      ]
     },
     "execution_count": 40,
     "metadata": {},
     "output_type": "execute_result"
    }
   ],
   "source": [
    "merc.head()"
   ]
  },
  {
   "cell_type": "code",
   "execution_count": 41,
   "id": "e17703e1-a858-46cd-b190-8d2410f96289",
   "metadata": {},
   "outputs": [
    {
     "data": {
      "text/html": [
       "<div>\n",
       "<style scoped>\n",
       "    .dataframe tbody tr th:only-of-type {\n",
       "        vertical-align: middle;\n",
       "    }\n",
       "\n",
       "    .dataframe tbody tr th {\n",
       "        vertical-align: top;\n",
       "    }\n",
       "\n",
       "    .dataframe thead th {\n",
       "        text-align: right;\n",
       "    }\n",
       "</style>\n",
       "<table border=\"1\" class=\"dataframe\">\n",
       "  <thead>\n",
       "    <tr style=\"text-align: right;\">\n",
       "      <th></th>\n",
       "      <th>model</th>\n",
       "      <th>year</th>\n",
       "      <th>price</th>\n",
       "      <th>transmission</th>\n",
       "      <th>mileage</th>\n",
       "      <th>fuelType</th>\n",
       "      <th>tax</th>\n",
       "      <th>mpg</th>\n",
       "      <th>engineSize</th>\n",
       "    </tr>\n",
       "  </thead>\n",
       "  <tbody>\n",
       "    <tr>\n",
       "      <th>0</th>\n",
       "      <td>Octavia</td>\n",
       "      <td>2017</td>\n",
       "      <td>10550</td>\n",
       "      <td>Manual</td>\n",
       "      <td>25250</td>\n",
       "      <td>Petrol</td>\n",
       "      <td>150</td>\n",
       "      <td>54.3</td>\n",
       "      <td>1.4</td>\n",
       "    </tr>\n",
       "    <tr>\n",
       "      <th>1</th>\n",
       "      <td>Citigo</td>\n",
       "      <td>2018</td>\n",
       "      <td>8200</td>\n",
       "      <td>Manual</td>\n",
       "      <td>1264</td>\n",
       "      <td>Petrol</td>\n",
       "      <td>145</td>\n",
       "      <td>67.3</td>\n",
       "      <td>1.0</td>\n",
       "    </tr>\n",
       "    <tr>\n",
       "      <th>2</th>\n",
       "      <td>Octavia</td>\n",
       "      <td>2019</td>\n",
       "      <td>15650</td>\n",
       "      <td>Automatic</td>\n",
       "      <td>6825</td>\n",
       "      <td>Diesel</td>\n",
       "      <td>145</td>\n",
       "      <td>67.3</td>\n",
       "      <td>2.0</td>\n",
       "    </tr>\n",
       "    <tr>\n",
       "      <th>3</th>\n",
       "      <td>Yeti Outdoor</td>\n",
       "      <td>2015</td>\n",
       "      <td>14000</td>\n",
       "      <td>Automatic</td>\n",
       "      <td>28431</td>\n",
       "      <td>Diesel</td>\n",
       "      <td>165</td>\n",
       "      <td>51.4</td>\n",
       "      <td>2.0</td>\n",
       "    </tr>\n",
       "    <tr>\n",
       "      <th>4</th>\n",
       "      <td>Superb</td>\n",
       "      <td>2019</td>\n",
       "      <td>18350</td>\n",
       "      <td>Manual</td>\n",
       "      <td>10912</td>\n",
       "      <td>Petrol</td>\n",
       "      <td>150</td>\n",
       "      <td>40.9</td>\n",
       "      <td>1.5</td>\n",
       "    </tr>\n",
       "  </tbody>\n",
       "</table>\n",
       "</div>"
      ],
      "text/plain": [
       "           model  year  price transmission  mileage fuelType  tax   mpg  \\\n",
       "0        Octavia  2017  10550       Manual    25250   Petrol  150  54.3   \n",
       "1         Citigo  2018   8200       Manual     1264   Petrol  145  67.3   \n",
       "2        Octavia  2019  15650    Automatic     6825   Diesel  145  67.3   \n",
       "3   Yeti Outdoor  2015  14000    Automatic    28431   Diesel  165  51.4   \n",
       "4         Superb  2019  18350       Manual    10912   Petrol  150  40.9   \n",
       "\n",
       "   engineSize  \n",
       "0         1.4  \n",
       "1         1.0  \n",
       "2         2.0  \n",
       "3         2.0  \n",
       "4         1.5  "
      ]
     },
     "execution_count": 41,
     "metadata": {},
     "output_type": "execute_result"
    }
   ],
   "source": [
    "skoda.head()"
   ]
  },
  {
   "cell_type": "code",
   "execution_count": 42,
   "id": "666a8071-f367-4502-b0fe-f70ea362fd28",
   "metadata": {},
   "outputs": [
    {
     "data": {
      "text/html": [
       "<div>\n",
       "<style scoped>\n",
       "    .dataframe tbody tr th:only-of-type {\n",
       "        vertical-align: middle;\n",
       "    }\n",
       "\n",
       "    .dataframe tbody tr th {\n",
       "        vertical-align: top;\n",
       "    }\n",
       "\n",
       "    .dataframe thead th {\n",
       "        text-align: right;\n",
       "    }\n",
       "</style>\n",
       "<table border=\"1\" class=\"dataframe\">\n",
       "  <thead>\n",
       "    <tr style=\"text-align: right;\">\n",
       "      <th></th>\n",
       "      <th>model</th>\n",
       "      <th>year</th>\n",
       "      <th>price</th>\n",
       "      <th>transmission</th>\n",
       "      <th>mileage</th>\n",
       "      <th>fuelType</th>\n",
       "      <th>tax</th>\n",
       "      <th>mpg</th>\n",
       "      <th>engineSize</th>\n",
       "    </tr>\n",
       "  </thead>\n",
       "  <tbody>\n",
       "    <tr>\n",
       "      <th>0</th>\n",
       "      <td>GT86</td>\n",
       "      <td>2016</td>\n",
       "      <td>16000</td>\n",
       "      <td>Manual</td>\n",
       "      <td>24089</td>\n",
       "      <td>Petrol</td>\n",
       "      <td>265</td>\n",
       "      <td>36.2</td>\n",
       "      <td>2.0</td>\n",
       "    </tr>\n",
       "    <tr>\n",
       "      <th>1</th>\n",
       "      <td>GT86</td>\n",
       "      <td>2017</td>\n",
       "      <td>15995</td>\n",
       "      <td>Manual</td>\n",
       "      <td>18615</td>\n",
       "      <td>Petrol</td>\n",
       "      <td>145</td>\n",
       "      <td>36.2</td>\n",
       "      <td>2.0</td>\n",
       "    </tr>\n",
       "    <tr>\n",
       "      <th>2</th>\n",
       "      <td>GT86</td>\n",
       "      <td>2015</td>\n",
       "      <td>13998</td>\n",
       "      <td>Manual</td>\n",
       "      <td>27469</td>\n",
       "      <td>Petrol</td>\n",
       "      <td>265</td>\n",
       "      <td>36.2</td>\n",
       "      <td>2.0</td>\n",
       "    </tr>\n",
       "    <tr>\n",
       "      <th>3</th>\n",
       "      <td>GT86</td>\n",
       "      <td>2017</td>\n",
       "      <td>18998</td>\n",
       "      <td>Manual</td>\n",
       "      <td>14736</td>\n",
       "      <td>Petrol</td>\n",
       "      <td>150</td>\n",
       "      <td>36.2</td>\n",
       "      <td>2.0</td>\n",
       "    </tr>\n",
       "    <tr>\n",
       "      <th>4</th>\n",
       "      <td>GT86</td>\n",
       "      <td>2017</td>\n",
       "      <td>17498</td>\n",
       "      <td>Manual</td>\n",
       "      <td>36284</td>\n",
       "      <td>Petrol</td>\n",
       "      <td>145</td>\n",
       "      <td>36.2</td>\n",
       "      <td>2.0</td>\n",
       "    </tr>\n",
       "  </tbody>\n",
       "</table>\n",
       "</div>"
      ],
      "text/plain": [
       "   model  year  price transmission  mileage fuelType  tax   mpg  engineSize\n",
       "0   GT86  2016  16000       Manual    24089   Petrol  265  36.2         2.0\n",
       "1   GT86  2017  15995       Manual    18615   Petrol  145  36.2         2.0\n",
       "2   GT86  2015  13998       Manual    27469   Petrol  265  36.2         2.0\n",
       "3   GT86  2017  18998       Manual    14736   Petrol  150  36.2         2.0\n",
       "4   GT86  2017  17498       Manual    36284   Petrol  145  36.2         2.0"
      ]
     },
     "execution_count": 42,
     "metadata": {},
     "output_type": "execute_result"
    }
   ],
   "source": [
    "toyota.head()"
   ]
  },
  {
   "cell_type": "code",
   "execution_count": 43,
   "id": "539df833-6465-4c27-9853-f702f2a836e3",
   "metadata": {},
   "outputs": [
    {
     "data": {
      "text/html": [
       "<div>\n",
       "<style scoped>\n",
       "    .dataframe tbody tr th:only-of-type {\n",
       "        vertical-align: middle;\n",
       "    }\n",
       "\n",
       "    .dataframe tbody tr th {\n",
       "        vertical-align: top;\n",
       "    }\n",
       "\n",
       "    .dataframe thead th {\n",
       "        text-align: right;\n",
       "    }\n",
       "</style>\n",
       "<table border=\"1\" class=\"dataframe\">\n",
       "  <thead>\n",
       "    <tr style=\"text-align: right;\">\n",
       "      <th></th>\n",
       "      <th>model</th>\n",
       "      <th>year</th>\n",
       "      <th>price</th>\n",
       "      <th>transmission</th>\n",
       "      <th>mileage</th>\n",
       "      <th>fuelType</th>\n",
       "      <th>tax</th>\n",
       "      <th>mpg</th>\n",
       "      <th>engineSize</th>\n",
       "    </tr>\n",
       "  </thead>\n",
       "  <tbody>\n",
       "    <tr>\n",
       "      <th>0</th>\n",
       "      <td>Corsa</td>\n",
       "      <td>2018</td>\n",
       "      <td>7885</td>\n",
       "      <td>Manual</td>\n",
       "      <td>9876</td>\n",
       "      <td>Petrol</td>\n",
       "      <td>145</td>\n",
       "      <td>55.4</td>\n",
       "      <td>1.4</td>\n",
       "    </tr>\n",
       "    <tr>\n",
       "      <th>1</th>\n",
       "      <td>Corsa</td>\n",
       "      <td>2019</td>\n",
       "      <td>11995</td>\n",
       "      <td>Manual</td>\n",
       "      <td>2500</td>\n",
       "      <td>Petrol</td>\n",
       "      <td>145</td>\n",
       "      <td>54.3</td>\n",
       "      <td>1.4</td>\n",
       "    </tr>\n",
       "    <tr>\n",
       "      <th>2</th>\n",
       "      <td>Corsa</td>\n",
       "      <td>2017</td>\n",
       "      <td>9777</td>\n",
       "      <td>Automatic</td>\n",
       "      <td>9625</td>\n",
       "      <td>Petrol</td>\n",
       "      <td>145</td>\n",
       "      <td>47.9</td>\n",
       "      <td>1.4</td>\n",
       "    </tr>\n",
       "    <tr>\n",
       "      <th>3</th>\n",
       "      <td>Corsa</td>\n",
       "      <td>2016</td>\n",
       "      <td>8500</td>\n",
       "      <td>Manual</td>\n",
       "      <td>25796</td>\n",
       "      <td>Petrol</td>\n",
       "      <td>30</td>\n",
       "      <td>55.4</td>\n",
       "      <td>1.4</td>\n",
       "    </tr>\n",
       "    <tr>\n",
       "      <th>4</th>\n",
       "      <td>Corsa</td>\n",
       "      <td>2019</td>\n",
       "      <td>10000</td>\n",
       "      <td>Manual</td>\n",
       "      <td>3887</td>\n",
       "      <td>Petrol</td>\n",
       "      <td>145</td>\n",
       "      <td>43.5</td>\n",
       "      <td>1.4</td>\n",
       "    </tr>\n",
       "  </tbody>\n",
       "</table>\n",
       "</div>"
      ],
      "text/plain": [
       "    model  year  price transmission  mileage fuelType  tax   mpg  engineSize\n",
       "0   Corsa  2018   7885       Manual     9876   Petrol  145  55.4         1.4\n",
       "1   Corsa  2019  11995       Manual     2500   Petrol  145  54.3         1.4\n",
       "2   Corsa  2017   9777    Automatic     9625   Petrol  145  47.9         1.4\n",
       "3   Corsa  2016   8500       Manual    25796   Petrol   30  55.4         1.4\n",
       "4   Corsa  2019  10000       Manual     3887   Petrol  145  43.5         1.4"
      ]
     },
     "execution_count": 43,
     "metadata": {},
     "output_type": "execute_result"
    }
   ],
   "source": [
    "vauxhall.head()"
   ]
  },
  {
   "cell_type": "code",
   "execution_count": 44,
   "id": "083fb4c0-9d6b-494b-be0f-ff4b2aeaf45a",
   "metadata": {},
   "outputs": [
    {
     "data": {
      "text/html": [
       "<div>\n",
       "<style scoped>\n",
       "    .dataframe tbody tr th:only-of-type {\n",
       "        vertical-align: middle;\n",
       "    }\n",
       "\n",
       "    .dataframe tbody tr th {\n",
       "        vertical-align: top;\n",
       "    }\n",
       "\n",
       "    .dataframe thead th {\n",
       "        text-align: right;\n",
       "    }\n",
       "</style>\n",
       "<table border=\"1\" class=\"dataframe\">\n",
       "  <thead>\n",
       "    <tr style=\"text-align: right;\">\n",
       "      <th></th>\n",
       "      <th>model</th>\n",
       "      <th>year</th>\n",
       "      <th>price</th>\n",
       "      <th>transmission</th>\n",
       "      <th>mileage</th>\n",
       "      <th>fuelType</th>\n",
       "      <th>tax</th>\n",
       "      <th>mpg</th>\n",
       "      <th>engineSize</th>\n",
       "    </tr>\n",
       "  </thead>\n",
       "  <tbody>\n",
       "    <tr>\n",
       "      <th>0</th>\n",
       "      <td>T-Roc</td>\n",
       "      <td>2019</td>\n",
       "      <td>25000</td>\n",
       "      <td>Automatic</td>\n",
       "      <td>13904</td>\n",
       "      <td>Diesel</td>\n",
       "      <td>145</td>\n",
       "      <td>49.6</td>\n",
       "      <td>2.0</td>\n",
       "    </tr>\n",
       "    <tr>\n",
       "      <th>1</th>\n",
       "      <td>T-Roc</td>\n",
       "      <td>2019</td>\n",
       "      <td>26883</td>\n",
       "      <td>Automatic</td>\n",
       "      <td>4562</td>\n",
       "      <td>Diesel</td>\n",
       "      <td>145</td>\n",
       "      <td>49.6</td>\n",
       "      <td>2.0</td>\n",
       "    </tr>\n",
       "    <tr>\n",
       "      <th>2</th>\n",
       "      <td>T-Roc</td>\n",
       "      <td>2019</td>\n",
       "      <td>20000</td>\n",
       "      <td>Manual</td>\n",
       "      <td>7414</td>\n",
       "      <td>Diesel</td>\n",
       "      <td>145</td>\n",
       "      <td>50.4</td>\n",
       "      <td>2.0</td>\n",
       "    </tr>\n",
       "    <tr>\n",
       "      <th>3</th>\n",
       "      <td>T-Roc</td>\n",
       "      <td>2019</td>\n",
       "      <td>33492</td>\n",
       "      <td>Automatic</td>\n",
       "      <td>4825</td>\n",
       "      <td>Petrol</td>\n",
       "      <td>145</td>\n",
       "      <td>32.5</td>\n",
       "      <td>2.0</td>\n",
       "    </tr>\n",
       "    <tr>\n",
       "      <th>4</th>\n",
       "      <td>T-Roc</td>\n",
       "      <td>2019</td>\n",
       "      <td>22900</td>\n",
       "      <td>Semi-Auto</td>\n",
       "      <td>6500</td>\n",
       "      <td>Petrol</td>\n",
       "      <td>150</td>\n",
       "      <td>39.8</td>\n",
       "      <td>1.5</td>\n",
       "    </tr>\n",
       "  </tbody>\n",
       "</table>\n",
       "</div>"
      ],
      "text/plain": [
       "    model  year  price transmission  mileage fuelType  tax   mpg  engineSize\n",
       "0   T-Roc  2019  25000    Automatic    13904   Diesel  145  49.6         2.0\n",
       "1   T-Roc  2019  26883    Automatic     4562   Diesel  145  49.6         2.0\n",
       "2   T-Roc  2019  20000       Manual     7414   Diesel  145  50.4         2.0\n",
       "3   T-Roc  2019  33492    Automatic     4825   Petrol  145  32.5         2.0\n",
       "4   T-Roc  2019  22900    Semi-Auto     6500   Petrol  150  39.8         1.5"
      ]
     },
     "execution_count": 44,
     "metadata": {},
     "output_type": "execute_result"
    }
   ],
   "source": [
    "vw.head()"
   ]
  },
  {
   "cell_type": "markdown",
   "id": "e177367f-f914-4aa0-8819-f118f45ed7b2",
   "metadata": {},
   "source": [
    "Выбираем случайным образом строки из датафреймов с автомобилями c помощью random.permutation:"
   ]
  },
  {
   "cell_type": "code",
   "execution_count": 45,
   "id": "32a63f61-baf3-4f97-a65a-a1288d7223a6",
   "metadata": {},
   "outputs": [],
   "source": [
    "audi = audi.take(np.random.permutation(len(audi))[:2000])\n",
    "bmw = bmw.take(np.random.permutation(len(bmw))[:2000])\n",
    "cclass = cclass.take(np.random.permutation(len(cclass))[:2000])\n",
    "focus = focus.take(np.random.permutation(len(focus))[:2000])\n",
    "ford = ford.take(np.random.permutation(len(ford))[:2000])\n",
    "hyundi = hyundi.take(np.random.permutation(len(hyundi))[:2000])\n",
    "merc = merc.take(np.random.permutation(len(merc))[:2000])\n",
    "skoda = skoda.take(np.random.permutation(len(skoda))[:2000])\n",
    "toyota = toyota.take(np.random.permutation(len(toyota))[:2000])\n",
    "vauxhall = vauxhall.take(np.random.permutation(len(vauxhall))[:2000])\n",
    "vw = vw.take(np.random.permutation(len(vw))[:2000])"
   ]
  },
  {
   "cell_type": "markdown",
   "id": "4ca5d656-fed4-4dd7-a588-3c8e64e887d6",
   "metadata": {},
   "source": [
    "Формируем объединенный датафрейм по всем авто:"
   ]
  },
  {
   "cell_type": "code",
   "execution_count": 46,
   "id": "0875d1c5-f2bc-45e2-8071-3c3df4e66b71",
   "metadata": {},
   "outputs": [
    {
     "data": {
      "text/html": [
       "<div>\n",
       "<style scoped>\n",
       "    .dataframe tbody tr th:only-of-type {\n",
       "        vertical-align: middle;\n",
       "    }\n",
       "\n",
       "    .dataframe tbody tr th {\n",
       "        vertical-align: top;\n",
       "    }\n",
       "\n",
       "    .dataframe thead th {\n",
       "        text-align: right;\n",
       "    }\n",
       "</style>\n",
       "<table border=\"1\" class=\"dataframe\">\n",
       "  <thead>\n",
       "    <tr style=\"text-align: right;\">\n",
       "      <th></th>\n",
       "      <th>model</th>\n",
       "      <th>year</th>\n",
       "      <th>price</th>\n",
       "      <th>transmission</th>\n",
       "      <th>mileage</th>\n",
       "      <th>fuelType</th>\n",
       "      <th>tax</th>\n",
       "      <th>mpg</th>\n",
       "      <th>engineSize</th>\n",
       "      <th>tax(£)</th>\n",
       "    </tr>\n",
       "  </thead>\n",
       "  <tbody>\n",
       "    <tr>\n",
       "      <th>9056</th>\n",
       "      <td>A6</td>\n",
       "      <td>2016</td>\n",
       "      <td>15486</td>\n",
       "      <td>Automatic</td>\n",
       "      <td>32657</td>\n",
       "      <td>Diesel</td>\n",
       "      <td>125.0</td>\n",
       "      <td>56.5</td>\n",
       "      <td>3.0</td>\n",
       "      <td>NaN</td>\n",
       "    </tr>\n",
       "    <tr>\n",
       "      <th>848</th>\n",
       "      <td>A5</td>\n",
       "      <td>2015</td>\n",
       "      <td>17498</td>\n",
       "      <td>Semi-Auto</td>\n",
       "      <td>35903</td>\n",
       "      <td>Diesel</td>\n",
       "      <td>145.0</td>\n",
       "      <td>56.5</td>\n",
       "      <td>2.0</td>\n",
       "      <td>NaN</td>\n",
       "    </tr>\n",
       "    <tr>\n",
       "      <th>6409</th>\n",
       "      <td>A6</td>\n",
       "      <td>2016</td>\n",
       "      <td>16666</td>\n",
       "      <td>Semi-Auto</td>\n",
       "      <td>56900</td>\n",
       "      <td>Diesel</td>\n",
       "      <td>145.0</td>\n",
       "      <td>56.5</td>\n",
       "      <td>2.0</td>\n",
       "      <td>NaN</td>\n",
       "    </tr>\n",
       "    <tr>\n",
       "      <th>5678</th>\n",
       "      <td>A4</td>\n",
       "      <td>2016</td>\n",
       "      <td>15489</td>\n",
       "      <td>Semi-Auto</td>\n",
       "      <td>54697</td>\n",
       "      <td>Diesel</td>\n",
       "      <td>30.0</td>\n",
       "      <td>65.7</td>\n",
       "      <td>2.0</td>\n",
       "      <td>NaN</td>\n",
       "    </tr>\n",
       "    <tr>\n",
       "      <th>9646</th>\n",
       "      <td>Q3</td>\n",
       "      <td>2017</td>\n",
       "      <td>18450</td>\n",
       "      <td>Manual</td>\n",
       "      <td>39087</td>\n",
       "      <td>Diesel</td>\n",
       "      <td>145.0</td>\n",
       "      <td>56.5</td>\n",
       "      <td>2.0</td>\n",
       "      <td>NaN</td>\n",
       "    </tr>\n",
       "    <tr>\n",
       "      <th>...</th>\n",
       "      <td>...</td>\n",
       "      <td>...</td>\n",
       "      <td>...</td>\n",
       "      <td>...</td>\n",
       "      <td>...</td>\n",
       "      <td>...</td>\n",
       "      <td>...</td>\n",
       "      <td>...</td>\n",
       "      <td>...</td>\n",
       "      <td>...</td>\n",
       "    </tr>\n",
       "    <tr>\n",
       "      <th>1785</th>\n",
       "      <td>Golf</td>\n",
       "      <td>2015</td>\n",
       "      <td>13500</td>\n",
       "      <td>Manual</td>\n",
       "      <td>56766</td>\n",
       "      <td>Diesel</td>\n",
       "      <td>20.0</td>\n",
       "      <td>67.3</td>\n",
       "      <td>2.0</td>\n",
       "      <td>NaN</td>\n",
       "    </tr>\n",
       "    <tr>\n",
       "      <th>431</th>\n",
       "      <td>T-Roc</td>\n",
       "      <td>2019</td>\n",
       "      <td>18790</td>\n",
       "      <td>Manual</td>\n",
       "      <td>3803</td>\n",
       "      <td>Petrol</td>\n",
       "      <td>150.0</td>\n",
       "      <td>44.1</td>\n",
       "      <td>1.0</td>\n",
       "      <td>NaN</td>\n",
       "    </tr>\n",
       "    <tr>\n",
       "      <th>14999</th>\n",
       "      <td>Jetta</td>\n",
       "      <td>2015</td>\n",
       "      <td>8000</td>\n",
       "      <td>Manual</td>\n",
       "      <td>42048</td>\n",
       "      <td>Diesel</td>\n",
       "      <td>20.0</td>\n",
       "      <td>67.3</td>\n",
       "      <td>2.0</td>\n",
       "      <td>NaN</td>\n",
       "    </tr>\n",
       "    <tr>\n",
       "      <th>13840</th>\n",
       "      <td>Touareg</td>\n",
       "      <td>2016</td>\n",
       "      <td>20000</td>\n",
       "      <td>Automatic</td>\n",
       "      <td>45408</td>\n",
       "      <td>Diesel</td>\n",
       "      <td>240.0</td>\n",
       "      <td>42.8</td>\n",
       "      <td>3.0</td>\n",
       "      <td>NaN</td>\n",
       "    </tr>\n",
       "    <tr>\n",
       "      <th>8027</th>\n",
       "      <td>Polo</td>\n",
       "      <td>2015</td>\n",
       "      <td>8151</td>\n",
       "      <td>Manual</td>\n",
       "      <td>32239</td>\n",
       "      <td>Diesel</td>\n",
       "      <td>0.0</td>\n",
       "      <td>83.1</td>\n",
       "      <td>1.4</td>\n",
       "      <td>NaN</td>\n",
       "    </tr>\n",
       "  </tbody>\n",
       "</table>\n",
       "<p>22000 rows × 10 columns</p>\n",
       "</div>"
      ],
      "text/plain": [
       "          model  year  price transmission  mileage fuelType    tax   mpg  \\\n",
       "9056         A6  2016  15486    Automatic    32657   Diesel  125.0  56.5   \n",
       "848          A5  2015  17498    Semi-Auto    35903   Diesel  145.0  56.5   \n",
       "6409         A6  2016  16666    Semi-Auto    56900   Diesel  145.0  56.5   \n",
       "5678         A4  2016  15489    Semi-Auto    54697   Diesel   30.0  65.7   \n",
       "9646         Q3  2017  18450       Manual    39087   Diesel  145.0  56.5   \n",
       "...         ...   ...    ...          ...      ...      ...    ...   ...   \n",
       "1785       Golf  2015  13500       Manual    56766   Diesel   20.0  67.3   \n",
       "431       T-Roc  2019  18790       Manual     3803   Petrol  150.0  44.1   \n",
       "14999     Jetta  2015   8000       Manual    42048   Diesel   20.0  67.3   \n",
       "13840   Touareg  2016  20000    Automatic    45408   Diesel  240.0  42.8   \n",
       "8027       Polo  2015   8151       Manual    32239   Diesel    0.0  83.1   \n",
       "\n",
       "       engineSize  tax(£)  \n",
       "9056          3.0     NaN  \n",
       "848           2.0     NaN  \n",
       "6409          2.0     NaN  \n",
       "5678          2.0     NaN  \n",
       "9646          2.0     NaN  \n",
       "...           ...     ...  \n",
       "1785          2.0     NaN  \n",
       "431           1.0     NaN  \n",
       "14999         2.0     NaN  \n",
       "13840         3.0     NaN  \n",
       "8027          1.4     NaN  \n",
       "\n",
       "[22000 rows x 10 columns]"
      ]
     },
     "execution_count": 46,
     "metadata": {},
     "output_type": "execute_result"
    }
   ],
   "source": [
    "unitedf = pd.concat([audi, bmw, cclass, focus, ford, hyundi, merc, skoda, toyota, vauxhall, vw])\n",
    "unitedf"
   ]
  },
  {
   "cell_type": "code",
   "execution_count": 47,
   "id": "ddff7541-a693-4c8f-84f5-9ca24d949e10",
   "metadata": {},
   "outputs": [],
   "source": [
    "unitedf = unitedf.drop('tax(£)', 1)"
   ]
  },
  {
   "cell_type": "code",
   "execution_count": 48,
   "id": "983cb931-c6d7-4f45-bf64-c1bc608a114b",
   "metadata": {},
   "outputs": [],
   "source": [
    "unitedf = unitedf.fillna(0.0)"
   ]
  },
  {
   "cell_type": "code",
   "execution_count": 49,
   "id": "19339da8-f9de-42fb-a82e-5570a2f625e3",
   "metadata": {},
   "outputs": [
    {
     "data": {
      "text/html": [
       "<div>\n",
       "<style scoped>\n",
       "    .dataframe tbody tr th:only-of-type {\n",
       "        vertical-align: middle;\n",
       "    }\n",
       "\n",
       "    .dataframe tbody tr th {\n",
       "        vertical-align: top;\n",
       "    }\n",
       "\n",
       "    .dataframe thead th {\n",
       "        text-align: right;\n",
       "    }\n",
       "</style>\n",
       "<table border=\"1\" class=\"dataframe\">\n",
       "  <thead>\n",
       "    <tr style=\"text-align: right;\">\n",
       "      <th></th>\n",
       "      <th>1 Series</th>\n",
       "      <th>2 Series</th>\n",
       "      <th>3 Series</th>\n",
       "      <th>4 Series</th>\n",
       "      <th>5 Series</th>\n",
       "      <th>6 Series</th>\n",
       "      <th>7 Series</th>\n",
       "      <th>8 Series</th>\n",
       "      <th>A Class</th>\n",
       "      <th>A1</th>\n",
       "      <th>...</th>\n",
       "      <th>Automatic</th>\n",
       "      <th>Manual</th>\n",
       "      <th>Other</th>\n",
       "      <th>Semi-Auto</th>\n",
       "      <th>Diesel</th>\n",
       "      <th>Electric</th>\n",
       "      <th>Hybrid</th>\n",
       "      <th>Other</th>\n",
       "      <th>Petrol</th>\n",
       "      <th>tax</th>\n",
       "    </tr>\n",
       "  </thead>\n",
       "  <tbody>\n",
       "    <tr>\n",
       "      <th>9056</th>\n",
       "      <td>0</td>\n",
       "      <td>0</td>\n",
       "      <td>0</td>\n",
       "      <td>0</td>\n",
       "      <td>0</td>\n",
       "      <td>0</td>\n",
       "      <td>0</td>\n",
       "      <td>0</td>\n",
       "      <td>0</td>\n",
       "      <td>0</td>\n",
       "      <td>...</td>\n",
       "      <td>1</td>\n",
       "      <td>0</td>\n",
       "      <td>0</td>\n",
       "      <td>0</td>\n",
       "      <td>1</td>\n",
       "      <td>0</td>\n",
       "      <td>0</td>\n",
       "      <td>0</td>\n",
       "      <td>0</td>\n",
       "      <td>125.0</td>\n",
       "    </tr>\n",
       "    <tr>\n",
       "      <th>848</th>\n",
       "      <td>0</td>\n",
       "      <td>0</td>\n",
       "      <td>0</td>\n",
       "      <td>0</td>\n",
       "      <td>0</td>\n",
       "      <td>0</td>\n",
       "      <td>0</td>\n",
       "      <td>0</td>\n",
       "      <td>0</td>\n",
       "      <td>0</td>\n",
       "      <td>...</td>\n",
       "      <td>0</td>\n",
       "      <td>0</td>\n",
       "      <td>0</td>\n",
       "      <td>1</td>\n",
       "      <td>1</td>\n",
       "      <td>0</td>\n",
       "      <td>0</td>\n",
       "      <td>0</td>\n",
       "      <td>0</td>\n",
       "      <td>145.0</td>\n",
       "    </tr>\n",
       "    <tr>\n",
       "      <th>6409</th>\n",
       "      <td>0</td>\n",
       "      <td>0</td>\n",
       "      <td>0</td>\n",
       "      <td>0</td>\n",
       "      <td>0</td>\n",
       "      <td>0</td>\n",
       "      <td>0</td>\n",
       "      <td>0</td>\n",
       "      <td>0</td>\n",
       "      <td>0</td>\n",
       "      <td>...</td>\n",
       "      <td>0</td>\n",
       "      <td>0</td>\n",
       "      <td>0</td>\n",
       "      <td>1</td>\n",
       "      <td>1</td>\n",
       "      <td>0</td>\n",
       "      <td>0</td>\n",
       "      <td>0</td>\n",
       "      <td>0</td>\n",
       "      <td>145.0</td>\n",
       "    </tr>\n",
       "    <tr>\n",
       "      <th>5678</th>\n",
       "      <td>0</td>\n",
       "      <td>0</td>\n",
       "      <td>0</td>\n",
       "      <td>0</td>\n",
       "      <td>0</td>\n",
       "      <td>0</td>\n",
       "      <td>0</td>\n",
       "      <td>0</td>\n",
       "      <td>0</td>\n",
       "      <td>0</td>\n",
       "      <td>...</td>\n",
       "      <td>0</td>\n",
       "      <td>0</td>\n",
       "      <td>0</td>\n",
       "      <td>1</td>\n",
       "      <td>1</td>\n",
       "      <td>0</td>\n",
       "      <td>0</td>\n",
       "      <td>0</td>\n",
       "      <td>0</td>\n",
       "      <td>30.0</td>\n",
       "    </tr>\n",
       "    <tr>\n",
       "      <th>9646</th>\n",
       "      <td>0</td>\n",
       "      <td>0</td>\n",
       "      <td>0</td>\n",
       "      <td>0</td>\n",
       "      <td>0</td>\n",
       "      <td>0</td>\n",
       "      <td>0</td>\n",
       "      <td>0</td>\n",
       "      <td>0</td>\n",
       "      <td>0</td>\n",
       "      <td>...</td>\n",
       "      <td>0</td>\n",
       "      <td>1</td>\n",
       "      <td>0</td>\n",
       "      <td>0</td>\n",
       "      <td>1</td>\n",
       "      <td>0</td>\n",
       "      <td>0</td>\n",
       "      <td>0</td>\n",
       "      <td>0</td>\n",
       "      <td>145.0</td>\n",
       "    </tr>\n",
       "  </tbody>\n",
       "</table>\n",
       "<p>5 rows × 188 columns</p>\n",
       "</div>"
      ],
      "text/plain": [
       "       1 Series   2 Series   3 Series   4 Series   5 Series   6 Series  \\\n",
       "9056          0          0          0          0          0          0   \n",
       "848           0          0          0          0          0          0   \n",
       "6409          0          0          0          0          0          0   \n",
       "5678          0          0          0          0          0          0   \n",
       "9646          0          0          0          0          0          0   \n",
       "\n",
       "       7 Series   8 Series   A Class   A1  ...  Automatic  Manual  Other  \\\n",
       "9056          0          0         0    0  ...          1       0      0   \n",
       "848           0          0         0    0  ...          0       0      0   \n",
       "6409          0          0         0    0  ...          0       0      0   \n",
       "5678          0          0         0    0  ...          0       0      0   \n",
       "9646          0          0         0    0  ...          0       1      0   \n",
       "\n",
       "      Semi-Auto  Diesel  Electric  Hybrid  Other  Petrol    tax  \n",
       "9056          0       1         0       0      0       0  125.0  \n",
       "848           1       1         0       0      0       0  145.0  \n",
       "6409          1       1         0       0      0       0  145.0  \n",
       "5678          1       1         0       0      0       0   30.0  \n",
       "9646          0       1         0       0      0       0  145.0  \n",
       "\n",
       "[5 rows x 188 columns]"
      ]
     },
     "execution_count": 49,
     "metadata": {},
     "output_type": "execute_result"
    }
   ],
   "source": [
    "dfnew = pd.concat([\n",
    "    pd.get_dummies(unitedf['model']),\n",
    "    unitedf['year'],\n",
    "    unitedf['mileage'],\n",
    "    unitedf['engineSize'],\n",
    "    unitedf['mpg'],\n",
    "    pd.get_dummies(unitedf['transmission']), \n",
    "    pd.get_dummies(unitedf['fuelType']), \n",
    "    unitedf['tax']], axis=1)\n",
    "\n",
    "dfnew.head()"
   ]
  },
  {
   "cell_type": "code",
   "execution_count": null,
   "id": "e3f51a7f-dd4d-46c2-8f72-2fe33f387501",
   "metadata": {},
   "outputs": [],
   "source": []
  },
  {
   "cell_type": "markdown",
   "id": "5ee1a5ae-474d-45e3-9daf-0b5c592da077",
   "metadata": {},
   "source": [
    "Формируем наборы данных:"
   ]
  },
  {
   "cell_type": "code",
   "execution_count": 50,
   "id": "16dcbc6c-0774-4773-826a-df3adf4f8082",
   "metadata": {},
   "outputs": [],
   "source": [
    "x = dfnew.values\n",
    "y = unitedf.price.values\n",
    "x_train_united, x_test_united, y_train_united, y_test_united = train_test_split(x, y)"
   ]
  },
  {
   "cell_type": "markdown",
   "id": "d4cb22d2-085d-4028-80bc-d1e6f0e80dfd",
   "metadata": {},
   "source": [
    "Применяем модель RandomForestRegressor и оценим качество модели:"
   ]
  },
  {
   "cell_type": "code",
   "execution_count": 51,
   "id": "a0de3e2e-aff9-417f-a549-1f41b4199ec9",
   "metadata": {},
   "outputs": [],
   "source": [
    "rf_1 = RandomForestRegressor()\n",
    "rf_1.fit(x_train_united, y_train_united)\n",
    "y_pred_united = rf_1.predict(x_test_united)\n",
    "r2_rf = r2_score(y_test_united, y_pred_united)"
   ]
  },
  {
   "cell_type": "code",
   "execution_count": 52,
   "id": "9a2f9dbc-bab2-47cb-bbb0-04a8b33ce209",
   "metadata": {},
   "outputs": [
    {
     "name": "stdout",
     "output_type": "stream",
     "text": [
      "Качество модели RandomForest по r2_score составляет: 93.35382152664293 %\n"
     ]
    }
   ],
   "source": [
    "print('Качество модели RandomForest по r2_score составляет:', r2_rf*100, '%')"
   ]
  },
  {
   "cell_type": "markdown",
   "id": "173b4a83-7839-4e87-95bd-9f4e9be82912",
   "metadata": {},
   "source": [
    "Проведем подбор гиперпараметров для RandomForestRegressor с помощью RandomizedSearchCV:"
   ]
  },
  {
   "cell_type": "code",
   "execution_count": 53,
   "id": "705d3c65-717f-43d2-8e58-4e2baa89d482",
   "metadata": {},
   "outputs": [],
   "source": [
    "params1 = {\n",
    "    'n_estimators': [2, 5, 7],\n",
    "    'min_samples_split': [2, 3],\n",
    "    'max_depth': [2, 8, 10]\n",
    "}"
   ]
  },
  {
   "cell_type": "code",
   "execution_count": 54,
   "id": "c42b1b97-a6ae-4650-81ac-fb66eae88012",
   "metadata": {},
   "outputs": [
    {
     "data": {
      "text/plain": [
       "RandomForestRegressor(max_depth=10, min_samples_split=3, n_estimators=7)"
      ]
     },
     "execution_count": 54,
     "metadata": {},
     "output_type": "execute_result"
    }
   ],
   "source": [
    "search = RandomizedSearchCV(RandomForestRegressor(), params1)\n",
    "search.fit(x_train_united, y_train_united)\n",
    "search.best_estimator_"
   ]
  },
  {
   "cell_type": "code",
   "execution_count": 55,
   "id": "12e84c05-3847-4e3c-af20-4267d870ed59",
   "metadata": {},
   "outputs": [],
   "source": [
    "y_pred_united = search.predict(x_test_united)\n",
    "r2_rf_search = r2_score(y_test_united, y_pred_united)"
   ]
  },
  {
   "cell_type": "code",
   "execution_count": 56,
   "id": "3788c0fd-8618-4229-b2c7-5a236462d5c1",
   "metadata": {},
   "outputs": [
    {
     "name": "stdout",
     "output_type": "stream",
     "text": [
      "Качество модели RandomForest по r2_score при подборе параметров составляет: 89.59100425173047 %\n"
     ]
    }
   ],
   "source": [
    "print('Качество модели RandomForest по r2_score при подборе параметров составляет:', r2_rf_search*100, '%')"
   ]
  },
  {
   "cell_type": "code",
   "execution_count": 57,
   "id": "ccec35a6-9926-4ec7-bc8b-82ec498a6cd3",
   "metadata": {},
   "outputs": [
    {
     "name": "stdout",
     "output_type": "stream",
     "text": [
      "Вывод\n",
      "Качество (точность) модели RandomForest при подборе гиперпараметров улучшилось и составило по r2_score = 89.59100425173047 %\n"
     ]
    }
   ],
   "source": [
    "print('Вывод')\n",
    "if r2_rf_search > r2_rf:\n",
    "    print('Качество (точность) модели RandomForest при подборе параметров не улучшилось и составило по r2_score =', r2_rf_search*100, '%')\n",
    "else:\n",
    "    print('Качество (точность) модели RandomForest при подборе гиперпараметров улучшилось и составило по r2_score =', r2_rf_search*100, '%')"
   ]
  },
  {
   "cell_type": "code",
   "execution_count": null,
   "id": "0dcefbf6-d02d-4d87-bd55-abe4dea97ad5",
   "metadata": {},
   "outputs": [],
   "source": []
  },
  {
   "cell_type": "markdown",
   "id": "d564ddd3-6aa1-4464-993a-2410798934bc",
   "metadata": {},
   "source": [
    "Модель линейной регрессии:"
   ]
  },
  {
   "cell_type": "code",
   "execution_count": 58,
   "id": "d566f021-53d9-4580-b350-774249051196",
   "metadata": {},
   "outputs": [],
   "source": [
    "lr_1 = LinearRegression()\n",
    "lr_1.fit(x_train_united, y_train_united)\n",
    "y_pred_united = lr_1.predict(x_test_united)\n",
    "r2_lr_1 = r2_score(y_test_united, y_pred_united)"
   ]
  },
  {
   "cell_type": "code",
   "execution_count": 59,
   "id": "056c8c6f-73f4-4cda-b71d-b2e79768bf14",
   "metadata": {
    "tags": []
   },
   "outputs": [
    {
     "name": "stdout",
     "output_type": "stream",
     "text": [
      "Качество модели LinearRegression по r2_score составляет: 86.12543893719369 %\n"
     ]
    }
   ],
   "source": [
    "print('Качество модели LinearRegression по r2_score составляет:', r2_lr_1*100, '%')"
   ]
  },
  {
   "cell_type": "code",
   "execution_count": null,
   "id": "6331c025-8c0e-4c46-9ad0-ae346a685df0",
   "metadata": {},
   "outputs": [],
   "source": []
  },
  {
   "cell_type": "code",
   "execution_count": 60,
   "id": "8db08571-1169-4951-bfed-f7c104c268cb",
   "metadata": {},
   "outputs": [
    {
     "name": "stdout",
     "output_type": "stream",
     "text": [
      "Модель SGDRegressor:\n",
      "Качество модели SGDRegressor со стандартными параметрами по r2_score составляет:  -2.245715985511577e+28 %\n",
      "Такое может быть, если модель отработала хуже, чем среднее\n"
     ]
    }
   ],
   "source": [
    "print('Модель SGDRegressor:')\n",
    "lr_SGD_1 = SGDRegressor()\n",
    "lr_SGD_1.fit(x_train_united, y_train_united)\n",
    "y_pred_united = lr_SGD_1.predict(x_test_united)\n",
    "r2_lr_SGD_1 = r2_score(y_test_united, y_pred_united)\n",
    "r2_lr_SGD_1\n",
    "print('Качество модели SGDRegressor со стандартными параметрами по r2_score составляет: ', r2_lr_SGD_1*100, '%')\n",
    "print('Такое может быть, если модель отработала хуже, чем среднее')"
   ]
  },
  {
   "cell_type": "code",
   "execution_count": null,
   "id": "590dcc22-17ae-4db3-895a-82683159f975",
   "metadata": {},
   "outputs": [],
   "source": []
  },
  {
   "cell_type": "code",
   "execution_count": null,
   "id": "370a7681-0527-4e59-8254-4f9d12e6c902",
   "metadata": {},
   "outputs": [],
   "source": []
  },
  {
   "cell_type": "markdown",
   "id": "733d5fb6-0f50-4e82-8959-277395762a05",
   "metadata": {},
   "source": [
    "Проведем подбор гиперпараметров для SGDRegressor с помощью RandomizedSearchCV:"
   ]
  },
  {
   "cell_type": "code",
   "execution_count": 61,
   "id": "4464c3f8-47c0-4b43-be9d-1892342d0383",
   "metadata": {},
   "outputs": [],
   "source": [
    "params2 = {\n",
    "    'fit_intercept': [2, 5, 7],\n",
    "    'alpha': [0.1, 0.05, 0.5],\n",
    "    'max_iter': [500, 1000, 1200]\n",
    "   }"
   ]
  },
  {
   "cell_type": "code",
   "execution_count": 62,
   "id": "a4fe571c-992a-4ff7-a1a7-fa200f8b4f8c",
   "metadata": {
    "tags": []
   },
   "outputs": [
    {
     "data": {
      "text/plain": [
       "SGDRegressor(alpha=0.5, fit_intercept=7, max_iter=500)"
      ]
     },
     "execution_count": 62,
     "metadata": {},
     "output_type": "execute_result"
    }
   ],
   "source": [
    "lr_search = RandomizedSearchCV(SGDRegressor(), params2)\n",
    "lr_search.fit(x_train_united, y_train_united)\n",
    "lr_search.best_estimator_"
   ]
  },
  {
   "cell_type": "markdown",
   "id": "aa8f45f2-bcee-44ad-bb3f-1e3699aad4fc",
   "metadata": {},
   "source": [
    "Оценим качество модели SGDRegressor при подборе параметров:"
   ]
  },
  {
   "cell_type": "code",
   "execution_count": 63,
   "id": "b804fd67-86a8-4792-be23-1b9062318b41",
   "metadata": {},
   "outputs": [
    {
     "name": "stdout",
     "output_type": "stream",
     "text": [
      "Качество модели SGDRegressor при RandomizedSearch составляет:  -3.2368666922949283e+27 %\n"
     ]
    }
   ],
   "source": [
    "y_pred_united = lr_search.best_estimator_.predict(x_test_united)\n",
    "r2_lr_search = r2_score(y_test_united, y_pred_united)\n",
    "print('Качество модели SGDRegressor при RandomizedSearch составляет: ', r2_lr_search*100, '%')"
   ]
  },
  {
   "cell_type": "code",
   "execution_count": 64,
   "id": "ce42f4ee-f880-4aa3-a0b6-1ce94572a4d8",
   "metadata": {},
   "outputs": [
    {
     "name": "stdout",
     "output_type": "stream",
     "text": [
      "Можно сделать вывод:\n"
     ]
    }
   ],
   "source": [
    "print('Можно сделать вывод:')"
   ]
  },
  {
   "cell_type": "code",
   "execution_count": 65,
   "id": "54e63d94-27ec-4590-9213-99028dd589f5",
   "metadata": {},
   "outputs": [],
   "source": [
    "maximum_quality = max(r2_rf, r2_rf_search, r2_lr_1, r2_lr_search, r2_lr_SGD_1)\n",
    "minimum_quality = min(r2_rf, r2_rf_search, r2_lr_1, r2_lr_search, r2_lr_SGD_1)"
   ]
  },
  {
   "cell_type": "code",
   "execution_count": 66,
   "id": "dab0808a-ae39-41f2-a360-410bac1e91e3",
   "metadata": {},
   "outputs": [
    {
     "name": "stdout",
     "output_type": "stream",
     "text": [
      "По r2_score при сравнении моделей между собой:\n",
      "Наилучшее качество у модели RandomForestRegressor до подбора гиперпараметров, в %ах составляет: 93.35382152664293\n",
      "Качество (точность) модели RandomForest лучше модели линейной регрессии\n",
      "\n",
      "В отношении наихудшего варианта при сравнении моделей по r2_score между собой:\n",
      "Наихудшее качество у модели SGDRegressor до подбора гиперпараметров, в %ах составляет: -2.245715985511577e+28\n"
     ]
    }
   ],
   "source": [
    "print('По r2_score при сравнении моделей между собой:')\n",
    "if maximum_quality == r2_rf:\n",
    "    print('Наилучшее качество у модели RandomForestRegressor до подбора гиперпараметров, в %ах составляет:', r2_rf*100)\n",
    "    print('Качество (точность) модели RandomForest лучше модели линейной регрессии')\n",
    "elif maximum_quality == r2_rf_search:\n",
    "    print('Наилучшее качество у модели RandomForestRegressor с подбором гиперпараметров, в %ах составляет:', r2_rf_search*100)\n",
    "    print('Качество (точность) модели RandomForest лучше модели линейной регрессии')\n",
    "elif maximum_quality == r2_lr_1:\n",
    "    print('Наилучшее качество у модели LinearRegression, в %ах составляет:', r2_lr_1*100)\n",
    "    print('Качество (точность) модели линейной регрессии лучше модели RandomForest')\n",
    "elif maximum_quality == r2_lr_SGD_1:\n",
    "    print('Наилучшее качество у модели SGDRegressor, в %ах составляет:', r2_lr_SGD_1*100)\n",
    "    print('Качество (точность) модели SGDRegressor лучше модели RandomForest')\n",
    "else:\n",
    "    print('Наилучшее качество у модели SGDRegressor с подбором гиперпараметров, в %ах составляет:', r2_lr_search*100)\n",
    "    print('Качество (точность) модели SGDRegressor лучше модели RandomForest')\n",
    "print('')\n",
    "print('В отношении наихудшего варианта при сравнении моделей по r2_score между собой:') \n",
    "if minimum_quality == r2_rf:\n",
    "    print('Наихудшее качество у модели RandomForestRegressor до подбора гиперпараметров, в %ах составляет:', r2_rf*100)\n",
    "elif minimum_quality == r2_rf_search:\n",
    "    print('Наихудшее качество у модели RandomForestRegressor с подбором гиперпараметров, в %ах составляет:', r2_rf_search*100)\n",
    "elif minimum_quality == r2_lr_1:\n",
    "    print('Наихудшее качество у модели LinearRegression, в %ах составляет:', r2_lr_1*100)\n",
    "elif minimum_quality == r2_lr_SGD_1:\n",
    "    print('Наихудшее качество у модели SGDRegressor до подбора гиперпараметров, в %ах составляет:', r2_lr_SGD_1*100)\n",
    "else:\n",
    "    print('Наихудшее качество у модели SGDRegressor с подбором гиперпараметров, в %ах составляет:', r2_lr_search*100)"
   ]
  },
  {
   "cell_type": "code",
   "execution_count": null,
   "id": "4f86a4ff-52b3-4618-87ad-01ced8b0dbb7",
   "metadata": {},
   "outputs": [],
   "source": []
  },
  {
   "cell_type": "code",
   "execution_count": 67,
   "id": "a76fc52e-9b90-40d2-9540-676cc48c691e",
   "metadata": {
    "tags": []
   },
   "outputs": [
    {
     "name": "stdout",
     "output_type": "stream",
     "text": [
      "Сравним по кросс-валидации:\n",
      "для модели линейной регрессии:\n",
      "mean составляет:  -184104136.52701735  std составляет: 368188124.96918964\n",
      "Среднее по кросс-валидации в модели: -18410413652.701736 %\n"
     ]
    }
   ],
   "source": [
    "print('Сравним по кросс-валидации:')\n",
    "print ('для модели линейной регрессии:')\n",
    "cross_val_score_lr_1 = cross_val_score(lr_1, x_train_united, y_train_united)\n",
    "print(\"mean составляет: \", cross_val_score_lr_1.mean(), \" std составляет:\", cross_val_score_lr_1.std())\n",
    "lr_result_1 = cross_val_score(lr_1, x_train_united, y_train_united).mean()\n",
    "print('Среднее по кросс-валидации в модели:', lr_result_1*100,'%')"
   ]
  },
  {
   "cell_type": "code",
   "execution_count": 68,
   "id": "1c268a78-fab2-4bc8-a251-95d475aeb5da",
   "metadata": {},
   "outputs": [
    {
     "name": "stdout",
     "output_type": "stream",
     "text": [
      "для модели SGDRegressor до подбора гиперпараметров:\n",
      "mean составляет:  -4.798521797482804e+26  std составляет: 7.663071005014569e+26\n",
      "Среднее по кросс-валидации в модели: -8.317335712883902e+27 %\n"
     ]
    }
   ],
   "source": [
    "print ('для модели SGDRegressor до подбора гиперпараметров:')\n",
    "cross_val_score_lr_SGD = cross_val_score(lr_SGD_1, x_train_united, y_train_united)\n",
    "print(\"mean составляет: \", cross_val_score_lr_SGD.mean(), \" std составляет:\", cross_val_score_lr_SGD.std())\n",
    "lr_result_2_SGD = cross_val_score(lr_SGD_1, x_train_united, y_train_united).mean()\n",
    "print('Среднее по кросс-валидации в модели:', lr_result_2_SGD*100,'%')"
   ]
  },
  {
   "cell_type": "code",
   "execution_count": 69,
   "id": "6d71f0f4-5e9e-4354-952a-a32001007d86",
   "metadata": {},
   "outputs": [
    {
     "name": "stdout",
     "output_type": "stream",
     "text": [
      "для модели SGDRegressor с подбором гиперпараметров:\n",
      "mean составляет:  -6.653625131950244e+26  std составляет: 5.193813504565807e+26\n",
      "Среднее по кросс-валидации в модели: -1.237148549972166e+28 %\n"
     ]
    }
   ],
   "source": [
    "print ('для модели SGDRegressor с подбором гиперпараметров:')\n",
    "cross_val_score_lr_2 = cross_val_score(lr_search, x_train_united, y_train_united)\n",
    "print(\"mean составляет: \", cross_val_score_lr_2.mean(), \" std составляет:\", cross_val_score_lr_2.std())\n",
    "lr_result_2 = cross_val_score(lr_search, x_train_united, y_train_united).mean()\n",
    "print('Среднее по кросс-валидации в модели:', lr_result_2*100,'%')"
   ]
  },
  {
   "cell_type": "code",
   "execution_count": 70,
   "id": "8419db2c-68a3-4659-8489-51d86d534cb4",
   "metadata": {},
   "outputs": [
    {
     "name": "stdout",
     "output_type": "stream",
     "text": [
      "для модели случайного леса:\n",
      "mean составляет:  0.9161723485992322  std составляет: 0.015084374964551839\n",
      "Среднее по кросс-валидации в модели: 91.55481852241776 %\n"
     ]
    }
   ],
   "source": [
    "print ('для модели случайного леса:')\n",
    "cross_val_score_rf_1 = cross_val_score(rf_1, x_train_united, y_train_united)\n",
    "print(\"mean составляет: \", cross_val_score_rf_1.mean(), \" std составляет:\", cross_val_score_rf_1.std())\n",
    "rf_result_1 = cross_val_score(rf_1, x_train_united, y_train_united).mean()\n",
    "print('Среднее по кросс-валидации в модели:', rf_result_1*100,'%')"
   ]
  },
  {
   "cell_type": "code",
   "execution_count": 71,
   "id": "6cc72371-42ba-45b5-80c6-5795c6099967",
   "metadata": {},
   "outputs": [
    {
     "name": "stdout",
     "output_type": "stream",
     "text": [
      "для модели случайного леса с подбором гиперпараметров:\n",
      "mean составляет:  0.8795275752556728  std составляет: 0.013917958600984076\n",
      "Среднее по кросс-валидации в модели: 88.41365665817925 %\n"
     ]
    }
   ],
   "source": [
    "print ('для модели случайного леса с подбором гиперпараметров:')\n",
    "cross_val_score_rf_2 = cross_val_score(search, x_train_united, y_train_united)\n",
    "print(\"mean составляет: \", cross_val_score_rf_2.mean(), \" std составляет:\", cross_val_score_rf_2.std())\n",
    "rf_result_2 = cross_val_score(search, x_train_united, y_train_united).mean()\n",
    "print('Среднее по кросс-валидации в модели:', rf_result_2*100,'%')"
   ]
  },
  {
   "cell_type": "code",
   "execution_count": 72,
   "id": "0a68a642-2fab-40f0-b33c-9df98cfb8d64",
   "metadata": {},
   "outputs": [],
   "source": [
    "maximum_quality_cv = max(lr_result_1, lr_result_2, rf_result_1, rf_result_2, lr_result_2_SGD)\n",
    "minimum_quality_cv = min(lr_result_1, lr_result_2, rf_result_1, rf_result_2, lr_result_2_SGD)"
   ]
  },
  {
   "cell_type": "code",
   "execution_count": 73,
   "id": "f6c8852f-79c4-4822-a80e-271a9f434d63",
   "metadata": {},
   "outputs": [
    {
     "name": "stdout",
     "output_type": "stream",
     "text": [
      "По кросс-валидации при сравнении моделей между собой:\n",
      "Наилучшее качество у модели RandomForestRegressor до подбора гиперпараметров, в %ах составляет: 91.55481852241776\n",
      "\n",
      "В отношении наихудшего варианта при сравнении моделей по кросс-валидации между собой:\n",
      "Наихудшее качество у модели SGDRegressor с подбором гиперпараметров, в %ах составляет: -1.237148549972166e+28\n"
     ]
    }
   ],
   "source": [
    "print('По кросс-валидации при сравнении моделей между собой:')\n",
    "if maximum_quality_cv == rf_result_1:\n",
    "    print('Наилучшее качество у модели RandomForestRegressor до подбора гиперпараметров, в %ах составляет:', rf_result_1*100)\n",
    "elif maximum_quality_cv == rf_result_2:\n",
    "    print('Наилучшее качество у модели RandomForestRegressor с подбором гиперпараметров, в %ах составляет:', rf_result_2*100)\n",
    "elif maximum_quality_cv == lr_result_1:\n",
    "    print('Наилучшее качество у модели LinearRegression, в %ах составляет:', lr_result_1*100)\n",
    "elif maximum_quality_cv == lr_result_2_SGD:\n",
    "    print('Наилучшее качество у модели SGDRegressor до подбора гиперпараметров, в %ах составляет:', lr_result_2_SGD*100)\n",
    "else:\n",
    "    print('Наилучшее качество у модели SGDRegressor с подбором гиперпараметров, в %ах составляет:', lr_result_2*100)\n",
    "print('')\n",
    "print('В отношении наихудшего варианта при сравнении моделей по кросс-валидации между собой:') \n",
    "if minimum_quality_cv == rf_result_1:\n",
    "    print('Наихудшее качество у модели RandomForestRegressor до подбора гиперпараметров, в %ах составляет:', rf_result_1*100)\n",
    "elif minimum_quality_cv == rf_result_2:\n",
    "    print('Наихудшее качество у модели RandomForestRegressor с подбором гиперпараметров, в %ах составляет:', rf_result_2*100)\n",
    "elif minimum_quality_cv == lr_result_1:\n",
    "    print('Наихудшее качество у модели LinearRegression, в %ах составляет:', lr_result_1*100)\n",
    "elif minimum_quality_cv == lr_result_2_SGD:\n",
    "    print('Наихудшее качество у модели SGDRegressor до подбора гиперпараметров, в %ах составляет:', lr_result_2_SGD*100)\n",
    "else:\n",
    "    print('Наихудшее качество у модели SGDRegressor с подбором гиперпараметров, в %ах составляет:', lr_result_2*100)"
   ]
  },
  {
   "cell_type": "code",
   "execution_count": null,
   "id": "ed7737ab-5a5f-42d9-b02d-0d43cc106d00",
   "metadata": {},
   "outputs": [],
   "source": []
  },
  {
   "cell_type": "code",
   "execution_count": null,
   "id": "770decf3-2afa-442a-9521-d0cdaa9f266a",
   "metadata": {},
   "outputs": [],
   "source": []
  }
 ],
 "metadata": {
  "kernelspec": {
   "display_name": "Python 3",
   "language": "python",
   "name": "python3"
  },
  "language_info": {
   "codemirror_mode": {
    "name": "ipython",
    "version": 3
   },
   "file_extension": ".py",
   "mimetype": "text/x-python",
   "name": "python",
   "nbconvert_exporter": "python",
   "pygments_lexer": "ipython3",
   "version": "3.8.8"
  }
 },
 "nbformat": 4,
 "nbformat_minor": 5
}

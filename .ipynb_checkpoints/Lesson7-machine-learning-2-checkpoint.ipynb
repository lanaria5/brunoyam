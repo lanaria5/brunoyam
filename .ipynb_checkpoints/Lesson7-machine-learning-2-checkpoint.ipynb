{
 "cells": [
  {
   "cell_type": "markdown",
   "id": "e352a138-c91c-415a-9be1-c72675714985",
   "metadata": {},
   "source": [
    "# Домашнее задание №7"
   ]
  },
  {
   "cell_type": "markdown",
   "id": "3c2da888-d3bd-45ed-911c-d90b7a9fe7fb",
   "metadata": {},
   "source": [
    "Домашняя работа\n",
    "Будем работать с датасетом подержанных машин https://www.kaggle.com/adityadesai13/used-car-dataset-ford-and-mercedes.\n",
    "\n",
    "Задача - построить прогноз цены машины по ее данным (год выпуска, пробег, расход, размер двигателя, тип коробки передач и тд).\n",
    "\n",
    "Это задача регрессии, поэтому нужно использовать модели регрессоры, а не классификаторы (например, не StackingClassifier, а StackingRegressor)."
   ]
  },
  {
   "cell_type": "markdown",
   "id": "4d31f162-4f77-4742-a6e7-87a48941e16f",
   "metadata": {},
   "source": [
    "## Easy\n",
    "Взять один файл с маркой машины.\n",
    "\n",
    "Построить прогноз, используя модели линейной регрессии и случайного леса. Сравнить результаты, используя кросс-валидацию. Подобрать гиперпараметры моделей (для линейной регрессии можно использовать реализацию с градиентным спуском SGDRegressor). Оценить качество, используя метрику r2_score. Оценить важность признаков (параметр feature_importance_ у случайного леса).\n",
    "\n",
    "## Решение:\n",
    "\n",
    "Импортируем все необходимое, загружаем/сохраняем информацию с kaggle по автомобилям"
   ]
  },
  {
   "cell_type": "code",
   "execution_count": 1,
   "id": "ac91f12f-38f1-45a8-a1c4-e46f0fc77eb4",
   "metadata": {},
   "outputs": [],
   "source": [
    "import numpy as np\n",
    "import pandas as pd\n",
    "import matplotlib.pyplot as plt\n",
    "import seaborn as sns"
   ]
  },
  {
   "cell_type": "code",
   "execution_count": 2,
   "id": "fba3b6a5-90eb-4ba3-b8d9-6c28df679399",
   "metadata": {},
   "outputs": [],
   "source": [
    "from sklearn.ensemble import RandomForestClassifier, RandomForestRegressor\n",
    "from sklearn.datasets import load_digits\n",
    "from sklearn.metrics import accuracy_score, confusion_matrix, r2_score\n",
    "from sklearn.model_selection import train_test_split, cross_val_score, GridSearchCV, RandomizedSearchCV"
   ]
  },
  {
   "cell_type": "code",
   "execution_count": 3,
   "id": "94849894-4bff-4030-8e6a-655c50fcccaf",
   "metadata": {},
   "outputs": [],
   "source": [
    "from sklearn.linear_model import SGDClassifier, SGDRegressor, LogisticRegression, LinearRegression\n",
    "from sklearn.ensemble import GradientBoostingClassifier, StackingClassifier\n",
    "from sklearn.tree import DecisionTreeClassifier"
   ]
  },
  {
   "cell_type": "markdown",
   "id": "9e6fd721-6098-49c2-9113-4aa0894dde1d",
   "metadata": {},
   "source": [
    "Выбираем марку авто - например skoda:\n",
    "читаем файл, \"присвоим\" вещественным признакам (модель, трансмиссия, тип топлива) коды через get_dummies"
   ]
  },
  {
   "cell_type": "code",
   "execution_count": 4,
   "id": "2c344508-2f26-40ea-9ac9-45b3e78f31b4",
   "metadata": {},
   "outputs": [],
   "source": [
    "skoda = pd.read_csv('./data/archive/skoda.csv')"
   ]
  },
  {
   "cell_type": "code",
   "execution_count": 5,
   "id": "c36da6ce-6d74-4c78-9da3-bda5d5b6df17",
   "metadata": {},
   "outputs": [
    {
     "data": {
      "text/html": [
       "<div>\n",
       "<style scoped>\n",
       "    .dataframe tbody tr th:only-of-type {\n",
       "        vertical-align: middle;\n",
       "    }\n",
       "\n",
       "    .dataframe tbody tr th {\n",
       "        vertical-align: top;\n",
       "    }\n",
       "\n",
       "    .dataframe thead th {\n",
       "        text-align: right;\n",
       "    }\n",
       "</style>\n",
       "<table border=\"1\" class=\"dataframe\">\n",
       "  <thead>\n",
       "    <tr style=\"text-align: right;\">\n",
       "      <th></th>\n",
       "      <th>model</th>\n",
       "      <th>year</th>\n",
       "      <th>price</th>\n",
       "      <th>transmission</th>\n",
       "      <th>mileage</th>\n",
       "      <th>fuelType</th>\n",
       "      <th>tax</th>\n",
       "      <th>mpg</th>\n",
       "      <th>engineSize</th>\n",
       "    </tr>\n",
       "  </thead>\n",
       "  <tbody>\n",
       "    <tr>\n",
       "      <th>0</th>\n",
       "      <td>Octavia</td>\n",
       "      <td>2017</td>\n",
       "      <td>10550</td>\n",
       "      <td>Manual</td>\n",
       "      <td>25250</td>\n",
       "      <td>Petrol</td>\n",
       "      <td>150</td>\n",
       "      <td>54.3</td>\n",
       "      <td>1.4</td>\n",
       "    </tr>\n",
       "    <tr>\n",
       "      <th>1</th>\n",
       "      <td>Citigo</td>\n",
       "      <td>2018</td>\n",
       "      <td>8200</td>\n",
       "      <td>Manual</td>\n",
       "      <td>1264</td>\n",
       "      <td>Petrol</td>\n",
       "      <td>145</td>\n",
       "      <td>67.3</td>\n",
       "      <td>1.0</td>\n",
       "    </tr>\n",
       "    <tr>\n",
       "      <th>2</th>\n",
       "      <td>Octavia</td>\n",
       "      <td>2019</td>\n",
       "      <td>15650</td>\n",
       "      <td>Automatic</td>\n",
       "      <td>6825</td>\n",
       "      <td>Diesel</td>\n",
       "      <td>145</td>\n",
       "      <td>67.3</td>\n",
       "      <td>2.0</td>\n",
       "    </tr>\n",
       "    <tr>\n",
       "      <th>3</th>\n",
       "      <td>Yeti Outdoor</td>\n",
       "      <td>2015</td>\n",
       "      <td>14000</td>\n",
       "      <td>Automatic</td>\n",
       "      <td>28431</td>\n",
       "      <td>Diesel</td>\n",
       "      <td>165</td>\n",
       "      <td>51.4</td>\n",
       "      <td>2.0</td>\n",
       "    </tr>\n",
       "    <tr>\n",
       "      <th>4</th>\n",
       "      <td>Superb</td>\n",
       "      <td>2019</td>\n",
       "      <td>18350</td>\n",
       "      <td>Manual</td>\n",
       "      <td>10912</td>\n",
       "      <td>Petrol</td>\n",
       "      <td>150</td>\n",
       "      <td>40.9</td>\n",
       "      <td>1.5</td>\n",
       "    </tr>\n",
       "    <tr>\n",
       "      <th>...</th>\n",
       "      <td>...</td>\n",
       "      <td>...</td>\n",
       "      <td>...</td>\n",
       "      <td>...</td>\n",
       "      <td>...</td>\n",
       "      <td>...</td>\n",
       "      <td>...</td>\n",
       "      <td>...</td>\n",
       "      <td>...</td>\n",
       "    </tr>\n",
       "    <tr>\n",
       "      <th>6262</th>\n",
       "      <td>Yeti</td>\n",
       "      <td>2014</td>\n",
       "      <td>11440</td>\n",
       "      <td>Semi-Auto</td>\n",
       "      <td>14569</td>\n",
       "      <td>Petrol</td>\n",
       "      <td>160</td>\n",
       "      <td>44.8</td>\n",
       "      <td>1.2</td>\n",
       "    </tr>\n",
       "    <tr>\n",
       "      <th>6263</th>\n",
       "      <td>Octavia</td>\n",
       "      <td>2014</td>\n",
       "      <td>10990</td>\n",
       "      <td>Semi-Auto</td>\n",
       "      <td>49999</td>\n",
       "      <td>Petrol</td>\n",
       "      <td>30</td>\n",
       "      <td>56.5</td>\n",
       "      <td>1.4</td>\n",
       "    </tr>\n",
       "    <tr>\n",
       "      <th>6264</th>\n",
       "      <td>Fabia</td>\n",
       "      <td>2017</td>\n",
       "      <td>9500</td>\n",
       "      <td>Semi-Auto</td>\n",
       "      <td>17131</td>\n",
       "      <td>Petrol</td>\n",
       "      <td>145</td>\n",
       "      <td>61.4</td>\n",
       "      <td>1.0</td>\n",
       "    </tr>\n",
       "    <tr>\n",
       "      <th>6265</th>\n",
       "      <td>Citigo</td>\n",
       "      <td>2016</td>\n",
       "      <td>5999</td>\n",
       "      <td>Manual</td>\n",
       "      <td>21747</td>\n",
       "      <td>Petrol</td>\n",
       "      <td>20</td>\n",
       "      <td>62.8</td>\n",
       "      <td>1.0</td>\n",
       "    </tr>\n",
       "    <tr>\n",
       "      <th>6266</th>\n",
       "      <td>Fabia</td>\n",
       "      <td>2017</td>\n",
       "      <td>9232</td>\n",
       "      <td>Semi-Auto</td>\n",
       "      <td>42530</td>\n",
       "      <td>Petrol</td>\n",
       "      <td>20</td>\n",
       "      <td>60.1</td>\n",
       "      <td>1.2</td>\n",
       "    </tr>\n",
       "  </tbody>\n",
       "</table>\n",
       "<p>6267 rows × 9 columns</p>\n",
       "</div>"
      ],
      "text/plain": [
       "              model  year  price transmission  mileage fuelType  tax   mpg  \\\n",
       "0           Octavia  2017  10550       Manual    25250   Petrol  150  54.3   \n",
       "1            Citigo  2018   8200       Manual     1264   Petrol  145  67.3   \n",
       "2           Octavia  2019  15650    Automatic     6825   Diesel  145  67.3   \n",
       "3      Yeti Outdoor  2015  14000    Automatic    28431   Diesel  165  51.4   \n",
       "4            Superb  2019  18350       Manual    10912   Petrol  150  40.9   \n",
       "...             ...   ...    ...          ...      ...      ...  ...   ...   \n",
       "6262           Yeti  2014  11440    Semi-Auto    14569   Petrol  160  44.8   \n",
       "6263        Octavia  2014  10990    Semi-Auto    49999   Petrol   30  56.5   \n",
       "6264          Fabia  2017   9500    Semi-Auto    17131   Petrol  145  61.4   \n",
       "6265         Citigo  2016   5999       Manual    21747   Petrol   20  62.8   \n",
       "6266          Fabia  2017   9232    Semi-Auto    42530   Petrol   20  60.1   \n",
       "\n",
       "      engineSize  \n",
       "0            1.4  \n",
       "1            1.0  \n",
       "2            2.0  \n",
       "3            2.0  \n",
       "4            1.5  \n",
       "...          ...  \n",
       "6262         1.2  \n",
       "6263         1.4  \n",
       "6264         1.0  \n",
       "6265         1.0  \n",
       "6266         1.2  \n",
       "\n",
       "[6267 rows x 9 columns]"
      ]
     },
     "execution_count": 5,
     "metadata": {},
     "output_type": "execute_result"
    }
   ],
   "source": [
    "skoda"
   ]
  },
  {
   "cell_type": "code",
   "execution_count": 6,
   "id": "12900ff5-642b-485b-be3a-47d52aa5b10d",
   "metadata": {},
   "outputs": [],
   "source": [
    "skoda.model = pd.get_dummies(skoda.model)"
   ]
  },
  {
   "cell_type": "code",
   "execution_count": 7,
   "id": "edf75146-515e-4f82-a0fe-96f7d2ed2895",
   "metadata": {},
   "outputs": [],
   "source": [
    "skoda.transmission = pd.get_dummies(skoda.transmission)"
   ]
  },
  {
   "cell_type": "code",
   "execution_count": 8,
   "id": "d884b6a9-d006-44c6-973e-6a4c1863a4b8",
   "metadata": {},
   "outputs": [],
   "source": [
    "skoda.fuelType = pd.get_dummies(skoda.fuelType)"
   ]
  },
  {
   "cell_type": "code",
   "execution_count": 9,
   "id": "44792bb6-3fdb-4d4c-b2e8-d8a5d6062bd7",
   "metadata": {},
   "outputs": [
    {
     "data": {
      "text/html": [
       "<div>\n",
       "<style scoped>\n",
       "    .dataframe tbody tr th:only-of-type {\n",
       "        vertical-align: middle;\n",
       "    }\n",
       "\n",
       "    .dataframe tbody tr th {\n",
       "        vertical-align: top;\n",
       "    }\n",
       "\n",
       "    .dataframe thead th {\n",
       "        text-align: right;\n",
       "    }\n",
       "</style>\n",
       "<table border=\"1\" class=\"dataframe\">\n",
       "  <thead>\n",
       "    <tr style=\"text-align: right;\">\n",
       "      <th></th>\n",
       "      <th>model</th>\n",
       "      <th>year</th>\n",
       "      <th>price</th>\n",
       "      <th>transmission</th>\n",
       "      <th>mileage</th>\n",
       "      <th>fuelType</th>\n",
       "      <th>tax</th>\n",
       "      <th>mpg</th>\n",
       "      <th>engineSize</th>\n",
       "    </tr>\n",
       "  </thead>\n",
       "  <tbody>\n",
       "    <tr>\n",
       "      <th>0</th>\n",
       "      <td>0</td>\n",
       "      <td>2017</td>\n",
       "      <td>10550</td>\n",
       "      <td>0</td>\n",
       "      <td>25250</td>\n",
       "      <td>0</td>\n",
       "      <td>150</td>\n",
       "      <td>54.3</td>\n",
       "      <td>1.4</td>\n",
       "    </tr>\n",
       "    <tr>\n",
       "      <th>1</th>\n",
       "      <td>1</td>\n",
       "      <td>2018</td>\n",
       "      <td>8200</td>\n",
       "      <td>0</td>\n",
       "      <td>1264</td>\n",
       "      <td>0</td>\n",
       "      <td>145</td>\n",
       "      <td>67.3</td>\n",
       "      <td>1.0</td>\n",
       "    </tr>\n",
       "    <tr>\n",
       "      <th>2</th>\n",
       "      <td>0</td>\n",
       "      <td>2019</td>\n",
       "      <td>15650</td>\n",
       "      <td>1</td>\n",
       "      <td>6825</td>\n",
       "      <td>1</td>\n",
       "      <td>145</td>\n",
       "      <td>67.3</td>\n",
       "      <td>2.0</td>\n",
       "    </tr>\n",
       "  </tbody>\n",
       "</table>\n",
       "</div>"
      ],
      "text/plain": [
       "   model  year  price  transmission  mileage  fuelType  tax   mpg  engineSize\n",
       "0      0  2017  10550             0    25250         0  150  54.3         1.4\n",
       "1      1  2018   8200             0     1264         0  145  67.3         1.0\n",
       "2      0  2019  15650             1     6825         1  145  67.3         2.0"
      ]
     },
     "execution_count": 9,
     "metadata": {},
     "output_type": "execute_result"
    }
   ],
   "source": [
    "skoda.head(3)  # смотрим, как выглядит датафрейм с \"закодированными\" качественными признаками:"
   ]
  },
  {
   "cell_type": "code",
   "execution_count": 10,
   "id": "58e2019b-31a5-4541-82e9-0279b24b3085",
   "metadata": {},
   "outputs": [
    {
     "data": {
      "text/plain": [
       "<seaborn.axisgrid.PairGrid at 0x2459c5ff3d0>"
      ]
     },
     "execution_count": 10,
     "metadata": {},
     "output_type": "execute_result"
    },
    {
     "data": {
      "image/png": "[encoded data removed]",
      "text/plain": [
       "<Figure size 1620x1620 with 90 Axes>"
      ]
     },
     "metadata": {
      "needs_background": "light"
     },
     "output_type": "display_data"
    }
   ],
   "source": [
    "sns.pairplot(skoda)  # оценим визуально взаимозависимости признаков (построим диаграммы)"
   ]
  },
  {
   "cell_type": "markdown",
   "id": "ef92fe8f-e082-4879-826d-e74f6ca65f2a",
   "metadata": {},
   "source": [
    "Сформируем датафрейм с необходимыми признаками для формирования моделей по выбранной марке на базе исходного:\n",
    "год выпуска, пробег, расход топлива, размер двигателя, тип коробки передач и т.п.:"
   ]
  },
  {
   "cell_type": "code",
   "execution_count": 11,
   "id": "987618c6-228c-4a5f-b408-84d73a5bcb97",
   "metadata": {},
   "outputs": [],
   "source": [
    "df = pd.DataFrame()"
   ]
  },
  {
   "cell_type": "code",
   "execution_count": 12,
   "id": "c993c629-76a6-4df5-8695-926de679be33",
   "metadata": {},
   "outputs": [],
   "source": [
    "df['model'] = skoda.model\n",
    "df['year'] = skoda.year\n",
    "df['mileage'] = skoda.mileage\n",
    "df['mpg'] = skoda.mpg\n",
    "df['engineSize'] = skoda.engineSize\n",
    "df['transmission'] = skoda.transmission\n",
    "df['tax'] = skoda.tax\n",
    "df = df.join(skoda.fuelType)"
   ]
  },
  {
   "cell_type": "code",
   "execution_count": 13,
   "id": "a68d83f3-9b6c-47af-839c-42a5f97487ee",
   "metadata": {},
   "outputs": [
    {
     "data": {
      "text/html": [
       "<div>\n",
       "<style scoped>\n",
       "    .dataframe tbody tr th:only-of-type {\n",
       "        vertical-align: middle;\n",
       "    }\n",
       "\n",
       "    .dataframe tbody tr th {\n",
       "        vertical-align: top;\n",
       "    }\n",
       "\n",
       "    .dataframe thead th {\n",
       "        text-align: right;\n",
       "    }\n",
       "</style>\n",
       "<table border=\"1\" class=\"dataframe\">\n",
       "  <thead>\n",
       "    <tr style=\"text-align: right;\">\n",
       "      <th></th>\n",
       "      <th>model</th>\n",
       "      <th>year</th>\n",
       "      <th>mileage</th>\n",
       "      <th>mpg</th>\n",
       "      <th>engineSize</th>\n",
       "      <th>transmission</th>\n",
       "      <th>tax</th>\n",
       "      <th>fuelType</th>\n",
       "    </tr>\n",
       "  </thead>\n",
       "  <tbody>\n",
       "    <tr>\n",
       "      <th>0</th>\n",
       "      <td>0</td>\n",
       "      <td>2017</td>\n",
       "      <td>25250</td>\n",
       "      <td>54.3</td>\n",
       "      <td>1.4</td>\n",
       "      <td>0</td>\n",
       "      <td>150</td>\n",
       "      <td>0</td>\n",
       "    </tr>\n",
       "    <tr>\n",
       "      <th>1</th>\n",
       "      <td>1</td>\n",
       "      <td>2018</td>\n",
       "      <td>1264</td>\n",
       "      <td>67.3</td>\n",
       "      <td>1.0</td>\n",
       "      <td>0</td>\n",
       "      <td>145</td>\n",
       "      <td>0</td>\n",
       "    </tr>\n",
       "    <tr>\n",
       "      <th>2</th>\n",
       "      <td>0</td>\n",
       "      <td>2019</td>\n",
       "      <td>6825</td>\n",
       "      <td>67.3</td>\n",
       "      <td>2.0</td>\n",
       "      <td>1</td>\n",
       "      <td>145</td>\n",
       "      <td>1</td>\n",
       "    </tr>\n",
       "    <tr>\n",
       "      <th>3</th>\n",
       "      <td>0</td>\n",
       "      <td>2015</td>\n",
       "      <td>28431</td>\n",
       "      <td>51.4</td>\n",
       "      <td>2.0</td>\n",
       "      <td>1</td>\n",
       "      <td>165</td>\n",
       "      <td>1</td>\n",
       "    </tr>\n",
       "    <tr>\n",
       "      <th>4</th>\n",
       "      <td>0</td>\n",
       "      <td>2019</td>\n",
       "      <td>10912</td>\n",
       "      <td>40.9</td>\n",
       "      <td>1.5</td>\n",
       "      <td>0</td>\n",
       "      <td>150</td>\n",
       "      <td>0</td>\n",
       "    </tr>\n",
       "    <tr>\n",
       "      <th>...</th>\n",
       "      <td>...</td>\n",
       "      <td>...</td>\n",
       "      <td>...</td>\n",
       "      <td>...</td>\n",
       "      <td>...</td>\n",
       "      <td>...</td>\n",
       "      <td>...</td>\n",
       "      <td>...</td>\n",
       "    </tr>\n",
       "    <tr>\n",
       "      <th>6262</th>\n",
       "      <td>0</td>\n",
       "      <td>2014</td>\n",
       "      <td>14569</td>\n",
       "      <td>44.8</td>\n",
       "      <td>1.2</td>\n",
       "      <td>0</td>\n",
       "      <td>160</td>\n",
       "      <td>0</td>\n",
       "    </tr>\n",
       "    <tr>\n",
       "      <th>6263</th>\n",
       "      <td>0</td>\n",
       "      <td>2014</td>\n",
       "      <td>49999</td>\n",
       "      <td>56.5</td>\n",
       "      <td>1.4</td>\n",
       "      <td>0</td>\n",
       "      <td>30</td>\n",
       "      <td>0</td>\n",
       "    </tr>\n",
       "    <tr>\n",
       "      <th>6264</th>\n",
       "      <td>0</td>\n",
       "      <td>2017</td>\n",
       "      <td>17131</td>\n",
       "      <td>61.4</td>\n",
       "      <td>1.0</td>\n",
       "      <td>0</td>\n",
       "      <td>145</td>\n",
       "      <td>0</td>\n",
       "    </tr>\n",
       "    <tr>\n",
       "      <th>6265</th>\n",
       "      <td>1</td>\n",
       "      <td>2016</td>\n",
       "      <td>21747</td>\n",
       "      <td>62.8</td>\n",
       "      <td>1.0</td>\n",
       "      <td>0</td>\n",
       "      <td>20</td>\n",
       "      <td>0</td>\n",
       "    </tr>\n",
       "    <tr>\n",
       "      <th>6266</th>\n",
       "      <td>0</td>\n",
       "      <td>2017</td>\n",
       "      <td>42530</td>\n",
       "      <td>60.1</td>\n",
       "      <td>1.2</td>\n",
       "      <td>0</td>\n",
       "      <td>20</td>\n",
       "      <td>0</td>\n",
       "    </tr>\n",
       "  </tbody>\n",
       "</table>\n",
       "<p>6267 rows × 8 columns</p>\n",
       "</div>"
      ],
      "text/plain": [
       "      model  year  mileage   mpg  engineSize  transmission  tax  fuelType\n",
       "0         0  2017    25250  54.3         1.4             0  150         0\n",
       "1         1  2018     1264  67.3         1.0             0  145         0\n",
       "2         0  2019     6825  67.3         2.0             1  145         1\n",
       "3         0  2015    28431  51.4         2.0             1  165         1\n",
       "4         0  2019    10912  40.9         1.5             0  150         0\n",
       "...     ...   ...      ...   ...         ...           ...  ...       ...\n",
       "6262      0  2014    14569  44.8         1.2             0  160         0\n",
       "6263      0  2014    49999  56.5         1.4             0   30         0\n",
       "6264      0  2017    17131  61.4         1.0             0  145         0\n",
       "6265      1  2016    21747  62.8         1.0             0   20         0\n",
       "6266      0  2017    42530  60.1         1.2             0   20         0\n",
       "\n",
       "[6267 rows x 8 columns]"
      ]
     },
     "execution_count": 13,
     "metadata": {},
     "output_type": "execute_result"
    }
   ],
   "source": [
    "df"
   ]
  },
  {
   "cell_type": "code",
   "execution_count": null,
   "id": "412abfaa-e65b-41c8-a507-a923f4df4216",
   "metadata": {},
   "outputs": [],
   "source": []
  },
  {
   "cell_type": "code",
   "execution_count": null,
   "id": "a18d35cd-e3d0-4ab4-b5dd-6f3fb5b703b0",
   "metadata": {},
   "outputs": [],
   "source": []
  },
  {
   "cell_type": "code",
   "execution_count": 14,
   "id": "75e8be76-be60-4f3e-92c9-fc8f712ee685",
   "metadata": {},
   "outputs": [],
   "source": [
    "x = df.values\n",
    "y = skoda.price.values\n",
    "x_train, x_test, y_train, y_test = train_test_split(x, y)"
   ]
  },
  {
   "cell_type": "markdown",
   "id": "1d540234-41ec-4254-8187-5c78ed644660",
   "metadata": {},
   "source": [
    "Построим прогноз, используя модели линейной регрессии и случайного леса. Качество моделей оценивается по метрике r2_score"
   ]
  },
  {
   "cell_type": "markdown",
   "id": "3fcd84c2-3261-4abe-9e18-1d99432ca3bb",
   "metadata": {},
   "source": [
    "Модель линейной регрессии:"
   ]
  },
  {
   "cell_type": "code",
   "execution_count": 15,
   "id": "c9d49d34-a6ba-4ef6-915b-b91dc8074623",
   "metadata": {},
   "outputs": [],
   "source": [
    "lr = LinearRegression()\n",
    "lr.fit(x_train, y_train)\n",
    "y_pred = lr.predict(x_test)\n",
    "r2_lr = r2_score(y_test, y_pred)"
   ]
  },
  {
   "cell_type": "code",
   "execution_count": 16,
   "id": "7faef94d-73c4-4091-aadb-80dc9dd81925",
   "metadata": {},
   "outputs": [
    {
     "name": "stdout",
     "output_type": "stream",
     "text": [
      "Качество модели линейной регрессии составляет:  76.60664401367507 %\n"
     ]
    }
   ],
   "source": [
    "print('Качество модели линейной регрессии составляет: ', r2_lr*100, '%')"
   ]
  },
  {
   "cell_type": "markdown",
   "id": "64bfc6b1-524e-4d9f-af46-5e177d49f0f9",
   "metadata": {},
   "source": [
    "Модель случайного леса:"
   ]
  },
  {
   "cell_type": "code",
   "execution_count": 17,
   "id": "62ecf971-9206-4e9c-b8fc-441a489c7a53",
   "metadata": {},
   "outputs": [],
   "source": [
    "rf = RandomForestRegressor()  \n",
    "rf.fit(x_train, y_train)\n",
    "y_pred = rf.predict(x_test)\n",
    "r2_rf = r2_score(y_test, y_pred)"
   ]
  },
  {
   "cell_type": "code",
   "execution_count": 18,
   "id": "da4906ec-6462-4828-b85b-e7fdcd296681",
   "metadata": {},
   "outputs": [
    {
     "name": "stdout",
     "output_type": "stream",
     "text": [
      "Качество модели случайного леса по r2_score составляет:  90.90656809164908 %\n"
     ]
    }
   ],
   "source": [
    "print('Качество модели случайного леса по r2_score составляет: ', r2_rf*100, '%')"
   ]
  },
  {
   "cell_type": "code",
   "execution_count": 19,
   "id": "f0aa0c51-041d-40a9-9969-80748450dfed",
   "metadata": {},
   "outputs": [
    {
     "name": "stdout",
     "output_type": "stream",
     "text": [
      "Вывод по качеству моделей по r2_score:\n",
      "Качество модели случайного леса по r2_score выше, чем у модели линейной регрессии\n"
     ]
    }
   ],
   "source": [
    "print('Вывод по качеству моделей по r2_score:')\n",
    "if r2_rf > r2_lr:\n",
    "    print ('Качество модели случайного леса по r2_score выше, чем у модели линейной регрессии')\n",
    "else:\n",
    "    print ('Качество модели случайного леса по r2_score хуже, чем у модели линейной регрессии')"
   ]
  },
  {
   "cell_type": "code",
   "execution_count": null,
   "id": "71444fde-1e80-46fc-a725-a398ea17df98",
   "metadata": {},
   "outputs": [],
   "source": []
  },
  {
   "cell_type": "markdown",
   "id": "fa558d85-5d4f-4475-b0c3-6d5491ed8a82",
   "metadata": {},
   "source": [
    "Сравним результаты, используя кросс-валидацию:"
   ]
  },
  {
   "cell_type": "code",
   "execution_count": 20,
   "id": "d30dfb18-e370-416d-ada5-a71530babe67",
   "metadata": {},
   "outputs": [
    {
     "name": "stdout",
     "output_type": "stream",
     "text": [
      "для модели линейной регрессии:\n",
      "mean составляет:  0.7590362405827189  std составляет: 0.04094955604193749\n",
      "Среднее по кросс-валидации в модели: 75.90362405827189 %\n"
     ]
    }
   ],
   "source": [
    "print ('для модели линейной регрессии:')\n",
    "cross_val_score_lr = cross_val_score(lr, x_train, y_train)\n",
    "lr_result = cross_val_score(lr, x_train, y_train).mean()\n",
    "print(\"mean составляет: \", cross_val_score_lr.mean(), \" std составляет:\", cross_val_score_lr.std())\n",
    "print('Среднее по кросс-валидации в модели:', lr_result*100,'%')"
   ]
  },
  {
   "cell_type": "code",
   "execution_count": 21,
   "id": "67bf62ae-9b5d-4f92-9540-5a7e251dae1d",
   "metadata": {},
   "outputs": [
    {
     "name": "stdout",
     "output_type": "stream",
     "text": [
      "для модели случайного леса:\n",
      "mean составляет:  0.8997813661473074  std составляет: 0.04048449247633264\n",
      "Среднее по кросс-валидации в модели: 90.01293327466453 %\n"
     ]
    }
   ],
   "source": [
    "print ('для модели случайного леса:')\n",
    "scores = cross_val_score(rf, x_train, y_train)\n",
    "rf_result = cross_val_score(rf, x_train, y_train).mean()\n",
    "print(\"mean составляет: \", scores.mean(), \" std составляет:\", scores.std())\n",
    "print('Среднее по кросс-валидации в модели:', rf_result*100,'%')"
   ]
  },
  {
   "cell_type": "code",
   "execution_count": 22,
   "id": "eb488caf-f2e1-4bd3-8ed4-1fa305273a40",
   "metadata": {},
   "outputs": [
    {
     "name": "stdout",
     "output_type": "stream",
     "text": [
      "Вывод по качеству моделей по кросс-валидации:\n",
      "Качество модели случайного леса по кросс-валидации выше, чем у модели линейной регрессии\n"
     ]
    }
   ],
   "source": [
    "print('Вывод по качеству моделей по кросс-валидации:')\n",
    "if rf_result > lr_result:\n",
    "    print ('Качество модели случайного леса по кросс-валидации выше, чем у модели линейной регрессии')\n",
    "else:\n",
    "    print ('Качество модели случайного леса по кросс-валидации хуже, чем у модели линейной регрессии')"
   ]
  },
  {
   "cell_type": "code",
   "execution_count": null,
   "id": "00f01c61-24d9-47b5-ae78-59f87a39e34e",
   "metadata": {},
   "outputs": [],
   "source": []
  },
  {
   "cell_type": "code",
   "execution_count": null,
   "id": "a60113ac-4497-4bd0-98f7-555216547850",
   "metadata": {},
   "outputs": [],
   "source": []
  },
  {
   "cell_type": "markdown",
   "id": "00f0a4c5-d3c2-49d5-98ec-63d3f6cb2f4f",
   "metadata": {},
   "source": [
    "Оценим важность признаков (параметр feature_importance_ у случайного леса)."
   ]
  },
  {
   "cell_type": "code",
   "execution_count": 23,
   "id": "b2a21306-19b8-4591-9aee-869894a2675a",
   "metadata": {},
   "outputs": [
    {
     "data": {
      "text/plain": [
       "array([0.01138274, 0.18609466, 0.1048953 , 0.51036761, 0.13955509,\n",
       "       0.00876374, 0.02050331, 0.01843755])"
      ]
     },
     "execution_count": 23,
     "metadata": {},
     "output_type": "execute_result"
    }
   ],
   "source": [
    "rf.feature_importances_"
   ]
  },
  {
   "cell_type": "code",
   "execution_count": 24,
   "id": "dca0c9e7-2ddf-4163-adb8-481ad4e77d0c",
   "metadata": {},
   "outputs": [
    {
     "data": {
      "text/plain": [
       "0.5103676120795823"
      ]
     },
     "execution_count": 24,
     "metadata": {},
     "output_type": "execute_result"
    }
   ],
   "source": [
    "rf.feature_importances_.max()  # находим признак с наибольшим определяющим весом"
   ]
  },
  {
   "cell_type": "code",
   "execution_count": 25,
   "id": "317df0d1-47a4-4be0-8fe1-33fd1a38864d",
   "metadata": {},
   "outputs": [
    {
     "name": "stdout",
     "output_type": "stream",
     "text": [
      "Вывод по важности признаков:\n",
      "Наибольший вес - у элемента  0.5103676120795823 - miles per gallon. Это главный определяющий признак\n"
     ]
    }
   ],
   "source": [
    "print('Вывод по важности признаков:')\n",
    "print('Наибольший вес - у элемента ', rf.feature_importances_.max(), '- miles per gallon. Это главный определяющий признак')"
   ]
  },
  {
   "cell_type": "markdown",
   "id": "d40f989b-e98a-41e2-9e6c-f31a6c3760b9",
   "metadata": {},
   "source": [
    "Остальные признаки идут от него с большим отрывом (на 2ом месте год выпуска)"
   ]
  },
  {
   "cell_type": "markdown",
   "id": "09f575c9-9c43-4411-94f2-f847faea7ec6",
   "metadata": {},
   "source": [
    "Подберем гиперпараметры моделей -"
   ]
  },
  {
   "cell_type": "markdown",
   "id": "728f5e15-6c14-4419-bc97-bd0aba2bbc28",
   "metadata": {},
   "source": [
    "Выберем параметры (основные) и применим RandomizedSearchCV и GridSearchCV -"
   ]
  },
  {
   "cell_type": "code",
   "execution_count": 26,
   "id": "bd32c655-42a2-409c-ab27-ce1199d85361",
   "metadata": {},
   "outputs": [],
   "source": [
    "params = {\n",
    "    'n_estimators': [2, 5, 7],\n",
    "    'min_samples_split': [2, 3],\n",
    "    'max_depth': [2, 8, 10]\n",
    "}"
   ]
  },
  {
   "cell_type": "markdown",
   "id": "056de5b1-5cf8-4782-89e6-dd459ac64f30",
   "metadata": {},
   "source": [
    "RandomizedSearchCV к модели случайного леса"
   ]
  },
  {
   "cell_type": "code",
   "execution_count": 27,
   "id": "22900d29-1966-4193-8e66-0a0423c63f9b",
   "metadata": {
    "tags": []
   },
   "outputs": [
    {
     "data": {
      "text/plain": [
       "RandomForestRegressor(max_depth=8, n_estimators=5)"
      ]
     },
     "execution_count": 27,
     "metadata": {},
     "output_type": "execute_result"
    }
   ],
   "source": [
    "r_search = RandomizedSearchCV(RandomForestRegressor(), params)\n",
    "r_search.fit(x_train, y_train)\n",
    "r_search.best_estimator_"
   ]
  },
  {
   "cell_type": "markdown",
   "id": "4ad26431-22dc-4eb9-9552-da2bb91fe20b",
   "metadata": {},
   "source": [
    "GridSearchCV к модели случайного леса -"
   ]
  },
  {
   "cell_type": "code",
   "execution_count": 28,
   "id": "35f6ccc2-a112-4697-a1db-c9e03546e009",
   "metadata": {},
   "outputs": [
    {
     "data": {
      "text/plain": [
       "RandomForestRegressor(max_depth=10, min_samples_split=3, n_estimators=7)"
      ]
     },
     "execution_count": 28,
     "metadata": {},
     "output_type": "execute_result"
    }
   ],
   "source": [
    "gr_search = GridSearchCV(RandomForestRegressor(), params)\n",
    "gr_search.fit(x_train, y_train)\n",
    "gr_search.best_estimator_"
   ]
  },
  {
   "cell_type": "markdown",
   "id": "90ff8e38-6471-4fef-ba9b-5b8c5911f361",
   "metadata": {},
   "source": [
    "Оценим качество модели случайного леса при подборе параметров:"
   ]
  },
  {
   "cell_type": "code",
   "execution_count": 29,
   "id": "f5574561-7f2f-4234-977c-75fe99c505b9",
   "metadata": {},
   "outputs": [
    {
     "name": "stdout",
     "output_type": "stream",
     "text": [
      "Качество модели RandomForest при RandomizedSearch составляет:  92.16599910506302 %\n"
     ]
    }
   ],
   "source": [
    "y_pred = r_search.best_estimator_.predict(x_test)\n",
    "r2_r2 = r2_score(y_test, y_pred)\n",
    "print('Качество модели RandomForest при RandomizedSearch составляет: ', r2_r2*100, '%')"
   ]
  },
  {
   "cell_type": "code",
   "execution_count": 30,
   "id": "91560e74-eed6-4fdb-99ec-1a4cd8e0406d",
   "metadata": {},
   "outputs": [
    {
     "name": "stdout",
     "output_type": "stream",
     "text": [
      "Качество модели RandomForest при GridSearch составляет:  88.93895449233982 %\n"
     ]
    }
   ],
   "source": [
    "y_pred = gr_search.best_estimator_.predict(x_test)\n",
    "r2_r2_g = r2_score(y_test, y_pred)\n",
    "print('Качество модели RandomForest при GridSearch составляет: ', r2_r2_g*100, '%')"
   ]
  },
  {
   "cell_type": "code",
   "execution_count": null,
   "id": "d7d5babb-0896-4203-b999-32e4d9743a33",
   "metadata": {},
   "outputs": [],
   "source": []
  },
  {
   "cell_type": "markdown",
   "id": "81f0caaa-8681-466c-83fe-d3a82f66e3e7",
   "metadata": {},
   "source": [
    "Наилучшее качество из рассмотренных моделей по r2_score - у модели RandomForest при подборе параметров RandomizedSearch."
   ]
  },
  {
   "cell_type": "code",
   "execution_count": null,
   "id": "1682218a-76e2-464f-a871-ae122588bddb",
   "metadata": {},
   "outputs": [],
   "source": []
  },
  {
   "cell_type": "markdown",
   "id": "cc437a4c-24ad-4773-ad21-b6e39537a44c",
   "metadata": {},
   "source": [
    "Для модели линейной регрессии:"
   ]
  },
  {
   "cell_type": "markdown",
   "id": "28b189f0-f3df-4fd3-b3a9-818fbad0d9bb",
   "metadata": {},
   "source": [
    "Для линейной регрессии можно используем реализацию с градиентным спуском SGDRegressor"
   ]
  },
  {
   "cell_type": "code",
   "execution_count": 32,
   "id": "099d5779-b2fa-4d3d-8445-bc117e899636",
   "metadata": {},
   "outputs": [
    {
     "name": "stdout",
     "output_type": "stream",
     "text": [
      "Качество модели SGDRegressor по r2_score составляет:  -1.5814576225467385e+28 %\n",
      "Такое может быть, если модель отработала хуже, чем среднее\n"
     ]
    }
   ],
   "source": [
    "lr_SGD = SGDRegressor()\n",
    "lr_SGD.fit(x_train, y_train)\n",
    "y_pred = lr_SGD.predict(x_test)\n",
    "r2_lr_SGD = r2_score(y_test, y_pred)\n",
    "r2_lr_SGD\n",
    "print('Качество модели SGDRegressor по r2_score составляет: ', r2_lr_SGD*100, '%')\n",
    "print('Такое может быть, если модель отработала хуже, чем среднее')"
   ]
  },
  {
   "cell_type": "code",
   "execution_count": null,
   "id": "681e7996-2600-4523-99f6-1f27a793a062",
   "metadata": {},
   "outputs": [],
   "source": []
  },
  {
   "cell_type": "markdown",
   "id": "1393dbac-96a3-4dac-84cc-0ec03d94b28b",
   "metadata": {},
   "source": [
    "При подборе параметров и применении RandomizedSearchCV и GridSearchCV к модели линейной регрессии:"
   ]
  },
  {
   "cell_type": "code",
   "execution_count": 33,
   "id": "17d87274-7cb4-48c8-a5cd-c050d5463201",
   "metadata": {},
   "outputs": [],
   "source": [
    "# применим варианты параметров:\n",
    "\n",
    "params = {\n",
    "    'fit_intercept': [2, 5, 7],\n",
    "    'normalize': [3, 6, 9],\n",
    "    'n_jobs': [3, 8, 10]\n",
    "}"
   ]
  },
  {
   "cell_type": "markdown",
   "id": "eea0deb8-a20c-498d-b57e-d49965acd154",
   "metadata": {},
   "source": [
    "RandomizedSearchCV к модели LinearRegression"
   ]
  },
  {
   "cell_type": "code",
   "execution_count": 34,
   "id": "9c0baa65-3810-4924-8ea3-af361e742610",
   "metadata": {
    "tags": []
   },
   "outputs": [
    {
     "data": {
      "text/plain": [
       "LinearRegression(fit_intercept=5, n_jobs=8, normalize=6)"
      ]
     },
     "execution_count": 34,
     "metadata": {},
     "output_type": "execute_result"
    }
   ],
   "source": [
    "lr_search = RandomizedSearchCV(LinearRegression(), params)\n",
    "lr_search.fit(x_train, y_train)\n",
    "lr_search.best_estimator_"
   ]
  },
  {
   "cell_type": "markdown",
   "id": "ce840d44-30ff-46ad-ae47-9a9475e043fd",
   "metadata": {},
   "source": [
    "GridSearchCV к модели линейной регрессии:"
   ]
  },
  {
   "cell_type": "code",
   "execution_count": 35,
   "id": "1cc7f82f-ec14-41a1-aeea-7da821ab17b9",
   "metadata": {},
   "outputs": [
    {
     "data": {
      "text/plain": [
       "LinearRegression(fit_intercept=2, n_jobs=3, normalize=3)"
      ]
     },
     "execution_count": 35,
     "metadata": {},
     "output_type": "execute_result"
    }
   ],
   "source": [
    "lr_search_1 = GridSearchCV(LinearRegression(), params)\n",
    "lr_search_1.fit(x_train, y_train)\n",
    "lr_search_1.best_estimator_"
   ]
  },
  {
   "cell_type": "code",
   "execution_count": 36,
   "id": "5babd393-1bd3-4ed7-bd75-4d87b941104d",
   "metadata": {},
   "outputs": [
    {
     "name": "stdout",
     "output_type": "stream",
     "text": [
      "Качество модели линейной регрессии при RandomizedSearch составляет:  76.60664401367522 %\n"
     ]
    }
   ],
   "source": [
    "y_pred = lr_search.best_estimator_.predict(x_test)\n",
    "r2_lr2 = r2_score(y_test, y_pred)\n",
    "print('Качество модели линейной регрессии при RandomizedSearch составляет: ', r2_lr2*100, '%')"
   ]
  },
  {
   "cell_type": "code",
   "execution_count": 37,
   "id": "8eae9a53-f2e0-4692-8109-5900d616907b",
   "metadata": {},
   "outputs": [
    {
     "name": "stdout",
     "output_type": "stream",
     "text": [
      "Качество модели линейной регрессии при GridSearch также составляет:  76.60664401367522 %\n"
     ]
    }
   ],
   "source": [
    "y_pred = lr_search_1.best_estimator_.predict(x_test)\n",
    "r2_lr2_1 = r2_score(y_test, y_pred)\n",
    "print('Качество модели линейной регрессии при GridSearch также составляет: ', r2_lr2_1*100, '%')"
   ]
  },
  {
   "cell_type": "code",
   "execution_count": 38,
   "id": "bc5750b1-4a71-4cc8-a5f1-9fdcf028fc7d",
   "metadata": {},
   "outputs": [
    {
     "data": {
      "text/plain": [
       "True"
      ]
     },
     "execution_count": 38,
     "metadata": {},
     "output_type": "execute_result"
    }
   ],
   "source": [
    "r2_lr2_1 == r2_lr2  # видим, что результаты поиска и по GridSerarch, и по RandomizedSearch для модели Линейной регрессии равны - True"
   ]
  },
  {
   "cell_type": "code",
   "execution_count": 39,
   "id": "caf638e0-eb74-4613-bbfe-dae33170ecd8",
   "metadata": {},
   "outputs": [
    {
     "name": "stdout",
     "output_type": "stream",
     "text": [
      "Можно сделать вывод:\n",
      "Качество модели линейной регрессии с учетом найденных параметров лучше стандартного варианта и составляет % 76.60664401367522\n",
      "против стандартного варианта - 76.60664401367507\n"
     ]
    }
   ],
   "source": [
    "print('Можно сделать вывод:')\n",
    "if r2_lr2 > r2_lr:\n",
    "    print('Качество модели линейной регрессии с учетом найденных параметров лучше стандартного варианта и составляет %', r2_lr2*100)\n",
    "    print('против стандартного варианта -', r2_lr*100)\n",
    "else:\n",
    "    print('Качество модели линейной регрессии с учетом найденных параметров не лучше стандартного варианта, для которого оно составило  в %', \n",
    "          r2_lr*100)\n",
    "        "
   ]
  },
  {
   "cell_type": "markdown",
   "id": "2a1ad7d4-1850-4ff6-b695-bfee1a9ad1ff",
   "metadata": {},
   "source": [
    "При этом отличия незначительны"
   ]
  },
  {
   "cell_type": "markdown",
   "id": "deaf17b5-2035-4393-9c55-b80d26b63cbf",
   "metadata": {},
   "source": [
    "Вывод: в целом, наилучшие результаты из представленных вариантов по r2_score дает модель RandomForest"
   ]
  },
  {
   "cell_type": "code",
   "execution_count": null,
   "id": "3cae7c23-7c91-4c94-b46d-e5af2c38fd35",
   "metadata": {},
   "outputs": [],
   "source": []
  },
  {
   "cell_type": "markdown",
   "id": "ac2028ad-49bb-4839-90b1-872b6775bf8a",
   "metadata": {},
   "source": [
    "## Normal\n",
    "\n",
    "\n",
    "Объединить в один датафрейм данные по всем маркам машин. Преобразовать категориальные признаки.\n",
    "\n",
    "Построить еще несколько моделей, используя подбор гиперпараметров. Сравнить между собой все построенные модели."
   ]
  },
  {
   "cell_type": "code",
   "execution_count": null,
   "id": "75797efc-4297-459d-bff8-791e81b6d20a",
   "metadata": {},
   "outputs": [],
   "source": []
  },
  {
   "cell_type": "code",
   "execution_count": 40,
   "id": "0e09c2fd-1b88-4b24-babd-e208a63ee30c",
   "metadata": {},
   "outputs": [],
   "source": [
    "import random as rnd"
   ]
  },
  {
   "cell_type": "code",
   "execution_count": 41,
   "id": "fb44bf91-babe-4702-9871-6963cf67787b",
   "metadata": {},
   "outputs": [],
   "source": [
    "import os"
   ]
  },
  {
   "cell_type": "markdown",
   "id": "9ada8d4f-5d2b-4059-9744-deeccb59e709",
   "metadata": {},
   "source": [
    "Читаем данные, смотрим на соответствие столбцов/данных во всех датафреймах по маркам автомобилей:"
   ]
  },
  {
   "cell_type": "code",
   "execution_count": 42,
   "id": "18c46fbf-10b4-4fa8-ab7e-1a14aef4789e",
   "metadata": {},
   "outputs": [],
   "source": [
    "audi = pd.read_csv('./data/archive/audi.csv')\n",
    "bmw = pd.read_csv('./data/archive/bmw.csv')\n",
    "cclass = pd.read_csv('./data/archive/cclass.csv')\n",
    "focus = pd.read_csv('./data/archive/focus.csv')\n",
    "ford = pd.read_csv('./data/archive/ford.csv')\n",
    "hyundi = pd.read_csv('./data/archive/hyundi.csv')\n",
    "merc = pd.read_csv('./data/archive/merc.csv')\n",
    "skoda = pd.read_csv('./data/archive/skoda.csv')\n",
    "toyota = pd.read_csv('./data/archive/toyota.csv')\n",
    "vauxhall = pd.read_csv('./data/archive/vauxhall.csv')\n",
    "vw = pd.read_csv('./data/archive/vw.csv')"
   ]
  },
  {
   "cell_type": "code",
   "execution_count": 43,
   "id": "849e13cd-b898-442f-9556-54ea89225a2a",
   "metadata": {},
   "outputs": [
    {
     "data": {
      "text/html": [
       "<div>\n",
       "<style scoped>\n",
       "    .dataframe tbody tr th:only-of-type {\n",
       "        vertical-align: middle;\n",
       "    }\n",
       "\n",
       "    .dataframe tbody tr th {\n",
       "        vertical-align: top;\n",
       "    }\n",
       "\n",
       "    .dataframe thead th {\n",
       "        text-align: right;\n",
       "    }\n",
       "</style>\n",
       "<table border=\"1\" class=\"dataframe\">\n",
       "  <thead>\n",
       "    <tr style=\"text-align: right;\">\n",
       "      <th></th>\n",
       "      <th>model</th>\n",
       "      <th>year</th>\n",
       "      <th>price</th>\n",
       "      <th>transmission</th>\n",
       "      <th>mileage</th>\n",
       "      <th>fuelType</th>\n",
       "      <th>tax</th>\n",
       "      <th>mpg</th>\n",
       "      <th>engineSize</th>\n",
       "    </tr>\n",
       "  </thead>\n",
       "  <tbody>\n",
       "    <tr>\n",
       "      <th>0</th>\n",
       "      <td>A1</td>\n",
       "      <td>2017</td>\n",
       "      <td>12500</td>\n",
       "      <td>Manual</td>\n",
       "      <td>15735</td>\n",
       "      <td>Petrol</td>\n",
       "      <td>150</td>\n",
       "      <td>55.4</td>\n",
       "      <td>1.4</td>\n",
       "    </tr>\n",
       "    <tr>\n",
       "      <th>1</th>\n",
       "      <td>A6</td>\n",
       "      <td>2016</td>\n",
       "      <td>16500</td>\n",
       "      <td>Automatic</td>\n",
       "      <td>36203</td>\n",
       "      <td>Diesel</td>\n",
       "      <td>20</td>\n",
       "      <td>64.2</td>\n",
       "      <td>2.0</td>\n",
       "    </tr>\n",
       "    <tr>\n",
       "      <th>2</th>\n",
       "      <td>A1</td>\n",
       "      <td>2016</td>\n",
       "      <td>11000</td>\n",
       "      <td>Manual</td>\n",
       "      <td>29946</td>\n",
       "      <td>Petrol</td>\n",
       "      <td>30</td>\n",
       "      <td>55.4</td>\n",
       "      <td>1.4</td>\n",
       "    </tr>\n",
       "    <tr>\n",
       "      <th>3</th>\n",
       "      <td>A4</td>\n",
       "      <td>2017</td>\n",
       "      <td>16800</td>\n",
       "      <td>Automatic</td>\n",
       "      <td>25952</td>\n",
       "      <td>Diesel</td>\n",
       "      <td>145</td>\n",
       "      <td>67.3</td>\n",
       "      <td>2.0</td>\n",
       "    </tr>\n",
       "    <tr>\n",
       "      <th>4</th>\n",
       "      <td>A3</td>\n",
       "      <td>2019</td>\n",
       "      <td>17300</td>\n",
       "      <td>Manual</td>\n",
       "      <td>1998</td>\n",
       "      <td>Petrol</td>\n",
       "      <td>145</td>\n",
       "      <td>49.6</td>\n",
       "      <td>1.0</td>\n",
       "    </tr>\n",
       "  </tbody>\n",
       "</table>\n",
       "</div>"
      ],
      "text/plain": [
       "  model  year  price transmission  mileage fuelType  tax   mpg  engineSize\n",
       "0    A1  2017  12500       Manual    15735   Petrol  150  55.4         1.4\n",
       "1    A6  2016  16500    Automatic    36203   Diesel   20  64.2         2.0\n",
       "2    A1  2016  11000       Manual    29946   Petrol   30  55.4         1.4\n",
       "3    A4  2017  16800    Automatic    25952   Diesel  145  67.3         2.0\n",
       "4    A3  2019  17300       Manual     1998   Petrol  145  49.6         1.0"
      ]
     },
     "execution_count": 43,
     "metadata": {},
     "output_type": "execute_result"
    }
   ],
   "source": [
    "audi.head()"
   ]
  },
  {
   "cell_type": "code",
   "execution_count": 44,
   "id": "afb14e07-2169-4aa3-a202-8bfe3558f667",
   "metadata": {},
   "outputs": [
    {
     "data": {
      "text/html": [
       "<div>\n",
       "<style scoped>\n",
       "    .dataframe tbody tr th:only-of-type {\n",
       "        vertical-align: middle;\n",
       "    }\n",
       "\n",
       "    .dataframe tbody tr th {\n",
       "        vertical-align: top;\n",
       "    }\n",
       "\n",
       "    .dataframe thead th {\n",
       "        text-align: right;\n",
       "    }\n",
       "</style>\n",
       "<table border=\"1\" class=\"dataframe\">\n",
       "  <thead>\n",
       "    <tr style=\"text-align: right;\">\n",
       "      <th></th>\n",
       "      <th>model</th>\n",
       "      <th>year</th>\n",
       "      <th>price</th>\n",
       "      <th>transmission</th>\n",
       "      <th>mileage</th>\n",
       "      <th>fuelType</th>\n",
       "      <th>tax</th>\n",
       "      <th>mpg</th>\n",
       "      <th>engineSize</th>\n",
       "    </tr>\n",
       "  </thead>\n",
       "  <tbody>\n",
       "    <tr>\n",
       "      <th>0</th>\n",
       "      <td>5 Series</td>\n",
       "      <td>2014</td>\n",
       "      <td>11200</td>\n",
       "      <td>Automatic</td>\n",
       "      <td>67068</td>\n",
       "      <td>Diesel</td>\n",
       "      <td>125</td>\n",
       "      <td>57.6</td>\n",
       "      <td>2.0</td>\n",
       "    </tr>\n",
       "    <tr>\n",
       "      <th>1</th>\n",
       "      <td>6 Series</td>\n",
       "      <td>2018</td>\n",
       "      <td>27000</td>\n",
       "      <td>Automatic</td>\n",
       "      <td>14827</td>\n",
       "      <td>Petrol</td>\n",
       "      <td>145</td>\n",
       "      <td>42.8</td>\n",
       "      <td>2.0</td>\n",
       "    </tr>\n",
       "    <tr>\n",
       "      <th>2</th>\n",
       "      <td>5 Series</td>\n",
       "      <td>2016</td>\n",
       "      <td>16000</td>\n",
       "      <td>Automatic</td>\n",
       "      <td>62794</td>\n",
       "      <td>Diesel</td>\n",
       "      <td>160</td>\n",
       "      <td>51.4</td>\n",
       "      <td>3.0</td>\n",
       "    </tr>\n",
       "    <tr>\n",
       "      <th>3</th>\n",
       "      <td>1 Series</td>\n",
       "      <td>2017</td>\n",
       "      <td>12750</td>\n",
       "      <td>Automatic</td>\n",
       "      <td>26676</td>\n",
       "      <td>Diesel</td>\n",
       "      <td>145</td>\n",
       "      <td>72.4</td>\n",
       "      <td>1.5</td>\n",
       "    </tr>\n",
       "    <tr>\n",
       "      <th>4</th>\n",
       "      <td>7 Series</td>\n",
       "      <td>2014</td>\n",
       "      <td>14500</td>\n",
       "      <td>Automatic</td>\n",
       "      <td>39554</td>\n",
       "      <td>Diesel</td>\n",
       "      <td>160</td>\n",
       "      <td>50.4</td>\n",
       "      <td>3.0</td>\n",
       "    </tr>\n",
       "  </tbody>\n",
       "</table>\n",
       "</div>"
      ],
      "text/plain": [
       "       model  year  price transmission  mileage fuelType  tax   mpg  \\\n",
       "0   5 Series  2014  11200    Automatic    67068   Diesel  125  57.6   \n",
       "1   6 Series  2018  27000    Automatic    14827   Petrol  145  42.8   \n",
       "2   5 Series  2016  16000    Automatic    62794   Diesel  160  51.4   \n",
       "3   1 Series  2017  12750    Automatic    26676   Diesel  145  72.4   \n",
       "4   7 Series  2014  14500    Automatic    39554   Diesel  160  50.4   \n",
       "\n",
       "   engineSize  \n",
       "0         2.0  \n",
       "1         2.0  \n",
       "2         3.0  \n",
       "3         1.5  \n",
       "4         3.0  "
      ]
     },
     "execution_count": 44,
     "metadata": {},
     "output_type": "execute_result"
    }
   ],
   "source": [
    "bmw.head()"
   ]
  },
  {
   "cell_type": "code",
   "execution_count": 45,
   "id": "f392f798-2de4-4d18-a9bb-f92a0324d662",
   "metadata": {},
   "outputs": [
    {
     "data": {
      "text/html": [
       "<div>\n",
       "<style scoped>\n",
       "    .dataframe tbody tr th:only-of-type {\n",
       "        vertical-align: middle;\n",
       "    }\n",
       "\n",
       "    .dataframe tbody tr th {\n",
       "        vertical-align: top;\n",
       "    }\n",
       "\n",
       "    .dataframe thead th {\n",
       "        text-align: right;\n",
       "    }\n",
       "</style>\n",
       "<table border=\"1\" class=\"dataframe\">\n",
       "  <thead>\n",
       "    <tr style=\"text-align: right;\">\n",
       "      <th></th>\n",
       "      <th>model</th>\n",
       "      <th>year</th>\n",
       "      <th>price</th>\n",
       "      <th>transmission</th>\n",
       "      <th>mileage</th>\n",
       "      <th>fuelType</th>\n",
       "      <th>engineSize</th>\n",
       "    </tr>\n",
       "  </thead>\n",
       "  <tbody>\n",
       "    <tr>\n",
       "      <th>0</th>\n",
       "      <td>C Class</td>\n",
       "      <td>2020</td>\n",
       "      <td>30495</td>\n",
       "      <td>Automatic</td>\n",
       "      <td>1200</td>\n",
       "      <td>Diesel</td>\n",
       "      <td>2.0</td>\n",
       "    </tr>\n",
       "    <tr>\n",
       "      <th>1</th>\n",
       "      <td>C Class</td>\n",
       "      <td>2020</td>\n",
       "      <td>29989</td>\n",
       "      <td>Automatic</td>\n",
       "      <td>1000</td>\n",
       "      <td>Petrol</td>\n",
       "      <td>1.5</td>\n",
       "    </tr>\n",
       "    <tr>\n",
       "      <th>2</th>\n",
       "      <td>C Class</td>\n",
       "      <td>2020</td>\n",
       "      <td>37899</td>\n",
       "      <td>Automatic</td>\n",
       "      <td>500</td>\n",
       "      <td>Diesel</td>\n",
       "      <td>2.0</td>\n",
       "    </tr>\n",
       "    <tr>\n",
       "      <th>3</th>\n",
       "      <td>C Class</td>\n",
       "      <td>2019</td>\n",
       "      <td>30399</td>\n",
       "      <td>Automatic</td>\n",
       "      <td>5000</td>\n",
       "      <td>Diesel</td>\n",
       "      <td>2.0</td>\n",
       "    </tr>\n",
       "    <tr>\n",
       "      <th>4</th>\n",
       "      <td>C Class</td>\n",
       "      <td>2019</td>\n",
       "      <td>29899</td>\n",
       "      <td>Automatic</td>\n",
       "      <td>4500</td>\n",
       "      <td>Diesel</td>\n",
       "      <td>2.0</td>\n",
       "    </tr>\n",
       "  </tbody>\n",
       "</table>\n",
       "</div>"
      ],
      "text/plain": [
       "      model  year  price transmission  mileage fuelType  engineSize\n",
       "0   C Class  2020  30495    Automatic     1200   Diesel         2.0\n",
       "1   C Class  2020  29989    Automatic     1000   Petrol         1.5\n",
       "2   C Class  2020  37899    Automatic      500   Diesel         2.0\n",
       "3   C Class  2019  30399    Automatic     5000   Diesel         2.0\n",
       "4   C Class  2019  29899    Automatic     4500   Diesel         2.0"
      ]
     },
     "execution_count": 45,
     "metadata": {},
     "output_type": "execute_result"
    }
   ],
   "source": [
    "cclass.head()"
   ]
  },
  {
   "cell_type": "code",
   "execution_count": 46,
   "id": "00f213bf-c90e-4b03-a026-4445b725e0bd",
   "metadata": {},
   "outputs": [
    {
     "data": {
      "text/html": [
       "<div>\n",
       "<style scoped>\n",
       "    .dataframe tbody tr th:only-of-type {\n",
       "        vertical-align: middle;\n",
       "    }\n",
       "\n",
       "    .dataframe tbody tr th {\n",
       "        vertical-align: top;\n",
       "    }\n",
       "\n",
       "    .dataframe thead th {\n",
       "        text-align: right;\n",
       "    }\n",
       "</style>\n",
       "<table border=\"1\" class=\"dataframe\">\n",
       "  <thead>\n",
       "    <tr style=\"text-align: right;\">\n",
       "      <th></th>\n",
       "      <th>model</th>\n",
       "      <th>year</th>\n",
       "      <th>price</th>\n",
       "      <th>transmission</th>\n",
       "      <th>mileage</th>\n",
       "      <th>fuelType</th>\n",
       "      <th>engineSize</th>\n",
       "    </tr>\n",
       "  </thead>\n",
       "  <tbody>\n",
       "    <tr>\n",
       "      <th>0</th>\n",
       "      <td>Focus</td>\n",
       "      <td>2016</td>\n",
       "      <td>8000</td>\n",
       "      <td>Manual</td>\n",
       "      <td>38852</td>\n",
       "      <td>Petrol</td>\n",
       "      <td>1.0</td>\n",
       "    </tr>\n",
       "    <tr>\n",
       "      <th>1</th>\n",
       "      <td>Focus</td>\n",
       "      <td>2019</td>\n",
       "      <td>13400</td>\n",
       "      <td>Manual</td>\n",
       "      <td>11952</td>\n",
       "      <td>Petrol</td>\n",
       "      <td>1.0</td>\n",
       "    </tr>\n",
       "    <tr>\n",
       "      <th>2</th>\n",
       "      <td>Focus</td>\n",
       "      <td>2019</td>\n",
       "      <td>14600</td>\n",
       "      <td>Manual</td>\n",
       "      <td>22142</td>\n",
       "      <td>Petrol</td>\n",
       "      <td>1.5</td>\n",
       "    </tr>\n",
       "    <tr>\n",
       "      <th>3</th>\n",
       "      <td>Focus</td>\n",
       "      <td>2016</td>\n",
       "      <td>9450</td>\n",
       "      <td>Manual</td>\n",
       "      <td>14549</td>\n",
       "      <td>Diesel</td>\n",
       "      <td>1.6</td>\n",
       "    </tr>\n",
       "    <tr>\n",
       "      <th>4</th>\n",
       "      <td>Focus</td>\n",
       "      <td>2015</td>\n",
       "      <td>9999</td>\n",
       "      <td>Manual</td>\n",
       "      <td>7010</td>\n",
       "      <td>Diesel</td>\n",
       "      <td>1.6</td>\n",
       "    </tr>\n",
       "  </tbody>\n",
       "</table>\n",
       "</div>"
      ],
      "text/plain": [
       "    model  year  price transmission  mileage fuelType  engineSize\n",
       "0   Focus  2016   8000       Manual    38852   Petrol         1.0\n",
       "1   Focus  2019  13400       Manual    11952   Petrol         1.0\n",
       "2   Focus  2019  14600       Manual    22142   Petrol         1.5\n",
       "3   Focus  2016   9450       Manual    14549   Diesel         1.6\n",
       "4   Focus  2015   9999       Manual     7010   Diesel         1.6"
      ]
     },
     "execution_count": 46,
     "metadata": {},
     "output_type": "execute_result"
    }
   ],
   "source": [
    "focus.head()"
   ]
  },
  {
   "cell_type": "code",
   "execution_count": 47,
   "id": "bd6d7b0c-38d9-4954-91ae-9f3d5102ab51",
   "metadata": {},
   "outputs": [
    {
     "data": {
      "text/html": [
       "<div>\n",
       "<style scoped>\n",
       "    .dataframe tbody tr th:only-of-type {\n",
       "        vertical-align: middle;\n",
       "    }\n",
       "\n",
       "    .dataframe tbody tr th {\n",
       "        vertical-align: top;\n",
       "    }\n",
       "\n",
       "    .dataframe thead th {\n",
       "        text-align: right;\n",
       "    }\n",
       "</style>\n",
       "<table border=\"1\" class=\"dataframe\">\n",
       "  <thead>\n",
       "    <tr style=\"text-align: right;\">\n",
       "      <th></th>\n",
       "      <th>model</th>\n",
       "      <th>year</th>\n",
       "      <th>price</th>\n",
       "      <th>transmission</th>\n",
       "      <th>mileage</th>\n",
       "      <th>fuelType</th>\n",
       "      <th>tax</th>\n",
       "      <th>mpg</th>\n",
       "      <th>engineSize</th>\n",
       "    </tr>\n",
       "  </thead>\n",
       "  <tbody>\n",
       "    <tr>\n",
       "      <th>0</th>\n",
       "      <td>Fiesta</td>\n",
       "      <td>2017</td>\n",
       "      <td>12000</td>\n",
       "      <td>Automatic</td>\n",
       "      <td>15944</td>\n",
       "      <td>Petrol</td>\n",
       "      <td>150</td>\n",
       "      <td>57.7</td>\n",
       "      <td>1.0</td>\n",
       "    </tr>\n",
       "    <tr>\n",
       "      <th>1</th>\n",
       "      <td>Focus</td>\n",
       "      <td>2018</td>\n",
       "      <td>14000</td>\n",
       "      <td>Manual</td>\n",
       "      <td>9083</td>\n",
       "      <td>Petrol</td>\n",
       "      <td>150</td>\n",
       "      <td>57.7</td>\n",
       "      <td>1.0</td>\n",
       "    </tr>\n",
       "    <tr>\n",
       "      <th>2</th>\n",
       "      <td>Focus</td>\n",
       "      <td>2017</td>\n",
       "      <td>13000</td>\n",
       "      <td>Manual</td>\n",
       "      <td>12456</td>\n",
       "      <td>Petrol</td>\n",
       "      <td>150</td>\n",
       "      <td>57.7</td>\n",
       "      <td>1.0</td>\n",
       "    </tr>\n",
       "    <tr>\n",
       "      <th>3</th>\n",
       "      <td>Fiesta</td>\n",
       "      <td>2019</td>\n",
       "      <td>17500</td>\n",
       "      <td>Manual</td>\n",
       "      <td>10460</td>\n",
       "      <td>Petrol</td>\n",
       "      <td>145</td>\n",
       "      <td>40.3</td>\n",
       "      <td>1.5</td>\n",
       "    </tr>\n",
       "    <tr>\n",
       "      <th>4</th>\n",
       "      <td>Fiesta</td>\n",
       "      <td>2019</td>\n",
       "      <td>16500</td>\n",
       "      <td>Automatic</td>\n",
       "      <td>1482</td>\n",
       "      <td>Petrol</td>\n",
       "      <td>145</td>\n",
       "      <td>48.7</td>\n",
       "      <td>1.0</td>\n",
       "    </tr>\n",
       "  </tbody>\n",
       "</table>\n",
       "</div>"
      ],
      "text/plain": [
       "     model  year  price transmission  mileage fuelType  tax   mpg  engineSize\n",
       "0   Fiesta  2017  12000    Automatic    15944   Petrol  150  57.7         1.0\n",
       "1    Focus  2018  14000       Manual     9083   Petrol  150  57.7         1.0\n",
       "2    Focus  2017  13000       Manual    12456   Petrol  150  57.7         1.0\n",
       "3   Fiesta  2019  17500       Manual    10460   Petrol  145  40.3         1.5\n",
       "4   Fiesta  2019  16500    Automatic     1482   Petrol  145  48.7         1.0"
      ]
     },
     "execution_count": 47,
     "metadata": {},
     "output_type": "execute_result"
    }
   ],
   "source": [
    "ford.head()"
   ]
  },
  {
   "cell_type": "code",
   "execution_count": 48,
   "id": "a0e2f9da-2028-4920-a995-842eec903dc1",
   "metadata": {},
   "outputs": [
    {
     "data": {
      "text/html": [
       "<div>\n",
       "<style scoped>\n",
       "    .dataframe tbody tr th:only-of-type {\n",
       "        vertical-align: middle;\n",
       "    }\n",
       "\n",
       "    .dataframe tbody tr th {\n",
       "        vertical-align: top;\n",
       "    }\n",
       "\n",
       "    .dataframe thead th {\n",
       "        text-align: right;\n",
       "    }\n",
       "</style>\n",
       "<table border=\"1\" class=\"dataframe\">\n",
       "  <thead>\n",
       "    <tr style=\"text-align: right;\">\n",
       "      <th></th>\n",
       "      <th>model</th>\n",
       "      <th>year</th>\n",
       "      <th>price</th>\n",
       "      <th>transmission</th>\n",
       "      <th>mileage</th>\n",
       "      <th>fuelType</th>\n",
       "      <th>tax(£)</th>\n",
       "      <th>mpg</th>\n",
       "      <th>engineSize</th>\n",
       "    </tr>\n",
       "  </thead>\n",
       "  <tbody>\n",
       "    <tr>\n",
       "      <th>0</th>\n",
       "      <td>I20</td>\n",
       "      <td>2017</td>\n",
       "      <td>7999</td>\n",
       "      <td>Manual</td>\n",
       "      <td>17307</td>\n",
       "      <td>Petrol</td>\n",
       "      <td>145</td>\n",
       "      <td>58.9</td>\n",
       "      <td>1.2</td>\n",
       "    </tr>\n",
       "    <tr>\n",
       "      <th>1</th>\n",
       "      <td>Tucson</td>\n",
       "      <td>2016</td>\n",
       "      <td>14499</td>\n",
       "      <td>Automatic</td>\n",
       "      <td>25233</td>\n",
       "      <td>Diesel</td>\n",
       "      <td>235</td>\n",
       "      <td>43.5</td>\n",
       "      <td>2.0</td>\n",
       "    </tr>\n",
       "    <tr>\n",
       "      <th>2</th>\n",
       "      <td>Tucson</td>\n",
       "      <td>2016</td>\n",
       "      <td>11399</td>\n",
       "      <td>Manual</td>\n",
       "      <td>37877</td>\n",
       "      <td>Diesel</td>\n",
       "      <td>30</td>\n",
       "      <td>61.7</td>\n",
       "      <td>1.7</td>\n",
       "    </tr>\n",
       "    <tr>\n",
       "      <th>3</th>\n",
       "      <td>I10</td>\n",
       "      <td>2016</td>\n",
       "      <td>6499</td>\n",
       "      <td>Manual</td>\n",
       "      <td>23789</td>\n",
       "      <td>Petrol</td>\n",
       "      <td>20</td>\n",
       "      <td>60.1</td>\n",
       "      <td>1.0</td>\n",
       "    </tr>\n",
       "    <tr>\n",
       "      <th>4</th>\n",
       "      <td>IX35</td>\n",
       "      <td>2015</td>\n",
       "      <td>10199</td>\n",
       "      <td>Manual</td>\n",
       "      <td>33177</td>\n",
       "      <td>Diesel</td>\n",
       "      <td>160</td>\n",
       "      <td>51.4</td>\n",
       "      <td>2.0</td>\n",
       "    </tr>\n",
       "  </tbody>\n",
       "</table>\n",
       "</div>"
      ],
      "text/plain": [
       "     model  year  price transmission  mileage fuelType  tax(£)   mpg  \\\n",
       "0      I20  2017   7999       Manual    17307   Petrol     145  58.9   \n",
       "1   Tucson  2016  14499    Automatic    25233   Diesel     235  43.5   \n",
       "2   Tucson  2016  11399       Manual    37877   Diesel      30  61.7   \n",
       "3      I10  2016   6499       Manual    23789   Petrol      20  60.1   \n",
       "4     IX35  2015  10199       Manual    33177   Diesel     160  51.4   \n",
       "\n",
       "   engineSize  \n",
       "0         1.2  \n",
       "1         2.0  \n",
       "2         1.7  \n",
       "3         1.0  \n",
       "4         2.0  "
      ]
     },
     "execution_count": 48,
     "metadata": {},
     "output_type": "execute_result"
    }
   ],
   "source": [
    "hyundi.head()"
   ]
  },
  {
   "cell_type": "code",
   "execution_count": 49,
   "id": "3206a228-dac9-4c95-91a2-c05575db681e",
   "metadata": {},
   "outputs": [
    {
     "data": {
      "text/html": [
       "<div>\n",
       "<style scoped>\n",
       "    .dataframe tbody tr th:only-of-type {\n",
       "        vertical-align: middle;\n",
       "    }\n",
       "\n",
       "    .dataframe tbody tr th {\n",
       "        vertical-align: top;\n",
       "    }\n",
       "\n",
       "    .dataframe thead th {\n",
       "        text-align: right;\n",
       "    }\n",
       "</style>\n",
       "<table border=\"1\" class=\"dataframe\">\n",
       "  <thead>\n",
       "    <tr style=\"text-align: right;\">\n",
       "      <th></th>\n",
       "      <th>model</th>\n",
       "      <th>year</th>\n",
       "      <th>price</th>\n",
       "      <th>transmission</th>\n",
       "      <th>mileage</th>\n",
       "      <th>fuelType</th>\n",
       "      <th>tax(£)</th>\n",
       "      <th>mpg</th>\n",
       "      <th>engineSize</th>\n",
       "    </tr>\n",
       "  </thead>\n",
       "  <tbody>\n",
       "    <tr>\n",
       "      <th>0</th>\n",
       "      <td>I20</td>\n",
       "      <td>2017</td>\n",
       "      <td>7999</td>\n",
       "      <td>Manual</td>\n",
       "      <td>17307</td>\n",
       "      <td>Petrol</td>\n",
       "      <td>145</td>\n",
       "      <td>58.9</td>\n",
       "      <td>1.2</td>\n",
       "    </tr>\n",
       "    <tr>\n",
       "      <th>1</th>\n",
       "      <td>Tucson</td>\n",
       "      <td>2016</td>\n",
       "      <td>14499</td>\n",
       "      <td>Automatic</td>\n",
       "      <td>25233</td>\n",
       "      <td>Diesel</td>\n",
       "      <td>235</td>\n",
       "      <td>43.5</td>\n",
       "      <td>2.0</td>\n",
       "    </tr>\n",
       "    <tr>\n",
       "      <th>2</th>\n",
       "      <td>Tucson</td>\n",
       "      <td>2016</td>\n",
       "      <td>11399</td>\n",
       "      <td>Manual</td>\n",
       "      <td>37877</td>\n",
       "      <td>Diesel</td>\n",
       "      <td>30</td>\n",
       "      <td>61.7</td>\n",
       "      <td>1.7</td>\n",
       "    </tr>\n",
       "    <tr>\n",
       "      <th>3</th>\n",
       "      <td>I10</td>\n",
       "      <td>2016</td>\n",
       "      <td>6499</td>\n",
       "      <td>Manual</td>\n",
       "      <td>23789</td>\n",
       "      <td>Petrol</td>\n",
       "      <td>20</td>\n",
       "      <td>60.1</td>\n",
       "      <td>1.0</td>\n",
       "    </tr>\n",
       "    <tr>\n",
       "      <th>4</th>\n",
       "      <td>IX35</td>\n",
       "      <td>2015</td>\n",
       "      <td>10199</td>\n",
       "      <td>Manual</td>\n",
       "      <td>33177</td>\n",
       "      <td>Diesel</td>\n",
       "      <td>160</td>\n",
       "      <td>51.4</td>\n",
       "      <td>2.0</td>\n",
       "    </tr>\n",
       "  </tbody>\n",
       "</table>\n",
       "</div>"
      ],
      "text/plain": [
       "     model  year  price transmission  mileage fuelType  tax(£)   mpg  \\\n",
       "0      I20  2017   7999       Manual    17307   Petrol     145  58.9   \n",
       "1   Tucson  2016  14499    Automatic    25233   Diesel     235  43.5   \n",
       "2   Tucson  2016  11399       Manual    37877   Diesel      30  61.7   \n",
       "3      I10  2016   6499       Manual    23789   Petrol      20  60.1   \n",
       "4     IX35  2015  10199       Manual    33177   Diesel     160  51.4   \n",
       "\n",
       "   engineSize  \n",
       "0         1.2  \n",
       "1         2.0  \n",
       "2         1.7  \n",
       "3         1.0  \n",
       "4         2.0  "
      ]
     },
     "execution_count": 49,
     "metadata": {},
     "output_type": "execute_result"
    }
   ],
   "source": [
    "hyundi.rename(columns= {'tax(£)': 'tax'})\n",
    "hyundi.head()"
   ]
  },
  {
   "cell_type": "code",
   "execution_count": 50,
   "id": "23642793-4f22-4fb5-9ccf-32423e7ac2ae",
   "metadata": {},
   "outputs": [
    {
     "data": {
      "text/html": [
       "<div>\n",
       "<style scoped>\n",
       "    .dataframe tbody tr th:only-of-type {\n",
       "        vertical-align: middle;\n",
       "    }\n",
       "\n",
       "    .dataframe tbody tr th {\n",
       "        vertical-align: top;\n",
       "    }\n",
       "\n",
       "    .dataframe thead th {\n",
       "        text-align: right;\n",
       "    }\n",
       "</style>\n",
       "<table border=\"1\" class=\"dataframe\">\n",
       "  <thead>\n",
       "    <tr style=\"text-align: right;\">\n",
       "      <th></th>\n",
       "      <th>model</th>\n",
       "      <th>year</th>\n",
       "      <th>price</th>\n",
       "      <th>transmission</th>\n",
       "      <th>mileage</th>\n",
       "      <th>fuelType</th>\n",
       "      <th>tax</th>\n",
       "      <th>mpg</th>\n",
       "      <th>engineSize</th>\n",
       "    </tr>\n",
       "  </thead>\n",
       "  <tbody>\n",
       "    <tr>\n",
       "      <th>0</th>\n",
       "      <td>SLK</td>\n",
       "      <td>2005</td>\n",
       "      <td>5200</td>\n",
       "      <td>Automatic</td>\n",
       "      <td>63000</td>\n",
       "      <td>Petrol</td>\n",
       "      <td>325</td>\n",
       "      <td>32.1</td>\n",
       "      <td>1.8</td>\n",
       "    </tr>\n",
       "    <tr>\n",
       "      <th>1</th>\n",
       "      <td>S Class</td>\n",
       "      <td>2017</td>\n",
       "      <td>34948</td>\n",
       "      <td>Automatic</td>\n",
       "      <td>27000</td>\n",
       "      <td>Hybrid</td>\n",
       "      <td>20</td>\n",
       "      <td>61.4</td>\n",
       "      <td>2.1</td>\n",
       "    </tr>\n",
       "    <tr>\n",
       "      <th>2</th>\n",
       "      <td>SL CLASS</td>\n",
       "      <td>2016</td>\n",
       "      <td>49948</td>\n",
       "      <td>Automatic</td>\n",
       "      <td>6200</td>\n",
       "      <td>Petrol</td>\n",
       "      <td>555</td>\n",
       "      <td>28.0</td>\n",
       "      <td>5.5</td>\n",
       "    </tr>\n",
       "    <tr>\n",
       "      <th>3</th>\n",
       "      <td>G Class</td>\n",
       "      <td>2016</td>\n",
       "      <td>61948</td>\n",
       "      <td>Automatic</td>\n",
       "      <td>16000</td>\n",
       "      <td>Petrol</td>\n",
       "      <td>325</td>\n",
       "      <td>30.4</td>\n",
       "      <td>4.0</td>\n",
       "    </tr>\n",
       "    <tr>\n",
       "      <th>4</th>\n",
       "      <td>G Class</td>\n",
       "      <td>2016</td>\n",
       "      <td>73948</td>\n",
       "      <td>Automatic</td>\n",
       "      <td>4000</td>\n",
       "      <td>Petrol</td>\n",
       "      <td>325</td>\n",
       "      <td>30.1</td>\n",
       "      <td>4.0</td>\n",
       "    </tr>\n",
       "  </tbody>\n",
       "</table>\n",
       "</div>"
      ],
      "text/plain": [
       "       model  year  price transmission  mileage fuelType  tax   mpg  \\\n",
       "0        SLK  2005   5200    Automatic    63000   Petrol  325  32.1   \n",
       "1    S Class  2017  34948    Automatic    27000   Hybrid   20  61.4   \n",
       "2   SL CLASS  2016  49948    Automatic     6200   Petrol  555  28.0   \n",
       "3    G Class  2016  61948    Automatic    16000   Petrol  325  30.4   \n",
       "4    G Class  2016  73948    Automatic     4000   Petrol  325  30.1   \n",
       "\n",
       "   engineSize  \n",
       "0         1.8  \n",
       "1         2.1  \n",
       "2         5.5  \n",
       "3         4.0  \n",
       "4         4.0  "
      ]
     },
     "execution_count": 50,
     "metadata": {},
     "output_type": "execute_result"
    }
   ],
   "source": [
    "merc.head()"
   ]
  },
  {
   "cell_type": "code",
   "execution_count": 51,
   "id": "e17703e1-a858-46cd-b190-8d2410f96289",
   "metadata": {},
   "outputs": [
    {
     "data": {
      "text/html": [
       "<div>\n",
       "<style scoped>\n",
       "    .dataframe tbody tr th:only-of-type {\n",
       "        vertical-align: middle;\n",
       "    }\n",
       "\n",
       "    .dataframe tbody tr th {\n",
       "        vertical-align: top;\n",
       "    }\n",
       "\n",
       "    .dataframe thead th {\n",
       "        text-align: right;\n",
       "    }\n",
       "</style>\n",
       "<table border=\"1\" class=\"dataframe\">\n",
       "  <thead>\n",
       "    <tr style=\"text-align: right;\">\n",
       "      <th></th>\n",
       "      <th>model</th>\n",
       "      <th>year</th>\n",
       "      <th>price</th>\n",
       "      <th>transmission</th>\n",
       "      <th>mileage</th>\n",
       "      <th>fuelType</th>\n",
       "      <th>tax</th>\n",
       "      <th>mpg</th>\n",
       "      <th>engineSize</th>\n",
       "    </tr>\n",
       "  </thead>\n",
       "  <tbody>\n",
       "    <tr>\n",
       "      <th>0</th>\n",
       "      <td>Octavia</td>\n",
       "      <td>2017</td>\n",
       "      <td>10550</td>\n",
       "      <td>Manual</td>\n",
       "      <td>25250</td>\n",
       "      <td>Petrol</td>\n",
       "      <td>150</td>\n",
       "      <td>54.3</td>\n",
       "      <td>1.4</td>\n",
       "    </tr>\n",
       "    <tr>\n",
       "      <th>1</th>\n",
       "      <td>Citigo</td>\n",
       "      <td>2018</td>\n",
       "      <td>8200</td>\n",
       "      <td>Manual</td>\n",
       "      <td>1264</td>\n",
       "      <td>Petrol</td>\n",
       "      <td>145</td>\n",
       "      <td>67.3</td>\n",
       "      <td>1.0</td>\n",
       "    </tr>\n",
       "    <tr>\n",
       "      <th>2</th>\n",
       "      <td>Octavia</td>\n",
       "      <td>2019</td>\n",
       "      <td>15650</td>\n",
       "      <td>Automatic</td>\n",
       "      <td>6825</td>\n",
       "      <td>Diesel</td>\n",
       "      <td>145</td>\n",
       "      <td>67.3</td>\n",
       "      <td>2.0</td>\n",
       "    </tr>\n",
       "    <tr>\n",
       "      <th>3</th>\n",
       "      <td>Yeti Outdoor</td>\n",
       "      <td>2015</td>\n",
       "      <td>14000</td>\n",
       "      <td>Automatic</td>\n",
       "      <td>28431</td>\n",
       "      <td>Diesel</td>\n",
       "      <td>165</td>\n",
       "      <td>51.4</td>\n",
       "      <td>2.0</td>\n",
       "    </tr>\n",
       "    <tr>\n",
       "      <th>4</th>\n",
       "      <td>Superb</td>\n",
       "      <td>2019</td>\n",
       "      <td>18350</td>\n",
       "      <td>Manual</td>\n",
       "      <td>10912</td>\n",
       "      <td>Petrol</td>\n",
       "      <td>150</td>\n",
       "      <td>40.9</td>\n",
       "      <td>1.5</td>\n",
       "    </tr>\n",
       "  </tbody>\n",
       "</table>\n",
       "</div>"
      ],
      "text/plain": [
       "           model  year  price transmission  mileage fuelType  tax   mpg  \\\n",
       "0        Octavia  2017  10550       Manual    25250   Petrol  150  54.3   \n",
       "1         Citigo  2018   8200       Manual     1264   Petrol  145  67.3   \n",
       "2        Octavia  2019  15650    Automatic     6825   Diesel  145  67.3   \n",
       "3   Yeti Outdoor  2015  14000    Automatic    28431   Diesel  165  51.4   \n",
       "4         Superb  2019  18350       Manual    10912   Petrol  150  40.9   \n",
       "\n",
       "   engineSize  \n",
       "0         1.4  \n",
       "1         1.0  \n",
       "2         2.0  \n",
       "3         2.0  \n",
       "4         1.5  "
      ]
     },
     "execution_count": 51,
     "metadata": {},
     "output_type": "execute_result"
    }
   ],
   "source": [
    "skoda.head()"
   ]
  },
  {
   "cell_type": "code",
   "execution_count": 52,
   "id": "666a8071-f367-4502-b0fe-f70ea362fd28",
   "metadata": {},
   "outputs": [
    {
     "data": {
      "text/html": [
       "<div>\n",
       "<style scoped>\n",
       "    .dataframe tbody tr th:only-of-type {\n",
       "        vertical-align: middle;\n",
       "    }\n",
       "\n",
       "    .dataframe tbody tr th {\n",
       "        vertical-align: top;\n",
       "    }\n",
       "\n",
       "    .dataframe thead th {\n",
       "        text-align: right;\n",
       "    }\n",
       "</style>\n",
       "<table border=\"1\" class=\"dataframe\">\n",
       "  <thead>\n",
       "    <tr style=\"text-align: right;\">\n",
       "      <th></th>\n",
       "      <th>model</th>\n",
       "      <th>year</th>\n",
       "      <th>price</th>\n",
       "      <th>transmission</th>\n",
       "      <th>mileage</th>\n",
       "      <th>fuelType</th>\n",
       "      <th>tax</th>\n",
       "      <th>mpg</th>\n",
       "      <th>engineSize</th>\n",
       "    </tr>\n",
       "  </thead>\n",
       "  <tbody>\n",
       "    <tr>\n",
       "      <th>0</th>\n",
       "      <td>GT86</td>\n",
       "      <td>2016</td>\n",
       "      <td>16000</td>\n",
       "      <td>Manual</td>\n",
       "      <td>24089</td>\n",
       "      <td>Petrol</td>\n",
       "      <td>265</td>\n",
       "      <td>36.2</td>\n",
       "      <td>2.0</td>\n",
       "    </tr>\n",
       "    <tr>\n",
       "      <th>1</th>\n",
       "      <td>GT86</td>\n",
       "      <td>2017</td>\n",
       "      <td>15995</td>\n",
       "      <td>Manual</td>\n",
       "      <td>18615</td>\n",
       "      <td>Petrol</td>\n",
       "      <td>145</td>\n",
       "      <td>36.2</td>\n",
       "      <td>2.0</td>\n",
       "    </tr>\n",
       "    <tr>\n",
       "      <th>2</th>\n",
       "      <td>GT86</td>\n",
       "      <td>2015</td>\n",
       "      <td>13998</td>\n",
       "      <td>Manual</td>\n",
       "      <td>27469</td>\n",
       "      <td>Petrol</td>\n",
       "      <td>265</td>\n",
       "      <td>36.2</td>\n",
       "      <td>2.0</td>\n",
       "    </tr>\n",
       "    <tr>\n",
       "      <th>3</th>\n",
       "      <td>GT86</td>\n",
       "      <td>2017</td>\n",
       "      <td>18998</td>\n",
       "      <td>Manual</td>\n",
       "      <td>14736</td>\n",
       "      <td>Petrol</td>\n",
       "      <td>150</td>\n",
       "      <td>36.2</td>\n",
       "      <td>2.0</td>\n",
       "    </tr>\n",
       "    <tr>\n",
       "      <th>4</th>\n",
       "      <td>GT86</td>\n",
       "      <td>2017</td>\n",
       "      <td>17498</td>\n",
       "      <td>Manual</td>\n",
       "      <td>36284</td>\n",
       "      <td>Petrol</td>\n",
       "      <td>145</td>\n",
       "      <td>36.2</td>\n",
       "      <td>2.0</td>\n",
       "    </tr>\n",
       "  </tbody>\n",
       "</table>\n",
       "</div>"
      ],
      "text/plain": [
       "   model  year  price transmission  mileage fuelType  tax   mpg  engineSize\n",
       "0   GT86  2016  16000       Manual    24089   Petrol  265  36.2         2.0\n",
       "1   GT86  2017  15995       Manual    18615   Petrol  145  36.2         2.0\n",
       "2   GT86  2015  13998       Manual    27469   Petrol  265  36.2         2.0\n",
       "3   GT86  2017  18998       Manual    14736   Petrol  150  36.2         2.0\n",
       "4   GT86  2017  17498       Manual    36284   Petrol  145  36.2         2.0"
      ]
     },
     "execution_count": 52,
     "metadata": {},
     "output_type": "execute_result"
    }
   ],
   "source": [
    "toyota.head()"
   ]
  },
  {
   "cell_type": "code",
   "execution_count": 53,
   "id": "539df833-6465-4c27-9853-f702f2a836e3",
   "metadata": {},
   "outputs": [
    {
     "data": {
      "text/html": [
       "<div>\n",
       "<style scoped>\n",
       "    .dataframe tbody tr th:only-of-type {\n",
       "        vertical-align: middle;\n",
       "    }\n",
       "\n",
       "    .dataframe tbody tr th {\n",
       "        vertical-align: top;\n",
       "    }\n",
       "\n",
       "    .dataframe thead th {\n",
       "        text-align: right;\n",
       "    }\n",
       "</style>\n",
       "<table border=\"1\" class=\"dataframe\">\n",
       "  <thead>\n",
       "    <tr style=\"text-align: right;\">\n",
       "      <th></th>\n",
       "      <th>model</th>\n",
       "      <th>year</th>\n",
       "      <th>price</th>\n",
       "      <th>transmission</th>\n",
       "      <th>mileage</th>\n",
       "      <th>fuelType</th>\n",
       "      <th>tax</th>\n",
       "      <th>mpg</th>\n",
       "      <th>engineSize</th>\n",
       "    </tr>\n",
       "  </thead>\n",
       "  <tbody>\n",
       "    <tr>\n",
       "      <th>0</th>\n",
       "      <td>Corsa</td>\n",
       "      <td>2018</td>\n",
       "      <td>7885</td>\n",
       "      <td>Manual</td>\n",
       "      <td>9876</td>\n",
       "      <td>Petrol</td>\n",
       "      <td>145</td>\n",
       "      <td>55.4</td>\n",
       "      <td>1.4</td>\n",
       "    </tr>\n",
       "    <tr>\n",
       "      <th>1</th>\n",
       "      <td>Corsa</td>\n",
       "      <td>2019</td>\n",
       "      <td>11995</td>\n",
       "      <td>Manual</td>\n",
       "      <td>2500</td>\n",
       "      <td>Petrol</td>\n",
       "      <td>145</td>\n",
       "      <td>54.3</td>\n",
       "      <td>1.4</td>\n",
       "    </tr>\n",
       "    <tr>\n",
       "      <th>2</th>\n",
       "      <td>Corsa</td>\n",
       "      <td>2017</td>\n",
       "      <td>9777</td>\n",
       "      <td>Automatic</td>\n",
       "      <td>9625</td>\n",
       "      <td>Petrol</td>\n",
       "      <td>145</td>\n",
       "      <td>47.9</td>\n",
       "      <td>1.4</td>\n",
       "    </tr>\n",
       "    <tr>\n",
       "      <th>3</th>\n",
       "      <td>Corsa</td>\n",
       "      <td>2016</td>\n",
       "      <td>8500</td>\n",
       "      <td>Manual</td>\n",
       "      <td>25796</td>\n",
       "      <td>Petrol</td>\n",
       "      <td>30</td>\n",
       "      <td>55.4</td>\n",
       "      <td>1.4</td>\n",
       "    </tr>\n",
       "    <tr>\n",
       "      <th>4</th>\n",
       "      <td>Corsa</td>\n",
       "      <td>2019</td>\n",
       "      <td>10000</td>\n",
       "      <td>Manual</td>\n",
       "      <td>3887</td>\n",
       "      <td>Petrol</td>\n",
       "      <td>145</td>\n",
       "      <td>43.5</td>\n",
       "      <td>1.4</td>\n",
       "    </tr>\n",
       "  </tbody>\n",
       "</table>\n",
       "</div>"
      ],
      "text/plain": [
       "    model  year  price transmission  mileage fuelType  tax   mpg  engineSize\n",
       "0   Corsa  2018   7885       Manual     9876   Petrol  145  55.4         1.4\n",
       "1   Corsa  2019  11995       Manual     2500   Petrol  145  54.3         1.4\n",
       "2   Corsa  2017   9777    Automatic     9625   Petrol  145  47.9         1.4\n",
       "3   Corsa  2016   8500       Manual    25796   Petrol   30  55.4         1.4\n",
       "4   Corsa  2019  10000       Manual     3887   Petrol  145  43.5         1.4"
      ]
     },
     "execution_count": 53,
     "metadata": {},
     "output_type": "execute_result"
    }
   ],
   "source": [
    "vauxhall.head()"
   ]
  },
  {
   "cell_type": "code",
   "execution_count": 54,
   "id": "083fb4c0-9d6b-494b-be0f-ff4b2aeaf45a",
   "metadata": {},
   "outputs": [
    {
     "data": {
      "text/html": [
       "<div>\n",
       "<style scoped>\n",
       "    .dataframe tbody tr th:only-of-type {\n",
       "        vertical-align: middle;\n",
       "    }\n",
       "\n",
       "    .dataframe tbody tr th {\n",
       "        vertical-align: top;\n",
       "    }\n",
       "\n",
       "    .dataframe thead th {\n",
       "        text-align: right;\n",
       "    }\n",
       "</style>\n",
       "<table border=\"1\" class=\"dataframe\">\n",
       "  <thead>\n",
       "    <tr style=\"text-align: right;\">\n",
       "      <th></th>\n",
       "      <th>model</th>\n",
       "      <th>year</th>\n",
       "      <th>price</th>\n",
       "      <th>transmission</th>\n",
       "      <th>mileage</th>\n",
       "      <th>fuelType</th>\n",
       "      <th>tax</th>\n",
       "      <th>mpg</th>\n",
       "      <th>engineSize</th>\n",
       "    </tr>\n",
       "  </thead>\n",
       "  <tbody>\n",
       "    <tr>\n",
       "      <th>0</th>\n",
       "      <td>T-Roc</td>\n",
       "      <td>2019</td>\n",
       "      <td>25000</td>\n",
       "      <td>Automatic</td>\n",
       "      <td>13904</td>\n",
       "      <td>Diesel</td>\n",
       "      <td>145</td>\n",
       "      <td>49.6</td>\n",
       "      <td>2.0</td>\n",
       "    </tr>\n",
       "    <tr>\n",
       "      <th>1</th>\n",
       "      <td>T-Roc</td>\n",
       "      <td>2019</td>\n",
       "      <td>26883</td>\n",
       "      <td>Automatic</td>\n",
       "      <td>4562</td>\n",
       "      <td>Diesel</td>\n",
       "      <td>145</td>\n",
       "      <td>49.6</td>\n",
       "      <td>2.0</td>\n",
       "    </tr>\n",
       "    <tr>\n",
       "      <th>2</th>\n",
       "      <td>T-Roc</td>\n",
       "      <td>2019</td>\n",
       "      <td>20000</td>\n",
       "      <td>Manual</td>\n",
       "      <td>7414</td>\n",
       "      <td>Diesel</td>\n",
       "      <td>145</td>\n",
       "      <td>50.4</td>\n",
       "      <td>2.0</td>\n",
       "    </tr>\n",
       "    <tr>\n",
       "      <th>3</th>\n",
       "      <td>T-Roc</td>\n",
       "      <td>2019</td>\n",
       "      <td>33492</td>\n",
       "      <td>Automatic</td>\n",
       "      <td>4825</td>\n",
       "      <td>Petrol</td>\n",
       "      <td>145</td>\n",
       "      <td>32.5</td>\n",
       "      <td>2.0</td>\n",
       "    </tr>\n",
       "    <tr>\n",
       "      <th>4</th>\n",
       "      <td>T-Roc</td>\n",
       "      <td>2019</td>\n",
       "      <td>22900</td>\n",
       "      <td>Semi-Auto</td>\n",
       "      <td>6500</td>\n",
       "      <td>Petrol</td>\n",
       "      <td>150</td>\n",
       "      <td>39.8</td>\n",
       "      <td>1.5</td>\n",
       "    </tr>\n",
       "  </tbody>\n",
       "</table>\n",
       "</div>"
      ],
      "text/plain": [
       "    model  year  price transmission  mileage fuelType  tax   mpg  engineSize\n",
       "0   T-Roc  2019  25000    Automatic    13904   Diesel  145  49.6         2.0\n",
       "1   T-Roc  2019  26883    Automatic     4562   Diesel  145  49.6         2.0\n",
       "2   T-Roc  2019  20000       Manual     7414   Diesel  145  50.4         2.0\n",
       "3   T-Roc  2019  33492    Automatic     4825   Petrol  145  32.5         2.0\n",
       "4   T-Roc  2019  22900    Semi-Auto     6500   Petrol  150  39.8         1.5"
      ]
     },
     "execution_count": 54,
     "metadata": {},
     "output_type": "execute_result"
    }
   ],
   "source": [
    "vw.head()"
   ]
  },
  {
   "cell_type": "markdown",
   "id": "e177367f-f914-4aa0-8819-f118f45ed7b2",
   "metadata": {},
   "source": [
    "Выбираем случайным образом строки из датафреймов с автомобилями c помощью random.permutation:"
   ]
  },
  {
   "cell_type": "code",
   "execution_count": 55,
   "id": "32a63f61-baf3-4f97-a65a-a1288d7223a6",
   "metadata": {},
   "outputs": [],
   "source": [
    "audi = audi.take(np.random.permutation(len(audi))[:2000])\n",
    "bmw = bmw.take(np.random.permutation(len(bmw))[:2000])\n",
    "cclass = cclass.take(np.random.permutation(len(cclass))[:2000])\n",
    "focus = focus.take(np.random.permutation(len(focus))[:2000])\n",
    "ford = ford.take(np.random.permutation(len(ford))[:2000])\n",
    "hyundi = hyundi.take(np.random.permutation(len(hyundi))[:2000])\n",
    "merc = merc.take(np.random.permutation(len(merc))[:2000])\n",
    "skoda = skoda.take(np.random.permutation(len(skoda))[:2000])\n",
    "toyota = toyota.take(np.random.permutation(len(toyota))[:2000])\n",
    "vauxhall = vauxhall.take(np.random.permutation(len(vauxhall))[:2000])\n",
    "vw = vw.take(np.random.permutation(len(vw))[:2000])"
   ]
  },
  {
   "cell_type": "markdown",
   "id": "4ca5d656-fed4-4dd7-a588-3c8e64e887d6",
   "metadata": {},
   "source": [
    "Формируем объединенный датафрейм по всем авто:"
   ]
  },
  {
   "cell_type": "code",
   "execution_count": 56,
   "id": "0875d1c5-f2bc-45e2-8071-3c3df4e66b71",
   "metadata": {},
   "outputs": [
    {
     "data": {
      "text/html": [
       "<div>\n",
       "<style scoped>\n",
       "    .dataframe tbody tr th:only-of-type {\n",
       "        vertical-align: middle;\n",
       "    }\n",
       "\n",
       "    .dataframe tbody tr th {\n",
       "        vertical-align: top;\n",
       "    }\n",
       "\n",
       "    .dataframe thead th {\n",
       "        text-align: right;\n",
       "    }\n",
       "</style>\n",
       "<table border=\"1\" class=\"dataframe\">\n",
       "  <thead>\n",
       "    <tr style=\"text-align: right;\">\n",
       "      <th></th>\n",
       "      <th>model</th>\n",
       "      <th>year</th>\n",
       "      <th>price</th>\n",
       "      <th>transmission</th>\n",
       "      <th>mileage</th>\n",
       "      <th>fuelType</th>\n",
       "      <th>tax</th>\n",
       "      <th>mpg</th>\n",
       "      <th>engineSize</th>\n",
       "      <th>tax(£)</th>\n",
       "    </tr>\n",
       "  </thead>\n",
       "  <tbody>\n",
       "    <tr>\n",
       "      <th>7310</th>\n",
       "      <td>A1</td>\n",
       "      <td>2017</td>\n",
       "      <td>13500</td>\n",
       "      <td>Manual</td>\n",
       "      <td>13000</td>\n",
       "      <td>Petrol</td>\n",
       "      <td>150.0</td>\n",
       "      <td>67.3</td>\n",
       "      <td>1.0</td>\n",
       "      <td>NaN</td>\n",
       "    </tr>\n",
       "    <tr>\n",
       "      <th>7763</th>\n",
       "      <td>SQ5</td>\n",
       "      <td>2017</td>\n",
       "      <td>36990</td>\n",
       "      <td>Automatic</td>\n",
       "      <td>22216</td>\n",
       "      <td>Petrol</td>\n",
       "      <td>145.0</td>\n",
       "      <td>34.0</td>\n",
       "      <td>3.0</td>\n",
       "      <td>NaN</td>\n",
       "    </tr>\n",
       "    <tr>\n",
       "      <th>1084</th>\n",
       "      <td>A4</td>\n",
       "      <td>2016</td>\n",
       "      <td>15256</td>\n",
       "      <td>Manual</td>\n",
       "      <td>25214</td>\n",
       "      <td>Diesel</td>\n",
       "      <td>0.0</td>\n",
       "      <td>74.3</td>\n",
       "      <td>2.0</td>\n",
       "      <td>NaN</td>\n",
       "    </tr>\n",
       "    <tr>\n",
       "      <th>6442</th>\n",
       "      <td>A5</td>\n",
       "      <td>2019</td>\n",
       "      <td>37295</td>\n",
       "      <td>Automatic</td>\n",
       "      <td>3000</td>\n",
       "      <td>Diesel</td>\n",
       "      <td>145.0</td>\n",
       "      <td>45.6</td>\n",
       "      <td>2.0</td>\n",
       "      <td>NaN</td>\n",
       "    </tr>\n",
       "    <tr>\n",
       "      <th>2446</th>\n",
       "      <td>Q3</td>\n",
       "      <td>2015</td>\n",
       "      <td>14355</td>\n",
       "      <td>Manual</td>\n",
       "      <td>50228</td>\n",
       "      <td>Diesel</td>\n",
       "      <td>125.0</td>\n",
       "      <td>60.1</td>\n",
       "      <td>2.0</td>\n",
       "      <td>NaN</td>\n",
       "    </tr>\n",
       "    <tr>\n",
       "      <th>...</th>\n",
       "      <td>...</td>\n",
       "      <td>...</td>\n",
       "      <td>...</td>\n",
       "      <td>...</td>\n",
       "      <td>...</td>\n",
       "      <td>...</td>\n",
       "      <td>...</td>\n",
       "      <td>...</td>\n",
       "      <td>...</td>\n",
       "      <td>...</td>\n",
       "    </tr>\n",
       "    <tr>\n",
       "      <th>503</th>\n",
       "      <td>T-Roc</td>\n",
       "      <td>2020</td>\n",
       "      <td>27980</td>\n",
       "      <td>Manual</td>\n",
       "      <td>1000</td>\n",
       "      <td>Petrol</td>\n",
       "      <td>145.0</td>\n",
       "      <td>42.2</td>\n",
       "      <td>1.5</td>\n",
       "      <td>NaN</td>\n",
       "    </tr>\n",
       "    <tr>\n",
       "      <th>12718</th>\n",
       "      <td>Up</td>\n",
       "      <td>2020</td>\n",
       "      <td>9490</td>\n",
       "      <td>Manual</td>\n",
       "      <td>6000</td>\n",
       "      <td>Petrol</td>\n",
       "      <td>145.0</td>\n",
       "      <td>54.3</td>\n",
       "      <td>1.0</td>\n",
       "      <td>NaN</td>\n",
       "    </tr>\n",
       "    <tr>\n",
       "      <th>2204</th>\n",
       "      <td>Golf</td>\n",
       "      <td>2016</td>\n",
       "      <td>12700</td>\n",
       "      <td>Manual</td>\n",
       "      <td>38390</td>\n",
       "      <td>Petrol</td>\n",
       "      <td>30.0</td>\n",
       "      <td>53.3</td>\n",
       "      <td>1.4</td>\n",
       "      <td>NaN</td>\n",
       "    </tr>\n",
       "    <tr>\n",
       "      <th>4235</th>\n",
       "      <td>Golf</td>\n",
       "      <td>2017</td>\n",
       "      <td>14247</td>\n",
       "      <td>Manual</td>\n",
       "      <td>37958</td>\n",
       "      <td>Petrol</td>\n",
       "      <td>20.0</td>\n",
       "      <td>60.1</td>\n",
       "      <td>1.4</td>\n",
       "      <td>NaN</td>\n",
       "    </tr>\n",
       "    <tr>\n",
       "      <th>1159</th>\n",
       "      <td>Golf</td>\n",
       "      <td>2019</td>\n",
       "      <td>24995</td>\n",
       "      <td>Semi-Auto</td>\n",
       "      <td>2312</td>\n",
       "      <td>Diesel</td>\n",
       "      <td>145.0</td>\n",
       "      <td>49.6</td>\n",
       "      <td>2.0</td>\n",
       "      <td>NaN</td>\n",
       "    </tr>\n",
       "  </tbody>\n",
       "</table>\n",
       "<p>22000 rows × 10 columns</p>\n",
       "</div>"
      ],
      "text/plain": [
       "        model  year  price transmission  mileage fuelType    tax   mpg  \\\n",
       "7310       A1  2017  13500       Manual    13000   Petrol  150.0  67.3   \n",
       "7763      SQ5  2017  36990    Automatic    22216   Petrol  145.0  34.0   \n",
       "1084       A4  2016  15256       Manual    25214   Diesel    0.0  74.3   \n",
       "6442       A5  2019  37295    Automatic     3000   Diesel  145.0  45.6   \n",
       "2446       Q3  2015  14355       Manual    50228   Diesel  125.0  60.1   \n",
       "...       ...   ...    ...          ...      ...      ...    ...   ...   \n",
       "503     T-Roc  2020  27980       Manual     1000   Petrol  145.0  42.2   \n",
       "12718      Up  2020   9490       Manual     6000   Petrol  145.0  54.3   \n",
       "2204     Golf  2016  12700       Manual    38390   Petrol   30.0  53.3   \n",
       "4235     Golf  2017  14247       Manual    37958   Petrol   20.0  60.1   \n",
       "1159     Golf  2019  24995    Semi-Auto     2312   Diesel  145.0  49.6   \n",
       "\n",
       "       engineSize  tax(£)  \n",
       "7310          1.0     NaN  \n",
       "7763          3.0     NaN  \n",
       "1084          2.0     NaN  \n",
       "6442          2.0     NaN  \n",
       "2446          2.0     NaN  \n",
       "...           ...     ...  \n",
       "503           1.5     NaN  \n",
       "12718         1.0     NaN  \n",
       "2204          1.4     NaN  \n",
       "4235          1.4     NaN  \n",
       "1159          2.0     NaN  \n",
       "\n",
       "[22000 rows x 10 columns]"
      ]
     },
     "execution_count": 56,
     "metadata": {},
     "output_type": "execute_result"
    }
   ],
   "source": [
    "unitedf = pd.concat([audi, bmw, cclass, focus, ford, hyundi, merc, skoda, toyota, vauxhall, vw])\n",
    "unitedf"
   ]
  },
  {
   "cell_type": "code",
   "execution_count": 57,
   "id": "ddff7541-a693-4c8f-84f5-9ca24d949e10",
   "metadata": {},
   "outputs": [],
   "source": [
    "unitedf = unitedf.drop('tax(£)', 1)"
   ]
  },
  {
   "cell_type": "code",
   "execution_count": 58,
   "id": "983cb931-c6d7-4f45-bf64-c1bc608a114b",
   "metadata": {},
   "outputs": [],
   "source": [
    "unitedf = unitedf.fillna(0.0)"
   ]
  },
  {
   "cell_type": "markdown",
   "id": "4de85062-8158-4007-9298-2ebe656a57eb",
   "metadata": {},
   "source": [
    "\"Превращаем\" вещественные признаки в категории:"
   ]
  },
  {
   "cell_type": "code",
   "execution_count": 59,
   "id": "64cd67e7-2a85-4bdb-a56c-9ee2b33faf98",
   "metadata": {},
   "outputs": [],
   "source": [
    "unitedf.model = pd.get_dummies(unitedf.model)\n",
    "unitedf.transmission = pd.get_dummies(unitedf.transmission)\n",
    "unitedf.fuelType = pd.get_dummies(unitedf.fuelType)"
   ]
  },
  {
   "cell_type": "code",
   "execution_count": null,
   "id": "ff9e91c4-6f92-47bb-a798-a552c70e6ad2",
   "metadata": {},
   "outputs": [],
   "source": []
  },
  {
   "cell_type": "code",
   "execution_count": 60,
   "id": "a4458d55-ec76-4675-9e13-e70628397e1d",
   "metadata": {},
   "outputs": [
    {
     "data": {
      "text/html": [
       "<div>\n",
       "<style scoped>\n",
       "    .dataframe tbody tr th:only-of-type {\n",
       "        vertical-align: middle;\n",
       "    }\n",
       "\n",
       "    .dataframe tbody tr th {\n",
       "        vertical-align: top;\n",
       "    }\n",
       "\n",
       "    .dataframe thead th {\n",
       "        text-align: right;\n",
       "    }\n",
       "</style>\n",
       "<table border=\"1\" class=\"dataframe\">\n",
       "  <thead>\n",
       "    <tr style=\"text-align: right;\">\n",
       "      <th></th>\n",
       "      <th>model</th>\n",
       "      <th>year</th>\n",
       "      <th>mileage</th>\n",
       "      <th>mpg</th>\n",
       "      <th>engineSize</th>\n",
       "      <th>transmission</th>\n",
       "      <th>tax</th>\n",
       "      <th>fuelType</th>\n",
       "    </tr>\n",
       "  </thead>\n",
       "  <tbody>\n",
       "    <tr>\n",
       "      <th>7310</th>\n",
       "      <td>0</td>\n",
       "      <td>2017</td>\n",
       "      <td>13000</td>\n",
       "      <td>67.3</td>\n",
       "      <td>1.0</td>\n",
       "      <td>0</td>\n",
       "      <td>150.0</td>\n",
       "      <td>0</td>\n",
       "    </tr>\n",
       "    <tr>\n",
       "      <th>7763</th>\n",
       "      <td>0</td>\n",
       "      <td>2017</td>\n",
       "      <td>22216</td>\n",
       "      <td>34.0</td>\n",
       "      <td>3.0</td>\n",
       "      <td>1</td>\n",
       "      <td>145.0</td>\n",
       "      <td>0</td>\n",
       "    </tr>\n",
       "    <tr>\n",
       "      <th>1084</th>\n",
       "      <td>0</td>\n",
       "      <td>2016</td>\n",
       "      <td>25214</td>\n",
       "      <td>74.3</td>\n",
       "      <td>2.0</td>\n",
       "      <td>0</td>\n",
       "      <td>0.0</td>\n",
       "      <td>1</td>\n",
       "    </tr>\n",
       "    <tr>\n",
       "      <th>6442</th>\n",
       "      <td>0</td>\n",
       "      <td>2019</td>\n",
       "      <td>3000</td>\n",
       "      <td>45.6</td>\n",
       "      <td>2.0</td>\n",
       "      <td>1</td>\n",
       "      <td>145.0</td>\n",
       "      <td>1</td>\n",
       "    </tr>\n",
       "    <tr>\n",
       "      <th>2446</th>\n",
       "      <td>0</td>\n",
       "      <td>2015</td>\n",
       "      <td>50228</td>\n",
       "      <td>60.1</td>\n",
       "      <td>2.0</td>\n",
       "      <td>0</td>\n",
       "      <td>125.0</td>\n",
       "      <td>1</td>\n",
       "    </tr>\n",
       "    <tr>\n",
       "      <th>...</th>\n",
       "      <td>...</td>\n",
       "      <td>...</td>\n",
       "      <td>...</td>\n",
       "      <td>...</td>\n",
       "      <td>...</td>\n",
       "      <td>...</td>\n",
       "      <td>...</td>\n",
       "      <td>...</td>\n",
       "    </tr>\n",
       "    <tr>\n",
       "      <th>503</th>\n",
       "      <td>0</td>\n",
       "      <td>2020</td>\n",
       "      <td>1000</td>\n",
       "      <td>42.2</td>\n",
       "      <td>1.5</td>\n",
       "      <td>0</td>\n",
       "      <td>145.0</td>\n",
       "      <td>0</td>\n",
       "    </tr>\n",
       "    <tr>\n",
       "      <th>12718</th>\n",
       "      <td>0</td>\n",
       "      <td>2020</td>\n",
       "      <td>6000</td>\n",
       "      <td>54.3</td>\n",
       "      <td>1.0</td>\n",
       "      <td>0</td>\n",
       "      <td>145.0</td>\n",
       "      <td>0</td>\n",
       "    </tr>\n",
       "    <tr>\n",
       "      <th>2204</th>\n",
       "      <td>0</td>\n",
       "      <td>2016</td>\n",
       "      <td>38390</td>\n",
       "      <td>53.3</td>\n",
       "      <td>1.4</td>\n",
       "      <td>0</td>\n",
       "      <td>30.0</td>\n",
       "      <td>0</td>\n",
       "    </tr>\n",
       "    <tr>\n",
       "      <th>4235</th>\n",
       "      <td>0</td>\n",
       "      <td>2017</td>\n",
       "      <td>37958</td>\n",
       "      <td>60.1</td>\n",
       "      <td>1.4</td>\n",
       "      <td>0</td>\n",
       "      <td>20.0</td>\n",
       "      <td>0</td>\n",
       "    </tr>\n",
       "    <tr>\n",
       "      <th>1159</th>\n",
       "      <td>0</td>\n",
       "      <td>2019</td>\n",
       "      <td>2312</td>\n",
       "      <td>49.6</td>\n",
       "      <td>2.0</td>\n",
       "      <td>0</td>\n",
       "      <td>145.0</td>\n",
       "      <td>1</td>\n",
       "    </tr>\n",
       "  </tbody>\n",
       "</table>\n",
       "<p>22000 rows × 8 columns</p>\n",
       "</div>"
      ],
      "text/plain": [
       "       model  year  mileage   mpg  engineSize  transmission    tax  fuelType\n",
       "7310       0  2017    13000  67.3         1.0             0  150.0         0\n",
       "7763       0  2017    22216  34.0         3.0             1  145.0         0\n",
       "1084       0  2016    25214  74.3         2.0             0    0.0         1\n",
       "6442       0  2019     3000  45.6         2.0             1  145.0         1\n",
       "2446       0  2015    50228  60.1         2.0             0  125.0         1\n",
       "...      ...   ...      ...   ...         ...           ...    ...       ...\n",
       "503        0  2020     1000  42.2         1.5             0  145.0         0\n",
       "12718      0  2020     6000  54.3         1.0             0  145.0         0\n",
       "2204       0  2016    38390  53.3         1.4             0   30.0         0\n",
       "4235       0  2017    37958  60.1         1.4             0   20.0         0\n",
       "1159       0  2019     2312  49.6         2.0             0  145.0         1\n",
       "\n",
       "[22000 rows x 8 columns]"
      ]
     },
     "execution_count": 60,
     "metadata": {},
     "output_type": "execute_result"
    }
   ],
   "source": [
    "dfnew = pd.DataFrame()\n",
    "dfnew['model'] = unitedf.model\n",
    "dfnew['year'] = unitedf.year\n",
    "dfnew['mileage'] = unitedf.mileage\n",
    "dfnew['mpg'] = unitedf.mpg\n",
    "dfnew['engineSize'] = unitedf.engineSize\n",
    "dfnew['transmission'] = unitedf.transmission\n",
    "dfnew['tax'] = unitedf.tax\n",
    "dfnew['fuelType'] = unitedf.fuelType\n",
    "dfnew"
   ]
  },
  {
   "cell_type": "code",
   "execution_count": null,
   "id": "e3f51a7f-dd4d-46c2-8f72-2fe33f387501",
   "metadata": {},
   "outputs": [],
   "source": []
  },
  {
   "cell_type": "markdown",
   "id": "5ee1a5ae-474d-45e3-9daf-0b5c592da077",
   "metadata": {},
   "source": [
    "Формируем наборы данных:"
   ]
  },
  {
   "cell_type": "code",
   "execution_count": 61,
   "id": "16dcbc6c-0774-4773-826a-df3adf4f8082",
   "metadata": {},
   "outputs": [],
   "source": [
    "x = dfnew.values\n",
    "y = unitedf.price.values\n",
    "x_train, x_test, y_train, y_test = train_test_split(x, y)"
   ]
  },
  {
   "cell_type": "markdown",
   "id": "d4cb22d2-085d-4028-80bc-d1e6f0e80dfd",
   "metadata": {},
   "source": [
    "Применяем модель RandomForestRegressor и оценим качество модели:"
   ]
  },
  {
   "cell_type": "code",
   "execution_count": 62,
   "id": "a0de3e2e-aff9-417f-a549-1f41b4199ec9",
   "metadata": {},
   "outputs": [],
   "source": [
    "rf_1 = RandomForestRegressor()\n",
    "rf_1.fit(x_train, y_train)\n",
    "y_pred = rf_1.predict(x_test)\n",
    "r2_rf = r2_score(y_test, y_pred)"
   ]
  },
  {
   "cell_type": "code",
   "execution_count": 63,
   "id": "9a2f9dbc-bab2-47cb-bbb0-04a8b33ce209",
   "metadata": {},
   "outputs": [
    {
     "name": "stdout",
     "output_type": "stream",
     "text": [
      "Качество модели RandomForest по r2_score составляет: 86.55395924917428 %\n"
     ]
    }
   ],
   "source": [
    "print('Качество модели RandomForest по r2_score составляет:', r2_rf*100, '%')"
   ]
  },
  {
   "cell_type": "markdown",
   "id": "173b4a83-7839-4e87-95bd-9f4e9be82912",
   "metadata": {},
   "source": [
    "Проведем подбор гиперпараметров для RandomForestRegressor с помощью RandomizedSearchCV:"
   ]
  },
  {
   "cell_type": "code",
   "execution_count": 64,
   "id": "705d3c65-717f-43d2-8e58-4e2baa89d482",
   "metadata": {},
   "outputs": [],
   "source": [
    "params = {\n",
    "    'n_estimators': [2, 5, 7],\n",
    "    'min_samples_split': [2, 3],\n",
    "    'max_depth': [2, 8, 10]\n",
    "}"
   ]
  },
  {
   "cell_type": "code",
   "execution_count": 65,
   "id": "c42b1b97-a6ae-4650-81ac-fb66eae88012",
   "metadata": {},
   "outputs": [
    {
     "data": {
      "text/plain": [
       "RandomForestRegressor(max_depth=10, n_estimators=7)"
      ]
     },
     "execution_count": 65,
     "metadata": {},
     "output_type": "execute_result"
    }
   ],
   "source": [
    "search = RandomizedSearchCV(RandomForestRegressor(), params)\n",
    "search.fit(x_train, y_train)\n",
    "search.best_estimator_"
   ]
  },
  {
   "cell_type": "code",
   "execution_count": 66,
   "id": "12e84c05-3847-4e3c-af20-4267d870ed59",
   "metadata": {},
   "outputs": [],
   "source": [
    "y_pred = search.predict(x_test)\n",
    "r2_rf_search = r2_score(y_test, y_pred)"
   ]
  },
  {
   "cell_type": "code",
   "execution_count": 67,
   "id": "3788c0fd-8618-4229-b2c7-5a236462d5c1",
   "metadata": {},
   "outputs": [
    {
     "name": "stdout",
     "output_type": "stream",
     "text": [
      "Качество модели RandomForest по r2_score при подборе параметров составляет: 86.14932750773274 %\n"
     ]
    }
   ],
   "source": [
    "print('Качество модели RandomForest по r2_score при подборе параметров составляет:', r2_rf_search*100, '%')"
   ]
  },
  {
   "cell_type": "code",
   "execution_count": 68,
   "id": "ccec35a6-9926-4ec7-bc8b-82ec498a6cd3",
   "metadata": {},
   "outputs": [
    {
     "name": "stdout",
     "output_type": "stream",
     "text": [
      "Вывод\n",
      "Качество (точность) модели RandomForest при подборе гиперпараметров улучшилось и составило по r2_score = 86.14932750773274 %\n"
     ]
    }
   ],
   "source": [
    "print('Вывод')\n",
    "if r2_rf_search > r2_rf:\n",
    "    print('Качество (точность) модели RandomForest при подборе параметров не улучшилось и составило по r2_score =', r2_rf_search*100, '%')\n",
    "else:\n",
    "    print('Качество (точность) модели RandomForest при подборе гиперпараметров улучшилось и составило по r2_score =', r2_rf_search*100, '%')"
   ]
  },
  {
   "cell_type": "code",
   "execution_count": null,
   "id": "0dcefbf6-d02d-4d87-bd55-abe4dea97ad5",
   "metadata": {},
   "outputs": [],
   "source": []
  },
  {
   "cell_type": "markdown",
   "id": "d564ddd3-6aa1-4464-993a-2410798934bc",
   "metadata": {},
   "source": [
    "Модель линейной регрессии:"
   ]
  },
  {
   "cell_type": "code",
   "execution_count": 69,
   "id": "d566f021-53d9-4580-b350-774249051196",
   "metadata": {},
   "outputs": [],
   "source": [
    "lr_1 = LinearRegression()\n",
    "lr_1.fit(x_train, y_train)\n",
    "y_pred = lr_1.predict(x_test)\n",
    "r2_lr_1 = r2_score(y_test, y_pred)"
   ]
  },
  {
   "cell_type": "code",
   "execution_count": 70,
   "id": "056c8c6f-73f4-4cda-b71d-b2e79768bf14",
   "metadata": {
    "tags": []
   },
   "outputs": [
    {
     "name": "stdout",
     "output_type": "stream",
     "text": [
      "Качество модели LinearRegression по r2_score составляет: 71.93356666464956 %\n"
     ]
    }
   ],
   "source": [
    "print('Качество модели LinearRegression по r2_score составляет:', r2_lr_1*100, '%')"
   ]
  },
  {
   "cell_type": "markdown",
   "id": "733d5fb6-0f50-4e82-8959-277395762a05",
   "metadata": {},
   "source": [
    "Проведем подбор гиперпараметров для LinearRegression с помощью RandomizedSearchCV:"
   ]
  },
  {
   "cell_type": "code",
   "execution_count": 71,
   "id": "4464c3f8-47c0-4b43-be9d-1892342d0383",
   "metadata": {},
   "outputs": [],
   "source": [
    "params = {\n",
    "    'fit_intercept': [2, 3, 5],\n",
    "    'normalize': [3, 7, 9],\n",
    "    'n_jobs': [3, 8, 9]\n",
    "}"
   ]
  },
  {
   "cell_type": "code",
   "execution_count": 72,
   "id": "a4fe571c-992a-4ff7-a1a7-fa200f8b4f8c",
   "metadata": {
    "tags": []
   },
   "outputs": [
    {
     "data": {
      "text/plain": [
       "LinearRegression(fit_intercept=2, n_jobs=3, normalize=9)"
      ]
     },
     "execution_count": 72,
     "metadata": {},
     "output_type": "execute_result"
    }
   ],
   "source": [
    "lr_search = RandomizedSearchCV(LinearRegression(), params)\n",
    "lr_search.fit(x_train, y_train)\n",
    "lr_search.best_estimator_"
   ]
  },
  {
   "cell_type": "markdown",
   "id": "aa8f45f2-bcee-44ad-bb3f-1e3699aad4fc",
   "metadata": {},
   "source": [
    "Оценим качество модели линейной регрессии при подборе параметров:"
   ]
  },
  {
   "cell_type": "code",
   "execution_count": 73,
   "id": "b804fd67-86a8-4792-be23-1b9062318b41",
   "metadata": {},
   "outputs": [
    {
     "name": "stdout",
     "output_type": "stream",
     "text": [
      "Качество модели RandomForest при RandomizedSearch составляет:  71.93356666465017 %\n"
     ]
    }
   ],
   "source": [
    "y_pred = lr_search.best_estimator_.predict(x_test)\n",
    "r2_lr_search = r2_score(y_test, y_pred)\n",
    "print('Качество модели RandomForest при RandomizedSearch составляет: ', r2_lr_search*100, '%')"
   ]
  },
  {
   "cell_type": "code",
   "execution_count": 74,
   "id": "ce42f4ee-f880-4aa3-a0b6-1ce94572a4d8",
   "metadata": {},
   "outputs": [
    {
     "name": "stdout",
     "output_type": "stream",
     "text": [
      "Можно сделать вывод:\n"
     ]
    }
   ],
   "source": [
    "print('Можно сделать вывод:')"
   ]
  },
  {
   "cell_type": "code",
   "execution_count": 84,
   "id": "54e63d94-27ec-4590-9213-99028dd589f5",
   "metadata": {},
   "outputs": [],
   "source": [
    "maximum_quality = max(r2_rf, r2_rf_search, r2_lr_1, r2_lr_search)\n",
    "minimum_quality = min(r2_rf, r2_rf_search, r2_lr_1, r2_lr_search)"
   ]
  },
  {
   "cell_type": "code",
   "execution_count": 85,
   "id": "dab0808a-ae39-41f2-a360-410bac1e91e3",
   "metadata": {},
   "outputs": [
    {
     "name": "stdout",
     "output_type": "stream",
     "text": [
      "По r2_score при сравнении моделей между собой:\n",
      "Наилучшее качество у модели RandomForestRegressor до подбора гиперпараметров, в %ах составляет: 86.55395924917428\n",
      "Качество (точность) модели RandomForest лучше модели линейной регрессии\n",
      "\n",
      "В отношении наихудшего варианта при сравнении моделей по r2_score между собой:\n",
      "Наихудшее качество у модели LinearRegression до подбора гиперпараметров, в %ах составляет: 71.93356666464956\n"
     ]
    }
   ],
   "source": [
    "print('По r2_score при сравнении моделей между собой:')\n",
    "if maximum_quality == r2_rf:\n",
    "    print('Наилучшее качество у модели RandomForestRegressor до подбора гиперпараметров, в %ах составляет:', r2_rf*100)\n",
    "    print('Качество (точность) модели RandomForest лучше модели линейной регрессии')\n",
    "elif maximum_quality == r2_rf_search:\n",
    "    print('Наилучшее качество у модели RandomForestRegressor с подбором гиперпараметров, в %ах составляет:', r2_rf_search*100)\n",
    "    print('Качество (точность) модели RandomForest лучше модели линейной регрессии')\n",
    "elif maximum_quality == r2_lr_1:\n",
    "    print('Наилучшее качество у модели LinearRegression до подбора гиперпараметров, в %ах составляет:', r2_lr_1*100)\n",
    "    print('Качество (точность) модели линейной регрессии лучше модели RandomForest')\n",
    "else:\n",
    "    print('Наилучшее качество у модели LinearRegression с подбором гиперпараметров, в %ах составляет:', r2_lr_search*100)\n",
    "    print('Качество (точность) модели линейной регрессии лучше модели RandomForest')\n",
    "print('')\n",
    "print('В отношении наихудшего варианта при сравнении моделей по r2_score между собой:') \n",
    "if minimum_quality == r2_rf:\n",
    "    print('Наихудшее качество у модели RandomForestRegressor до подбора гиперпараметров, в %ах составляет:', r2_rf*100)\n",
    "elif minimum_quality == r2_rf_search:\n",
    "    print('Наихудшее качество у модели RandomForestRegressor с подбором гиперпараметров, в %ах составляет:', r2_rf_search*100)\n",
    "elif minimum_quality == r2_lr_1:\n",
    "    print('Наихудшее качество у модели LinearRegression до подбора гиперпараметров, в %ах составляет:', r2_lr_1*100)\n",
    "else:\n",
    "    print('Наихудшее качество у модели LinearRegression с подбором гиперпараметров, в %ах составляет:', r2_lr_search*100)"
   ]
  },
  {
   "cell_type": "code",
   "execution_count": null,
   "id": "4f86a4ff-52b3-4618-87ad-01ced8b0dbb7",
   "metadata": {},
   "outputs": [],
   "source": []
  },
  {
   "cell_type": "code",
   "execution_count": 77,
   "id": "a76fc52e-9b90-40d2-9540-676cc48c691e",
   "metadata": {
    "tags": []
   },
   "outputs": [
    {
     "name": "stdout",
     "output_type": "stream",
     "text": [
      "Сравним по кросс-валидации:\n",
      "для модели линейной регрессии:\n",
      "mean составляет:  0.7134624552931872  std составляет: 0.016702941947407984\n",
      "Среднее по кросс-валидации в модели: 71.34624552931872 %\n"
     ]
    }
   ],
   "source": [
    "print('Сравним по кросс-валидации:')\n",
    "print ('для модели линейной регрессии:')\n",
    "cross_val_score_lr_1 = cross_val_score(lr_1, x_train, y_train)\n",
    "print(\"mean составляет: \", cross_val_score_lr_1.mean(), \" std составляет:\", cross_val_score_lr_1.std())\n",
    "lr_result_1 = cross_val_score(lr_1, x_train, y_train).mean()\n",
    "print('Среднее по кросс-валидации в модели:', lr_result_1*100,'%')"
   ]
  },
  {
   "cell_type": "code",
   "execution_count": 78,
   "id": "6d71f0f4-5e9e-4354-952a-a32001007d86",
   "metadata": {},
   "outputs": [
    {
     "name": "stdout",
     "output_type": "stream",
     "text": [
      "для модели линейной регрессии с подбором гиперпараметров:\n",
      "mean составляет:  0.7134624552931842  std составляет: 0.016702941947415784\n",
      "Среднее по кросс-валидации в модели: 71.34624552931842 %\n"
     ]
    }
   ],
   "source": [
    "print ('для модели линейной регрессии с подбором гиперпараметров:')\n",
    "cross_val_score_lr_2 = cross_val_score(lr_search, x_train, y_train)\n",
    "print(\"mean составляет: \", cross_val_score_lr_2.mean(), \" std составляет:\", cross_val_score_lr_2.std())\n",
    "lr_result_2 = cross_val_score(lr_search, x_train, y_train).mean()\n",
    "print('Среднее по кросс-валидации в модели:', lr_result_2*100,'%')"
   ]
  },
  {
   "cell_type": "code",
   "execution_count": 79,
   "id": "8419db2c-68a3-4659-8489-51d86d534cb4",
   "metadata": {},
   "outputs": [
    {
     "name": "stdout",
     "output_type": "stream",
     "text": [
      "для модели случайного леса:\n",
      "mean составляет:  0.8720590013873343  std составляет: 0.00404560563269818\n",
      "Среднее по кросс-валидации в модели: 87.15239742423272 %\n"
     ]
    }
   ],
   "source": [
    "print ('для модели случайного леса:')\n",
    "cross_val_score_rf_1 = cross_val_score(rf_1, x_train, y_train)\n",
    "print(\"mean составляет: \", cross_val_score_rf_1.mean(), \" std составляет:\", cross_val_score_rf_1.std())\n",
    "rf_result_1 = cross_val_score(rf_1, x_train, y_train).mean()\n",
    "print('Среднее по кросс-валидации в модели:', rf_result_1*100,'%')"
   ]
  },
  {
   "cell_type": "code",
   "execution_count": 80,
   "id": "6cc72371-42ba-45b5-80c6-5795c6099967",
   "metadata": {},
   "outputs": [
    {
     "name": "stdout",
     "output_type": "stream",
     "text": [
      "для модели случайного леса с подбором гиперпараметров:\n",
      "mean составляет:  0.8594649330403362  std составляет: 0.0062877697062862\n",
      "Среднее по кросс-валидации в модели: 85.91878578438778 %\n"
     ]
    }
   ],
   "source": [
    "print ('для модели случайного леса с подбором гиперпараметров:')\n",
    "cross_val_score_rf_2 = cross_val_score(search, x_train, y_train)\n",
    "print(\"mean составляет: \", cross_val_score_rf_2.mean(), \" std составляет:\", cross_val_score_rf_2.std())\n",
    "rf_result_2 = cross_val_score(search, x_train, y_train).mean()\n",
    "print('Среднее по кросс-валидации в модели:', rf_result_2*100,'%')"
   ]
  },
  {
   "cell_type": "code",
   "execution_count": 81,
   "id": "0a68a642-2fab-40f0-b33c-9df98cfb8d64",
   "metadata": {},
   "outputs": [],
   "source": [
    "maximum_quality_cv = max(lr_result_1, lr_result_2, rf_result_1, rf_result_2)\n",
    "minimum_quality_cv = min(lr_result_1, lr_result_2, rf_result_1, rf_result_2)"
   ]
  },
  {
   "cell_type": "code",
   "execution_count": 82,
   "id": "f6c8852f-79c4-4822-a80e-271a9f434d63",
   "metadata": {},
   "outputs": [
    {
     "name": "stdout",
     "output_type": "stream",
     "text": [
      "По кросс-валидации при сравнении моделей между собой:\n",
      "Наилучшее качество у модели RandomForestRegressor до подбора гиперпараметров, в %ах составляет: 87.15239742423272\n",
      "Качество (точность) модели RandomForest лучше модели линейной регрессии\n",
      "\n",
      "В отношении наихудшего варианта при сравнении моделей по кросс-валидации между собой:\n",
      "Наихудшее качество у модели LinearRegression с подбором гиперпараметров, в %ах составляет: 71.34624552931842\n"
     ]
    }
   ],
   "source": [
    "print('По кросс-валидации при сравнении моделей между собой:')\n",
    "if maximum_quality_cv == rf_result_1:\n",
    "    print('Наилучшее качество у модели RandomForestRegressor до подбора гиперпараметров, в %ах составляет:', rf_result_1*100)\n",
    "    print('Качество (точность) модели RandomForest лучше модели линейной регрессии')\n",
    "elif maximum_quality_cv == rf_result_2:\n",
    "    print('Наилучшее качество у модели RandomForestRegressor с подбором гиперпараметров, в %ах составляет:', rf_result_2*100)\n",
    "    print('Качество (точность) модели RandomForest лучше модели линейной регрессии')\n",
    "elif maximum_quality_cv == lr_result_1:\n",
    "    print('Наилучшее качество у модели LinearRegression до подбора гиперпараметров, в %ах составляет:', lr_result_1*100)\n",
    "    print('Качество (точность) модели линейной регрессии лучше модели RandomForest')\n",
    "else:\n",
    "    print('Наилучшее качество у модели LinearRegression с подбором гиперпараметров, в %ах составляет:', lr_result_2*100)\n",
    "    print('Качество (точность) модели линейной регрессии лучше модели RandomForest')\n",
    "print('')\n",
    "print('В отношении наихудшего варианта при сравнении моделей по кросс-валидации между собой:') \n",
    "if minimum_quality_cv == rf_result_1:\n",
    "    print('Наихудшее качество у модели RandomForestRegressor до подбора гиперпараметров, в %ах составляет:', rf_result_1*100)\n",
    "elif minimum_quality_cv == rf_result_2:\n",
    "    print('Наихудшее качество у модели RandomForestRegressor с подбором гиперпараметров, в %ах составляет:', rf_result_2*100)\n",
    "elif minimum_quality_cv == lr_result_1:\n",
    "    print('Наихудшее качество у модели LinearRegression до подбора гиперпараметров, в %ах составляет:', lr_result_1*100)\n",
    "else:\n",
    "    print('Наихудшее качество у модели LinearRegression с подбором гиперпараметров, в %ах составляет:', lr_result_2*100)"
   ]
  },
  {
   "cell_type": "code",
   "execution_count": null,
   "id": "ed7737ab-5a5f-42d9-b02d-0d43cc106d00",
   "metadata": {},
   "outputs": [],
   "source": []
  },
  {
   "cell_type": "code",
   "execution_count": 83,
   "id": "2b13ca9d-1ecc-498c-9dca-29ba75f22a27",
   "metadata": {},
   "outputs": [
    {
     "name": "stdout",
     "output_type": "stream",
     "text": [
      "Для сведения:\n",
      "Качество модели SGDRegressor по r2_score составляет:  -5.5598375653904584e+28 %\n",
      "Такое может быть, если модель отработала хуже, чем среднее\n"
     ]
    }
   ],
   "source": [
    "print('Для сведения:')\n",
    "lr_SGD_1 = SGDRegressor()\n",
    "lr_SGD_1.fit(x_train, y_train)\n",
    "y_pred = lr_SGD_1.predict(x_test)\n",
    "r2_lr_SGD_1 = r2_score(y_test, y_pred)\n",
    "r2_lr_SGD_1\n",
    "print('Качество модели SGDRegressor по r2_score составляет: ', r2_lr_SGD_1*100, '%')\n",
    "print('Такое может быть, если модель отработала хуже, чем среднее')"
   ]
  },
  {
   "cell_type": "code",
   "execution_count": null,
   "id": "791dfafd-248a-459d-b8fb-08ff9a427dbf",
   "metadata": {},
   "outputs": [],
   "source": []
  }
 ],
 "metadata": {
  "kernelspec": {
   "display_name": "Python 3",
   "language": "python",
   "name": "python3"
  },
  "language_info": {
   "codemirror_mode": {
    "name": "ipython",
    "version": 3
   },
   "file_extension": ".py",
   "mimetype": "text/x-python",
   "name": "python",
   "nbconvert_exporter": "python",
   "pygments_lexer": "ipython3",
   "version": "3.8.8"
  }
 },
 "nbformat": 4,
 "nbformat_minor": 5
}

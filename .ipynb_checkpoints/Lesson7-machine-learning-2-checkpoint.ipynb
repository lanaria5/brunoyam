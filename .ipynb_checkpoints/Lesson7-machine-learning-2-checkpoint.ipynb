{
 "cells": [
  {
   "cell_type": "markdown",
   "id": "e352a138-c91c-415a-9be1-c72675714985",
   "metadata": {},
   "source": [
    "# Домашнее задание №7"
   ]
  },
  {
   "cell_type": "markdown",
   "id": "3c2da888-d3bd-45ed-911c-d90b7a9fe7fb",
   "metadata": {},
   "source": [
    "Домашняя работа\n",
    "Будем работать с датасетом подержанных машин https://www.kaggle.com/adityadesai13/used-car-dataset-ford-and-mercedes.\n",
    "\n",
    "Задача - построить прогноз цены машины по ее данным (год выпуска, пробег, расход, размер двигателя, тип коробки передач и тд).\n",
    "\n",
    "Это задача регрессии, поэтому нужно использовать модели регрессоры, а не классификаторы (например, не StackingClassifier, а StackingRegressor).\n",
    "\n",
    "Easy\n",
    "\n",
    "Взять один файл с маркой машины.\n",
    "\n",
    "Построить прогноз, используя модели линейной регрессии и случайного леса. Сравнить результаты, используя кросс-валидацию. Подобрать гиперпараметры моделей (для линейной регрессии можно использовать реализацию с градиентным спуском SGDRegressor). Оценить качество, используя метрику r2_score. Оценить важность признаков (параметр feature_importance_ у случайного леса).\n",
    "\n",
    "Normal\n",
    "\n",
    "Объединить в один датафрейм данные по всем маркам машин. Преобразовать категориальные признаки.\n",
    "\n",
    "Построить еще несколько моделей, используя подбор гиперпараметров. Сравнить между собой все построенные модели.\n",
    "\n",
    "Hard\n",
    "\n",
    "Построить модель стекинга над всеми моделями из задачи Normal. Удалось ли улучшить результат?"
   ]
  },
  {
   "cell_type": "markdown",
   "id": "4d31f162-4f77-4742-a6e7-87a48941e16f",
   "metadata": {},
   "source": [
    "Easy\n",
    "\n",
    "Импортируем все необходимое, загружаем информацию с kaggle"
   ]
  },
  {
   "cell_type": "code",
   "execution_count": 36,
   "id": "ac91f12f-38f1-45a8-a1c4-e46f0fc77eb4",
   "metadata": {},
   "outputs": [],
   "source": [
    "import numpy as np\n",
    "import pandas as pd"
   ]
  },
  {
   "cell_type": "code",
   "execution_count": 72,
   "id": "fba3b6a5-90eb-4ba3-b8d9-6c28df679399",
   "metadata": {},
   "outputs": [],
   "source": [
    "from sklearn.ensemble import RandomForestClassifier\n",
    "from sklearn.datasets import load_digits\n",
    "from sklearn.metrics import accuracy_score, confusion_matrix, r2_score\n",
    "from sklearn.model_selection import train_test_split\n",
    "from sklearn.model_selection import cross_val_score"
   ]
  },
  {
   "cell_type": "code",
   "execution_count": 38,
   "id": "94849894-4bff-4030-8e6a-655c50fcccaf",
   "metadata": {},
   "outputs": [],
   "source": [
    "from sklearn.model_selection import GridSearchCV, RandomizedSearchCV\n",
    "from sklearn.linear_model import SGDClassifier\n",
    "from sklearn.ensemble import GradientBoostingClassifier"
   ]
  },
  {
   "cell_type": "code",
   "execution_count": 39,
   "id": "da936d75-a07e-4787-a66e-ce1fb96facc3",
   "metadata": {},
   "outputs": [],
   "source": [
    "from sklearn.ensemble import StackingClassifier\n",
    "from sklearn.linear_model import LogisticRegression\n",
    "from sklearn.linear_model import LinearRegression\n",
    "from sklearn.tree import DecisionTreeClassifier"
   ]
  },
  {
   "cell_type": "code",
   "execution_count": 40,
   "id": "43ec013a-d2e4-4acd-b778-0fefcb65aaad",
   "metadata": {},
   "outputs": [],
   "source": [
    "import matplotlib.pyplot as plt\n",
    "import seaborn as sns"
   ]
  },
  {
   "cell_type": "markdown",
   "id": "9e6fd721-6098-49c2-9113-4aa0894dde1d",
   "metadata": {},
   "source": [
    "Выбираем марку авто - например:"
   ]
  },
  {
   "cell_type": "code",
   "execution_count": 42,
   "id": "27dfea31-db94-4d76-8ff4-548cc7bebeb2",
   "metadata": {},
   "outputs": [
    {
     "data": {
      "text/html": [
       "<div>\n",
       "<style scoped>\n",
       "    .dataframe tbody tr th:only-of-type {\n",
       "        vertical-align: middle;\n",
       "    }\n",
       "\n",
       "    .dataframe tbody tr th {\n",
       "        vertical-align: top;\n",
       "    }\n",
       "\n",
       "    .dataframe thead th {\n",
       "        text-align: right;\n",
       "    }\n",
       "</style>\n",
       "<table border=\"1\" class=\"dataframe\">\n",
       "  <thead>\n",
       "    <tr style=\"text-align: right;\">\n",
       "      <th></th>\n",
       "      <th>model</th>\n",
       "      <th>year</th>\n",
       "      <th>price</th>\n",
       "      <th>transmission</th>\n",
       "      <th>mileage</th>\n",
       "      <th>fuelType</th>\n",
       "      <th>tax</th>\n",
       "      <th>mpg</th>\n",
       "      <th>engineSize</th>\n",
       "    </tr>\n",
       "  </thead>\n",
       "  <tbody>\n",
       "    <tr>\n",
       "      <th>0</th>\n",
       "      <td>Octavia</td>\n",
       "      <td>2017</td>\n",
       "      <td>10550</td>\n",
       "      <td>Manual</td>\n",
       "      <td>25250</td>\n",
       "      <td>Petrol</td>\n",
       "      <td>150</td>\n",
       "      <td>54.3</td>\n",
       "      <td>1.4</td>\n",
       "    </tr>\n",
       "    <tr>\n",
       "      <th>1</th>\n",
       "      <td>Citigo</td>\n",
       "      <td>2018</td>\n",
       "      <td>8200</td>\n",
       "      <td>Manual</td>\n",
       "      <td>1264</td>\n",
       "      <td>Petrol</td>\n",
       "      <td>145</td>\n",
       "      <td>67.3</td>\n",
       "      <td>1.0</td>\n",
       "    </tr>\n",
       "    <tr>\n",
       "      <th>2</th>\n",
       "      <td>Octavia</td>\n",
       "      <td>2019</td>\n",
       "      <td>15650</td>\n",
       "      <td>Automatic</td>\n",
       "      <td>6825</td>\n",
       "      <td>Diesel</td>\n",
       "      <td>145</td>\n",
       "      <td>67.3</td>\n",
       "      <td>2.0</td>\n",
       "    </tr>\n",
       "    <tr>\n",
       "      <th>3</th>\n",
       "      <td>Yeti Outdoor</td>\n",
       "      <td>2015</td>\n",
       "      <td>14000</td>\n",
       "      <td>Automatic</td>\n",
       "      <td>28431</td>\n",
       "      <td>Diesel</td>\n",
       "      <td>165</td>\n",
       "      <td>51.4</td>\n",
       "      <td>2.0</td>\n",
       "    </tr>\n",
       "    <tr>\n",
       "      <th>4</th>\n",
       "      <td>Superb</td>\n",
       "      <td>2019</td>\n",
       "      <td>18350</td>\n",
       "      <td>Manual</td>\n",
       "      <td>10912</td>\n",
       "      <td>Petrol</td>\n",
       "      <td>150</td>\n",
       "      <td>40.9</td>\n",
       "      <td>1.5</td>\n",
       "    </tr>\n",
       "    <tr>\n",
       "      <th>...</th>\n",
       "      <td>...</td>\n",
       "      <td>...</td>\n",
       "      <td>...</td>\n",
       "      <td>...</td>\n",
       "      <td>...</td>\n",
       "      <td>...</td>\n",
       "      <td>...</td>\n",
       "      <td>...</td>\n",
       "      <td>...</td>\n",
       "    </tr>\n",
       "    <tr>\n",
       "      <th>6262</th>\n",
       "      <td>Yeti</td>\n",
       "      <td>2014</td>\n",
       "      <td>11440</td>\n",
       "      <td>Semi-Auto</td>\n",
       "      <td>14569</td>\n",
       "      <td>Petrol</td>\n",
       "      <td>160</td>\n",
       "      <td>44.8</td>\n",
       "      <td>1.2</td>\n",
       "    </tr>\n",
       "    <tr>\n",
       "      <th>6263</th>\n",
       "      <td>Octavia</td>\n",
       "      <td>2014</td>\n",
       "      <td>10990</td>\n",
       "      <td>Semi-Auto</td>\n",
       "      <td>49999</td>\n",
       "      <td>Petrol</td>\n",
       "      <td>30</td>\n",
       "      <td>56.5</td>\n",
       "      <td>1.4</td>\n",
       "    </tr>\n",
       "    <tr>\n",
       "      <th>6264</th>\n",
       "      <td>Fabia</td>\n",
       "      <td>2017</td>\n",
       "      <td>9500</td>\n",
       "      <td>Semi-Auto</td>\n",
       "      <td>17131</td>\n",
       "      <td>Petrol</td>\n",
       "      <td>145</td>\n",
       "      <td>61.4</td>\n",
       "      <td>1.0</td>\n",
       "    </tr>\n",
       "    <tr>\n",
       "      <th>6265</th>\n",
       "      <td>Citigo</td>\n",
       "      <td>2016</td>\n",
       "      <td>5999</td>\n",
       "      <td>Manual</td>\n",
       "      <td>21747</td>\n",
       "      <td>Petrol</td>\n",
       "      <td>20</td>\n",
       "      <td>62.8</td>\n",
       "      <td>1.0</td>\n",
       "    </tr>\n",
       "    <tr>\n",
       "      <th>6266</th>\n",
       "      <td>Fabia</td>\n",
       "      <td>2017</td>\n",
       "      <td>9232</td>\n",
       "      <td>Semi-Auto</td>\n",
       "      <td>42530</td>\n",
       "      <td>Petrol</td>\n",
       "      <td>20</td>\n",
       "      <td>60.1</td>\n",
       "      <td>1.2</td>\n",
       "    </tr>\n",
       "  </tbody>\n",
       "</table>\n",
       "<p>6267 rows × 9 columns</p>\n",
       "</div>"
      ],
      "text/plain": [
       "              model  year  price transmission  mileage fuelType  tax   mpg  \\\n",
       "0           Octavia  2017  10550       Manual    25250   Petrol  150  54.3   \n",
       "1            Citigo  2018   8200       Manual     1264   Petrol  145  67.3   \n",
       "2           Octavia  2019  15650    Automatic     6825   Diesel  145  67.3   \n",
       "3      Yeti Outdoor  2015  14000    Automatic    28431   Diesel  165  51.4   \n",
       "4            Superb  2019  18350       Manual    10912   Petrol  150  40.9   \n",
       "...             ...   ...    ...          ...      ...      ...  ...   ...   \n",
       "6262           Yeti  2014  11440    Semi-Auto    14569   Petrol  160  44.8   \n",
       "6263        Octavia  2014  10990    Semi-Auto    49999   Petrol   30  56.5   \n",
       "6264          Fabia  2017   9500    Semi-Auto    17131   Petrol  145  61.4   \n",
       "6265         Citigo  2016   5999       Manual    21747   Petrol   20  62.8   \n",
       "6266          Fabia  2017   9232    Semi-Auto    42530   Petrol   20  60.1   \n",
       "\n",
       "      engineSize  \n",
       "0            1.4  \n",
       "1            1.0  \n",
       "2            2.0  \n",
       "3            2.0  \n",
       "4            1.5  \n",
       "...          ...  \n",
       "6262         1.2  \n",
       "6263         1.4  \n",
       "6264         1.0  \n",
       "6265         1.0  \n",
       "6266         1.2  \n",
       "\n",
       "[6267 rows x 9 columns]"
      ]
     },
     "execution_count": 42,
     "metadata": {},
     "output_type": "execute_result"
    }
   ],
   "source": [
    "skoda = pd.read_csv('./data/archive/skoda.csv')\n",
    "skoda.sort_values('year')\n",
    "skoda.transmission = pd.Categorical(skoda.transmission)\n",
    "skoda.model = pd.Categorical(skoda.model)\n",
    "skoda"
   ]
  },
  {
   "cell_type": "code",
   "execution_count": null,
   "id": "eb02770e-d523-4cf7-bab1-9b6598d9ab85",
   "metadata": {},
   "outputs": [],
   "source": []
  },
  {
   "cell_type": "code",
   "execution_count": 43,
   "id": "58e2019b-31a5-4541-82e9-0279b24b3085",
   "metadata": {},
   "outputs": [
    {
     "data": {
      "text/plain": [
       "<seaborn.axisgrid.PairGrid at 0x22eafb409d0>"
      ]
     },
     "execution_count": 43,
     "metadata": {},
     "output_type": "execute_result"
    },
    {
     "data": {
      "image/png": "[encoded data removed]",
      "text/plain": [
       "<Figure size 1080x1080 with 42 Axes>"
      ]
     },
     "metadata": {
      "needs_background": "light"
     },
     "output_type": "display_data"
    }
   ],
   "source": [
    "sns.pairplot(skoda)"
   ]
  },
  {
   "cell_type": "code",
   "execution_count": 44,
   "id": "6f99d7a7-27be-4886-afa8-b9e40128d488",
   "metadata": {},
   "outputs": [],
   "source": [
    "model_kod = skoda.model.cat.codes"
   ]
  },
  {
   "cell_type": "code",
   "execution_count": 45,
   "id": "3948f83b-1700-4908-b6cb-8b634c1e14fe",
   "metadata": {},
   "outputs": [],
   "source": [
    "transmission_kod = skoda.transmission.cat.codes"
   ]
  },
  {
   "cell_type": "code",
   "execution_count": 46,
   "id": "5ed4d089-dbbd-4b3b-a2b9-fd18c53662de",
   "metadata": {},
   "outputs": [],
   "source": [
    "fuelType_kod = pd.get_dummies(skoda.fuelType)"
   ]
  },
  {
   "cell_type": "code",
   "execution_count": 47,
   "id": "a68d83f3-9b6c-47af-839c-42a5f97487ee",
   "metadata": {},
   "outputs": [
    {
     "data": {
      "text/html": [
       "<div>\n",
       "<style scoped>\n",
       "    .dataframe tbody tr th:only-of-type {\n",
       "        vertical-align: middle;\n",
       "    }\n",
       "\n",
       "    .dataframe tbody tr th {\n",
       "        vertical-align: top;\n",
       "    }\n",
       "\n",
       "    .dataframe thead th {\n",
       "        text-align: right;\n",
       "    }\n",
       "</style>\n",
       "<table border=\"1\" class=\"dataframe\">\n",
       "  <thead>\n",
       "    <tr style=\"text-align: right;\">\n",
       "      <th></th>\n",
       "      <th>model_kod</th>\n",
       "      <th>transmission_kod</th>\n",
       "      <th>year</th>\n",
       "      <th>mileage</th>\n",
       "      <th>tax</th>\n",
       "      <th>mpg</th>\n",
       "      <th>engineSize</th>\n",
       "    </tr>\n",
       "  </thead>\n",
       "  <tbody>\n",
       "    <tr>\n",
       "      <th>0</th>\n",
       "      <td>5</td>\n",
       "      <td>1</td>\n",
       "      <td>2017</td>\n",
       "      <td>25250</td>\n",
       "      <td>150</td>\n",
       "      <td>54.3</td>\n",
       "      <td>1.4</td>\n",
       "    </tr>\n",
       "    <tr>\n",
       "      <th>1</th>\n",
       "      <td>0</td>\n",
       "      <td>1</td>\n",
       "      <td>2018</td>\n",
       "      <td>1264</td>\n",
       "      <td>145</td>\n",
       "      <td>67.3</td>\n",
       "      <td>1.0</td>\n",
       "    </tr>\n",
       "    <tr>\n",
       "      <th>2</th>\n",
       "      <td>5</td>\n",
       "      <td>0</td>\n",
       "      <td>2019</td>\n",
       "      <td>6825</td>\n",
       "      <td>145</td>\n",
       "      <td>67.3</td>\n",
       "      <td>2.0</td>\n",
       "    </tr>\n",
       "    <tr>\n",
       "      <th>3</th>\n",
       "      <td>11</td>\n",
       "      <td>0</td>\n",
       "      <td>2015</td>\n",
       "      <td>28431</td>\n",
       "      <td>165</td>\n",
       "      <td>51.4</td>\n",
       "      <td>2.0</td>\n",
       "    </tr>\n",
       "    <tr>\n",
       "      <th>4</th>\n",
       "      <td>9</td>\n",
       "      <td>1</td>\n",
       "      <td>2019</td>\n",
       "      <td>10912</td>\n",
       "      <td>150</td>\n",
       "      <td>40.9</td>\n",
       "      <td>1.5</td>\n",
       "    </tr>\n",
       "    <tr>\n",
       "      <th>...</th>\n",
       "      <td>...</td>\n",
       "      <td>...</td>\n",
       "      <td>...</td>\n",
       "      <td>...</td>\n",
       "      <td>...</td>\n",
       "      <td>...</td>\n",
       "      <td>...</td>\n",
       "    </tr>\n",
       "    <tr>\n",
       "      <th>6262</th>\n",
       "      <td>10</td>\n",
       "      <td>3</td>\n",
       "      <td>2014</td>\n",
       "      <td>14569</td>\n",
       "      <td>160</td>\n",
       "      <td>44.8</td>\n",
       "      <td>1.2</td>\n",
       "    </tr>\n",
       "    <tr>\n",
       "      <th>6263</th>\n",
       "      <td>5</td>\n",
       "      <td>3</td>\n",
       "      <td>2014</td>\n",
       "      <td>49999</td>\n",
       "      <td>30</td>\n",
       "      <td>56.5</td>\n",
       "      <td>1.4</td>\n",
       "    </tr>\n",
       "    <tr>\n",
       "      <th>6264</th>\n",
       "      <td>1</td>\n",
       "      <td>3</td>\n",
       "      <td>2017</td>\n",
       "      <td>17131</td>\n",
       "      <td>145</td>\n",
       "      <td>61.4</td>\n",
       "      <td>1.0</td>\n",
       "    </tr>\n",
       "    <tr>\n",
       "      <th>6265</th>\n",
       "      <td>0</td>\n",
       "      <td>1</td>\n",
       "      <td>2016</td>\n",
       "      <td>21747</td>\n",
       "      <td>20</td>\n",
       "      <td>62.8</td>\n",
       "      <td>1.0</td>\n",
       "    </tr>\n",
       "    <tr>\n",
       "      <th>6266</th>\n",
       "      <td>1</td>\n",
       "      <td>3</td>\n",
       "      <td>2017</td>\n",
       "      <td>42530</td>\n",
       "      <td>20</td>\n",
       "      <td>60.1</td>\n",
       "      <td>1.2</td>\n",
       "    </tr>\n",
       "  </tbody>\n",
       "</table>\n",
       "<p>6267 rows × 7 columns</p>\n",
       "</div>"
      ],
      "text/plain": [
       "      model_kod  transmission_kod  year  mileage  tax   mpg  engineSize\n",
       "0             5                 1  2017    25250  150  54.3         1.4\n",
       "1             0                 1  2018     1264  145  67.3         1.0\n",
       "2             5                 0  2019     6825  145  67.3         2.0\n",
       "3            11                 0  2015    28431  165  51.4         2.0\n",
       "4             9                 1  2019    10912  150  40.9         1.5\n",
       "...         ...               ...   ...      ...  ...   ...         ...\n",
       "6262         10                 3  2014    14569  160  44.8         1.2\n",
       "6263          5                 3  2014    49999   30  56.5         1.4\n",
       "6264          1                 3  2017    17131  145  61.4         1.0\n",
       "6265          0                 1  2016    21747   20  62.8         1.0\n",
       "6266          1                 3  2017    42530   20  60.1         1.2\n",
       "\n",
       "[6267 rows x 7 columns]"
      ]
     },
     "execution_count": 47,
     "metadata": {},
     "output_type": "execute_result"
    }
   ],
   "source": [
    "df = pd.DataFrame()\n",
    "df['model_kod'] = model_kod\n",
    "df['transmission_kod'] = transmission_kod\n",
    "df['year'] = skoda.year\n",
    "df['mileage'] = skoda.mileage\n",
    "df['tax'] = skoda.tax\n",
    "df['mpg'] = skoda.mpg\n",
    "df['engineSize'] = skoda.engineSize\n",
    "df"
   ]
  },
  {
   "cell_type": "code",
   "execution_count": 48,
   "id": "a18d35cd-e3d0-4ab4-b5dd-6f3fb5b703b0",
   "metadata": {},
   "outputs": [
    {
     "data": {
      "text/html": [
       "<div>\n",
       "<style scoped>\n",
       "    .dataframe tbody tr th:only-of-type {\n",
       "        vertical-align: middle;\n",
       "    }\n",
       "\n",
       "    .dataframe tbody tr th {\n",
       "        vertical-align: top;\n",
       "    }\n",
       "\n",
       "    .dataframe thead th {\n",
       "        text-align: right;\n",
       "    }\n",
       "</style>\n",
       "<table border=\"1\" class=\"dataframe\">\n",
       "  <thead>\n",
       "    <tr style=\"text-align: right;\">\n",
       "      <th></th>\n",
       "      <th>model_kod</th>\n",
       "      <th>transmission_kod</th>\n",
       "      <th>year</th>\n",
       "      <th>mileage</th>\n",
       "      <th>tax</th>\n",
       "      <th>mpg</th>\n",
       "      <th>engineSize</th>\n",
       "      <th>Diesel</th>\n",
       "      <th>Hybrid</th>\n",
       "      <th>Other</th>\n",
       "      <th>Petrol</th>\n",
       "    </tr>\n",
       "  </thead>\n",
       "  <tbody>\n",
       "    <tr>\n",
       "      <th>0</th>\n",
       "      <td>5</td>\n",
       "      <td>1</td>\n",
       "      <td>2017</td>\n",
       "      <td>25250</td>\n",
       "      <td>150</td>\n",
       "      <td>54.3</td>\n",
       "      <td>1.4</td>\n",
       "      <td>0</td>\n",
       "      <td>0</td>\n",
       "      <td>0</td>\n",
       "      <td>1</td>\n",
       "    </tr>\n",
       "    <tr>\n",
       "      <th>1</th>\n",
       "      <td>0</td>\n",
       "      <td>1</td>\n",
       "      <td>2018</td>\n",
       "      <td>1264</td>\n",
       "      <td>145</td>\n",
       "      <td>67.3</td>\n",
       "      <td>1.0</td>\n",
       "      <td>0</td>\n",
       "      <td>0</td>\n",
       "      <td>0</td>\n",
       "      <td>1</td>\n",
       "    </tr>\n",
       "    <tr>\n",
       "      <th>2</th>\n",
       "      <td>5</td>\n",
       "      <td>0</td>\n",
       "      <td>2019</td>\n",
       "      <td>6825</td>\n",
       "      <td>145</td>\n",
       "      <td>67.3</td>\n",
       "      <td>2.0</td>\n",
       "      <td>1</td>\n",
       "      <td>0</td>\n",
       "      <td>0</td>\n",
       "      <td>0</td>\n",
       "    </tr>\n",
       "    <tr>\n",
       "      <th>3</th>\n",
       "      <td>11</td>\n",
       "      <td>0</td>\n",
       "      <td>2015</td>\n",
       "      <td>28431</td>\n",
       "      <td>165</td>\n",
       "      <td>51.4</td>\n",
       "      <td>2.0</td>\n",
       "      <td>1</td>\n",
       "      <td>0</td>\n",
       "      <td>0</td>\n",
       "      <td>0</td>\n",
       "    </tr>\n",
       "    <tr>\n",
       "      <th>4</th>\n",
       "      <td>9</td>\n",
       "      <td>1</td>\n",
       "      <td>2019</td>\n",
       "      <td>10912</td>\n",
       "      <td>150</td>\n",
       "      <td>40.9</td>\n",
       "      <td>1.5</td>\n",
       "      <td>0</td>\n",
       "      <td>0</td>\n",
       "      <td>0</td>\n",
       "      <td>1</td>\n",
       "    </tr>\n",
       "    <tr>\n",
       "      <th>...</th>\n",
       "      <td>...</td>\n",
       "      <td>...</td>\n",
       "      <td>...</td>\n",
       "      <td>...</td>\n",
       "      <td>...</td>\n",
       "      <td>...</td>\n",
       "      <td>...</td>\n",
       "      <td>...</td>\n",
       "      <td>...</td>\n",
       "      <td>...</td>\n",
       "      <td>...</td>\n",
       "    </tr>\n",
       "    <tr>\n",
       "      <th>6262</th>\n",
       "      <td>10</td>\n",
       "      <td>3</td>\n",
       "      <td>2014</td>\n",
       "      <td>14569</td>\n",
       "      <td>160</td>\n",
       "      <td>44.8</td>\n",
       "      <td>1.2</td>\n",
       "      <td>0</td>\n",
       "      <td>0</td>\n",
       "      <td>0</td>\n",
       "      <td>1</td>\n",
       "    </tr>\n",
       "    <tr>\n",
       "      <th>6263</th>\n",
       "      <td>5</td>\n",
       "      <td>3</td>\n",
       "      <td>2014</td>\n",
       "      <td>49999</td>\n",
       "      <td>30</td>\n",
       "      <td>56.5</td>\n",
       "      <td>1.4</td>\n",
       "      <td>0</td>\n",
       "      <td>0</td>\n",
       "      <td>0</td>\n",
       "      <td>1</td>\n",
       "    </tr>\n",
       "    <tr>\n",
       "      <th>6264</th>\n",
       "      <td>1</td>\n",
       "      <td>3</td>\n",
       "      <td>2017</td>\n",
       "      <td>17131</td>\n",
       "      <td>145</td>\n",
       "      <td>61.4</td>\n",
       "      <td>1.0</td>\n",
       "      <td>0</td>\n",
       "      <td>0</td>\n",
       "      <td>0</td>\n",
       "      <td>1</td>\n",
       "    </tr>\n",
       "    <tr>\n",
       "      <th>6265</th>\n",
       "      <td>0</td>\n",
       "      <td>1</td>\n",
       "      <td>2016</td>\n",
       "      <td>21747</td>\n",
       "      <td>20</td>\n",
       "      <td>62.8</td>\n",
       "      <td>1.0</td>\n",
       "      <td>0</td>\n",
       "      <td>0</td>\n",
       "      <td>0</td>\n",
       "      <td>1</td>\n",
       "    </tr>\n",
       "    <tr>\n",
       "      <th>6266</th>\n",
       "      <td>1</td>\n",
       "      <td>3</td>\n",
       "      <td>2017</td>\n",
       "      <td>42530</td>\n",
       "      <td>20</td>\n",
       "      <td>60.1</td>\n",
       "      <td>1.2</td>\n",
       "      <td>0</td>\n",
       "      <td>0</td>\n",
       "      <td>0</td>\n",
       "      <td>1</td>\n",
       "    </tr>\n",
       "  </tbody>\n",
       "</table>\n",
       "<p>6267 rows × 11 columns</p>\n",
       "</div>"
      ],
      "text/plain": [
       "      model_kod  transmission_kod  year  mileage  tax   mpg  engineSize  \\\n",
       "0             5                 1  2017    25250  150  54.3         1.4   \n",
       "1             0                 1  2018     1264  145  67.3         1.0   \n",
       "2             5                 0  2019     6825  145  67.3         2.0   \n",
       "3            11                 0  2015    28431  165  51.4         2.0   \n",
       "4             9                 1  2019    10912  150  40.9         1.5   \n",
       "...         ...               ...   ...      ...  ...   ...         ...   \n",
       "6262         10                 3  2014    14569  160  44.8         1.2   \n",
       "6263          5                 3  2014    49999   30  56.5         1.4   \n",
       "6264          1                 3  2017    17131  145  61.4         1.0   \n",
       "6265          0                 1  2016    21747   20  62.8         1.0   \n",
       "6266          1                 3  2017    42530   20  60.1         1.2   \n",
       "\n",
       "      Diesel  Hybrid  Other  Petrol  \n",
       "0          0       0      0       1  \n",
       "1          0       0      0       1  \n",
       "2          1       0      0       0  \n",
       "3          1       0      0       0  \n",
       "4          0       0      0       1  \n",
       "...      ...     ...    ...     ...  \n",
       "6262       0       0      0       1  \n",
       "6263       0       0      0       1  \n",
       "6264       0       0      0       1  \n",
       "6265       0       0      0       1  \n",
       "6266       0       0      0       1  \n",
       "\n",
       "[6267 rows x 11 columns]"
      ]
     },
     "execution_count": 48,
     "metadata": {},
     "output_type": "execute_result"
    }
   ],
   "source": [
    "df = df.join(fuelType_kod)\n",
    "df"
   ]
  },
  {
   "cell_type": "code",
   "execution_count": 49,
   "id": "75e8be76-be60-4f3e-92c9-fc8f712ee685",
   "metadata": {},
   "outputs": [],
   "source": [
    "x = df.values\n",
    "y = skoda.price.values\n",
    "x_train, x_test, y_train, y_test = train_test_split(x, y)"
   ]
  },
  {
   "cell_type": "markdown",
   "id": "1d540234-41ec-4254-8187-5c78ed644660",
   "metadata": {},
   "source": [
    "Построим прогноз, используя модели линейной регрессии и случайного леса. "
   ]
  },
  {
   "cell_type": "markdown",
   "id": "3fcd84c2-3261-4abe-9e18-1d99432ca3bb",
   "metadata": {},
   "source": [
    "Применим модель линейной регрессии"
   ]
  },
  {
   "cell_type": "code",
   "execution_count": 63,
   "id": "c9d49d34-a6ba-4ef6-915b-b91dc8074623",
   "metadata": {},
   "outputs": [],
   "source": [
    "lr = LinearRegression()\n",
    "lr.fit(x_train, y_train)\n",
    "y_pred = lr.predict(x_test)\n",
    "r2_lr = r2_score(y_test, y_pred)"
   ]
  },
  {
   "cell_type": "code",
   "execution_count": 64,
   "id": "7faef94d-73c4-4091-aadb-80dc9dd81925",
   "metadata": {},
   "outputs": [
    {
     "name": "stdout",
     "output_type": "stream",
     "text": [
      "Качество модели линейной регрессии составляет:  85.08889388821285 %\n"
     ]
    }
   ],
   "source": [
    "print('Качество модели линейной регрессии составляет: ', r2_lr*100, '%')"
   ]
  },
  {
   "cell_type": "markdown",
   "id": "64bfc6b1-524e-4d9f-af46-5e177d49f0f9",
   "metadata": {},
   "source": [
    "Применим модель случайного леса:"
   ]
  },
  {
   "cell_type": "code",
   "execution_count": 65,
   "id": "62ecf971-9206-4e9c-b8fc-441a489c7a53",
   "metadata": {},
   "outputs": [],
   "source": [
    "rf = RandomForestClassifier(n_estimators=12, max_depth=12)\n",
    "rf.fit(x_train, y_train)\n",
    "y_pred = rf.predict(x_test)\n",
    "r2_rf = r2_score(y_test, y_pred)"
   ]
  },
  {
   "cell_type": "code",
   "execution_count": 66,
   "id": "da4906ec-6462-4828-b85b-e7fdcd296681",
   "metadata": {},
   "outputs": [
    {
     "name": "stdout",
     "output_type": "stream",
     "text": [
      "Качество модели случайного леса составляет:  91.18716701505882 %\n"
     ]
    }
   ],
   "source": [
    "print('Качество модели случайного леса составляет: ', r2_rf*100, '%')"
   ]
  },
  {
   "cell_type": "code",
   "execution_count": 75,
   "id": "f0aa0c51-041d-40a9-9969-80748450dfed",
   "metadata": {},
   "outputs": [
    {
     "name": "stdout",
     "output_type": "stream",
     "text": [
      "Вывод:\n",
      "Качество модели случайного леса выше, чем у модели линейной регрессии\n"
     ]
    }
   ],
   "source": [
    "print('Вывод:')\n",
    "if r2_rf > r2_lr:\n",
    "    print ('Качество модели случайного леса выше, чем у модели линейной регрессии')\n",
    "else:\n",
    "    print ('Качество модели случайного леса хуже, чем у модели линейной регрессии')\n"
   ]
  },
  {
   "cell_type": "code",
   "execution_count": null,
   "id": "71444fde-1e80-46fc-a725-a398ea17df98",
   "metadata": {},
   "outputs": [],
   "source": []
  },
  {
   "cell_type": "markdown",
   "id": "fa558d85-5d4f-4475-b0c3-6d5491ed8a82",
   "metadata": {},
   "source": [
    "Сравним результаты, используя кросс-валидацию:"
   ]
  },
  {
   "cell_type": "code",
   "execution_count": 79,
   "id": "d30dfb18-e370-416d-ada5-a71530babe67",
   "metadata": {},
   "outputs": [
    {
     "name": "stdout",
     "output_type": "stream",
     "text": [
      "для модели линейной регрессии:\n",
      "mean составляет:  0.8368939731675619  std составляет: 0.054254162416184276\n"
     ]
    }
   ],
   "source": [
    "print ('для модели линейной регрессии:')\n",
    "cross_val_score_lr = cross_val_score(lr, x_train, y_train, cv=10)\n",
    "print(\"mean составляет: \", cross_val_score_lr.mean(), \" std составляет:\", cross_val_score_lr.std())\n"
   ]
  },
  {
   "cell_type": "code",
   "execution_count": 80,
   "id": "67bf62ae-9b5d-4f92-9540-5a7e251dae1d",
   "metadata": {},
   "outputs": [
    {
     "name": "stdout",
     "output_type": "stream",
     "text": [
      "для модели случайного леса:\n"
     ]
    },
    {
     "name": "stderr",
     "output_type": "stream",
     "text": [
      "C:\\Users\\79111\\anaconda3\\lib\\site-packages\\sklearn\\model_selection\\_split.py:666: UserWarning: The least populated class in y has only 1 members, which is less than n_splits=10.\n",
      "  warnings.warn((\"The least populated class in y has only %d\"\n"
     ]
    },
    {
     "name": "stdout",
     "output_type": "stream",
     "text": [
      "mean составляет:  0.05063829787234042  std составляет: 0.007234042553191489\n"
     ]
    }
   ],
   "source": [
    "print ('для модели случайного леса:')\n",
    "scores = cross_val_score(rf, x_train, y_train, cv=10)\n",
    "print(\"mean составляет: \", scores.mean(), \" std составляет:\", scores.std())"
   ]
  },
  {
   "cell_type": "code",
   "execution_count": null,
   "id": "916e310c-c60c-4b77-a30d-560cf3a75e0a",
   "metadata": {},
   "outputs": [],
   "source": []
  },
  {
   "cell_type": "markdown",
   "id": "00f0a4c5-d3c2-49d5-98ec-63d3f6cb2f4f",
   "metadata": {},
   "source": [
    "Оценим важность признаков (параметр feature_importance_ у случайного леса)."
   ]
  },
  {
   "cell_type": "code",
   "execution_count": 81,
   "id": "b2a21306-19b8-4591-9aee-869894a2675a",
   "metadata": {},
   "outputs": [
    {
     "data": {
      "text/plain": [
       "array([0.06304998, 0.06315251, 0.11430063, 0.45550545, 0.08487577,\n",
       "       0.15537208, 0.04229375, 0.00882983, 0.00062215, 0.00187572,\n",
       "       0.01012213])"
      ]
     },
     "execution_count": 81,
     "metadata": {},
     "output_type": "execute_result"
    }
   ],
   "source": [
    "rf.feature_importances_"
   ]
  },
  {
   "cell_type": "markdown",
   "id": "e5640c96-c762-4755-bcdd-47c4f84bbbe1",
   "metadata": {},
   "source": [
    "Наибольший вес - у элемента 0,45550545 - mileage. Это определяющий признак"
   ]
  },
  {
   "cell_type": "code",
   "execution_count": null,
   "id": "317df0d1-47a4-4be0-8fe1-33fd1a38864d",
   "metadata": {},
   "outputs": [],
   "source": []
  },
  {
   "cell_type": "markdown",
   "id": "09f575c9-9c43-4411-94f2-f847faea7ec6",
   "metadata": {},
   "source": [
    "Подобрать гиперпараметры моделей -"
   ]
  },
  {
   "cell_type": "markdown",
   "id": "728f5e15-6c14-4419-bc97-bd0aba2bbc28",
   "metadata": {},
   "source": [
    "Выберем параметры (основные)"
   ]
  },
  {
   "cell_type": "code",
   "execution_count": 94,
   "id": "bd32c655-42a2-409c-ab27-ce1199d85361",
   "metadata": {},
   "outputs": [],
   "source": [
    "params = {\n",
    "    'n_estimators': [2, 5, 7],\n",
    "    'criterion': ['gini', 'entropy'],\n",
    "    'max_depth': [2, 8, 10]\n",
    "}"
   ]
  },
  {
   "cell_type": "code",
   "execution_count": 95,
   "id": "22900d29-1966-4193-8e66-0a0423c63f9b",
   "metadata": {},
   "outputs": [
    {
     "name": "stderr",
     "output_type": "stream",
     "text": [
      "C:\\Users\\79111\\anaconda3\\lib\\site-packages\\sklearn\\model_selection\\_split.py:666: UserWarning: The least populated class in y has only 1 members, which is less than n_splits=5.\n",
      "  warnings.warn((\"The least populated class in y has only %d\"\n"
     ]
    },
    {
     "data": {
      "text/plain": [
       "RandomForestClassifier(max_depth=10, n_estimators=7)"
      ]
     },
     "execution_count": 95,
     "metadata": {},
     "output_type": "execute_result"
    }
   ],
   "source": [
    "r_search = RandomizedSearchCV(RandomForestClassifier(), params)\n",
    "r_search.fit(x_train, y_train)\n",
    "r_search.best_estimator_"
   ]
  },
  {
   "cell_type": "code",
   "execution_count": null,
   "id": "d2565080-1950-4060-862e-950836fe0d74",
   "metadata": {},
   "outputs": [],
   "source": []
  },
  {
   "cell_type": "code",
   "execution_count": 98,
   "id": "17d87274-7cb4-48c8-a5cd-c050d5463201",
   "metadata": {},
   "outputs": [],
   "source": [
    "params = {\n",
    "    'fit_intercept': [2, 5, 7],\n",
    "    'normalize': [3, 6, 9],\n",
    "    'n_jobs': [3, 8, 10]\n",
    "}"
   ]
  },
  {
   "cell_type": "code",
   "execution_count": 99,
   "id": "9c0baa65-3810-4924-8ea3-af361e742610",
   "metadata": {},
   "outputs": [
    {
     "data": {
      "text/plain": [
       "LinearRegression(fit_intercept=2, n_jobs=3, normalize=9)"
      ]
     },
     "execution_count": 99,
     "metadata": {},
     "output_type": "execute_result"
    }
   ],
   "source": [
    "lr_search = RandomizedSearchCV(LinearRegression(), params)\n",
    "lr_search.fit(x_train, y_train)\n",
    "lr_search.best_estimator_"
   ]
  },
  {
   "cell_type": "code",
   "execution_count": null,
   "id": "384f5486-aac6-4e32-ba0f-6972a1ceb5d6",
   "metadata": {},
   "outputs": [],
   "source": []
  },
  {
   "cell_type": "code",
   "execution_count": null,
   "id": "19bd4685-0dc0-45d6-811a-b2a8ccd4ec0b",
   "metadata": {},
   "outputs": [],
   "source": []
  },
  {
   "cell_type": "code",
   "execution_count": null,
   "id": "cd091cb8-ba17-4b8b-ba65-6d4423cf7262",
   "metadata": {},
   "outputs": [],
   "source": []
  },
  {
   "cell_type": "code",
   "execution_count": null,
   "id": "2f9da070-aa6d-4553-8b06-9b4c4798ae88",
   "metadata": {},
   "outputs": [],
   "source": []
  },
  {
   "cell_type": "code",
   "execution_count": null,
   "id": "598293e2-8bf0-4177-a6d4-4542fb73d00d",
   "metadata": {},
   "outputs": [],
   "source": []
  },
  {
   "cell_type": "code",
   "execution_count": null,
   "id": "52e18f3e-a900-460c-b374-a361a69e0473",
   "metadata": {},
   "outputs": [],
   "source": []
  },
  {
   "cell_type": "code",
   "execution_count": null,
   "id": "e6edee7e-b754-4fb5-88dc-6a7fb79fcb5c",
   "metadata": {},
   "outputs": [],
   "source": []
  },
  {
   "cell_type": "code",
   "execution_count": null,
   "id": "e5f35fdd-0e9b-49f6-8b61-7c091cf88a74",
   "metadata": {},
   "outputs": [],
   "source": []
  },
  {
   "cell_type": "code",
   "execution_count": null,
   "id": "5884ad86-832d-46bd-8efc-438cd27cb7e8",
   "metadata": {},
   "outputs": [],
   "source": []
  },
  {
   "cell_type": "code",
   "execution_count": null,
   "id": "21aa22fe-0d40-4a4c-ba6b-9dad403b6776",
   "metadata": {},
   "outputs": [],
   "source": []
  },
  {
   "cell_type": "code",
   "execution_count": 1,
   "id": "d559d054-9e98-46be-8175-5e02ad9eca21",
   "metadata": {},
   "outputs": [],
   "source": [
    "import numpy as np\n",
    "import pandas as pd"
   ]
  },
  {
   "cell_type": "markdown",
   "id": "6684d423-f121-480b-a3a6-d23b72fa3d12",
   "metadata": {},
   "source": [
    "## Предобработка данных\n",
    "\n",
    "### Работа с пропусками с категориальными данными\n",
    "\n",
    "- заменить на \"неизвестно\"\n",
    "- заменить наиболее популярным значением\n",
    "- дропнуть\n",
    "\n",
    "### Работа с пропусками с числовыми данными\n",
    "\n",
    "- заменить на среднее значение\n",
    "- ffill/bfill/interpolate, где это имеет смысл (например, во временных рядах)\n",
    "- дропнуть\n",
    "\n",
    "\n",
    "### Нормализация числовых признаков\n",
    "\n",
    "- привести к диапазону от 0 до 1 по формуле\n",
    "\n",
    "$x_{new} = \\frac{x - x_{min}}{x_{max} - x_{min}}$\n",
    "\n",
    "- вычесть среднее и разделить на среднеквадратичное отклонение\n",
    "\n",
    "$x_{new} = \\frac{x - x_{mean}}{\\sigma}$\n",
    "\n",
    "### Обработка категориальных признаков\n",
    "\n",
    "- OneHotEncoding - заменяем колонку с n значениями на n колонок, в каждой из которых стоит 0 или 1, в зависимости от того, принадлежит ли объект этой категории. Универсальный способ, но значительно увеличивает размерность в данных (нужно много данных, чтобы модель хорошо обучилась).\n",
    "- Закодировать категорию от 1 до n. Хорошо сработает, если категории можно упорядочить (например, год выпуска машины, грейд работника) или если всего две категории (например, пол) и нет смысла добавлять вторую колонку как в one hot encoding.\n",
    "- Не используем категориальный признак\n"
   ]
  },
  {
   "cell_type": "markdown",
   "id": "0ba2c946-13f8-49e9-8034-9852c9d6f4d6",
   "metadata": {},
   "source": [
    "## Задача\n",
    "\n",
    "Для данных о погоде создать категорию \"время года\" и закодировать ее при помощи OneHotEncoder. Проще всего применить OneHotEncoder при помощи pandas.get_dummies()\n",
    "\n",
    "Преобразовать данные о температуре двумя способами."
   ]
  },
  {
   "cell_type": "code",
   "execution_count": 54,
   "id": "9a7bd004-0c00-44b3-8cd1-33194a1993f6",
   "metadata": {},
   "outputs": [
    {
     "data": {
      "text/html": [
       "<div>\n",
       "<style scoped>\n",
       "    .dataframe tbody tr th:only-of-type {\n",
       "        vertical-align: middle;\n",
       "    }\n",
       "\n",
       "    .dataframe tbody tr th {\n",
       "        vertical-align: top;\n",
       "    }\n",
       "\n",
       "    .dataframe thead th {\n",
       "        text-align: right;\n",
       "    }\n",
       "</style>\n",
       "<table border=\"1\" class=\"dataframe\">\n",
       "  <thead>\n",
       "    <tr style=\"text-align: right;\">\n",
       "      <th></th>\n",
       "      <th>blue</th>\n",
       "      <th>green</th>\n",
       "      <th>red</th>\n",
       "    </tr>\n",
       "  </thead>\n",
       "  <tbody>\n",
       "    <tr>\n",
       "      <th>0</th>\n",
       "      <td>1</td>\n",
       "      <td>0</td>\n",
       "      <td>0</td>\n",
       "    </tr>\n",
       "    <tr>\n",
       "      <th>1</th>\n",
       "      <td>0</td>\n",
       "      <td>0</td>\n",
       "      <td>1</td>\n",
       "    </tr>\n",
       "    <tr>\n",
       "      <th>2</th>\n",
       "      <td>1</td>\n",
       "      <td>0</td>\n",
       "      <td>0</td>\n",
       "    </tr>\n",
       "    <tr>\n",
       "      <th>3</th>\n",
       "      <td>0</td>\n",
       "      <td>0</td>\n",
       "      <td>1</td>\n",
       "    </tr>\n",
       "    <tr>\n",
       "      <th>4</th>\n",
       "      <td>0</td>\n",
       "      <td>1</td>\n",
       "      <td>0</td>\n",
       "    </tr>\n",
       "  </tbody>\n",
       "</table>\n",
       "</div>"
      ],
      "text/plain": [
       "   blue  green  red\n",
       "0     1      0    0\n",
       "1     0      0    1\n",
       "2     1      0    0\n",
       "3     0      0    1\n",
       "4     0      1    0"
      ]
     },
     "execution_count": 54,
     "metadata": {},
     "output_type": "execute_result"
    }
   ],
   "source": [
    "# Пример\n",
    "\n",
    "series = pd.Series(['blue', 'red', 'blue', 'red', 'green'])\n",
    "pd.get_dummies(series)"
   ]
  },
  {
   "cell_type": "code",
   "execution_count": 55,
   "id": "1a951c7e-20b5-49ef-9c6e-c0ad54e536fa",
   "metadata": {},
   "outputs": [],
   "source": [
    "# Ваш код здесь\n"
   ]
  },
  {
   "cell_type": "markdown",
   "id": "cec4ec7f-b374-4643-850c-564e8c59afcc",
   "metadata": {},
   "source": [
    "## Модель случайного леса\n",
    "\n",
    "Обучим 100 деревьев решений на разных подмножествах обучающей выборки (выбирая для каждого дерева случайные строки и столбцы из $X$). \n",
    "\n",
    "Ответ будем получать голосованием.\n",
    "\n",
    "Например, за то, что объект принадлежит классу 1 проголосовало 90 деревьев, а за то, что объект принадлежит классу 2, проголосовало 10 деревьев. Итого - берем ответ 1.\n",
    "\n",
    "Такая модель называется моделью случайного леса\n",
    "\n",
    "Основные аргументы:\n",
    "\n",
    "- `n_estimators` - максимальное число деревьев в лесу\n",
    "- `criterion` - критерий для создания узла: или критерий Джини gini (по умолчанию), или энтропия entropy.\n",
    "- `max_depth` - максимальная глубина дерева\n",
    "- `max_features` - максимальное число атрибутов, которые будут проверены при создании узла, по умолчанию это равно корню квадратному из числа всех атрибутов в данных.\n",
    "- `max_samples` - максимальное число примеров используемых для одного дерева (примеры выбираются случайно).\n",
    "\n",
    "\n",
    "Сам объект RandomForestClassifier имеет поля:\n",
    "\n",
    "- `estimators_` - список объектов деревьев (типа DecisionTreeClassifier) в этом лесу\n",
    "- `classes_` - метки классов\n",
    "- `n_classes_` - число классов\n",
    "- `n_features_` - число атрибутов\n",
    "- `n_outputs_` - число выходов\n",
    "- `feature_importances_` - оценка важности атрибутов. Очень полезные сведения, показывающие какой вклад дает тот или иной атрибут в точность решения задачи. Полезно, например, для существенного уменьшения размера дерева: удалив атрибуты с малой важностью не сильно потеряем в точности. Полезно и для интерпретируемости результатов. Вычисляется как суммарная величина уменьшения критерия неопределенности для этого атрибута."
   ]
  },
  {
   "cell_type": "code",
   "execution_count": 10,
   "id": "453fcde7-909b-4c97-973d-a0a224173609",
   "metadata": {},
   "outputs": [],
   "source": [
    "from sklearn.ensemble import RandomForestClassifier\n",
    "from sklearn.datasets import load_digits\n",
    "from sklearn.metrics import accuracy_score, confusion_matrix\n",
    "from sklearn.model_selection import train_test_split"
   ]
  },
  {
   "cell_type": "code",
   "execution_count": 9,
   "id": "1b126af0-42da-4a71-b47e-930afbb3793a",
   "metadata": {},
   "outputs": [],
   "source": [
    "data = load_digits()\n",
    "x = data.data\n",
    "y = data.target"
   ]
  },
  {
   "cell_type": "code",
   "execution_count": 11,
   "id": "cdf1abf6-2be3-4607-a7ff-c5321cc65ade",
   "metadata": {},
   "outputs": [],
   "source": [
    "x_train, x_test, y_train, y_test = train_test_split(x, y)"
   ]
  },
  {
   "cell_type": "code",
   "execution_count": 12,
   "id": "f89196a6-c473-4deb-bec1-4ba6600e79f8",
   "metadata": {},
   "outputs": [
    {
     "data": {
      "text/plain": [
       "0.9711111111111111"
      ]
     },
     "execution_count": 12,
     "metadata": {},
     "output_type": "execute_result"
    }
   ],
   "source": [
    "model = RandomForestClassifier()\n",
    "model.fit(x_train, y_train)\n",
    "\n",
    "y_pred = model.predict(x_test)\n",
    "accuracy_score(y_test, y_pred)"
   ]
  },
  {
   "cell_type": "code",
   "execution_count": 13,
   "id": "baada061-c776-403d-82fd-51533edbd660",
   "metadata": {},
   "outputs": [
    {
     "data": {
      "text/plain": [
       "array([[47,  0,  0,  0,  0,  0,  0,  0,  0,  0],\n",
       "       [ 0, 40,  0,  0,  0,  0,  0,  0,  0,  0],\n",
       "       [ 1,  0, 40,  0,  0,  0,  0,  0,  0,  0],\n",
       "       [ 0,  0,  0, 49,  0,  1,  0,  0,  2,  0],\n",
       "       [ 0,  0,  0,  0, 45,  0,  0,  0,  0,  0],\n",
       "       [ 0,  0,  0,  0,  0, 42,  0,  0,  0,  0],\n",
       "       [ 0,  0,  0,  0,  1,  0, 45,  0,  1,  0],\n",
       "       [ 0,  0,  0,  0,  1,  0,  0, 42,  0,  0],\n",
       "       [ 0,  2,  0,  0,  0,  1,  0,  0, 44,  0],\n",
       "       [ 0,  0,  0,  0,  0,  0,  0,  3,  0, 43]], dtype=int64)"
      ]
     },
     "execution_count": 13,
     "metadata": {},
     "output_type": "execute_result"
    }
   ],
   "source": [
    "confusion_matrix(y_test, y_pred)"
   ]
  },
  {
   "cell_type": "markdown",
   "id": "ee773b9a-5186-46ad-b48e-9851b4168333",
   "metadata": {},
   "source": [
    "## Задача\n",
    "\n",
    "Перебрать параметры `n_estimators`, `criterion` и `max_depth` и найти оптимальные. \n",
    "\n",
    "Для решения можно написать тройной цикл, в каждом из которых можно перебирать значения параметров."
   ]
  },
  {
   "cell_type": "code",
   "execution_count": 17,
   "id": "e445aacb-8dff-4545-8972-817cc8d7a9a1",
   "metadata": {},
   "outputs": [],
   "source": [
    "def get_accuracy_of_model(x_train, y_train, x_test, y_test, n_estimators, criterion, max_depth):\n",
    "    \"\"\"Функция принимает на вход треин и тест выборки и параметры модели. На выходе дает accuracy.\"\"\"\n",
    "    model = RandomForestClassifier(n_estimators=n_estimators, criterion=criterion, max_depth=max_depth)\n",
    "    model.fit(x_train, y_train)\n",
    "    y_pred = model.predict(x_test)\n",
    "    return accuracy_score(y_test, y_pred)"
   ]
  },
  {
   "cell_type": "code",
   "execution_count": 18,
   "id": "f2abee29-c580-4889-b19a-9df1c2e69935",
   "metadata": {},
   "outputs": [],
   "source": [
    "n_estimators = [5, 100, 500, 1000]\n",
    "criterions = ['gini', 'entropy']\n",
    "max_depth = [3, 5, 7, 10]\n",
    "\n",
    "# Ваш код здесь\n"
   ]
  },
  {
   "cell_type": "markdown",
   "id": "d2e23bf5-d776-4913-ab70-3348f4af3b4b",
   "metadata": {},
   "source": [
    "## Подбор гиперпараметров модели\n",
    "\n",
    "Иногда нужно перебирать множество параметров и не хочется писать много циклов. Для таких случаев в sklearn реализован `GridSearchCV` и `RandomSearchCV`."
   ]
  },
  {
   "cell_type": "code",
   "execution_count": 23,
   "id": "1baecd8e-7e70-4398-af44-9460559b1b99",
   "metadata": {},
   "outputs": [],
   "source": [
    "from sklearn.model_selection import GridSearchCV, RandomizedSearchCV"
   ]
  },
  {
   "cell_type": "code",
   "execution_count": 35,
   "id": "04f12f36-44c4-4483-aff5-d6181bdd35c7",
   "metadata": {},
   "outputs": [],
   "source": [
    "params = {\n",
    "    'n_estimators': [5, 100, 500, 1000],\n",
    "    'criterion': ['gini', 'entropy'],\n",
    "    'max_depth': [3, 5, 7, 10]\n",
    "}"
   ]
  },
  {
   "cell_type": "code",
   "execution_count": 36,
   "id": "a87040ca-18b3-4c39-83e4-29450e3a4e14",
   "metadata": {},
   "outputs": [
    {
     "name": "stdout",
     "output_type": "stream",
     "text": [
      "Wall time: 2min 54s\n"
     ]
    },
    {
     "data": {
      "text/plain": [
       "RandomForestClassifier(max_depth=10, n_estimators=1000)"
      ]
     },
     "execution_count": 36,
     "metadata": {},
     "output_type": "execute_result"
    }
   ],
   "source": [
    "%%time\n",
    "search = GridSearchCV(RandomForestClassifier(), params)\n",
    "search.fit(x_train, y_train)\n",
    "search.best_estimator_"
   ]
  },
  {
   "cell_type": "code",
   "execution_count": 37,
   "id": "dcdb0406-e1f8-45c6-82c2-1cb8d20e4e20",
   "metadata": {},
   "outputs": [
    {
     "name": "stdout",
     "output_type": "stream",
     "text": [
      "Wall time: 1min 2s\n"
     ]
    },
    {
     "data": {
      "text/plain": [
       "RandomForestClassifier(max_depth=10, n_estimators=1000)"
      ]
     },
     "execution_count": 37,
     "metadata": {},
     "output_type": "execute_result"
    }
   ],
   "source": [
    "%%time\n",
    "r_search = RandomizedSearchCV(RandomForestClassifier(), params)\n",
    "r_search.fit(x_train, y_train)\n",
    "r_search.best_estimator_"
   ]
  },
  {
   "cell_type": "markdown",
   "id": "c4f66000-1059-47bf-b7ed-64eae1e8fb45",
   "metadata": {},
   "source": [
    "## Задача\n",
    "\n",
    "Построить модель SGDClassifier и осуществить подбор гиперпараметров при помощи случайного поиска (список гиперпараметров можно посмотреть в документации)."
   ]
  },
  {
   "cell_type": "code",
   "execution_count": 45,
   "id": "71a7def6-2ff4-404c-8207-bbf267236c54",
   "metadata": {},
   "outputs": [],
   "source": [
    "from sklearn.linear_model import SGDClassifier"
   ]
  },
  {
   "cell_type": "code",
   "execution_count": null,
   "id": "e3136c1c-91b8-4d06-8ecd-991f169da05a",
   "metadata": {},
   "outputs": [],
   "source": [
    "# Ваш код здесь\n"
   ]
  },
  {
   "cell_type": "markdown",
   "id": "5a3e7764-8925-499c-82f6-4832661b4a07",
   "metadata": {},
   "source": [
    "## Ансамблевые модели\n",
    "\n",
    "Объединяя множество простых моделей в одну сложную, можно получить результат гораздо лучше.\n",
    "\n",
    "Есть несколько способов создания ансамблей:\n",
    "\n",
    "- **Бэггинг** (Bagging, сокращение от Bootstrap Aggregation) - однородные модели (из одного класса) обучаются независимо друг от друга на разных случайных подвыборках и разных признаках. Итоговый прогноз считается при помощи голосования моделей. Пример: случайный лес\n",
    "- **Бустинг** - однородные модели строятся последовательно, каждая следующая модель старается минимизировать ошибку предыдущей. Пример: градиентный бустинг\n",
    "- **Стекинг** - разнородные модели обучаются на всех данных (или на подвыборках) и поверх них строится модель, которая минимизирует общую ошибку.\n",
    "\n",
    "На основе стекинга можно строить очень сложные модели, которые будут долго обучаться и иметь очень высокую точность."
   ]
  },
  {
   "cell_type": "markdown",
   "id": "86431f81-6311-4682-a125-d0e9ce5d4ceb",
   "metadata": {},
   "source": [
    "## Градиентный бустинг\n",
    "\n",
    "Идея бустинга заключается в следующем:\n",
    "\n",
    "* Пусть мы имеем входы **X** и указания учителя **Y**.\n",
    "* Обучим первую модель на этих данных, если модель простая,  то обучение будет не очень точным и выход модели будет **F1**, а должны были получить **Y**\n",
    "* Обучим вторую модель на тех же данных, но для нее указания учителя сделаем **Y-F1**, получим выход **F2**, который тоже может отличаться от желаемого. \n",
    "* тогда обучим третью модель, для которой указания учителя будут **Y-F2**, получим выход **F3**.\n",
    "* будем продолжать обучать все новые и новые модели, пока не надоест или пока не достигнем хорошего обучения или других критериев останова. \n",
    "* Результат ансамбля, выход F=F1+F2+F3+...\n",
    "\n",
    "Если внимательно присмотреться, то величина **(Y - F1)** это градиент по **F1** (со знаком минус) от средневквадратичной ошибки \\\\(0.5*(Y-F1)^2\\\\), потому такой бустинг называют [\"градиентный бустинг\"](https://en.wikipedia.org/wiki/Gradient_boosting), а величины **(Y - F1)** - \"остатками\" (residuals). \n",
    "\n",
    "Обычно для градиентного бустинга используют следующие библиотеки:\n",
    "\n",
    "- XGBoost\n",
    "- CatBoost\n",
    "- LightGBM\n",
    "\n",
    "В классе мы будем использовать реализацию в sklearn, а в домашней работе предлагаю использовать XGBoost или любую другую реализацию из этих трех."
   ]
  },
  {
   "cell_type": "markdown",
   "id": "009415e3-2f80-4f47-baaa-93e1c81b0309",
   "metadata": {},
   "source": [
    "## Задача\n",
    "\n",
    "Обучить модель градиентного бустинга на датасете, провести подбор гиперпараметров (взять любые 3 штуки, их список можно получить через документацию к модели).\n",
    "\n",
    "Сравнить качество с полученными ранее результатами."
   ]
  },
  {
   "cell_type": "code",
   "execution_count": 19,
   "id": "385a784b-d8e8-4319-95f5-1f3729ce1cd8",
   "metadata": {},
   "outputs": [],
   "source": [
    "from sklearn.ensemble import GradientBoostingClassifier"
   ]
  },
  {
   "cell_type": "code",
   "execution_count": null,
   "id": "d7a135cb-5af0-4d90-a44b-64ce176350e8",
   "metadata": {},
   "outputs": [],
   "source": [
    "# Ваш код здесь"
   ]
  },
  {
   "cell_type": "markdown",
   "id": "32ddebee-e309-4a48-aa39-1655d354f27f",
   "metadata": {},
   "source": [
    "## Стекинг\n",
    "\n",
    "В случае, когда разные модели совершают разные ошибки, можно использовать стекинг."
   ]
  },
  {
   "cell_type": "code",
   "execution_count": 40,
   "id": "b994f0c1-1494-4cf6-a560-f49e97da723d",
   "metadata": {},
   "outputs": [],
   "source": [
    "from sklearn.ensemble import StackingClassifier\n",
    "from sklearn.linear_model import LogisticRegression\n",
    "from sklearn.tree import DecisionTreeClassifier\n",
    "estimators = [\n",
    "    ('LogReg', LogisticRegression()),\n",
    "    ('Tree', DecisionTreeClassifier())\n",
    "]\n",
    "clf=StackingClassifier(estimators=estimators, final_estimator=LogisticRegression())"
   ]
  },
  {
   "cell_type": "markdown",
   "id": "abe56975-148d-4208-b836-b511d4d6d69a",
   "metadata": {},
   "source": [
    "## Задача \n",
    "\n",
    "Добавить в стекинг еще несколько классификаторов (можно взять классификаторы из прошлых заданий) и получить финальный результат."
   ]
  },
  {
   "cell_type": "code",
   "execution_count": null,
   "id": "2637e8e1-825e-4bdd-8bb4-7e16a674d104",
   "metadata": {},
   "outputs": [],
   "source": []
  },
  {
   "cell_type": "markdown",
   "id": "b50ffba6-d244-45ae-8591-276c201f24f6",
   "metadata": {
    "tags": []
   },
   "source": [
    "## Задача\n",
    "\n",
    "Иногда нужно использовать модели, у которых интерфейс отличается от интерфейса моделей из sklearn и тогда приходится самостоятельно реализовывать стекинг.\n",
    "\n",
    "Задача \n",
    "\n",
    "Алгоритм построения стекинга:\n",
    "- Получить прогнозы базовых моделей\n",
    "- Использовать прогнозы базовых моделей в качестве признаков для финализирующей модели\n",
    "- Оформить модель в отдельную функцию"
   ]
  },
  {
   "cell_type": "code",
   "execution_count": null,
   "id": "1dd8a393-4a28-45bc-8357-82893458de09",
   "metadata": {},
   "outputs": [],
   "source": [
    "# Ваш код здесь\n"
   ]
  },
  {
   "cell_type": "markdown",
   "id": "2d406943-b64e-4901-9b66-5fa893041e78",
   "metadata": {},
   "source": [
    "## Задача\n",
    "\n",
    "Построить стекинговую регрессионную модель для данных о стоимости домов. Подобрать гиперпараметры для каждой базовой модели, оценить финальное качество."
   ]
  },
  {
   "cell_type": "code",
   "execution_count": null,
   "id": "b779b59f-ac73-4e81-8804-ea336d933405",
   "metadata": {},
   "outputs": [],
   "source": [
    "# Ваш код здесь\n"
   ]
  },
  {
   "cell_type": "markdown",
   "id": "c3df15b5-0719-44bf-817c-4dfaf404dd1a",
   "metadata": {},
   "source": [
    "# Домашняя работа\n",
    "\n",
    "Будем работать с датасетом подержанных машин https://www.kaggle.com/adityadesai13/used-car-dataset-ford-and-mercedes.\n",
    "\n",
    "Задача - построить прогноз цены машины по ее данным (год выпуска, пробег, расход, размер двигателя, тип коробки передач и тд). \n",
    "\n",
    "Это задача регрессии, поэтому нужно использовать модели регрессоры, а не классификаторы (например, не `StackingClassifier`, а `StackingRegressor`).\n",
    "\n",
    "## Easy\n",
    "\n",
    "Взять один файл с маркой машины.\n",
    "\n",
    "Построить прогноз, используя модели линейной регрессии и случайного леса. Сравнить результаты, используя кросс-валидацию. Подобрать гиперпараметры моделей (для линейной регрессии можно использовать реализацию с градиентным спуском `SGDRegressor`). Оценить качество, используя метрику `r2_score`. Оценить важность признаков (параметр `feature_importance_` у случайного леса).\n",
    "\n",
    "## Normal\n",
    "\n",
    "Объединить в один датафрейм данные по всем маркам машин. Преобразовать категориальные признаки.\n",
    "\n",
    "Построить еще несколько моделей, используя подбор гиперпараметров. Сравнить между собой все построенные модели.\n",
    "\n",
    "## Hard\n",
    "\n",
    "Построить модель стекинга над всеми моделями из задачи Normal. Удалось ли улучшить результат?"
   ]
  },
  {
   "cell_type": "markdown",
   "id": "1705001b-3f3b-4609-b1be-a91f414d5095",
   "metadata": {},
   "source": [
    "# Полезные ссылки\n",
    "\n",
    "- [Наивный байесовский классификатор](http://datareview.info/article/6-prostyih-shagov-dlya-osvoeniya-naivnogo-bayesovskogo-algoritma-s-primerom-koda-na-python/)\n",
    "- [AdaBoost](https://habr.com/ru/company/otus/blog/503888/)\n",
    "- [K ближайших соседей (kNN)](https://habr.com/ru/post/149693/)\n",
    "- [Метод опорных векторов (SVM)](https://habr.com/ru/post/105220/)"
   ]
  }
 ],
 "metadata": {
  "kernelspec": {
   "display_name": "Python 3",
   "language": "python",
   "name": "python3"
  },
  "language_info": {
   "codemirror_mode": {
    "name": "ipython",
    "version": 3
   },
   "file_extension": ".py",
   "mimetype": "text/x-python",
   "name": "python",
   "nbconvert_exporter": "python",
   "pygments_lexer": "ipython3",
   "version": "3.8.8"
  }
 },
 "nbformat": 4,
 "nbformat_minor": 5
}

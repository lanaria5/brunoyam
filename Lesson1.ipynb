{
 "cells": [
  {
   "cell_type": "code",
   "execution_count": 2,
   "id": "d1e6b214-c981-4ee6-b4e7-a1197ca88c4c",
   "metadata": {},
   "outputs": [],
   "source": [
    "# Задача 1. Easy. Написать функцию, которая на вход получает список из чисел, а на выходе дает список, \n",
    "# где каждое число возведено в квадрат\n",
    "# Решать при помощи цикла. Попробовать на вход list(range(10))    list(range(100))  list()"
   ]
  },
  {
   "cell_type": "code",
   "execution_count": 25,
   "id": "f8e667a3-90e8-44aa-9384-6086bee0208a",
   "metadata": {},
   "outputs": [],
   "source": [
    "def square_list_variant1(list):\n",
    "    kvadr_list = []\n",
    "    for i in list:\n",
    "        kvadr_list.append(i**2)\n",
    "    return kvadr_list"
   ]
  },
  {
   "cell_type": "code",
   "execution_count": 97,
   "id": "88e1798e-5d5f-4098-b59b-5c93bca1e9a2",
   "metadata": {},
   "outputs": [],
   "source": [
    "# Ниже приведены варианты с данными на вход 1 - range(10), 2 - range(100) и 3 - list() \n",
    "# (список list заполнен произвольными числовыми данными)"
   ]
  },
  {
   "cell_type": "code",
   "execution_count": null,
   "id": "30ab2551-e042-4483-8b17-c5de963a4648",
   "metadata": {},
   "outputs": [],
   "source": [
    "# После каждой версии вводимых данных определено время исполнения с помощью %%timeit"
   ]
  },
  {
   "cell_type": "code",
   "execution_count": 26,
   "id": "008c4668-d74e-4bf2-baac-ef9d82b8af6c",
   "metadata": {},
   "outputs": [
    {
     "data": {
      "text/plain": [
       "[0, 1, 4, 9, 16, 25, 36, 49, 64, 81]"
      ]
     },
     "execution_count": 26,
     "metadata": {},
     "output_type": "execute_result"
    }
   ],
   "source": [
    "square_list_variant1(range(10))"
   ]
  },
  {
   "cell_type": "code",
   "execution_count": 82,
   "id": "ed205cd2-16b9-4311-80f9-0987a5c66bf1",
   "metadata": {},
   "outputs": [
    {
     "name": "stdout",
     "output_type": "stream",
     "text": [
      "2.75 µs ± 82.9 ns per loop (mean ± std. dev. of 7 runs, 100000 loops each)\n"
     ]
    }
   ],
   "source": [
    "%%timeit\n",
    "square_list_variant1(range(10))"
   ]
  },
  {
   "cell_type": "code",
   "execution_count": 83,
   "id": "888f0e19-b384-4958-b2c2-f1e2fe460b3b",
   "metadata": {
    "tags": []
   },
   "outputs": [
    {
     "data": {
      "text/plain": [
       "[0,\n",
       " 1,\n",
       " 4,\n",
       " 9,\n",
       " 16,\n",
       " 25,\n",
       " 36,\n",
       " 49,\n",
       " 64,\n",
       " 81,\n",
       " 100,\n",
       " 121,\n",
       " 144,\n",
       " 169,\n",
       " 196,\n",
       " 225,\n",
       " 256,\n",
       " 289,\n",
       " 324,\n",
       " 361,\n",
       " 400,\n",
       " 441,\n",
       " 484,\n",
       " 529,\n",
       " 576,\n",
       " 625,\n",
       " 676,\n",
       " 729,\n",
       " 784,\n",
       " 841,\n",
       " 900,\n",
       " 961,\n",
       " 1024,\n",
       " 1089,\n",
       " 1156,\n",
       " 1225,\n",
       " 1296,\n",
       " 1369,\n",
       " 1444,\n",
       " 1521,\n",
       " 1600,\n",
       " 1681,\n",
       " 1764,\n",
       " 1849,\n",
       " 1936,\n",
       " 2025,\n",
       " 2116,\n",
       " 2209,\n",
       " 2304,\n",
       " 2401,\n",
       " 2500,\n",
       " 2601,\n",
       " 2704,\n",
       " 2809,\n",
       " 2916,\n",
       " 3025,\n",
       " 3136,\n",
       " 3249,\n",
       " 3364,\n",
       " 3481,\n",
       " 3600,\n",
       " 3721,\n",
       " 3844,\n",
       " 3969,\n",
       " 4096,\n",
       " 4225,\n",
       " 4356,\n",
       " 4489,\n",
       " 4624,\n",
       " 4761,\n",
       " 4900,\n",
       " 5041,\n",
       " 5184,\n",
       " 5329,\n",
       " 5476,\n",
       " 5625,\n",
       " 5776,\n",
       " 5929,\n",
       " 6084,\n",
       " 6241,\n",
       " 6400,\n",
       " 6561,\n",
       " 6724,\n",
       " 6889,\n",
       " 7056,\n",
       " 7225,\n",
       " 7396,\n",
       " 7569,\n",
       " 7744,\n",
       " 7921,\n",
       " 8100,\n",
       " 8281,\n",
       " 8464,\n",
       " 8649,\n",
       " 8836,\n",
       " 9025,\n",
       " 9216,\n",
       " 9409,\n",
       " 9604,\n",
       " 9801]"
      ]
     },
     "execution_count": 83,
     "metadata": {},
     "output_type": "execute_result"
    }
   ],
   "source": [
    "square_list_variant1(range(100))"
   ]
  },
  {
   "cell_type": "code",
   "execution_count": 85,
   "id": "67707194-14ac-4fa6-9e82-4f447438c1d1",
   "metadata": {},
   "outputs": [
    {
     "name": "stdout",
     "output_type": "stream",
     "text": [
      "26.4 µs ± 1.34 µs per loop (mean ± std. dev. of 7 runs, 10000 loops each)\n"
     ]
    }
   ],
   "source": [
    "%%timeit\n",
    "square_list_variant1(range(100))"
   ]
  },
  {
   "cell_type": "code",
   "execution_count": 28,
   "id": "6f3ef014-61f2-4571-969d-2f829d7a3144",
   "metadata": {},
   "outputs": [
    {
     "data": {
      "text/plain": [
       "[1, 25, 81, 16, 36, 10000]"
      ]
     },
     "execution_count": 28,
     "metadata": {},
     "output_type": "execute_result"
    }
   ],
   "source": [
    "square_list_variant1([1, 5, 9, 4, 6, 100])"
   ]
  },
  {
   "cell_type": "code",
   "execution_count": 89,
   "id": "a626f75a-1832-426b-8c4b-2e06f78d297f",
   "metadata": {},
   "outputs": [
    {
     "name": "stdout",
     "output_type": "stream",
     "text": [
      "1.76 µs ± 107 ns per loop (mean ± std. dev. of 7 runs, 100000 loops each)\n"
     ]
    }
   ],
   "source": [
    "%%timeit\n",
    "square_list_variant1([1, 5, 9, 4, 6, 100])"
   ]
  },
  {
   "cell_type": "code",
   "execution_count": null,
   "id": "014e8e77-e70b-4146-8ad0-c17fd21c59ed",
   "metadata": {},
   "outputs": [],
   "source": []
  },
  {
   "cell_type": "code",
   "execution_count": 90,
   "id": "2859cf8c-cc20-474a-8570-8c4b17e16c65",
   "metadata": {},
   "outputs": [],
   "source": [
    "# Задача 2. Normal. То же самое, но на этот раз без цикла. Сравнить скорость выполнения первого и второго варианта"
   ]
  },
  {
   "cell_type": "code",
   "execution_count": 99,
   "id": "485a68c7-f92c-4d26-aad3-5eca4facaed4",
   "metadata": {
    "tags": []
   },
   "outputs": [],
   "source": [
    "def square_list_variant2(test_list): # Назвала функцию возведения в квадрат вариант 2\n",
    "    new_list = []\n",
    "    return list(map(lambda x: x**2, test_list))"
   ]
  },
  {
   "cell_type": "code",
   "execution_count": 98,
   "id": "85a50207-2145-472c-95cf-477093949f48",
   "metadata": {},
   "outputs": [],
   "source": [
    "# функция без цикла написана с помощью map - так как map используется, чтобы преобразовать каждый элемент комллекции\n",
    "# После каждого варианта вводных данных (range(10), range(100), list - просто список с такими же числовыми данными,\n",
    "# как в первом варианте"
   ]
  },
  {
   "cell_type": "code",
   "execution_count": 100,
   "id": "e3ed022b-aab8-4b09-b1f4-6333dbd4fcbe",
   "metadata": {},
   "outputs": [
    {
     "data": {
      "text/plain": [
       "[0, 1, 4, 9, 16, 25, 36, 49, 64, 81]"
      ]
     },
     "execution_count": 100,
     "metadata": {},
     "output_type": "execute_result"
    }
   ],
   "source": [
    "test_list = list(range(10)) \n",
    "square_list_variant2(test_list)"
   ]
  },
  {
   "cell_type": "code",
   "execution_count": 101,
   "id": "05d668e5-eff7-46ea-9a91-d6e5752269f2",
   "metadata": {},
   "outputs": [
    {
     "name": "stdout",
     "output_type": "stream",
     "text": [
      "2.91 µs ± 72.1 ns per loop (mean ± std. dev. of 7 runs, 100000 loops each)\n"
     ]
    }
   ],
   "source": [
    "%%timeit\n",
    "square_list_variant2(test_list)"
   ]
  },
  {
   "cell_type": "code",
   "execution_count": 102,
   "id": "a777466f-6cdb-4ce2-b705-45164b135ba6",
   "metadata": {},
   "outputs": [
    {
     "data": {
      "text/plain": [
       "[0,\n",
       " 1,\n",
       " 4,\n",
       " 9,\n",
       " 16,\n",
       " 25,\n",
       " 36,\n",
       " 49,\n",
       " 64,\n",
       " 81,\n",
       " 100,\n",
       " 121,\n",
       " 144,\n",
       " 169,\n",
       " 196,\n",
       " 225,\n",
       " 256,\n",
       " 289,\n",
       " 324,\n",
       " 361,\n",
       " 400,\n",
       " 441,\n",
       " 484,\n",
       " 529,\n",
       " 576,\n",
       " 625,\n",
       " 676,\n",
       " 729,\n",
       " 784,\n",
       " 841,\n",
       " 900,\n",
       " 961,\n",
       " 1024,\n",
       " 1089,\n",
       " 1156,\n",
       " 1225,\n",
       " 1296,\n",
       " 1369,\n",
       " 1444,\n",
       " 1521,\n",
       " 1600,\n",
       " 1681,\n",
       " 1764,\n",
       " 1849,\n",
       " 1936,\n",
       " 2025,\n",
       " 2116,\n",
       " 2209,\n",
       " 2304,\n",
       " 2401,\n",
       " 2500,\n",
       " 2601,\n",
       " 2704,\n",
       " 2809,\n",
       " 2916,\n",
       " 3025,\n",
       " 3136,\n",
       " 3249,\n",
       " 3364,\n",
       " 3481,\n",
       " 3600,\n",
       " 3721,\n",
       " 3844,\n",
       " 3969,\n",
       " 4096,\n",
       " 4225,\n",
       " 4356,\n",
       " 4489,\n",
       " 4624,\n",
       " 4761,\n",
       " 4900,\n",
       " 5041,\n",
       " 5184,\n",
       " 5329,\n",
       " 5476,\n",
       " 5625,\n",
       " 5776,\n",
       " 5929,\n",
       " 6084,\n",
       " 6241,\n",
       " 6400,\n",
       " 6561,\n",
       " 6724,\n",
       " 6889,\n",
       " 7056,\n",
       " 7225,\n",
       " 7396,\n",
       " 7569,\n",
       " 7744,\n",
       " 7921,\n",
       " 8100,\n",
       " 8281,\n",
       " 8464,\n",
       " 8649,\n",
       " 8836,\n",
       " 9025,\n",
       " 9216,\n",
       " 9409,\n",
       " 9604,\n",
       " 9801]"
      ]
     },
     "execution_count": 102,
     "metadata": {},
     "output_type": "execute_result"
    }
   ],
   "source": [
    "test_list = list(range(100)) \n",
    "square_list_variant2(test_list)"
   ]
  },
  {
   "cell_type": "code",
   "execution_count": 94,
   "id": "1b1a0fee-1e1a-4eba-b0e1-d396d09049b7",
   "metadata": {},
   "outputs": [
    {
     "name": "stdout",
     "output_type": "stream",
     "text": [
      "2.9 µs ± 50.5 ns per loop (mean ± std. dev. of 7 runs, 100000 loops each)\n"
     ]
    }
   ],
   "source": [
    "%%timeit\n",
    "square_list_variant2(test_list)"
   ]
  },
  {
   "cell_type": "code",
   "execution_count": 80,
   "id": "b2b3cd4a-aaa6-4a59-b343-f220441a645a",
   "metadata": {},
   "outputs": [
    {
     "data": {
      "text/plain": [
       "[1, 25, 81, 16, 36, 10000]"
      ]
     },
     "execution_count": 80,
     "metadata": {},
     "output_type": "execute_result"
    }
   ],
   "source": [
    "test_list = [1, 5, 9, 4, 6, 100]\n",
    "square_list_variant2(test_list)"
   ]
  },
  {
   "cell_type": "code",
   "execution_count": 96,
   "id": "0eed5bce-23a4-4684-9377-ec9dc2118d64",
   "metadata": {},
   "outputs": [
    {
     "name": "stdout",
     "output_type": "stream",
     "text": [
      "2.97 µs ± 87.8 ns per loop (mean ± std. dev. of 7 runs, 100000 loops each)\n"
     ]
    }
   ],
   "source": [
    "%%timeit\n",
    "square_list_variant2(test_list)"
   ]
  },
  {
   "cell_type": "code",
   "execution_count": null,
   "id": "cf0d0641-5525-404e-9902-6089f604d621",
   "metadata": {},
   "outputs": [],
   "source": [
    "## По поводу сравнения скорости - для функции возведения в квадрат по варианту 2 (square_list_variant2) с использованием map\n",
    "# для всех вариантов вводимых данных скорость исполнения составляет порядка 2.9 +- мс.\n",
    "# Для варианта 1 (easy) c использованием цикла - скорость зависит от количества обрабатываемых элементов списка.\n",
    "# Для варианта с range(100) на ввод в функции square_list_variant1 скорость исполнения составляет аж 26,4 мс,\n",
    "# что значительно медленнее скорости исполнения в варианте 2.\n"
   ]
  },
  {
   "cell_type": "code",
   "execution_count": null,
   "id": "5895bb32-ec96-41a3-bfa4-f1aa952d32e5",
   "metadata": {},
   "outputs": [],
   "source": []
  },
  {
   "cell_type": "code",
   "execution_count": null,
   "id": "a66300e6-dd62-4fc2-a90c-7d0884fd7b5f",
   "metadata": {},
   "outputs": [],
   "source": [
    "\n",
    "    "
   ]
  }
 ],
 "metadata": {
  "kernelspec": {
   "display_name": "Python 3 (ipykernel)",
   "language": "python",
   "name": "python3"
  },
  "language_info": {
   "codemirror_mode": {
    "name": "ipython",
    "version": 3
   },
   "file_extension": ".py",
   "mimetype": "text/x-python",
   "name": "python",
   "nbconvert_exporter": "python",
   "pygments_lexer": "ipython3",
   "version": "3.9.7"
  }
 },
 "nbformat": 4,
 "nbformat_minor": 5
}

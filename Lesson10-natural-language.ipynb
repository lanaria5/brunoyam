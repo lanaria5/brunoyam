{
 "cells": [
  {
   "cell_type": "markdown",
   "id": "f678ce7f-4eac-4de0-ac84-eaf331668057",
   "metadata": {},
   "source": [
    "# Домашняя работа №10\n",
    "\n",
    "Будем решать задачу сентимент-анализа. В архиве data/sentiment analisys.zip лежит несколько эксель файлов с твитами разных пользователей на разных языках (один файл - один язык).\n",
    "\n",
    "Нужно выбрать один из файлов и провести над ним работу.\n"
   ]
  },
  {
   "cell_type": "markdown",
   "id": "445f935c-a4b5-407a-9150-f10b9e91aa54",
   "metadata": {},
   "source": [
    "Easy Оценить сбалансированность классов.\n",
    "\n",
    "Удалить пунктуацию из датасета.\n",
    "\n",
    "Преобразовать датасет в BOW или TF-IDF, поделить на треин-тест и спрогнозировать вашей любимой моделью"
   ]
  },
  {
   "cell_type": "code",
   "execution_count": 1,
   "id": "5eff827f-ad90-4b3f-93e9-8c4b72d3c458",
   "metadata": {},
   "outputs": [],
   "source": [
    "# импортируем сразу все, что может понадобиться\n",
    "import numpy as np\n",
    "import pandas as pd\n",
    "import re\n",
    "import pymorphy2\n",
    "import matplotlib.pyplot as plt\n",
    "from nltk.stem.porter import *\n",
    "from sklearn.model_selection import train_test_split, cross_val_score, RandomizedSearchCV\n",
    "from sklearn.linear_model import SGDClassifier, LogisticRegression\n",
    "from sklearn.metrics import accuracy_score, confusion_matrix, r2_score, precision_score\n",
    "from sklearn.tree import DecisionTreeClassifier\n",
    "import nltk \n",
    "from nltk.stem import PorterStemmer, SnowballStemmer\n",
    "from nltk.tokenize import word_tokenize\n",
    "from sklearn.pipeline import Pipeline\n",
    "from sklearn.ensemble import RandomForestClassifier, RandomForestRegressor, GradientBoostingClassifier, StackingClassifier\n",
    "from sklearn.feature_extraction.text import CountVectorizer, TfidfTransformer, TfidfVectorizer\n",
    "import warnings\n",
    "warnings.filterwarnings(\"ignore\")"
   ]
  },
  {
   "cell_type": "code",
   "execution_count": 2,
   "id": "bd37afab-b9c9-4091-85c9-9ea150026d28",
   "metadata": {},
   "outputs": [],
   "source": [
    "df = pd.read_excel('data/sentiment analysis/Ferguson sentiment CODED.xlsx')   # выбрали файл"
   ]
  },
  {
   "cell_type": "code",
   "execution_count": 3,
   "id": "43d28ce7-8cc7-4a65-9362-89e4969b1431",
   "metadata": {},
   "outputs": [
    {
     "data": {
      "text/html": [
       "<div>\n",
       "<style scoped>\n",
       "    .dataframe tbody tr th:only-of-type {\n",
       "        vertical-align: middle;\n",
       "    }\n",
       "\n",
       "    .dataframe tbody tr th {\n",
       "        vertical-align: top;\n",
       "    }\n",
       "\n",
       "    .dataframe thead th {\n",
       "        text-align: right;\n",
       "    }\n",
       "</style>\n",
       "<table border=\"1\" class=\"dataframe\">\n",
       "  <thead>\n",
       "    <tr style=\"text-align: right;\">\n",
       "      <th></th>\n",
       "      <th>user</th>\n",
       "      <th>tweet</th>\n",
       "      <th>sentiment</th>\n",
       "      <th>1 - positive, 2 - negative, 3 - neutral</th>\n",
       "      <th>Unnamed: 4</th>\n",
       "      <th>Unnamed: 5</th>\n",
       "      <th>Unnamed: 6</th>\n",
       "      <th>Unnamed: 7</th>\n",
       "      <th>Unnamed: 8</th>\n",
       "      <th>Unnamed: 9</th>\n",
       "      <th>...</th>\n",
       "      <th>Unnamed: 16</th>\n",
       "      <th>Unnamed: 17</th>\n",
       "      <th>Unnamed: 18</th>\n",
       "      <th>Unnamed: 19</th>\n",
       "      <th>Unnamed: 20</th>\n",
       "      <th>Unnamed: 21</th>\n",
       "      <th>Unnamed: 22</th>\n",
       "      <th>Unnamed: 23</th>\n",
       "      <th>Unnamed: 24</th>\n",
       "      <th>Unnamed: 25</th>\n",
       "    </tr>\n",
       "  </thead>\n",
       "  <tbody>\n",
       "    <tr>\n",
       "      <th>0</th>\n",
       "      <td>disetv</td>\n",
       "      <td>#stl we war ready #ripmikebrown #ferguson http...</td>\n",
       "      <td>2</td>\n",
       "      <td>NaN</td>\n",
       "      <td>NaN</td>\n",
       "      <td>NaN</td>\n",
       "      <td>NaN</td>\n",
       "      <td>NaN</td>\n",
       "      <td>NaN</td>\n",
       "      <td>NaN</td>\n",
       "      <td>...</td>\n",
       "      <td>NaN</td>\n",
       "      <td>NaN</td>\n",
       "      <td>NaN</td>\n",
       "      <td>NaN</td>\n",
       "      <td>NaN</td>\n",
       "      <td>NaN</td>\n",
       "      <td>NaN</td>\n",
       "      <td>NaN</td>\n",
       "      <td>NaN</td>\n",
       "      <td>NaN</td>\n",
       "    </tr>\n",
       "    <tr>\n",
       "      <th>1</th>\n",
       "      <td>deray</td>\n",
       "      <td>one of the best moments from ystrdy was when a...</td>\n",
       "      <td>2</td>\n",
       "      <td>NaN</td>\n",
       "      <td>NaN</td>\n",
       "      <td>NaN</td>\n",
       "      <td>NaN</td>\n",
       "      <td>NaN</td>\n",
       "      <td>NaN</td>\n",
       "      <td>NaN</td>\n",
       "      <td>...</td>\n",
       "      <td>NaN</td>\n",
       "      <td>NaN</td>\n",
       "      <td>NaN</td>\n",
       "      <td>NaN</td>\n",
       "      <td>NaN</td>\n",
       "      <td>NaN</td>\n",
       "      <td>NaN</td>\n",
       "      <td>NaN</td>\n",
       "      <td>NaN</td>\n",
       "      <td>NaN</td>\n",
       "    </tr>\n",
       "    <tr>\n",
       "      <th>2</th>\n",
       "      <td>deray</td>\n",
       "      <td>public art. canfield. photo. #ferguson http://...</td>\n",
       "      <td>3</td>\n",
       "      <td>NaN</td>\n",
       "      <td>NaN</td>\n",
       "      <td>NaN</td>\n",
       "      <td>NaN</td>\n",
       "      <td>NaN</td>\n",
       "      <td>NaN</td>\n",
       "      <td>NaN</td>\n",
       "      <td>...</td>\n",
       "      <td>NaN</td>\n",
       "      <td>NaN</td>\n",
       "      <td>NaN</td>\n",
       "      <td>NaN</td>\n",
       "      <td>NaN</td>\n",
       "      <td>NaN</td>\n",
       "      <td>NaN</td>\n",
       "      <td>NaN</td>\n",
       "      <td>NaN</td>\n",
       "      <td>NaN</td>\n",
       "    </tr>\n",
       "    <tr>\n",
       "      <th>3</th>\n",
       "      <td>deray</td>\n",
       "      <td>canfield. public art cont. #ferguson http://if...</td>\n",
       "      <td>3</td>\n",
       "      <td>NaN</td>\n",
       "      <td>NaN</td>\n",
       "      <td>NaN</td>\n",
       "      <td>NaN</td>\n",
       "      <td>NaN</td>\n",
       "      <td>NaN</td>\n",
       "      <td>NaN</td>\n",
       "      <td>...</td>\n",
       "      <td>NaN</td>\n",
       "      <td>NaN</td>\n",
       "      <td>NaN</td>\n",
       "      <td>NaN</td>\n",
       "      <td>NaN</td>\n",
       "      <td>NaN</td>\n",
       "      <td>NaN</td>\n",
       "      <td>NaN</td>\n",
       "      <td>NaN</td>\n",
       "      <td>NaN</td>\n",
       "    </tr>\n",
       "    <tr>\n",
       "      <th>4</th>\n",
       "      <td>deray</td>\n",
       "      <td>public art exhibit. canfield. #ferguson http:/...</td>\n",
       "      <td>3</td>\n",
       "      <td>NaN</td>\n",
       "      <td>NaN</td>\n",
       "      <td>NaN</td>\n",
       "      <td>NaN</td>\n",
       "      <td>NaN</td>\n",
       "      <td>NaN</td>\n",
       "      <td>NaN</td>\n",
       "      <td>...</td>\n",
       "      <td>NaN</td>\n",
       "      <td>NaN</td>\n",
       "      <td>NaN</td>\n",
       "      <td>NaN</td>\n",
       "      <td>NaN</td>\n",
       "      <td>NaN</td>\n",
       "      <td>NaN</td>\n",
       "      <td>NaN</td>\n",
       "      <td>NaN</td>\n",
       "      <td>NaN</td>\n",
       "    </tr>\n",
       "    <tr>\n",
       "      <th>...</th>\n",
       "      <td>...</td>\n",
       "      <td>...</td>\n",
       "      <td>...</td>\n",
       "      <td>...</td>\n",
       "      <td>...</td>\n",
       "      <td>...</td>\n",
       "      <td>...</td>\n",
       "      <td>...</td>\n",
       "      <td>...</td>\n",
       "      <td>...</td>\n",
       "      <td>...</td>\n",
       "      <td>...</td>\n",
       "      <td>...</td>\n",
       "      <td>...</td>\n",
       "      <td>...</td>\n",
       "      <td>...</td>\n",
       "      <td>...</td>\n",
       "      <td>...</td>\n",
       "      <td>...</td>\n",
       "      <td>...</td>\n",
       "      <td>...</td>\n",
       "    </tr>\n",
       "    <tr>\n",
       "      <th>1201</th>\n",
       "      <td>wuperkins</td>\n",
       "      <td>#ferguson black man telling story of mopping c...</td>\n",
       "      <td>2</td>\n",
       "      <td>NaN</td>\n",
       "      <td>NaN</td>\n",
       "      <td>NaN</td>\n",
       "      <td>NaN</td>\n",
       "      <td>NaN</td>\n",
       "      <td>NaN</td>\n",
       "      <td>NaN</td>\n",
       "      <td>...</td>\n",
       "      <td>NaN</td>\n",
       "      <td>NaN</td>\n",
       "      <td>NaN</td>\n",
       "      <td>NaN</td>\n",
       "      <td>NaN</td>\n",
       "      <td>NaN</td>\n",
       "      <td>NaN</td>\n",
       "      <td>NaN</td>\n",
       "      <td>NaN</td>\n",
       "      <td>NaN</td>\n",
       "    </tr>\n",
       "    <tr>\n",
       "      <th>1202</th>\n",
       "      <td>wuperkins</td>\n",
       "      <td>@ryanjreilly very good. now if @govjaynixon wo...</td>\n",
       "      <td>3</td>\n",
       "      <td>NaN</td>\n",
       "      <td>NaN</td>\n",
       "      <td>NaN</td>\n",
       "      <td>NaN</td>\n",
       "      <td>NaN</td>\n",
       "      <td>NaN</td>\n",
       "      <td>NaN</td>\n",
       "      <td>...</td>\n",
       "      <td>NaN</td>\n",
       "      <td>NaN</td>\n",
       "      <td>NaN</td>\n",
       "      <td>NaN</td>\n",
       "      <td>NaN</td>\n",
       "      <td>NaN</td>\n",
       "      <td>NaN</td>\n",
       "      <td>NaN</td>\n",
       "      <td>NaN</td>\n",
       "      <td>NaN</td>\n",
       "    </tr>\n",
       "    <tr>\n",
       "      <th>1203</th>\n",
       "      <td>wuperkins</td>\n",
       "      <td>@chucktodd hopefully folks r traveling to #fer...</td>\n",
       "      <td>3</td>\n",
       "      <td>NaN</td>\n",
       "      <td>NaN</td>\n",
       "      <td>NaN</td>\n",
       "      <td>NaN</td>\n",
       "      <td>NaN</td>\n",
       "      <td>NaN</td>\n",
       "      <td>NaN</td>\n",
       "      <td>...</td>\n",
       "      <td>NaN</td>\n",
       "      <td>NaN</td>\n",
       "      <td>NaN</td>\n",
       "      <td>NaN</td>\n",
       "      <td>NaN</td>\n",
       "      <td>NaN</td>\n",
       "      <td>NaN</td>\n",
       "      <td>NaN</td>\n",
       "      <td>NaN</td>\n",
       "      <td>NaN</td>\n",
       "    </tr>\n",
       "    <tr>\n",
       "      <th>1204</th>\n",
       "      <td>wuperkins</td>\n",
       "      <td>@wesleylowery hold govt. accountable. #nojusti...</td>\n",
       "      <td>3</td>\n",
       "      <td>NaN</td>\n",
       "      <td>NaN</td>\n",
       "      <td>NaN</td>\n",
       "      <td>NaN</td>\n",
       "      <td>NaN</td>\n",
       "      <td>NaN</td>\n",
       "      <td>NaN</td>\n",
       "      <td>...</td>\n",
       "      <td>NaN</td>\n",
       "      <td>NaN</td>\n",
       "      <td>NaN</td>\n",
       "      <td>NaN</td>\n",
       "      <td>NaN</td>\n",
       "      <td>NaN</td>\n",
       "      <td>NaN</td>\n",
       "      <td>NaN</td>\n",
       "      <td>NaN</td>\n",
       "      <td>NaN</td>\n",
       "    </tr>\n",
       "    <tr>\n",
       "      <th>1205</th>\n",
       "      <td>NaN</td>\n",
       "      <td>@fetzer2 @elonjames @afmarcom @briandominick c...</td>\n",
       "      <td>2</td>\n",
       "      <td>NaN</td>\n",
       "      <td>NaN</td>\n",
       "      <td>NaN</td>\n",
       "      <td>NaN</td>\n",
       "      <td>NaN</td>\n",
       "      <td>NaN</td>\n",
       "      <td>NaN</td>\n",
       "      <td>...</td>\n",
       "      <td>NaN</td>\n",
       "      <td>NaN</td>\n",
       "      <td>NaN</td>\n",
       "      <td>NaN</td>\n",
       "      <td>NaN</td>\n",
       "      <td>NaN</td>\n",
       "      <td>NaN</td>\n",
       "      <td>NaN</td>\n",
       "      <td>NaN</td>\n",
       "      <td>NaN</td>\n",
       "    </tr>\n",
       "  </tbody>\n",
       "</table>\n",
       "<p>1206 rows × 26 columns</p>\n",
       "</div>"
      ],
      "text/plain": [
       "           user                                              tweet  sentiment  \\\n",
       "0        disetv  #stl we war ready #ripmikebrown #ferguson http...          2   \n",
       "1         deray  one of the best moments from ystrdy was when a...          2   \n",
       "2         deray  public art. canfield. photo. #ferguson http://...          3   \n",
       "3         deray  canfield. public art cont. #ferguson http://if...          3   \n",
       "4         deray  public art exhibit. canfield. #ferguson http:/...          3   \n",
       "...         ...                                                ...        ...   \n",
       "1201  wuperkins  #ferguson black man telling story of mopping c...          2   \n",
       "1202  wuperkins  @ryanjreilly very good. now if @govjaynixon wo...          3   \n",
       "1203  wuperkins  @chucktodd hopefully folks r traveling to #fer...          3   \n",
       "1204  wuperkins  @wesleylowery hold govt. accountable. #nojusti...          3   \n",
       "1205        NaN  @fetzer2 @elonjames @afmarcom @briandominick c...          2   \n",
       "\n",
       "      1 - positive, 2 - negative, 3 - neutral   Unnamed: 4  Unnamed: 5  \\\n",
       "0                                          NaN         NaN         NaN   \n",
       "1                                          NaN         NaN         NaN   \n",
       "2                                          NaN         NaN         NaN   \n",
       "3                                          NaN         NaN         NaN   \n",
       "4                                          NaN         NaN         NaN   \n",
       "...                                        ...         ...         ...   \n",
       "1201                                       NaN         NaN         NaN   \n",
       "1202                                       NaN         NaN         NaN   \n",
       "1203                                       NaN         NaN         NaN   \n",
       "1204                                       NaN         NaN         NaN   \n",
       "1205                                       NaN         NaN         NaN   \n",
       "\n",
       "      Unnamed: 6  Unnamed: 7  Unnamed: 8  Unnamed: 9  ...  Unnamed: 16  \\\n",
       "0            NaN         NaN         NaN         NaN  ...          NaN   \n",
       "1            NaN         NaN         NaN         NaN  ...          NaN   \n",
       "2            NaN         NaN         NaN         NaN  ...          NaN   \n",
       "3            NaN         NaN         NaN         NaN  ...          NaN   \n",
       "4            NaN         NaN         NaN         NaN  ...          NaN   \n",
       "...          ...         ...         ...         ...  ...          ...   \n",
       "1201         NaN         NaN         NaN         NaN  ...          NaN   \n",
       "1202         NaN         NaN         NaN         NaN  ...          NaN   \n",
       "1203         NaN         NaN         NaN         NaN  ...          NaN   \n",
       "1204         NaN         NaN         NaN         NaN  ...          NaN   \n",
       "1205         NaN         NaN         NaN         NaN  ...          NaN   \n",
       "\n",
       "      Unnamed: 17  Unnamed: 18  Unnamed: 19  Unnamed: 20  Unnamed: 21  \\\n",
       "0             NaN          NaN          NaN          NaN          NaN   \n",
       "1             NaN          NaN          NaN          NaN          NaN   \n",
       "2             NaN          NaN          NaN          NaN          NaN   \n",
       "3             NaN          NaN          NaN          NaN          NaN   \n",
       "4             NaN          NaN          NaN          NaN          NaN   \n",
       "...           ...          ...          ...          ...          ...   \n",
       "1201          NaN          NaN          NaN          NaN          NaN   \n",
       "1202          NaN          NaN          NaN          NaN          NaN   \n",
       "1203          NaN          NaN          NaN          NaN          NaN   \n",
       "1204          NaN          NaN          NaN          NaN          NaN   \n",
       "1205          NaN          NaN          NaN          NaN          NaN   \n",
       "\n",
       "      Unnamed: 22  Unnamed: 23  Unnamed: 24  Unnamed: 25  \n",
       "0             NaN          NaN          NaN          NaN  \n",
       "1             NaN          NaN          NaN          NaN  \n",
       "2             NaN          NaN          NaN          NaN  \n",
       "3             NaN          NaN          NaN          NaN  \n",
       "4             NaN          NaN          NaN          NaN  \n",
       "...           ...          ...          ...          ...  \n",
       "1201          NaN          NaN          NaN          NaN  \n",
       "1202          NaN          NaN          NaN          NaN  \n",
       "1203          NaN          NaN          NaN          NaN  \n",
       "1204          NaN          NaN          NaN          NaN  \n",
       "1205          NaN          NaN          NaN          NaN  \n",
       "\n",
       "[1206 rows x 26 columns]"
      ]
     },
     "execution_count": 3,
     "metadata": {},
     "output_type": "execute_result"
    }
   ],
   "source": [
    "df  # смотрим, что представляет из себя"
   ]
  },
  {
   "cell_type": "code",
   "execution_count": 4,
   "id": "9dcbf0da-ec40-4903-bbcb-10e8c42d37ef",
   "metadata": {},
   "outputs": [],
   "source": [
    "df = df[['user','tweet','sentiment']].dropna() # формируем базовый датафрейм с необходимыми данными, применяем dropna, убираем пустые столбцы с NaN"
   ]
  },
  {
   "cell_type": "code",
   "execution_count": 5,
   "id": "f2b1f3f0-a363-429a-b1d3-7033fe8db4bf",
   "metadata": {},
   "outputs": [
    {
     "data": {
      "text/html": [
       "<div>\n",
       "<style scoped>\n",
       "    .dataframe tbody tr th:only-of-type {\n",
       "        vertical-align: middle;\n",
       "    }\n",
       "\n",
       "    .dataframe tbody tr th {\n",
       "        vertical-align: top;\n",
       "    }\n",
       "\n",
       "    .dataframe thead th {\n",
       "        text-align: right;\n",
       "    }\n",
       "</style>\n",
       "<table border=\"1\" class=\"dataframe\">\n",
       "  <thead>\n",
       "    <tr style=\"text-align: right;\">\n",
       "      <th></th>\n",
       "      <th>user</th>\n",
       "      <th>tweet</th>\n",
       "      <th>sentiment</th>\n",
       "    </tr>\n",
       "  </thead>\n",
       "  <tbody>\n",
       "    <tr>\n",
       "      <th>0</th>\n",
       "      <td>disetv</td>\n",
       "      <td>#stl we war ready #ripmikebrown #ferguson http...</td>\n",
       "      <td>2</td>\n",
       "    </tr>\n",
       "    <tr>\n",
       "      <th>1</th>\n",
       "      <td>deray</td>\n",
       "      <td>one of the best moments from ystrdy was when a...</td>\n",
       "      <td>2</td>\n",
       "    </tr>\n",
       "    <tr>\n",
       "      <th>2</th>\n",
       "      <td>deray</td>\n",
       "      <td>public art. canfield. photo. #ferguson http://...</td>\n",
       "      <td>3</td>\n",
       "    </tr>\n",
       "    <tr>\n",
       "      <th>3</th>\n",
       "      <td>deray</td>\n",
       "      <td>canfield. public art cont. #ferguson http://if...</td>\n",
       "      <td>3</td>\n",
       "    </tr>\n",
       "    <tr>\n",
       "      <th>4</th>\n",
       "      <td>deray</td>\n",
       "      <td>public art exhibit. canfield. #ferguson http:/...</td>\n",
       "      <td>3</td>\n",
       "    </tr>\n",
       "    <tr>\n",
       "      <th>...</th>\n",
       "      <td>...</td>\n",
       "      <td>...</td>\n",
       "      <td>...</td>\n",
       "    </tr>\n",
       "    <tr>\n",
       "      <th>1200</th>\n",
       "      <td>wuperkins</td>\n",
       "      <td>all the injustices/mayhem out of #ferguson fin...</td>\n",
       "      <td>3</td>\n",
       "    </tr>\n",
       "    <tr>\n",
       "      <th>1201</th>\n",
       "      <td>wuperkins</td>\n",
       "      <td>#ferguson black man telling story of mopping c...</td>\n",
       "      <td>2</td>\n",
       "    </tr>\n",
       "    <tr>\n",
       "      <th>1202</th>\n",
       "      <td>wuperkins</td>\n",
       "      <td>@ryanjreilly very good. now if @govjaynixon wo...</td>\n",
       "      <td>3</td>\n",
       "    </tr>\n",
       "    <tr>\n",
       "      <th>1203</th>\n",
       "      <td>wuperkins</td>\n",
       "      <td>@chucktodd hopefully folks r traveling to #fer...</td>\n",
       "      <td>3</td>\n",
       "    </tr>\n",
       "    <tr>\n",
       "      <th>1204</th>\n",
       "      <td>wuperkins</td>\n",
       "      <td>@wesleylowery hold govt. accountable. #nojusti...</td>\n",
       "      <td>3</td>\n",
       "    </tr>\n",
       "  </tbody>\n",
       "</table>\n",
       "<p>1203 rows × 3 columns</p>\n",
       "</div>"
      ],
      "text/plain": [
       "           user                                              tweet  sentiment\n",
       "0        disetv  #stl we war ready #ripmikebrown #ferguson http...          2\n",
       "1         deray  one of the best moments from ystrdy was when a...          2\n",
       "2         deray  public art. canfield. photo. #ferguson http://...          3\n",
       "3         deray  canfield. public art cont. #ferguson http://if...          3\n",
       "4         deray  public art exhibit. canfield. #ferguson http:/...          3\n",
       "...         ...                                                ...        ...\n",
       "1200  wuperkins  all the injustices/mayhem out of #ferguson fin...          3\n",
       "1201  wuperkins  #ferguson black man telling story of mopping c...          2\n",
       "1202  wuperkins  @ryanjreilly very good. now if @govjaynixon wo...          3\n",
       "1203  wuperkins  @chucktodd hopefully folks r traveling to #fer...          3\n",
       "1204  wuperkins  @wesleylowery hold govt. accountable. #nojusti...          3\n",
       "\n",
       "[1203 rows x 3 columns]"
      ]
     },
     "execution_count": 5,
     "metadata": {},
     "output_type": "execute_result"
    }
   ],
   "source": [
    "df"
   ]
  },
  {
   "cell_type": "code",
   "execution_count": 6,
   "id": "22c363a4-a3d3-4585-a25c-775abd784e70",
   "metadata": {},
   "outputs": [],
   "source": [
    "df.loc[df['sentiment']==1, 'P_N_N'] = '\"+\"' # наглядно отобразим какие отзывы какими являются"
   ]
  },
  {
   "cell_type": "code",
   "execution_count": 7,
   "id": "932f58ed-d53d-4a5e-acb1-57b452d9ee5b",
   "metadata": {},
   "outputs": [],
   "source": [
    "df.loc[df['sentiment']==2, 'P_N_N'] = 'neutral'"
   ]
  },
  {
   "cell_type": "code",
   "execution_count": 8,
   "id": "5865306b-7e44-4a5c-8538-3958737a3774",
   "metadata": {},
   "outputs": [],
   "source": [
    "df.loc[df['sentiment']==3, 'P_N_N'] = '\"\"-\"\"'"
   ]
  },
  {
   "cell_type": "code",
   "execution_count": 9,
   "id": "971505c6-275e-4c62-a5f5-fc4f3dac5df4",
   "metadata": {},
   "outputs": [
    {
     "data": {
      "text/html": [
       "<div>\n",
       "<style scoped>\n",
       "    .dataframe tbody tr th:only-of-type {\n",
       "        vertical-align: middle;\n",
       "    }\n",
       "\n",
       "    .dataframe tbody tr th {\n",
       "        vertical-align: top;\n",
       "    }\n",
       "\n",
       "    .dataframe thead th {\n",
       "        text-align: right;\n",
       "    }\n",
       "</style>\n",
       "<table border=\"1\" class=\"dataframe\">\n",
       "  <thead>\n",
       "    <tr style=\"text-align: right;\">\n",
       "      <th></th>\n",
       "      <th>user</th>\n",
       "      <th>tweet</th>\n",
       "      <th>sentiment</th>\n",
       "      <th>P_N_N</th>\n",
       "    </tr>\n",
       "  </thead>\n",
       "  <tbody>\n",
       "    <tr>\n",
       "      <th>0</th>\n",
       "      <td>disetv</td>\n",
       "      <td>#stl we war ready #ripmikebrown #ferguson http...</td>\n",
       "      <td>2</td>\n",
       "      <td>neutral</td>\n",
       "    </tr>\n",
       "    <tr>\n",
       "      <th>1</th>\n",
       "      <td>deray</td>\n",
       "      <td>one of the best moments from ystrdy was when a...</td>\n",
       "      <td>2</td>\n",
       "      <td>neutral</td>\n",
       "    </tr>\n",
       "    <tr>\n",
       "      <th>2</th>\n",
       "      <td>deray</td>\n",
       "      <td>public art. canfield. photo. #ferguson http://...</td>\n",
       "      <td>3</td>\n",
       "      <td>\"\"-\"\"</td>\n",
       "    </tr>\n",
       "    <tr>\n",
       "      <th>3</th>\n",
       "      <td>deray</td>\n",
       "      <td>canfield. public art cont. #ferguson http://if...</td>\n",
       "      <td>3</td>\n",
       "      <td>\"\"-\"\"</td>\n",
       "    </tr>\n",
       "    <tr>\n",
       "      <th>4</th>\n",
       "      <td>deray</td>\n",
       "      <td>public art exhibit. canfield. #ferguson http:/...</td>\n",
       "      <td>3</td>\n",
       "      <td>\"\"-\"\"</td>\n",
       "    </tr>\n",
       "  </tbody>\n",
       "</table>\n",
       "</div>"
      ],
      "text/plain": [
       "     user                                              tweet  sentiment  \\\n",
       "0  disetv  #stl we war ready #ripmikebrown #ferguson http...          2   \n",
       "1   deray  one of the best moments from ystrdy was when a...          2   \n",
       "2   deray  public art. canfield. photo. #ferguson http://...          3   \n",
       "3   deray  canfield. public art cont. #ferguson http://if...          3   \n",
       "4   deray  public art exhibit. canfield. #ferguson http:/...          3   \n",
       "\n",
       "     P_N_N  \n",
       "0  neutral  \n",
       "1  neutral  \n",
       "2    \"\"-\"\"  \n",
       "3    \"\"-\"\"  \n",
       "4    \"\"-\"\"  "
      ]
     },
     "execution_count": 9,
     "metadata": {},
     "output_type": "execute_result"
    }
   ],
   "source": [
    "df.head()"
   ]
  },
  {
   "cell_type": "code",
   "execution_count": 10,
   "id": "a46cb6ea-2fb7-4c5c-b983-77fe5f6b3a20",
   "metadata": {},
   "outputs": [],
   "source": [
    "# оцениваем сбалансированность классов, построим гистограмму"
   ]
  },
  {
   "cell_type": "code",
   "execution_count": 11,
   "id": "fcde5950-1fae-424d-8f26-090b046848ae",
   "metadata": {},
   "outputs": [
    {
     "data": {
      "text/plain": [
       "<AxesSubplot:>"
      ]
     },
     "execution_count": 11,
     "metadata": {},
     "output_type": "execute_result"
    },
    {
     "data": {
      "image/png": "[encoded data removed]",
      "text/plain": [
       "<Figure size 432x288 with 1 Axes>"
      ]
     },
     "metadata": {
      "needs_background": "light"
     },
     "output_type": "display_data"
    }
   ],
   "source": [
    "df.P_N_N.hist(bins=10, color = 'green', label = ['Сбалансированность']) "
   ]
  },
  {
   "cell_type": "markdown",
   "id": "4caa667f-c3b7-4003-af93-1dbdd42323be",
   "metadata": {},
   "source": [
    "Вывод: классы не сбалансированы (позитивных + мало, негативных - много, нейтральных в меру)"
   ]
  },
  {
   "cell_type": "code",
   "execution_count": 12,
   "id": "0c5ea1de-b3db-4d78-8d05-a282fb3eba97",
   "metadata": {},
   "outputs": [
    {
     "data": {
      "text/plain": [
       "1203"
      ]
     },
     "execution_count": 12,
     "metadata": {},
     "output_type": "execute_result"
    }
   ],
   "source": [
    "len(df)"
   ]
  },
  {
   "cell_type": "code",
   "execution_count": 13,
   "id": "3135e1ce-38ce-4a12-91d9-553ee8dc7b24",
   "metadata": {},
   "outputs": [],
   "source": [
    "# Удалим пунктуацию и поместим с столбец tweet_z"
   ]
  },
  {
   "cell_type": "code",
   "execution_count": 14,
   "id": "cc00683d-60a6-496a-84f9-62630a6f4062",
   "metadata": {
    "tags": []
   },
   "outputs": [],
   "source": [
    "for i in range(len(df)):\n",
    "    i1 = str(df.iloc[i,1])\n",
    "    i2 = re.sub(r'[^\\w\\s]','', i1)\n",
    "    df.loc[df.index==(i), 'tweet_z'] = i2"
   ]
  },
  {
   "cell_type": "code",
   "execution_count": 15,
   "id": "d94f1363-f5a6-4ff9-94c7-587e37630209",
   "metadata": {},
   "outputs": [
    {
     "data": {
      "text/html": [
       "<div>\n",
       "<style scoped>\n",
       "    .dataframe tbody tr th:only-of-type {\n",
       "        vertical-align: middle;\n",
       "    }\n",
       "\n",
       "    .dataframe tbody tr th {\n",
       "        vertical-align: top;\n",
       "    }\n",
       "\n",
       "    .dataframe thead th {\n",
       "        text-align: right;\n",
       "    }\n",
       "</style>\n",
       "<table border=\"1\" class=\"dataframe\">\n",
       "  <thead>\n",
       "    <tr style=\"text-align: right;\">\n",
       "      <th></th>\n",
       "      <th>user</th>\n",
       "      <th>tweet</th>\n",
       "      <th>sentiment</th>\n",
       "      <th>P_N_N</th>\n",
       "      <th>tweet_z</th>\n",
       "    </tr>\n",
       "  </thead>\n",
       "  <tbody>\n",
       "    <tr>\n",
       "      <th>0</th>\n",
       "      <td>disetv</td>\n",
       "      <td>#stl we war ready #ripmikebrown #ferguson http...</td>\n",
       "      <td>2</td>\n",
       "      <td>neutral</td>\n",
       "      <td>stl we war ready ripmikebrown ferguson httpins...</td>\n",
       "    </tr>\n",
       "    <tr>\n",
       "      <th>1</th>\n",
       "      <td>deray</td>\n",
       "      <td>one of the best moments from ystrdy was when a...</td>\n",
       "      <td>2</td>\n",
       "      <td>neutral</td>\n",
       "      <td>one of the best moments from ystrdy was when a...</td>\n",
       "    </tr>\n",
       "    <tr>\n",
       "      <th>2</th>\n",
       "      <td>deray</td>\n",
       "      <td>public art. canfield. photo. #ferguson http://...</td>\n",
       "      <td>3</td>\n",
       "      <td>\"\"-\"\"</td>\n",
       "      <td>public art canfield photo ferguson httpiftttw1...</td>\n",
       "    </tr>\n",
       "    <tr>\n",
       "      <th>3</th>\n",
       "      <td>deray</td>\n",
       "      <td>canfield. public art cont. #ferguson http://if...</td>\n",
       "      <td>3</td>\n",
       "      <td>\"\"-\"\"</td>\n",
       "      <td>canfield public art cont ferguson httpifttt1ld...</td>\n",
       "    </tr>\n",
       "    <tr>\n",
       "      <th>4</th>\n",
       "      <td>deray</td>\n",
       "      <td>public art exhibit. canfield. #ferguson http:/...</td>\n",
       "      <td>3</td>\n",
       "      <td>\"\"-\"\"</td>\n",
       "      <td>public art exhibit canfield ferguson httpifttt...</td>\n",
       "    </tr>\n",
       "  </tbody>\n",
       "</table>\n",
       "</div>"
      ],
      "text/plain": [
       "     user                                              tweet  sentiment  \\\n",
       "0  disetv  #stl we war ready #ripmikebrown #ferguson http...          2   \n",
       "1   deray  one of the best moments from ystrdy was when a...          2   \n",
       "2   deray  public art. canfield. photo. #ferguson http://...          3   \n",
       "3   deray  canfield. public art cont. #ferguson http://if...          3   \n",
       "4   deray  public art exhibit. canfield. #ferguson http:/...          3   \n",
       "\n",
       "     P_N_N                                            tweet_z  \n",
       "0  neutral  stl we war ready ripmikebrown ferguson httpins...  \n",
       "1  neutral  one of the best moments from ystrdy was when a...  \n",
       "2    \"\"-\"\"  public art canfield photo ferguson httpiftttw1...  \n",
       "3    \"\"-\"\"  canfield public art cont ferguson httpifttt1ld...  \n",
       "4    \"\"-\"\"  public art exhibit canfield ferguson httpifttt...  "
      ]
     },
     "execution_count": 15,
     "metadata": {},
     "output_type": "execute_result"
    }
   ],
   "source": [
    "df.head()  # смотрим, что получилось:"
   ]
  },
  {
   "cell_type": "code",
   "execution_count": 16,
   "id": "9cadfc41-c8d9-4fd0-8632-501601f5bb27",
   "metadata": {},
   "outputs": [],
   "source": [
    "# Займемся преобразованием датасета в tf-idf"
   ]
  },
  {
   "cell_type": "code",
   "execution_count": 17,
   "id": "63d052d1-e952-4ea0-9cc3-43c8a5c50dec",
   "metadata": {},
   "outputs": [],
   "source": [
    "tf_idf = TfidfVectorizer()"
   ]
  },
  {
   "cell_type": "code",
   "execution_count": 18,
   "id": "542cda66-c000-4916-bbfb-b2a5187eb8d0",
   "metadata": {},
   "outputs": [],
   "source": [
    "df['P_N_N'] = pd.Categorical(df.P_N_N)"
   ]
  },
  {
   "cell_type": "code",
   "execution_count": 19,
   "id": "0d07fac3-406b-455f-814e-f80998576425",
   "metadata": {},
   "outputs": [],
   "source": [
    "df['coded'] = df.P_N_N.cat.codes"
   ]
  },
  {
   "cell_type": "code",
   "execution_count": 20,
   "id": "8675a4a7-c9f0-4b2f-aaa2-75718604cd9a",
   "metadata": {},
   "outputs": [
    {
     "data": {
      "text/html": [
       "<div>\n",
       "<style scoped>\n",
       "    .dataframe tbody tr th:only-of-type {\n",
       "        vertical-align: middle;\n",
       "    }\n",
       "\n",
       "    .dataframe tbody tr th {\n",
       "        vertical-align: top;\n",
       "    }\n",
       "\n",
       "    .dataframe thead th {\n",
       "        text-align: right;\n",
       "    }\n",
       "</style>\n",
       "<table border=\"1\" class=\"dataframe\">\n",
       "  <thead>\n",
       "    <tr style=\"text-align: right;\">\n",
       "      <th></th>\n",
       "      <th>user</th>\n",
       "      <th>tweet</th>\n",
       "      <th>sentiment</th>\n",
       "      <th>P_N_N</th>\n",
       "      <th>tweet_z</th>\n",
       "      <th>coded</th>\n",
       "    </tr>\n",
       "  </thead>\n",
       "  <tbody>\n",
       "    <tr>\n",
       "      <th>0</th>\n",
       "      <td>disetv</td>\n",
       "      <td>#stl we war ready #ripmikebrown #ferguson http...</td>\n",
       "      <td>2</td>\n",
       "      <td>neutral</td>\n",
       "      <td>stl we war ready ripmikebrown ferguson httpins...</td>\n",
       "      <td>2</td>\n",
       "    </tr>\n",
       "    <tr>\n",
       "      <th>1</th>\n",
       "      <td>deray</td>\n",
       "      <td>one of the best moments from ystrdy was when a...</td>\n",
       "      <td>2</td>\n",
       "      <td>neutral</td>\n",
       "      <td>one of the best moments from ystrdy was when a...</td>\n",
       "      <td>2</td>\n",
       "    </tr>\n",
       "    <tr>\n",
       "      <th>2</th>\n",
       "      <td>deray</td>\n",
       "      <td>public art. canfield. photo. #ferguson http://...</td>\n",
       "      <td>3</td>\n",
       "      <td>\"\"-\"\"</td>\n",
       "      <td>public art canfield photo ferguson httpiftttw1...</td>\n",
       "      <td>0</td>\n",
       "    </tr>\n",
       "    <tr>\n",
       "      <th>3</th>\n",
       "      <td>deray</td>\n",
       "      <td>canfield. public art cont. #ferguson http://if...</td>\n",
       "      <td>3</td>\n",
       "      <td>\"\"-\"\"</td>\n",
       "      <td>canfield public art cont ferguson httpifttt1ld...</td>\n",
       "      <td>0</td>\n",
       "    </tr>\n",
       "    <tr>\n",
       "      <th>4</th>\n",
       "      <td>deray</td>\n",
       "      <td>public art exhibit. canfield. #ferguson http:/...</td>\n",
       "      <td>3</td>\n",
       "      <td>\"\"-\"\"</td>\n",
       "      <td>public art exhibit canfield ferguson httpifttt...</td>\n",
       "      <td>0</td>\n",
       "    </tr>\n",
       "  </tbody>\n",
       "</table>\n",
       "</div>"
      ],
      "text/plain": [
       "     user                                              tweet  sentiment  \\\n",
       "0  disetv  #stl we war ready #ripmikebrown #ferguson http...          2   \n",
       "1   deray  one of the best moments from ystrdy was when a...          2   \n",
       "2   deray  public art. canfield. photo. #ferguson http://...          3   \n",
       "3   deray  canfield. public art cont. #ferguson http://if...          3   \n",
       "4   deray  public art exhibit. canfield. #ferguson http:/...          3   \n",
       "\n",
       "     P_N_N                                            tweet_z  coded  \n",
       "0  neutral  stl we war ready ripmikebrown ferguson httpins...      2  \n",
       "1  neutral  one of the best moments from ystrdy was when a...      2  \n",
       "2    \"\"-\"\"  public art canfield photo ferguson httpiftttw1...      0  \n",
       "3    \"\"-\"\"  canfield public art cont ferguson httpifttt1ld...      0  \n",
       "4    \"\"-\"\"  public art exhibit canfield ferguson httpifttt...      0  "
      ]
     },
     "execution_count": 20,
     "metadata": {},
     "output_type": "execute_result"
    }
   ],
   "source": [
    "df.head()"
   ]
  },
  {
   "cell_type": "code",
   "execution_count": 21,
   "id": "77da7245-a52f-43ce-8a92-505035e9fd2b",
   "metadata": {},
   "outputs": [],
   "source": [
    "x = tf_idf.fit_transform(df.tweet)"
   ]
  },
  {
   "cell_type": "code",
   "execution_count": 22,
   "id": "f5f440f4-912f-4b33-8aba-31e557a7d5ca",
   "metadata": {},
   "outputs": [],
   "source": [
    "x_train, x_test, y_train, y_test = train_test_split(x, df.coded, train_size=0.6)  # разбиваем train - test"
   ]
  },
  {
   "cell_type": "markdown",
   "id": "d04eaa20-dc3b-4591-9ef5-25e6825fbc0b",
   "metadata": {},
   "source": [
    "Применим разные модели:"
   ]
  },
  {
   "cell_type": "code",
   "execution_count": 23,
   "id": "0d8729df-65aa-438b-9c17-4e9e21412436",
   "metadata": {},
   "outputs": [],
   "source": [
    "model = SGDClassifier()\n",
    "model.fit(x_train, y_train)\n",
    "y_pred = model.predict(x_test)\n",
    "as1 = accuracy_score(y_pred, y_test)"
   ]
  },
  {
   "cell_type": "code",
   "execution_count": 24,
   "id": "3b4c9c57-b848-4004-a627-5c32be2ccf3e",
   "metadata": {},
   "outputs": [
    {
     "name": "stdout",
     "output_type": "stream",
     "text": [
      "accuracy_score по модели SGDClassifier составил 0.6618257261410788\n"
     ]
    }
   ],
   "source": [
    "print('accuracy_score по модели SGDClassifier составил', as1)"
   ]
  },
  {
   "cell_type": "code",
   "execution_count": 25,
   "id": "6760387a-c2b0-4966-bc74-5666dcd6cb32",
   "metadata": {},
   "outputs": [
    {
     "data": {
      "text/plain": [
       "array([[216,   7,  40],\n",
       "       [ 35,  30,   6],\n",
       "       [ 69,   6,  73]], dtype=int64)"
      ]
     },
     "execution_count": 25,
     "metadata": {},
     "output_type": "execute_result"
    }
   ],
   "source": [
    "confusion_matrix(y_test, y_pred)"
   ]
  },
  {
   "cell_type": "code",
   "execution_count": 26,
   "id": "1ff31015-c888-454d-90e8-f494b580a36f",
   "metadata": {},
   "outputs": [],
   "source": [
    "model = DecisionTreeClassifier()\n",
    "model.fit(x_train, y_train)\n",
    "y_pred = model.predict(x_test)\n",
    "as2 = accuracy_score(y_pred, y_test)"
   ]
  },
  {
   "cell_type": "code",
   "execution_count": 27,
   "id": "7a11fc54-bef9-420c-9745-89e942f541f7",
   "metadata": {},
   "outputs": [
    {
     "name": "stdout",
     "output_type": "stream",
     "text": [
      "accuracy_score по модели DecisionTreeClassifier составил 0.5352697095435685\n"
     ]
    }
   ],
   "source": [
    "print('accuracy_score по модели DecisionTreeClassifier составил', as2)"
   ]
  },
  {
   "cell_type": "code",
   "execution_count": 28,
   "id": "2e1a08ef-b24d-4042-a142-748a7f8b5bea",
   "metadata": {},
   "outputs": [
    {
     "data": {
      "text/plain": [
       "array([[186,  20,  57],\n",
       "       [ 41,  12,  18],\n",
       "       [ 71,  17,  60]], dtype=int64)"
      ]
     },
     "execution_count": 28,
     "metadata": {},
     "output_type": "execute_result"
    }
   ],
   "source": [
    "confusion_matrix(y_test, y_pred)"
   ]
  },
  {
   "cell_type": "code",
   "execution_count": 29,
   "id": "60252d41-d209-455f-93a7-6bd59024df0c",
   "metadata": {},
   "outputs": [],
   "source": [
    "model = RandomForestClassifier()\n",
    "model.fit(x_train, y_train)\n",
    "y_pred = model.predict(x_test)\n",
    "as3 = accuracy_score(y_pred, y_test)"
   ]
  },
  {
   "cell_type": "code",
   "execution_count": 30,
   "id": "4dd60710-11f5-4138-81c7-133e5bf1c036",
   "metadata": {},
   "outputs": [
    {
     "name": "stdout",
     "output_type": "stream",
     "text": [
      "accuracy_score по модели RandomForestClassifier составил 0.6099585062240664\n"
     ]
    }
   ],
   "source": [
    "print('accuracy_score по модели RandomForestClassifier составил', as3)"
   ]
  },
  {
   "cell_type": "code",
   "execution_count": 31,
   "id": "b1c10107-449d-444f-b182-72faa8e5a775",
   "metadata": {},
   "outputs": [
    {
     "data": {
      "text/plain": [
       "array([[248,   0,  15],\n",
       "       [ 58,   6,   7],\n",
       "       [108,   0,  40]], dtype=int64)"
      ]
     },
     "execution_count": 31,
     "metadata": {},
     "output_type": "execute_result"
    }
   ],
   "source": [
    "confusion_matrix(y_test, y_pred)"
   ]
  },
  {
   "cell_type": "code",
   "execution_count": 32,
   "id": "2ea439ce-7e08-4b06-a64e-3313b8c01bcc",
   "metadata": {},
   "outputs": [],
   "source": [
    "maximum_quality = max(as1, as2, as3)"
   ]
  },
  {
   "cell_type": "code",
   "execution_count": 33,
   "id": "17bbe65d-b79f-49c4-881d-e3169d44bbd9",
   "metadata": {},
   "outputs": [
    {
     "name": "stdout",
     "output_type": "stream",
     "text": [
      "По accuracy_score при сравнении моделей между собой:\n",
      "Наилучшее качество у модели SGDClassifier, в %ах составляет: 66.18257261410788\n"
     ]
    }
   ],
   "source": [
    "print('По accuracy_score при сравнении моделей между собой:')\n",
    "if maximum_quality == as1:\n",
    "    print('Наилучшее качество у модели SGDClassifier, в %ах составляет:', as1*100)\n",
    "elif maximum_quality == as2:\n",
    "    print('Наилучшее качество у модели DecisionTreeClassifier, в %ах составляет:', as2*100)\n",
    "else:\n",
    "    print('Наилучшее качество у модели RandomForestClassifier, в %ах составляет:', as3*100)"
   ]
  },
  {
   "cell_type": "markdown",
   "id": "f773d502-a748-431c-afd9-9362c24618cd",
   "metadata": {},
   "source": [
    "При этом качество все равно является достаточно невысоким"
   ]
  },
  {
   "cell_type": "code",
   "execution_count": null,
   "id": "c332dda0-745b-4457-b1bb-9e29f2c2f948",
   "metadata": {},
   "outputs": [],
   "source": []
  },
  {
   "cell_type": "code",
   "execution_count": null,
   "id": "fa7ca175-64c9-4298-8327-d4050b9cd81a",
   "metadata": {},
   "outputs": [],
   "source": []
  },
  {
   "cell_type": "markdown",
   "id": "29ea1e04-3cf1-4d90-962a-3a388ed57ff4",
   "metadata": {},
   "source": [
    "NORMAL\n",
    "\n",
    "Normal\n",
    "Удалить стоп-слова из датасета, использовать стеммер Портера (лежит в src/porter.py). Использовать пайплайн для TF-IDF и модели машинного обучения. Подобрать параметры. Сравнить качество нескольких моделей.\n"
   ]
  },
  {
   "cell_type": "code",
   "execution_count": 34,
   "id": "36d47138-7a03-4fa3-8b3a-39dbbe124cc4",
   "metadata": {},
   "outputs": [],
   "source": [
    "ST = PorterStemmer()  # используем стеммер Портера - у нас англ. яз. в датасете"
   ]
  },
  {
   "cell_type": "code",
   "execution_count": 35,
   "id": "de395015-c712-4d3b-90fc-9beadfd148d8",
   "metadata": {},
   "outputs": [],
   "source": [
    "for i in range(len(df)):\n",
    "    b1 = str(df.iloc[i,4])\n",
    "    b2 = ST.stem(b1)\n",
    "    df.loc[df.index==(i), 'tweet_2'] = b2"
   ]
  },
  {
   "cell_type": "code",
   "execution_count": 36,
   "id": "58257a45-641a-48ff-b74f-77371f8e336a",
   "metadata": {},
   "outputs": [
    {
     "data": {
      "text/html": [
       "<div>\n",
       "<style scoped>\n",
       "    .dataframe tbody tr th:only-of-type {\n",
       "        vertical-align: middle;\n",
       "    }\n",
       "\n",
       "    .dataframe tbody tr th {\n",
       "        vertical-align: top;\n",
       "    }\n",
       "\n",
       "    .dataframe thead th {\n",
       "        text-align: right;\n",
       "    }\n",
       "</style>\n",
       "<table border=\"1\" class=\"dataframe\">\n",
       "  <thead>\n",
       "    <tr style=\"text-align: right;\">\n",
       "      <th></th>\n",
       "      <th>user</th>\n",
       "      <th>tweet</th>\n",
       "      <th>sentiment</th>\n",
       "      <th>P_N_N</th>\n",
       "      <th>tweet_z</th>\n",
       "      <th>coded</th>\n",
       "      <th>tweet_2</th>\n",
       "    </tr>\n",
       "  </thead>\n",
       "  <tbody>\n",
       "    <tr>\n",
       "      <th>0</th>\n",
       "      <td>disetv</td>\n",
       "      <td>#stl we war ready #ripmikebrown #ferguson http...</td>\n",
       "      <td>2</td>\n",
       "      <td>neutral</td>\n",
       "      <td>stl we war ready ripmikebrown ferguson httpins...</td>\n",
       "      <td>2</td>\n",
       "      <td>stl we war ready ripmikebrown ferguson httpins...</td>\n",
       "    </tr>\n",
       "    <tr>\n",
       "      <th>1</th>\n",
       "      <td>deray</td>\n",
       "      <td>one of the best moments from ystrdy was when a...</td>\n",
       "      <td>2</td>\n",
       "      <td>neutral</td>\n",
       "      <td>one of the best moments from ystrdy was when a...</td>\n",
       "      <td>2</td>\n",
       "      <td>one of the best moments from ystrdy was when a...</td>\n",
       "    </tr>\n",
       "    <tr>\n",
       "      <th>2</th>\n",
       "      <td>deray</td>\n",
       "      <td>public art. canfield. photo. #ferguson http://...</td>\n",
       "      <td>3</td>\n",
       "      <td>\"\"-\"\"</td>\n",
       "      <td>public art canfield photo ferguson httpiftttw1...</td>\n",
       "      <td>0</td>\n",
       "      <td>public art canfield photo ferguson httpiftttw1...</td>\n",
       "    </tr>\n",
       "    <tr>\n",
       "      <th>3</th>\n",
       "      <td>deray</td>\n",
       "      <td>canfield. public art cont. #ferguson http://if...</td>\n",
       "      <td>3</td>\n",
       "      <td>\"\"-\"\"</td>\n",
       "      <td>canfield public art cont ferguson httpifttt1ld...</td>\n",
       "      <td>0</td>\n",
       "      <td>canfield public art cont ferguson httpifttt1ld...</td>\n",
       "    </tr>\n",
       "    <tr>\n",
       "      <th>4</th>\n",
       "      <td>deray</td>\n",
       "      <td>public art exhibit. canfield. #ferguson http:/...</td>\n",
       "      <td>3</td>\n",
       "      <td>\"\"-\"\"</td>\n",
       "      <td>public art exhibit canfield ferguson httpifttt...</td>\n",
       "      <td>0</td>\n",
       "      <td>public art exhibit canfield ferguson httpifttt...</td>\n",
       "    </tr>\n",
       "  </tbody>\n",
       "</table>\n",
       "</div>"
      ],
      "text/plain": [
       "     user                                              tweet  sentiment  \\\n",
       "0  disetv  #stl we war ready #ripmikebrown #ferguson http...          2   \n",
       "1   deray  one of the best moments from ystrdy was when a...          2   \n",
       "2   deray  public art. canfield. photo. #ferguson http://...          3   \n",
       "3   deray  canfield. public art cont. #ferguson http://if...          3   \n",
       "4   deray  public art exhibit. canfield. #ferguson http:/...          3   \n",
       "\n",
       "     P_N_N                                            tweet_z  coded  \\\n",
       "0  neutral  stl we war ready ripmikebrown ferguson httpins...      2   \n",
       "1  neutral  one of the best moments from ystrdy was when a...      2   \n",
       "2    \"\"-\"\"  public art canfield photo ferguson httpiftttw1...      0   \n",
       "3    \"\"-\"\"  canfield public art cont ferguson httpifttt1ld...      0   \n",
       "4    \"\"-\"\"  public art exhibit canfield ferguson httpifttt...      0   \n",
       "\n",
       "                                             tweet_2  \n",
       "0  stl we war ready ripmikebrown ferguson httpins...  \n",
       "1  one of the best moments from ystrdy was when a...  \n",
       "2  public art canfield photo ferguson httpiftttw1...  \n",
       "3  canfield public art cont ferguson httpifttt1ld...  \n",
       "4  public art exhibit canfield ferguson httpifttt...  "
      ]
     },
     "execution_count": 36,
     "metadata": {},
     "output_type": "execute_result"
    }
   ],
   "source": [
    "df.head()"
   ]
  },
  {
   "cell_type": "code",
   "execution_count": 37,
   "id": "ef2fd597-aaf3-4924-8b12-5b447cf905d2",
   "metadata": {},
   "outputs": [],
   "source": [
    "pipeline = Pipeline(\n",
    "    [\n",
    "        (\"vect\", CountVectorizer()),\n",
    "        (\"tfidf\", TfidfTransformer()),\n",
    "        (\"clf\", LogisticRegression()),\n",
    "    ]\n",
    ")"
   ]
  },
  {
   "cell_type": "code",
   "execution_count": 38,
   "id": "d95507aa-77de-4d01-b140-da1fc407387e",
   "metadata": {},
   "outputs": [],
   "source": [
    "df = df.dropna()"
   ]
  },
  {
   "cell_type": "code",
   "execution_count": 39,
   "id": "598ac504-c128-4fe0-bf0f-1892de516ee7",
   "metadata": {},
   "outputs": [
    {
     "data": {
      "text/html": [
       "<div>\n",
       "<style scoped>\n",
       "    .dataframe tbody tr th:only-of-type {\n",
       "        vertical-align: middle;\n",
       "    }\n",
       "\n",
       "    .dataframe tbody tr th {\n",
       "        vertical-align: top;\n",
       "    }\n",
       "\n",
       "    .dataframe thead th {\n",
       "        text-align: right;\n",
       "    }\n",
       "</style>\n",
       "<table border=\"1\" class=\"dataframe\">\n",
       "  <thead>\n",
       "    <tr style=\"text-align: right;\">\n",
       "      <th></th>\n",
       "      <th>user</th>\n",
       "      <th>tweet</th>\n",
       "      <th>sentiment</th>\n",
       "      <th>P_N_N</th>\n",
       "      <th>tweet_z</th>\n",
       "      <th>coded</th>\n",
       "      <th>tweet_2</th>\n",
       "    </tr>\n",
       "  </thead>\n",
       "  <tbody>\n",
       "    <tr>\n",
       "      <th>0</th>\n",
       "      <td>disetv</td>\n",
       "      <td>#stl we war ready #ripmikebrown #ferguson http...</td>\n",
       "      <td>2</td>\n",
       "      <td>neutral</td>\n",
       "      <td>stl we war ready ripmikebrown ferguson httpins...</td>\n",
       "      <td>2</td>\n",
       "      <td>stl we war ready ripmikebrown ferguson httpins...</td>\n",
       "    </tr>\n",
       "    <tr>\n",
       "      <th>1</th>\n",
       "      <td>deray</td>\n",
       "      <td>one of the best moments from ystrdy was when a...</td>\n",
       "      <td>2</td>\n",
       "      <td>neutral</td>\n",
       "      <td>one of the best moments from ystrdy was when a...</td>\n",
       "      <td>2</td>\n",
       "      <td>one of the best moments from ystrdy was when a...</td>\n",
       "    </tr>\n",
       "    <tr>\n",
       "      <th>2</th>\n",
       "      <td>deray</td>\n",
       "      <td>public art. canfield. photo. #ferguson http://...</td>\n",
       "      <td>3</td>\n",
       "      <td>\"\"-\"\"</td>\n",
       "      <td>public art canfield photo ferguson httpiftttw1...</td>\n",
       "      <td>0</td>\n",
       "      <td>public art canfield photo ferguson httpiftttw1...</td>\n",
       "    </tr>\n",
       "    <tr>\n",
       "      <th>3</th>\n",
       "      <td>deray</td>\n",
       "      <td>canfield. public art cont. #ferguson http://if...</td>\n",
       "      <td>3</td>\n",
       "      <td>\"\"-\"\"</td>\n",
       "      <td>canfield public art cont ferguson httpifttt1ld...</td>\n",
       "      <td>0</td>\n",
       "      <td>canfield public art cont ferguson httpifttt1ld...</td>\n",
       "    </tr>\n",
       "    <tr>\n",
       "      <th>4</th>\n",
       "      <td>deray</td>\n",
       "      <td>public art exhibit. canfield. #ferguson http:/...</td>\n",
       "      <td>3</td>\n",
       "      <td>\"\"-\"\"</td>\n",
       "      <td>public art exhibit canfield ferguson httpifttt...</td>\n",
       "      <td>0</td>\n",
       "      <td>public art exhibit canfield ferguson httpifttt...</td>\n",
       "    </tr>\n",
       "    <tr>\n",
       "      <th>5</th>\n",
       "      <td>deray</td>\n",
       "      <td>&amp;quot;we have nothing to lose but our chains.&amp;...</td>\n",
       "      <td>2</td>\n",
       "      <td>neutral</td>\n",
       "      <td>quotwe have nothing to lose but our chainsquot...</td>\n",
       "      <td>2</td>\n",
       "      <td>quotwe have nothing to lose but our chainsquot...</td>\n",
       "    </tr>\n",
       "    <tr>\n",
       "      <th>6</th>\n",
       "      <td>deray</td>\n",
       "      <td>now, we transition to the role of intersection...</td>\n",
       "      <td>3</td>\n",
       "      <td>\"\"-\"\"</td>\n",
       "      <td>now we transition to the role of intersectiona...</td>\n",
       "      <td>0</td>\n",
       "      <td>now we transition to the role of intersectiona...</td>\n",
       "    </tr>\n",
       "    <tr>\n",
       "      <th>7</th>\n",
       "      <td>deray</td>\n",
       "      <td>fellowship. #blacklivesmatter #ferguson http:/...</td>\n",
       "      <td>3</td>\n",
       "      <td>\"\"-\"\"</td>\n",
       "      <td>fellowship blacklivesmatter ferguson httpifttt...</td>\n",
       "      <td>0</td>\n",
       "      <td>fellowship blacklivesmatter ferguson httpifttt...</td>\n",
       "    </tr>\n",
       "    <tr>\n",
       "      <th>8</th>\n",
       "      <td>deray</td>\n",
       "      <td>by far, the best benediction i&amp;#39;ve ever exp...</td>\n",
       "      <td>1</td>\n",
       "      <td>\"+\"</td>\n",
       "      <td>by far the best benediction i39ve ever experie...</td>\n",
       "      <td>1</td>\n",
       "      <td>by far the best benediction i39ve ever experie...</td>\n",
       "    </tr>\n",
       "    <tr>\n",
       "      <th>9</th>\n",
       "      <td>deray</td>\n",
       "      <td>comparison between the occupied territory jesu...</td>\n",
       "      <td>1</td>\n",
       "      <td>\"+\"</td>\n",
       "      <td>comparison between the occupied territory jesu...</td>\n",
       "      <td>1</td>\n",
       "      <td>comparison between the occupied territory jesu...</td>\n",
       "    </tr>\n",
       "  </tbody>\n",
       "</table>\n",
       "</div>"
      ],
      "text/plain": [
       "     user                                              tweet  sentiment  \\\n",
       "0  disetv  #stl we war ready #ripmikebrown #ferguson http...          2   \n",
       "1   deray  one of the best moments from ystrdy was when a...          2   \n",
       "2   deray  public art. canfield. photo. #ferguson http://...          3   \n",
       "3   deray  canfield. public art cont. #ferguson http://if...          3   \n",
       "4   deray  public art exhibit. canfield. #ferguson http:/...          3   \n",
       "5   deray  &quot;we have nothing to lose but our chains.&...          2   \n",
       "6   deray  now, we transition to the role of intersection...          3   \n",
       "7   deray  fellowship. #blacklivesmatter #ferguson http:/...          3   \n",
       "8   deray  by far, the best benediction i&#39;ve ever exp...          1   \n",
       "9   deray  comparison between the occupied territory jesu...          1   \n",
       "\n",
       "     P_N_N                                            tweet_z  coded  \\\n",
       "0  neutral  stl we war ready ripmikebrown ferguson httpins...      2   \n",
       "1  neutral  one of the best moments from ystrdy was when a...      2   \n",
       "2    \"\"-\"\"  public art canfield photo ferguson httpiftttw1...      0   \n",
       "3    \"\"-\"\"  canfield public art cont ferguson httpifttt1ld...      0   \n",
       "4    \"\"-\"\"  public art exhibit canfield ferguson httpifttt...      0   \n",
       "5  neutral  quotwe have nothing to lose but our chainsquot...      2   \n",
       "6    \"\"-\"\"  now we transition to the role of intersectiona...      0   \n",
       "7    \"\"-\"\"  fellowship blacklivesmatter ferguson httpifttt...      0   \n",
       "8      \"+\"  by far the best benediction i39ve ever experie...      1   \n",
       "9      \"+\"  comparison between the occupied territory jesu...      1   \n",
       "\n",
       "                                             tweet_2  \n",
       "0  stl we war ready ripmikebrown ferguson httpins...  \n",
       "1  one of the best moments from ystrdy was when a...  \n",
       "2  public art canfield photo ferguson httpiftttw1...  \n",
       "3  canfield public art cont ferguson httpifttt1ld...  \n",
       "4  public art exhibit canfield ferguson httpifttt...  \n",
       "5  quotwe have nothing to lose but our chainsquot...  \n",
       "6  now we transition to the role of intersectiona...  \n",
       "7  fellowship blacklivesmatter ferguson httpifttt...  \n",
       "8  by far the best benediction i39ve ever experie...  \n",
       "9  comparison between the occupied territory jesu...  "
      ]
     },
     "execution_count": 39,
     "metadata": {},
     "output_type": "execute_result"
    }
   ],
   "source": [
    "df.head(10)"
   ]
  },
  {
   "cell_type": "code",
   "execution_count": null,
   "id": "172d0b35-4f01-487b-9acc-177770708456",
   "metadata": {},
   "outputs": [],
   "source": []
  },
  {
   "cell_type": "code",
   "execution_count": 40,
   "id": "9ce8eaad-dff5-4e59-a131-3c757fad9a64",
   "metadata": {},
   "outputs": [],
   "source": [
    "x = df.tweet_2\n",
    "y = df.coded\n",
    "x_train, x_test, y_train, y_test = train_test_split(x, y, train_size=0.6)"
   ]
  },
  {
   "cell_type": "code",
   "execution_count": 41,
   "id": "351d1c28-d3a6-48cf-a51b-038593b46acd",
   "metadata": {},
   "outputs": [
    {
     "data": {
      "text/plain": [
       "Pipeline(steps=[('vect', CountVectorizer()), ('tfidf', TfidfTransformer()),\n",
       "                ('clf', LogisticRegression())])"
      ]
     },
     "execution_count": 41,
     "metadata": {},
     "output_type": "execute_result"
    }
   ],
   "source": [
    "pp1 = pipeline.fit(x_train, y_train)\n",
    "pp1"
   ]
  },
  {
   "cell_type": "code",
   "execution_count": 42,
   "id": "0a3645b3-2fc0-4026-9a26-5902bcba43c7",
   "metadata": {},
   "outputs": [
    {
     "data": {
      "text/plain": [
       "array([0, 0, 0, ..., 0, 0, 0], dtype=int8)"
      ]
     },
     "execution_count": 42,
     "metadata": {},
     "output_type": "execute_result"
    }
   ],
   "source": [
    "y_pred = pipeline.predict(df['tweet_2'])\n",
    "y_pred"
   ]
  },
  {
   "cell_type": "code",
   "execution_count": 43,
   "id": "168bac39-2c30-4a81-b070-6acbe8143766",
   "metadata": {},
   "outputs": [
    {
     "data": {
      "text/plain": [
       "0.7468776019983348"
      ]
     },
     "execution_count": 43,
     "metadata": {},
     "output_type": "execute_result"
    }
   ],
   "source": [
    "asc1 = accuracy_score(y, y_pred)\n",
    "asc1"
   ]
  },
  {
   "cell_type": "code",
   "execution_count": 44,
   "id": "bff10985-18ca-4c3f-9988-2f7ceae1ce0d",
   "metadata": {},
   "outputs": [
    {
     "data": {
      "text/plain": [
       "array([[607,   3,  33],\n",
       "       [142,  32,  16],\n",
       "       [110,   0, 258]], dtype=int64)"
      ]
     },
     "execution_count": 44,
     "metadata": {},
     "output_type": "execute_result"
    }
   ],
   "source": [
    "confusion_matrix(y, y_pred)"
   ]
  },
  {
   "cell_type": "code",
   "execution_count": 45,
   "id": "b5919def-c742-4cbd-9a0c-bde24a4181da",
   "metadata": {},
   "outputs": [
    {
     "name": "stdout",
     "output_type": "stream",
     "text": [
      "для пайплайна:\n",
      "accuracy_score составляет: 74.68776019983348 %\n"
     ]
    }
   ],
   "source": [
    "print ('для пайплайна:')\n",
    "print('accuracy_score составляет:', accuracy_score(y, y_pred)*100,'%')"
   ]
  },
  {
   "cell_type": "code",
   "execution_count": null,
   "id": "a31895f9-0c94-44a6-9501-d0f4ee344b49",
   "metadata": {},
   "outputs": [],
   "source": []
  },
  {
   "cell_type": "code",
   "execution_count": 46,
   "id": "30813d1f-d0cb-4937-923b-fd6f22afa88b",
   "metadata": {},
   "outputs": [],
   "source": [
    "# Осуществим подбор параметров:"
   ]
  },
  {
   "cell_type": "code",
   "execution_count": 47,
   "id": "2d5314c2-6b7f-4eef-bc0c-b901eeb22b71",
   "metadata": {},
   "outputs": [],
   "source": [
    "params = {\n",
    "    'vect__max_features': [3, 4, 6],\n",
    "    'tfidf__norm': ['l1', 'l2'],\n",
    "    'tfidf__sublinear_tf': ['True', 'False'],\n",
    "    'clf__max_iter': [30, 60, 90]\n",
    "}"
   ]
  },
  {
   "cell_type": "code",
   "execution_count": 48,
   "id": "c2be9930-ca2a-4e68-afff-114e31d65138",
   "metadata": {},
   "outputs": [
    {
     "data": {
      "text/plain": [
       "RandomizedSearchCV(estimator=Pipeline(steps=[('vect', CountVectorizer()),\n",
       "                                             ('tfidf', TfidfTransformer()),\n",
       "                                             ('clf', LogisticRegression())]),\n",
       "                   param_distributions={'clf__max_iter': [30, 60, 90],\n",
       "                                        'tfidf__norm': ['l1', 'l2'],\n",
       "                                        'tfidf__sublinear_tf': ['True',\n",
       "                                                                'False'],\n",
       "                                        'vect__max_features': [3, 4, 6]})"
      ]
     },
     "execution_count": 48,
     "metadata": {},
     "output_type": "execute_result"
    }
   ],
   "source": [
    "search = RandomizedSearchCV(pipeline, params)\n",
    "search.fit(x_train, y_train)"
   ]
  },
  {
   "cell_type": "code",
   "execution_count": 49,
   "id": "3213fc42-ea98-4df9-9147-616db20bc6de",
   "metadata": {},
   "outputs": [
    {
     "data": {
      "text/plain": [
       "Pipeline(steps=[('vect', CountVectorizer(max_features=3)),\n",
       "                ('tfidf', TfidfTransformer(norm='l1', sublinear_tf='False')),\n",
       "                ('clf', LogisticRegression(max_iter=60))])"
      ]
     },
     "execution_count": 49,
     "metadata": {},
     "output_type": "execute_result"
    }
   ],
   "source": [
    "search.best_estimator_  # Лучшие параметры"
   ]
  },
  {
   "cell_type": "code",
   "execution_count": 50,
   "id": "574212e1-c3d5-462c-86fd-a5b80aacc094",
   "metadata": {},
   "outputs": [],
   "source": [
    "# внесем в пайплайн:\n",
    "pipeline = Pipeline(\n",
    "    [\n",
    "        (\"vect\", CountVectorizer(max_features=4)),\n",
    "        (\"tfidf\", TfidfTransformer(norm='l1', sublinear_tf='False')),\n",
    "        (\"clf\", LogisticRegression(max_iter=30)),\n",
    "    ]\n",
    ")"
   ]
  },
  {
   "cell_type": "code",
   "execution_count": null,
   "id": "7d94db03-16aa-4a2c-8b2b-c9210f082497",
   "metadata": {},
   "outputs": [],
   "source": []
  },
  {
   "cell_type": "code",
   "execution_count": 51,
   "id": "83d09723-b7ca-42c2-a848-8c7ee0748e7e",
   "metadata": {},
   "outputs": [
    {
     "data": {
      "text/plain": [
       "Pipeline(steps=[('vect', CountVectorizer(max_features=4)),\n",
       "                ('tfidf', TfidfTransformer(norm='l1', sublinear_tf='False')),\n",
       "                ('clf', LogisticRegression(max_iter=30))])"
      ]
     },
     "execution_count": 51,
     "metadata": {},
     "output_type": "execute_result"
    }
   ],
   "source": [
    "pp2 = pipeline.fit(x_train, y_train)\n",
    "pp2"
   ]
  },
  {
   "cell_type": "code",
   "execution_count": 52,
   "id": "81c7b1f5-cb14-45a8-8650-52a5423fe888",
   "metadata": {},
   "outputs": [
    {
     "data": {
      "text/plain": [
       "array([0, 0, 0, ..., 0, 2, 2], dtype=int8)"
      ]
     },
     "execution_count": 52,
     "metadata": {},
     "output_type": "execute_result"
    }
   ],
   "source": [
    "y_pred = pipeline.predict(df['tweet_2'])\n",
    "y_pred"
   ]
  },
  {
   "cell_type": "code",
   "execution_count": 53,
   "id": "7991cfa2-29e3-4b11-a358-cf00c46ecec3",
   "metadata": {},
   "outputs": [
    {
     "data": {
      "text/plain": [
       "0.5353871773522065"
      ]
     },
     "execution_count": 53,
     "metadata": {},
     "output_type": "execute_result"
    }
   ],
   "source": [
    "asc2 = accuracy_score(y, y_pred)\n",
    "asc2"
   ]
  },
  {
   "cell_type": "code",
   "execution_count": 54,
   "id": "3a4bfd0e-0261-4a5d-97d7-a2c7ee0f221d",
   "metadata": {},
   "outputs": [
    {
     "data": {
      "text/plain": [
       "array([[616,   0,  27],\n",
       "       [188,   0,   2],\n",
       "       [341,   0,  27]], dtype=int64)"
      ]
     },
     "execution_count": 54,
     "metadata": {},
     "output_type": "execute_result"
    }
   ],
   "source": [
    "confusion_matrix(y, y_pred)"
   ]
  },
  {
   "cell_type": "code",
   "execution_count": 55,
   "id": "6ddadad1-aee4-4ead-8246-511a224f0fde",
   "metadata": {},
   "outputs": [
    {
     "name": "stdout",
     "output_type": "stream",
     "text": [
      "для пайплайна после подбора параметров:\n",
      "accuracy_score составляет: 53.53871773522065 %\n",
      "Качество ухудшилось\n"
     ]
    }
   ],
   "source": [
    "print ('для пайплайна после подбора параметров:')\n",
    "print('accuracy_score составляет:', accuracy_score(y, y_pred)*100,'%')\n",
    "if asc2 < asc1:\n",
    "    print('Качество ухудшилось')\n",
    "else:\n",
    "    print('Качество улучшилось')\n"
   ]
  },
  {
   "cell_type": "code",
   "execution_count": null,
   "id": "83d40d73-b015-43e5-9843-2b7295029ce3",
   "metadata": {},
   "outputs": [],
   "source": []
  },
  {
   "cell_type": "code",
   "execution_count": 56,
   "id": "0da5fa5a-db69-44b9-b79e-bdacae28447c",
   "metadata": {},
   "outputs": [],
   "source": [
    "# Другой пайплайн - например, с DecisionTreeClassifier\n",
    "pipeline = Pipeline(\n",
    "    [\n",
    "        (\"vect\", CountVectorizer()),\n",
    "        (\"tfidf\", TfidfTransformer()),\n",
    "        (\"clf\", DecisionTreeClassifier()),\n",
    "    ]\n",
    ")"
   ]
  },
  {
   "cell_type": "code",
   "execution_count": 57,
   "id": "d90ff23b-5f8d-4872-a88d-b7a810050b53",
   "metadata": {},
   "outputs": [
    {
     "data": {
      "text/plain": [
       "Pipeline(steps=[('vect', CountVectorizer()), ('tfidf', TfidfTransformer()),\n",
       "                ('clf', DecisionTreeClassifier())])"
      ]
     },
     "execution_count": 57,
     "metadata": {},
     "output_type": "execute_result"
    }
   ],
   "source": [
    "pp3 = pipeline.fit(x_train, y_train)\n",
    "pp3"
   ]
  },
  {
   "cell_type": "code",
   "execution_count": 58,
   "id": "99b7c198-2acf-42a7-829c-1da01fd3d274",
   "metadata": {},
   "outputs": [
    {
     "data": {
      "text/plain": [
       "array([2, 1, 0, ..., 0, 0, 0], dtype=int8)"
      ]
     },
     "execution_count": 58,
     "metadata": {},
     "output_type": "execute_result"
    }
   ],
   "source": [
    "y_pred = pipeline.predict(df['tweet_2'])\n",
    "y_pred"
   ]
  },
  {
   "cell_type": "code",
   "execution_count": 59,
   "id": "8f5de2b6-1a84-4e7c-bdd2-a68bd8a2c220",
   "metadata": {},
   "outputs": [
    {
     "data": {
      "text/plain": [
       "0.794338051623647"
      ]
     },
     "execution_count": 59,
     "metadata": {},
     "output_type": "execute_result"
    }
   ],
   "source": [
    "asc3 = accuracy_score(y, y_pred)\n",
    "asc3"
   ]
  },
  {
   "cell_type": "code",
   "execution_count": 60,
   "id": "9f659d9c-7cea-452e-b4de-006809656183",
   "metadata": {},
   "outputs": [
    {
     "data": {
      "text/plain": [
       "array([[547,  46,  50],\n",
       "       [ 47, 129,  14],\n",
       "       [ 64,  26, 278]], dtype=int64)"
      ]
     },
     "execution_count": 60,
     "metadata": {},
     "output_type": "execute_result"
    }
   ],
   "source": [
    "confusion_matrix(y, y_pred)"
   ]
  },
  {
   "cell_type": "code",
   "execution_count": 61,
   "id": "97ab9864-14db-4643-9cd9-4b310f17f918",
   "metadata": {},
   "outputs": [],
   "source": [
    "min_score = min(asc1, asc2, asc3)"
   ]
  },
  {
   "cell_type": "code",
   "execution_count": 62,
   "id": "962737d0-3613-4745-ba79-2c750d2efa1e",
   "metadata": {},
   "outputs": [
    {
     "name": "stdout",
     "output_type": "stream",
     "text": [
      "для пайплайна с DecisionTreeClassifier:\n",
      "accuracy_score составляет: 79.4338051623647 %\n"
     ]
    }
   ],
   "source": [
    "print ('для пайплайна с DecisionTreeClassifier:')\n",
    "print('accuracy_score составляет:', asc3*100,'%')"
   ]
  },
  {
   "cell_type": "code",
   "execution_count": 63,
   "id": "99a497c2-b38c-4884-b8bb-219e7e1c06bf",
   "metadata": {},
   "outputs": [
    {
     "name": "stdout",
     "output_type": "stream",
     "text": [
      "Вывод:\n",
      "Из рассмотренных моделей:\n",
      "Наихудшее качество по accuracy_score у пайплайна с DecisionTreeClassifier как clf с подбором параметров\n"
     ]
    }
   ],
   "source": [
    "print('Вывод:')\n",
    "print('Из рассмотренных моделей:')\n",
    "if min_score == asc3:\n",
    "    print('Наихудшее качество по accuracy_score у пайплайна с DecisionTreeClassifier как clf')\n",
    "elif min_score == asc1:\n",
    "    print('Наихудшее качество по accuracy_score у пайплайна с LogisticRegression как clf до подбора параметров')\n",
    "else:\n",
    "    print('Наихудшее качество по accuracy_score у пайплайна с DecisionTreeClassifier как clf с подбором параметров')"
   ]
  },
  {
   "cell_type": "code",
   "execution_count": null,
   "id": "ebd6adb8-8dbc-4f70-9cd9-d24e03fef686",
   "metadata": {},
   "outputs": [],
   "source": []
  },
  {
   "cell_type": "code",
   "execution_count": null,
   "id": "e77f13ce-fed1-4810-b8a0-8a2d83f593ae",
   "metadata": {},
   "outputs": [],
   "source": []
  }
 ],
 "metadata": {
  "kernelspec": {
   "display_name": "Python 3",
   "language": "python",
   "name": "python3"
  },
  "language_info": {
   "codemirror_mode": {
    "name": "ipython",
    "version": 3
   },
   "file_extension": ".py",
   "mimetype": "text/x-python",
   "name": "python",
   "nbconvert_exporter": "python",
   "pygments_lexer": "ipython3",
   "version": "3.8.8"
  }
 },
 "nbformat": 4,
 "nbformat_minor": 5
}

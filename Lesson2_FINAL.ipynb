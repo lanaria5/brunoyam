{
 "cells": [
  {
   "cell_type": "code",
   "execution_count": 1,
   "id": "799d95d3-3463-4659-b4c3-2823a8c74f8c",
   "metadata": {},
   "outputs": [],
   "source": [
    "# Домашнее задание по 2 уроку\n",
    "\n",
    "# Easy\n",
    "# Скачать данные отсюда (кнопка download all снизу): https://www.kaggle.com/c/titanic/data \n",
    "# Это данные о пассажирах Титаника и информация о том, кто выжил, а кто нет. Будем анализировать файл train.csv.\n",
    "# Необходимо прочитать файл, посчитать процент детей (младше 18 лет), соотношение мужчин/женщин на борту\n",
    "\n",
    "# Normal\n",
    "# Посчитать по скольким людям нет информации (пола или возраста) Вывести гистограмму по возрасту пассажиров\n",
    "# Посчитать какой процент мужин и женщин выжили, какой процент детей выжили. \n",
    "# Посчитать корреляцию между возрастом и выживаемостью, полом и выживаемостью\n",
    "\n",
    "# Hard\n",
    "# Сделав вывод по данным, написать простейшую модель, которая будет определять по входным данным, выжил ли человек. \n",
    "# Проверить свою гипотезу на данных train.csv, оценить успешность модели. Прогнать модель на файле test.csv \n",
    "# Загрузить решение на kaggle. Решение представляет из себя файл с 2 колонками: PassengerId и Survived. \n",
    "# Id пассажиров и их данные нужно брать из файла test.csv."
   ]
  },
  {
   "cell_type": "code",
   "execution_count": 4,
   "id": "e777c448-5837-4fee-831a-1af4f1b327a2",
   "metadata": {
    "tags": []
   },
   "outputs": [],
   "source": [
    "import pandas as pd  # Импортируем pandas"
   ]
  },
  {
   "cell_type": "code",
   "execution_count": 3,
   "id": "be49a3ab-42e5-4b1d-ae26-3c5f65a30d58",
   "metadata": {
    "tags": []
   },
   "outputs": [],
   "source": [
    "# 1. Задача Easy"
   ]
  },
  {
   "cell_type": "code",
   "execution_count": 6,
   "id": "70af3ea8-e977-4d23-8e30-fb2231978d0a",
   "metadata": {},
   "outputs": [
    {
     "data": {
      "text/html": [
       "<div>\n",
       "<style scoped>\n",
       "    .dataframe tbody tr th:only-of-type {\n",
       "        vertical-align: middle;\n",
       "    }\n",
       "\n",
       "    .dataframe tbody tr th {\n",
       "        vertical-align: top;\n",
       "    }\n",
       "\n",
       "    .dataframe thead th {\n",
       "        text-align: right;\n",
       "    }\n",
       "</style>\n",
       "<table border=\"1\" class=\"dataframe\">\n",
       "  <thead>\n",
       "    <tr style=\"text-align: right;\">\n",
       "      <th></th>\n",
       "      <th>PassengerId</th>\n",
       "      <th>Survived</th>\n",
       "      <th>Pclass</th>\n",
       "      <th>Name</th>\n",
       "      <th>Sex</th>\n",
       "      <th>Age</th>\n",
       "      <th>SibSp</th>\n",
       "      <th>Parch</th>\n",
       "      <th>Ticket</th>\n",
       "      <th>Fare</th>\n",
       "      <th>Cabin</th>\n",
       "      <th>Embarked</th>\n",
       "    </tr>\n",
       "  </thead>\n",
       "  <tbody>\n",
       "    <tr>\n",
       "      <th>0</th>\n",
       "      <td>1</td>\n",
       "      <td>0</td>\n",
       "      <td>3</td>\n",
       "      <td>Braund, Mr. Owen Harris</td>\n",
       "      <td>male</td>\n",
       "      <td>22.0</td>\n",
       "      <td>1</td>\n",
       "      <td>0</td>\n",
       "      <td>A/5 21171</td>\n",
       "      <td>7.2500</td>\n",
       "      <td>NaN</td>\n",
       "      <td>S</td>\n",
       "    </tr>\n",
       "    <tr>\n",
       "      <th>1</th>\n",
       "      <td>2</td>\n",
       "      <td>1</td>\n",
       "      <td>1</td>\n",
       "      <td>Cumings, Mrs. John Bradley (Florence Briggs Th...</td>\n",
       "      <td>female</td>\n",
       "      <td>38.0</td>\n",
       "      <td>1</td>\n",
       "      <td>0</td>\n",
       "      <td>PC 17599</td>\n",
       "      <td>71.2833</td>\n",
       "      <td>C85</td>\n",
       "      <td>C</td>\n",
       "    </tr>\n",
       "    <tr>\n",
       "      <th>2</th>\n",
       "      <td>3</td>\n",
       "      <td>1</td>\n",
       "      <td>3</td>\n",
       "      <td>Heikkinen, Miss. Laina</td>\n",
       "      <td>female</td>\n",
       "      <td>26.0</td>\n",
       "      <td>0</td>\n",
       "      <td>0</td>\n",
       "      <td>STON/O2. 3101282</td>\n",
       "      <td>7.9250</td>\n",
       "      <td>NaN</td>\n",
       "      <td>S</td>\n",
       "    </tr>\n",
       "    <tr>\n",
       "      <th>3</th>\n",
       "      <td>4</td>\n",
       "      <td>1</td>\n",
       "      <td>1</td>\n",
       "      <td>Futrelle, Mrs. Jacques Heath (Lily May Peel)</td>\n",
       "      <td>female</td>\n",
       "      <td>35.0</td>\n",
       "      <td>1</td>\n",
       "      <td>0</td>\n",
       "      <td>113803</td>\n",
       "      <td>53.1000</td>\n",
       "      <td>C123</td>\n",
       "      <td>S</td>\n",
       "    </tr>\n",
       "    <tr>\n",
       "      <th>4</th>\n",
       "      <td>5</td>\n",
       "      <td>0</td>\n",
       "      <td>3</td>\n",
       "      <td>Allen, Mr. William Henry</td>\n",
       "      <td>male</td>\n",
       "      <td>35.0</td>\n",
       "      <td>0</td>\n",
       "      <td>0</td>\n",
       "      <td>373450</td>\n",
       "      <td>8.0500</td>\n",
       "      <td>NaN</td>\n",
       "      <td>S</td>\n",
       "    </tr>\n",
       "  </tbody>\n",
       "</table>\n",
       "</div>"
      ],
      "text/plain": [
       "   PassengerId  Survived  Pclass  \\\n",
       "0            1         0       3   \n",
       "1            2         1       1   \n",
       "2            3         1       3   \n",
       "3            4         1       1   \n",
       "4            5         0       3   \n",
       "\n",
       "                                                Name     Sex   Age  SibSp  \\\n",
       "0                            Braund, Mr. Owen Harris    male  22.0      1   \n",
       "1  Cumings, Mrs. John Bradley (Florence Briggs Th...  female  38.0      1   \n",
       "2                             Heikkinen, Miss. Laina  female  26.0      0   \n",
       "3       Futrelle, Mrs. Jacques Heath (Lily May Peel)  female  35.0      1   \n",
       "4                           Allen, Mr. William Henry    male  35.0      0   \n",
       "\n",
       "   Parch            Ticket     Fare Cabin Embarked  \n",
       "0      0         A/5 21171   7.2500   NaN        S  \n",
       "1      0          PC 17599  71.2833   C85        C  \n",
       "2      0  STON/O2. 3101282   7.9250   NaN        S  \n",
       "3      0            113803  53.1000  C123        S  \n",
       "4      0            373450   8.0500   NaN        S  "
      ]
     },
     "execution_count": 6,
     "metadata": {},
     "output_type": "execute_result"
    }
   ],
   "source": [
    "titanic = pd.read_csv('./data/train.csv')   # читаем файл в pandas, сохраняем в датафрейме titanic\n",
    "titanic.head() # выводим файл (первые строки, смотрим, корректно ли)"
   ]
  },
  {
   "cell_type": "code",
   "execution_count": 5,
   "id": "da6b1282-5f17-41b4-8c2e-ecfac947762b",
   "metadata": {},
   "outputs": [
    {
     "data": {
      "text/plain": [
       "PassengerId    891\n",
       "Survived       891\n",
       "Pclass         891\n",
       "Name           891\n",
       "Sex            891\n",
       "Age            714\n",
       "SibSp          891\n",
       "Parch          891\n",
       "Ticket         891\n",
       "Fare           891\n",
       "Cabin          204\n",
       "Embarked       889\n",
       "dtype: int64"
      ]
     },
     "execution_count": 5,
     "metadata": {},
     "output_type": "execute_result"
    }
   ],
   "source": [
    "titanic.count()  # для самопроверки считаем/смотрим данные по всем столбцам, количество заполненных строк по всем столбцам фрейма"
   ]
  },
  {
   "cell_type": "code",
   "execution_count": 6,
   "id": "ad6dc243-47d2-4315-8835-928372d6dd94",
   "metadata": {},
   "outputs": [
    {
     "name": "stdout",
     "output_type": "stream",
     "text": [
      "Число пассажиров всего, человек =  891\n"
     ]
    }
   ],
   "source": [
    "people_amount = titanic.PassengerId.count()    #чтобы определить % детей, сначала считаем общее число пассажиров по PassengerID, \n",
    "# присваиваем значение переменной people_amount\n",
    "print('Число пассажиров всего, человек = ', people_amount)"
   ]
  },
  {
   "cell_type": "code",
   "execution_count": 7,
   "id": "21f0d878-3251-45a0-aa19-206e05e55a10",
   "metadata": {},
   "outputs": [
    {
     "name": "stdout",
     "output_type": "stream",
     "text": [
      "Число пассажиров младше 18 лет (детей), человек =  113\n"
     ]
    }
   ],
   "source": [
    "children_passengers = titanic[titanic.Age < 18].PassengerId.count() #считаем общее число пассажиров меньше 18 лет (т.е. детей)\n",
    "# чтобы потом определить их долю в общем числе пассажиров\n",
    "print('Число пассажиров младше 18 лет (детей), человек = ', children_passengers)"
   ]
  },
  {
   "cell_type": "code",
   "execution_count": 8,
   "id": "ee1b5725-1b29-4b92-9e10-e842333ba3b6",
   "metadata": {},
   "outputs": [
    {
     "name": "stdout",
     "output_type": "stream",
     "text": [
      "Доля детей на борту, в %:  12.682379349046016\n"
     ]
    }
   ],
   "source": [
    "children_part = children_passengers / people_amount * 100 # определяем отношение числа детей к общему числу пассажиров\n",
    "print('Доля детей на борту, в %: ', children_part)"
   ]
  },
  {
   "cell_type": "code",
   "execution_count": 9,
   "id": "55865ee6-6a60-4528-9916-c1ef60ba50df",
   "metadata": {},
   "outputs": [],
   "source": [
    "# В случае если мужчинами и женщинами мы считаем ВСЕХ лиц мужского и женского пола на борту (независимо от возраста)"
   ]
  },
  {
   "cell_type": "code",
   "execution_count": 10,
   "id": "f35ecd5b-42c3-4852-8626-41ace4985707",
   "metadata": {},
   "outputs": [
    {
     "name": "stdout",
     "output_type": "stream",
     "text": [
      "Число пассажиров мужского пола, человек =  577\n"
     ]
    }
   ],
   "source": [
    "male_passengers = titanic[titanic.Sex == 'male'].Sex.count()  # выбираем пассажиров мужского пола и считаем их число\n",
    "print('Число пассажиров мужского пола, человек = ', male_passengers)"
   ]
  },
  {
   "cell_type": "code",
   "execution_count": 11,
   "id": "c87a9e07-1ae4-4cbd-a0e8-349bf1651a28",
   "metadata": {},
   "outputs": [
    {
     "name": "stdout",
     "output_type": "stream",
     "text": [
      "Число пассажиров женского пола, человек =  314\n"
     ]
    }
   ],
   "source": [
    "female_passengers = titanic[titanic.Sex == 'female'].Sex.count()  # выбираем пассажиров женского пола и считаем их количество\n",
    "print('Число пассажиров женского пола, человек = ', female_passengers)"
   ]
  },
  {
   "cell_type": "code",
   "execution_count": 12,
   "id": "2a03b9f3-b2af-4716-81c7-b660eb03aece",
   "metadata": {},
   "outputs": [
    {
     "name": "stdout",
     "output_type": "stream",
     "text": [
      "Число мужчин на борту превшает число женщин на борту в  1.8375796178343948 раз\n",
      "Процент мужчин на борту:  64.75869809203144 %\n",
      "Процент женщин на борту:  35.24130190796858 %\n"
     ]
    }
   ],
   "source": [
    "male_to_female = male_passengers / female_passengers # определяем отношение числа лиц мужского пола к числу лиц женского пола\n",
    "part_of_male = male_passengers / people_amount * 100 # % пассажиров-мужчин на борту\n",
    "part_of_female = female_passengers / people_amount * 100 # % пассажиров-женщин на борту\n",
    "print('Число мужчин на борту превшает число женщин на борту в ', male_to_female, 'раз')\n",
    "print('Процент мужчин на борту: ', part_of_male, '%')\n",
    "print('Процент женщин на борту: ', part_of_female, '%')"
   ]
  },
  {
   "cell_type": "code",
   "execution_count": null,
   "id": "43ce5cea-dcbb-402b-80fc-8b1aacee9903",
   "metadata": {},
   "outputs": [],
   "source": []
  },
  {
   "cell_type": "code",
   "execution_count": 13,
   "id": "aba9acea-8713-4a5c-904b-cca0d4f97fa2",
   "metadata": {},
   "outputs": [],
   "source": [
    "# 2. Задача Normal"
   ]
  },
  {
   "cell_type": "code",
   "execution_count": 14,
   "id": "17accba7-f4a3-4386-9602-d26d8718a545",
   "metadata": {},
   "outputs": [],
   "source": [
    "# Определяем по скольким людям нет информации\n",
    "# 1 - Вариант  с использованием isnull()"
   ]
  },
  {
   "cell_type": "code",
   "execution_count": 15,
   "id": "f1a14d73-500d-4d47-b695-8464bbbc21c9",
   "metadata": {
    "tags": []
   },
   "outputs": [
    {
     "data": {
      "text/plain": [
       "PassengerId      0\n",
       "Survived         0\n",
       "Pclass           0\n",
       "Name             0\n",
       "Sex              0\n",
       "Age            177\n",
       "SibSp            0\n",
       "Parch            0\n",
       "Ticket           0\n",
       "Fare             0\n",
       "Cabin          687\n",
       "Embarked         2\n",
       "dtype: int64"
      ]
     },
     "execution_count": 15,
     "metadata": {},
     "output_type": "execute_result"
    }
   ],
   "source": [
    "titanic.isnull().sum()  # Смотрим на пропущенные (отсутствующие) данные в датафрейме"
   ]
  },
  {
   "cell_type": "code",
   "execution_count": 16,
   "id": "122ae636-0c35-4c83-aa8b-151cb7444f9e",
   "metadata": {},
   "outputs": [
    {
     "data": {
      "text/plain": [
       "177"
      ]
     },
     "execution_count": 16,
     "metadata": {},
     "output_type": "execute_result"
    }
   ],
   "source": [
    "titanic.isnull().sum().Age # Отражаем количество пропущенных данных по возрасту"
   ]
  },
  {
   "cell_type": "code",
   "execution_count": 17,
   "id": "4fb843bb-473c-42de-9add-69338a0061ee",
   "metadata": {},
   "outputs": [
    {
     "data": {
      "text/plain": [
       "0"
      ]
     },
     "execution_count": 17,
     "metadata": {},
     "output_type": "execute_result"
    }
   ],
   "source": [
    "titanic.isnull().sum().Sex # Отражаем количество пропущенных данных по полу"
   ]
  },
  {
   "cell_type": "code",
   "execution_count": 18,
   "id": "df07363a-9c27-4431-923d-22fbe89024ca",
   "metadata": {},
   "outputs": [],
   "source": [
    "# 2 - Вариант с использованием isna()"
   ]
  },
  {
   "cell_type": "code",
   "execution_count": 19,
   "id": "e066eb82-b72b-4692-bd44-1ed02b136774",
   "metadata": {
    "tags": []
   },
   "outputs": [
    {
     "data": {
      "text/html": [
       "<div>\n",
       "<style scoped>\n",
       "    .dataframe tbody tr th:only-of-type {\n",
       "        vertical-align: middle;\n",
       "    }\n",
       "\n",
       "    .dataframe tbody tr th {\n",
       "        vertical-align: top;\n",
       "    }\n",
       "\n",
       "    .dataframe thead th {\n",
       "        text-align: right;\n",
       "    }\n",
       "</style>\n",
       "<table border=\"1\" class=\"dataframe\">\n",
       "  <thead>\n",
       "    <tr style=\"text-align: right;\">\n",
       "      <th></th>\n",
       "      <th>PassengerId</th>\n",
       "      <th>Survived</th>\n",
       "      <th>Pclass</th>\n",
       "      <th>Name</th>\n",
       "      <th>Sex</th>\n",
       "      <th>Age</th>\n",
       "      <th>SibSp</th>\n",
       "      <th>Parch</th>\n",
       "      <th>Ticket</th>\n",
       "      <th>Fare</th>\n",
       "      <th>Cabin</th>\n",
       "      <th>Embarked</th>\n",
       "    </tr>\n",
       "  </thead>\n",
       "  <tbody>\n",
       "    <tr>\n",
       "      <th>0</th>\n",
       "      <td>False</td>\n",
       "      <td>False</td>\n",
       "      <td>False</td>\n",
       "      <td>False</td>\n",
       "      <td>False</td>\n",
       "      <td>False</td>\n",
       "      <td>False</td>\n",
       "      <td>False</td>\n",
       "      <td>False</td>\n",
       "      <td>False</td>\n",
       "      <td>True</td>\n",
       "      <td>False</td>\n",
       "    </tr>\n",
       "    <tr>\n",
       "      <th>1</th>\n",
       "      <td>False</td>\n",
       "      <td>False</td>\n",
       "      <td>False</td>\n",
       "      <td>False</td>\n",
       "      <td>False</td>\n",
       "      <td>False</td>\n",
       "      <td>False</td>\n",
       "      <td>False</td>\n",
       "      <td>False</td>\n",
       "      <td>False</td>\n",
       "      <td>False</td>\n",
       "      <td>False</td>\n",
       "    </tr>\n",
       "    <tr>\n",
       "      <th>2</th>\n",
       "      <td>False</td>\n",
       "      <td>False</td>\n",
       "      <td>False</td>\n",
       "      <td>False</td>\n",
       "      <td>False</td>\n",
       "      <td>False</td>\n",
       "      <td>False</td>\n",
       "      <td>False</td>\n",
       "      <td>False</td>\n",
       "      <td>False</td>\n",
       "      <td>True</td>\n",
       "      <td>False</td>\n",
       "    </tr>\n",
       "    <tr>\n",
       "      <th>3</th>\n",
       "      <td>False</td>\n",
       "      <td>False</td>\n",
       "      <td>False</td>\n",
       "      <td>False</td>\n",
       "      <td>False</td>\n",
       "      <td>False</td>\n",
       "      <td>False</td>\n",
       "      <td>False</td>\n",
       "      <td>False</td>\n",
       "      <td>False</td>\n",
       "      <td>False</td>\n",
       "      <td>False</td>\n",
       "    </tr>\n",
       "    <tr>\n",
       "      <th>4</th>\n",
       "      <td>False</td>\n",
       "      <td>False</td>\n",
       "      <td>False</td>\n",
       "      <td>False</td>\n",
       "      <td>False</td>\n",
       "      <td>False</td>\n",
       "      <td>False</td>\n",
       "      <td>False</td>\n",
       "      <td>False</td>\n",
       "      <td>False</td>\n",
       "      <td>True</td>\n",
       "      <td>False</td>\n",
       "    </tr>\n",
       "    <tr>\n",
       "      <th>...</th>\n",
       "      <td>...</td>\n",
       "      <td>...</td>\n",
       "      <td>...</td>\n",
       "      <td>...</td>\n",
       "      <td>...</td>\n",
       "      <td>...</td>\n",
       "      <td>...</td>\n",
       "      <td>...</td>\n",
       "      <td>...</td>\n",
       "      <td>...</td>\n",
       "      <td>...</td>\n",
       "      <td>...</td>\n",
       "    </tr>\n",
       "    <tr>\n",
       "      <th>886</th>\n",
       "      <td>False</td>\n",
       "      <td>False</td>\n",
       "      <td>False</td>\n",
       "      <td>False</td>\n",
       "      <td>False</td>\n",
       "      <td>False</td>\n",
       "      <td>False</td>\n",
       "      <td>False</td>\n",
       "      <td>False</td>\n",
       "      <td>False</td>\n",
       "      <td>True</td>\n",
       "      <td>False</td>\n",
       "    </tr>\n",
       "    <tr>\n",
       "      <th>887</th>\n",
       "      <td>False</td>\n",
       "      <td>False</td>\n",
       "      <td>False</td>\n",
       "      <td>False</td>\n",
       "      <td>False</td>\n",
       "      <td>False</td>\n",
       "      <td>False</td>\n",
       "      <td>False</td>\n",
       "      <td>False</td>\n",
       "      <td>False</td>\n",
       "      <td>False</td>\n",
       "      <td>False</td>\n",
       "    </tr>\n",
       "    <tr>\n",
       "      <th>888</th>\n",
       "      <td>False</td>\n",
       "      <td>False</td>\n",
       "      <td>False</td>\n",
       "      <td>False</td>\n",
       "      <td>False</td>\n",
       "      <td>True</td>\n",
       "      <td>False</td>\n",
       "      <td>False</td>\n",
       "      <td>False</td>\n",
       "      <td>False</td>\n",
       "      <td>True</td>\n",
       "      <td>False</td>\n",
       "    </tr>\n",
       "    <tr>\n",
       "      <th>889</th>\n",
       "      <td>False</td>\n",
       "      <td>False</td>\n",
       "      <td>False</td>\n",
       "      <td>False</td>\n",
       "      <td>False</td>\n",
       "      <td>False</td>\n",
       "      <td>False</td>\n",
       "      <td>False</td>\n",
       "      <td>False</td>\n",
       "      <td>False</td>\n",
       "      <td>False</td>\n",
       "      <td>False</td>\n",
       "    </tr>\n",
       "    <tr>\n",
       "      <th>890</th>\n",
       "      <td>False</td>\n",
       "      <td>False</td>\n",
       "      <td>False</td>\n",
       "      <td>False</td>\n",
       "      <td>False</td>\n",
       "      <td>False</td>\n",
       "      <td>False</td>\n",
       "      <td>False</td>\n",
       "      <td>False</td>\n",
       "      <td>False</td>\n",
       "      <td>True</td>\n",
       "      <td>False</td>\n",
       "    </tr>\n",
       "  </tbody>\n",
       "</table>\n",
       "<p>891 rows × 12 columns</p>\n",
       "</div>"
      ],
      "text/plain": [
       "     PassengerId  Survived  Pclass   Name    Sex    Age  SibSp  Parch  Ticket  \\\n",
       "0          False     False   False  False  False  False  False  False   False   \n",
       "1          False     False   False  False  False  False  False  False   False   \n",
       "2          False     False   False  False  False  False  False  False   False   \n",
       "3          False     False   False  False  False  False  False  False   False   \n",
       "4          False     False   False  False  False  False  False  False   False   \n",
       "..           ...       ...     ...    ...    ...    ...    ...    ...     ...   \n",
       "886        False     False   False  False  False  False  False  False   False   \n",
       "887        False     False   False  False  False  False  False  False   False   \n",
       "888        False     False   False  False  False   True  False  False   False   \n",
       "889        False     False   False  False  False  False  False  False   False   \n",
       "890        False     False   False  False  False  False  False  False   False   \n",
       "\n",
       "      Fare  Cabin  Embarked  \n",
       "0    False   True     False  \n",
       "1    False  False     False  \n",
       "2    False   True     False  \n",
       "3    False  False     False  \n",
       "4    False   True     False  \n",
       "..     ...    ...       ...  \n",
       "886  False   True     False  \n",
       "887  False  False     False  \n",
       "888  False   True     False  \n",
       "889  False  False     False  \n",
       "890  False   True     False  \n",
       "\n",
       "[891 rows x 12 columns]"
      ]
     },
     "execution_count": 19,
     "metadata": {},
     "output_type": "execute_result"
    }
   ],
   "source": [
    "titanic.isna()  # можно вывести через isna пропущенные данные и просуммировать их количество по соотв-щим колонкам"
   ]
  },
  {
   "cell_type": "code",
   "execution_count": null,
   "id": "b6ed803b-4c48-42f9-bfeb-4d435337a3d9",
   "metadata": {},
   "outputs": [],
   "source": []
  },
  {
   "cell_type": "code",
   "execution_count": 20,
   "id": "ac0a882b-bdb1-43f1-8f81-4b91376e5d03",
   "metadata": {},
   "outputs": [
    {
     "data": {
      "text/plain": [
       "177"
      ]
     },
     "execution_count": 20,
     "metadata": {},
     "output_type": "execute_result"
    }
   ],
   "source": [
    "titanic.isna().sum().Age|titanic.isna().sum().Sex # определяем количество пропущенных данных по столбцам Age и Sex\n",
    "# Получаем итоговое число"
   ]
  },
  {
   "cell_type": "code",
   "execution_count": null,
   "id": "9c1ab59b-44df-49a6-8100-57fdc064d8b6",
   "metadata": {},
   "outputs": [],
   "source": []
  },
  {
   "cell_type": "code",
   "execution_count": 21,
   "id": "56bccb2e-480b-409e-b218-ca3c0a8c2c4a",
   "metadata": {},
   "outputs": [
    {
     "data": {
      "text/plain": [
       "<AxesSubplot:>"
      ]
     },
     "execution_count": 21,
     "metadata": {},
     "output_type": "execute_result"
    },
    {
     "data": {
      "image/png": "[encoded data removed]",
      "text/plain": [
       "<Figure size 432x288 with 1 Axes>"
      ]
     },
     "metadata": {
      "needs_background": "light"
     },
     "output_type": "display_data"
    }
   ],
   "source": [
    "titanic.Age.hist() # Строим гистограмму по возрасту"
   ]
  },
  {
   "cell_type": "code",
   "execution_count": null,
   "id": "59f68260-5413-419a-82e5-747a3ac40242",
   "metadata": {},
   "outputs": [],
   "source": []
  },
  {
   "cell_type": "code",
   "execution_count": 22,
   "id": "c4028091-6000-4c6f-aa84-c4dba6c505e3",
   "metadata": {
    "tags": []
   },
   "outputs": [],
   "source": [
    "# Определяем процент выживших мужчин, женщин и детей"
   ]
  },
  {
   "cell_type": "code",
   "execution_count": 23,
   "id": "99fd2d5d-3195-4abb-b9d2-70174492b453",
   "metadata": {},
   "outputs": [],
   "source": [
    "# Процент выживших мужчин"
   ]
  },
  {
   "cell_type": "code",
   "execution_count": 24,
   "id": "cc55d757-a919-4eec-b023-646c277c5fe2",
   "metadata": {
    "tags": []
   },
   "outputs": [],
   "source": [
    "surviveddf = titanic[titanic.Survived == 1] # сначала создаем новый датафрейм только с выжившими"
   ]
  },
  {
   "cell_type": "code",
   "execution_count": 25,
   "id": "421aaa2b-678d-4f66-9fee-18e369ec8616",
   "metadata": {},
   "outputs": [],
   "source": [
    "male_passengers_alive = surviveddf[surviveddf.Sex == 'male'].Survived.count() # считаем число выживших мужчин в этом датафрейме"
   ]
  },
  {
   "cell_type": "code",
   "execution_count": 26,
   "id": "d37b4a74-0ae7-42f1-a751-cc28a4c6129b",
   "metadata": {},
   "outputs": [],
   "source": [
    "male_part_alive = (male_passengers_alive / male_passengers) * 100 # определяем долю выживших мужчин в общем числе мужчин на борту"
   ]
  },
  {
   "cell_type": "code",
   "execution_count": 27,
   "id": "7b7ff543-7086-4e83-916a-2de96fb7e30c",
   "metadata": {},
   "outputs": [
    {
     "name": "stdout",
     "output_type": "stream",
     "text": [
      "Выжили мужчин: 109 человек\n",
      "ОТВЕТ - Процент выживших мужчин в общем количестве мужчин составил  18.890814558058924 процентов\n"
     ]
    }
   ],
   "source": [
    "print('Выжили мужчин:', male_passengers_alive, 'человек')\n",
    "print('ОТВЕТ - Процент выживших мужчин в общем количестве мужчин составил ', male_part_alive, 'процентов')"
   ]
  },
  {
   "cell_type": "code",
   "execution_count": null,
   "id": "ab097259-719c-4224-acc8-c290322b1b23",
   "metadata": {},
   "outputs": [],
   "source": []
  },
  {
   "cell_type": "code",
   "execution_count": 28,
   "id": "ecf8824b-152e-4043-a618-918d032b5b29",
   "metadata": {},
   "outputs": [],
   "source": [
    "# Процент выживших женщин"
   ]
  },
  {
   "cell_type": "code",
   "execution_count": 29,
   "id": "50f85c80-974a-45c5-963c-bcc26eba9912",
   "metadata": {},
   "outputs": [],
   "source": [
    "female_passengers_alive = surviveddf[surviveddf.Sex == 'female'].Survived.count() # считаем число выживших женщин"
   ]
  },
  {
   "cell_type": "code",
   "execution_count": 30,
   "id": "5e9c29a5-887c-45a3-a3cc-fc5c9420d1c5",
   "metadata": {},
   "outputs": [],
   "source": [
    "female_part_alive = (female_passengers_alive / female_passengers) * 100 # определяем долю выживших женщин в их общем количестве"
   ]
  },
  {
   "cell_type": "code",
   "execution_count": 31,
   "id": "c8a15454-9bca-478d-8f22-3eb463e7f1c0",
   "metadata": {},
   "outputs": [
    {
     "name": "stdout",
     "output_type": "stream",
     "text": [
      "Выжили женщин: 233 человек\n",
      "ОТВЕТ - Процент выживших женщин в общем количестве женщин составил  74.20382165605095 процентов\n"
     ]
    }
   ],
   "source": [
    "print('Выжили женщин:', female_passengers_alive, 'человек')\n",
    "print('ОТВЕТ - Процент выживших женщин в общем количестве женщин составил ', female_part_alive, 'процентов')"
   ]
  },
  {
   "cell_type": "code",
   "execution_count": null,
   "id": "87275d51-c5c7-46b0-94a5-f22fd74f5c4e",
   "metadata": {},
   "outputs": [],
   "source": []
  },
  {
   "cell_type": "code",
   "execution_count": 32,
   "id": "8130624d-3aec-43f0-86f3-d4e77c0d81f4",
   "metadata": {},
   "outputs": [],
   "source": [
    "# Процент выживших детей"
   ]
  },
  {
   "cell_type": "code",
   "execution_count": 33,
   "id": "342c0e92-1512-4f5f-8119-359cf5046cb1",
   "metadata": {},
   "outputs": [],
   "source": [
    "children_passengers_alive = surviveddf[surviveddf.Age < 18].Survived.count() # считаем число выживших детей"
   ]
  },
  {
   "cell_type": "code",
   "execution_count": 34,
   "id": "c79f39ee-8fe6-4df0-b922-4e2d9d437045",
   "metadata": {},
   "outputs": [],
   "source": [
    "children_part_alive = children_passengers_alive / children_passengers * 100 # определяем процент выживших детей\n",
    "# в их общем количестве"
   ]
  },
  {
   "cell_type": "code",
   "execution_count": 35,
   "id": "7d06bccb-62d9-4757-974b-435f48382b2c",
   "metadata": {},
   "outputs": [
    {
     "name": "stdout",
     "output_type": "stream",
     "text": [
      "Выжили дети: 61 человек\n",
      "ОТВЕТ - Процент выживших детей в общем количестве детей составил  53.98230088495575 процентов\n"
     ]
    }
   ],
   "source": [
    "print('Выжили дети:', children_passengers_alive, 'человек')\n",
    "print('ОТВЕТ - Процент выживших детей в общем количестве детей составил ', children_part_alive, 'процентов')"
   ]
  },
  {
   "cell_type": "code",
   "execution_count": null,
   "id": "fc9ec501-d1cd-49ad-b5bd-aba3ed55f2b6",
   "metadata": {},
   "outputs": [],
   "source": []
  },
  {
   "cell_type": "code",
   "execution_count": null,
   "id": "d177e787-4d51-430e-a754-02facc2c1475",
   "metadata": {},
   "outputs": [],
   "source": []
  },
  {
   "cell_type": "code",
   "execution_count": 36,
   "id": "eed69427-2cf7-4387-a7c3-28fbe976a5d7",
   "metadata": {},
   "outputs": [],
   "source": [
    "# Определяем корреляцию между возрастом и выживаемостью, между полом и выживаемостью"
   ]
  },
  {
   "cell_type": "code",
   "execution_count": 37,
   "id": "299f4a8c-abe3-4658-82a3-d37107410ec9",
   "metadata": {
    "tags": []
   },
   "outputs": [
    {
     "name": "stdout",
     "output_type": "stream",
     "text": [
      "Корреляция между возрастом и выживаемостью составляет  -0.07722109457217759\n"
     ]
    }
   ],
   "source": [
    "corr_age_survived = titanic.Age.corr(titanic.Survived)    # Корреляция между возрастом (1й аргумент) \n",
    "# и выживаемостью (2ой аргумент)\n",
    "print('Корреляция между возрастом и выживаемостью составляет ', corr_age_survived)"
   ]
  },
  {
   "cell_type": "code",
   "execution_count": 38,
   "id": "1c86253b-00a5-43fe-9387-ad42fd5d5a56",
   "metadata": {},
   "outputs": [
    {
     "name": "stdout",
     "output_type": "stream",
     "text": [
      "Корреляция между полом и выживаемостью составляет  -0.543351380657755 (для мужчин)\n"
     ]
    }
   ],
   "source": [
    "male_female_1 = titanic.Sex == 'male'\n",
    "corr_male_female_1 = male_female_1.corr(titanic.Survived)  # Корреляция между полом и выживаемостю для male\n",
    "print('Корреляция между полом и выживаемостью составляет ', corr_male_female_1, '(для мужчин)')"
   ]
  },
  {
   "cell_type": "code",
   "execution_count": 39,
   "id": "cdda5599-6453-4d49-aafb-27d5514b25cb",
   "metadata": {},
   "outputs": [
    {
     "name": "stdout",
     "output_type": "stream",
     "text": [
      "Корреляция между полом и выживаемостью составляет  0.5433513806577551 (для женщин)\n",
      "Cоответствует по модулю корреляции между полом и выживаемостью для мужчин (отличается только знак)\n"
     ]
    }
   ],
   "source": [
    "male_female_2 = titanic.Sex == 'female'\n",
    "corr_male_female_2 = male_female_2.corr(titanic.Survived)  # Корреляция между полом и выживаемостю для female\n",
    "print('Корреляция между полом и выживаемостью составляет ', corr_male_female_2, '(для женщин)')\n",
    "print('Cоответствует по модулю корреляции между полом и выживаемостью для мужчин (отличается только знак)')"
   ]
  },
  {
   "cell_type": "code",
   "execution_count": null,
   "id": "31a866b6-78b9-41a8-99c8-1427b34236e2",
   "metadata": {},
   "outputs": [],
   "source": []
  },
  {
   "cell_type": "code",
   "execution_count": 40,
   "id": "c797f6e8-c12e-44fa-998c-2203b8a2accf",
   "metadata": {},
   "outputs": [],
   "source": [
    "# 3. Задача Hard\n",
    "# Сделав вывод по данным, написать простейшую модель, которая будет определять по входным данным, выжил ли человек. \n",
    "\n",
    "# Первый вариант модели\n",
    "# Гипотеза для модели исходит из того, что если на борту был мужчина - он скорее всего погиб (т.е. на выходе получаем 0),\n",
    "# а если женщина - скорее всего выжила (т.е. на выходе будем иметь единицу 1)"
   ]
  },
  {
   "cell_type": "code",
   "execution_count": 41,
   "id": "c44d16a4-e157-4c75-83a6-26cdba00185b",
   "metadata": {},
   "outputs": [
    {
     "data": {
      "text/html": [
       "<div>\n",
       "<style scoped>\n",
       "    .dataframe tbody tr th:only-of-type {\n",
       "        vertical-align: middle;\n",
       "    }\n",
       "\n",
       "    .dataframe tbody tr th {\n",
       "        vertical-align: top;\n",
       "    }\n",
       "\n",
       "    .dataframe thead th {\n",
       "        text-align: right;\n",
       "    }\n",
       "</style>\n",
       "<table border=\"1\" class=\"dataframe\">\n",
       "  <thead>\n",
       "    <tr style=\"text-align: right;\">\n",
       "      <th></th>\n",
       "      <th>PassengerId</th>\n",
       "      <th>Pclass</th>\n",
       "      <th>Name</th>\n",
       "      <th>Sex</th>\n",
       "      <th>Age</th>\n",
       "      <th>SibSp</th>\n",
       "      <th>Parch</th>\n",
       "      <th>Ticket</th>\n",
       "      <th>Fare</th>\n",
       "      <th>Cabin</th>\n",
       "      <th>Embarked</th>\n",
       "    </tr>\n",
       "  </thead>\n",
       "  <tbody>\n",
       "    <tr>\n",
       "      <th>0</th>\n",
       "      <td>892</td>\n",
       "      <td>3</td>\n",
       "      <td>Kelly, Mr. James</td>\n",
       "      <td>male</td>\n",
       "      <td>34.5</td>\n",
       "      <td>0</td>\n",
       "      <td>0</td>\n",
       "      <td>330911</td>\n",
       "      <td>7.8292</td>\n",
       "      <td>NaN</td>\n",
       "      <td>Q</td>\n",
       "    </tr>\n",
       "    <tr>\n",
       "      <th>1</th>\n",
       "      <td>893</td>\n",
       "      <td>3</td>\n",
       "      <td>Wilkes, Mrs. James (Ellen Needs)</td>\n",
       "      <td>female</td>\n",
       "      <td>47.0</td>\n",
       "      <td>1</td>\n",
       "      <td>0</td>\n",
       "      <td>363272</td>\n",
       "      <td>7.0000</td>\n",
       "      <td>NaN</td>\n",
       "      <td>S</td>\n",
       "    </tr>\n",
       "    <tr>\n",
       "      <th>2</th>\n",
       "      <td>894</td>\n",
       "      <td>2</td>\n",
       "      <td>Myles, Mr. Thomas Francis</td>\n",
       "      <td>male</td>\n",
       "      <td>62.0</td>\n",
       "      <td>0</td>\n",
       "      <td>0</td>\n",
       "      <td>240276</td>\n",
       "      <td>9.6875</td>\n",
       "      <td>NaN</td>\n",
       "      <td>Q</td>\n",
       "    </tr>\n",
       "    <tr>\n",
       "      <th>3</th>\n",
       "      <td>895</td>\n",
       "      <td>3</td>\n",
       "      <td>Wirz, Mr. Albert</td>\n",
       "      <td>male</td>\n",
       "      <td>27.0</td>\n",
       "      <td>0</td>\n",
       "      <td>0</td>\n",
       "      <td>315154</td>\n",
       "      <td>8.6625</td>\n",
       "      <td>NaN</td>\n",
       "      <td>S</td>\n",
       "    </tr>\n",
       "    <tr>\n",
       "      <th>4</th>\n",
       "      <td>896</td>\n",
       "      <td>3</td>\n",
       "      <td>Hirvonen, Mrs. Alexander (Helga E Lindqvist)</td>\n",
       "      <td>female</td>\n",
       "      <td>22.0</td>\n",
       "      <td>1</td>\n",
       "      <td>1</td>\n",
       "      <td>3101298</td>\n",
       "      <td>12.2875</td>\n",
       "      <td>NaN</td>\n",
       "      <td>S</td>\n",
       "    </tr>\n",
       "  </tbody>\n",
       "</table>\n",
       "</div>"
      ],
      "text/plain": [
       "   PassengerId  Pclass                                          Name     Sex  \\\n",
       "0          892       3                              Kelly, Mr. James    male   \n",
       "1          893       3              Wilkes, Mrs. James (Ellen Needs)  female   \n",
       "2          894       2                     Myles, Mr. Thomas Francis    male   \n",
       "3          895       3                              Wirz, Mr. Albert    male   \n",
       "4          896       3  Hirvonen, Mrs. Alexander (Helga E Lindqvist)  female   \n",
       "\n",
       "    Age  SibSp  Parch   Ticket     Fare Cabin Embarked  \n",
       "0  34.5      0      0   330911   7.8292   NaN        Q  \n",
       "1  47.0      1      0   363272   7.0000   NaN        S  \n",
       "2  62.0      0      0   240276   9.6875   NaN        Q  \n",
       "3  27.0      0      0   315154   8.6625   NaN        S  \n",
       "4  22.0      1      1  3101298  12.2875   NaN        S  "
      ]
     },
     "execution_count": 41,
     "metadata": {},
     "output_type": "execute_result"
    }
   ],
   "source": [
    "titanic_model = pd.read_csv('./data/test.csv')   # читаем файл test.csv в pandas. Данных выжил или нет в этом файле нет,\n",
    "# сохраняем файл в датафрейм titanic_model\n",
    "titanic_model.head() # выводим файл (первые строки, смотрим, корректно ли пришли данные)"
   ]
  },
  {
   "cell_type": "code",
   "execution_count": 42,
   "id": "7678a19f-c35f-4342-bb82-d31eb627b159",
   "metadata": {},
   "outputs": [],
   "source": [
    "def alive(sex):             # Пишем функцию для сопоставления данных по полу с 0 и 1\n",
    "    if sex == 'male':       # То есть если пол мужской - возвращается 0\n",
    "        return 0\n",
    "    else: \n",
    "        return 1            # иначе, если пол женский - возвращается 1"
   ]
  },
  {
   "cell_type": "code",
   "execution_count": 43,
   "id": "8f2a2eaf-6051-45dd-81bb-ea61d5cf733b",
   "metadata": {},
   "outputs": [],
   "source": [
    "# Гипотеза для модели исходит из того, что если на борту был мужчина - он скорее всего погиб (т.е. на выходе получаем 0),\n",
    "# а если женщина - скорее всего выжила (т.е. на выходе будем иметь единицу 1)"
   ]
  },
  {
   "cell_type": "code",
   "execution_count": 44,
   "id": "75157b6b-5cfa-4499-a7d6-5e9278f5ddeb",
   "metadata": {},
   "outputs": [],
   "source": [
    "sex_0_or_1 = titanic_model['Sex'].apply(alive) # формируем серию, для того, чтобы включить ее в колонку Survived (вводимую ниже)\n",
    "# предполагается прямая зависимость между полом и выживаемостью - если мужчина, то погиб (0), если женщина, то выжила (1)"
   ]
  },
  {
   "cell_type": "code",
   "execution_count": 45,
   "id": "d40a49cb-fa4d-4556-af3f-780b9505ce80",
   "metadata": {},
   "outputs": [
    {
     "name": "stdout",
     "output_type": "stream",
     "text": [
      "0      0\n",
      "1      1\n",
      "2      0\n",
      "3      0\n",
      "4      1\n",
      "      ..\n",
      "413    0\n",
      "414    1\n",
      "415    0\n",
      "416    0\n",
      "417    0\n",
      "Name: Sex, Length: 418, dtype: int64\n"
     ]
    }
   ],
   "source": [
    "print(sex_0_or_1)"
   ]
  },
  {
   "cell_type": "code",
   "execution_count": 46,
   "id": "f5bde968-c3fc-4a61-b462-0f871ea7699e",
   "metadata": {},
   "outputs": [],
   "source": [
    "titanic_model['Survived'] = sex_0_or_1   # создаем новую колонку в датафрейме titanic_model и отображаем в ней серию sex_0_or_1"
   ]
  },
  {
   "cell_type": "code",
   "execution_count": 47,
   "id": "bec0451b-46d2-472b-9f7c-b7ade1398862",
   "metadata": {},
   "outputs": [],
   "source": [
    "titanic_model_itog = pd.DataFrame(titanic_model.PassengerId) # создаем новый датафрейм с ID пассажира"
   ]
  },
  {
   "cell_type": "code",
   "execution_count": 48,
   "id": "16fd0c3c-e705-4865-8f1b-03d09cafae04",
   "metadata": {},
   "outputs": [
    {
     "data": {
      "text/html": [
       "<div>\n",
       "<style scoped>\n",
       "    .dataframe tbody tr th:only-of-type {\n",
       "        vertical-align: middle;\n",
       "    }\n",
       "\n",
       "    .dataframe tbody tr th {\n",
       "        vertical-align: top;\n",
       "    }\n",
       "\n",
       "    .dataframe thead th {\n",
       "        text-align: right;\n",
       "    }\n",
       "</style>\n",
       "<table border=\"1\" class=\"dataframe\">\n",
       "  <thead>\n",
       "    <tr style=\"text-align: right;\">\n",
       "      <th></th>\n",
       "      <th>PassengerId</th>\n",
       "    </tr>\n",
       "  </thead>\n",
       "  <tbody>\n",
       "    <tr>\n",
       "      <th>0</th>\n",
       "      <td>892</td>\n",
       "    </tr>\n",
       "    <tr>\n",
       "      <th>1</th>\n",
       "      <td>893</td>\n",
       "    </tr>\n",
       "    <tr>\n",
       "      <th>2</th>\n",
       "      <td>894</td>\n",
       "    </tr>\n",
       "    <tr>\n",
       "      <th>3</th>\n",
       "      <td>895</td>\n",
       "    </tr>\n",
       "    <tr>\n",
       "      <th>4</th>\n",
       "      <td>896</td>\n",
       "    </tr>\n",
       "  </tbody>\n",
       "</table>\n",
       "</div>"
      ],
      "text/plain": [
       "   PassengerId\n",
       "0          892\n",
       "1          893\n",
       "2          894\n",
       "3          895\n",
       "4          896"
      ]
     },
     "execution_count": 48,
     "metadata": {},
     "output_type": "execute_result"
    }
   ],
   "source": [
    "titanic_model_itog.head() # проверяем на всякий случай, как он выглядит"
   ]
  },
  {
   "cell_type": "code",
   "execution_count": 49,
   "id": "75857b49-40fe-4eb8-a62c-7b6ef1d18d6c",
   "metadata": {},
   "outputs": [],
   "source": [
    "titanic_model_itog['Survived'] = titanic_model.Survived # добавляем в итоговый датафрейм модели столбец с выжившими"
   ]
  },
  {
   "cell_type": "code",
   "execution_count": 50,
   "id": "efe7d38a-a8ec-4ca7-bb63-0fb9b9780cc7",
   "metadata": {},
   "outputs": [
    {
     "data": {
      "text/html": [
       "<div>\n",
       "<style scoped>\n",
       "    .dataframe tbody tr th:only-of-type {\n",
       "        vertical-align: middle;\n",
       "    }\n",
       "\n",
       "    .dataframe tbody tr th {\n",
       "        vertical-align: top;\n",
       "    }\n",
       "\n",
       "    .dataframe thead th {\n",
       "        text-align: right;\n",
       "    }\n",
       "</style>\n",
       "<table border=\"1\" class=\"dataframe\">\n",
       "  <thead>\n",
       "    <tr style=\"text-align: right;\">\n",
       "      <th></th>\n",
       "      <th>PassengerId</th>\n",
       "      <th>Survived</th>\n",
       "    </tr>\n",
       "  </thead>\n",
       "  <tbody>\n",
       "    <tr>\n",
       "      <th>0</th>\n",
       "      <td>892</td>\n",
       "      <td>0</td>\n",
       "    </tr>\n",
       "    <tr>\n",
       "      <th>1</th>\n",
       "      <td>893</td>\n",
       "      <td>1</td>\n",
       "    </tr>\n",
       "    <tr>\n",
       "      <th>2</th>\n",
       "      <td>894</td>\n",
       "      <td>0</td>\n",
       "    </tr>\n",
       "    <tr>\n",
       "      <th>3</th>\n",
       "      <td>895</td>\n",
       "      <td>0</td>\n",
       "    </tr>\n",
       "    <tr>\n",
       "      <th>4</th>\n",
       "      <td>896</td>\n",
       "      <td>1</td>\n",
       "    </tr>\n",
       "  </tbody>\n",
       "</table>\n",
       "</div>"
      ],
      "text/plain": [
       "   PassengerId  Survived\n",
       "0          892         0\n",
       "1          893         1\n",
       "2          894         0\n",
       "3          895         0\n",
       "4          896         1"
      ]
     },
     "execution_count": 50,
     "metadata": {},
     "output_type": "execute_result"
    }
   ],
   "source": [
    "titanic_model_itog.head() # смотрим на всякий случай, как он выглядит - получаются 2 колонки с PassengerID и Survived,\n",
    "# не считая колонки с индексом"
   ]
  },
  {
   "cell_type": "code",
   "execution_count": 51,
   "id": "b35312a2-cda4-4f2c-87e2-6648f1cb65e4",
   "metadata": {},
   "outputs": [],
   "source": [
    "titanic_model_itog.to_csv('./data/model_itog.csv', index = False)  # сохраняем сформированный датафрейм \n",
    "# в файл csv модели model_itog,\n",
    "# без индекса (поэтому пишем index = False). Файл сохранен в папке data"
   ]
  },
  {
   "cell_type": "code",
   "execution_count": 52,
   "id": "ea0cd92f-8771-418d-8765-2dc2f9520b00",
   "metadata": {},
   "outputs": [],
   "source": [
    "# На www.kaggle.com файл размещен, точность предсказания 0,7655"
   ]
  },
  {
   "cell_type": "code",
   "execution_count": null,
   "id": "e43f7ec5-c958-45ab-a65e-a3923526f40f",
   "metadata": {},
   "outputs": [],
   "source": []
  },
  {
   "cell_type": "code",
   "execution_count": 53,
   "id": "4d85b29b-a8fb-4979-9c71-0607140a2788",
   "metadata": {},
   "outputs": [],
   "source": [
    "# Второй вариант модели Hard\n",
    "# Гипотеза для модели исходит из того, что если пассажир был в 1 классе - он скорее всего выжил (т.е. на выходе получаем 1),\n",
    "# а если в 2-3 - скорее всего погиб (т.е. на выходе будем иметь единицу 0)"
   ]
  },
  {
   "cell_type": "code",
   "execution_count": 54,
   "id": "c4c5a3b8-5cb9-40e8-9583-8c535d81cbbc",
   "metadata": {},
   "outputs": [
    {
     "data": {
      "text/html": [
       "<div>\n",
       "<style scoped>\n",
       "    .dataframe tbody tr th:only-of-type {\n",
       "        vertical-align: middle;\n",
       "    }\n",
       "\n",
       "    .dataframe tbody tr th {\n",
       "        vertical-align: top;\n",
       "    }\n",
       "\n",
       "    .dataframe thead th {\n",
       "        text-align: right;\n",
       "    }\n",
       "</style>\n",
       "<table border=\"1\" class=\"dataframe\">\n",
       "  <thead>\n",
       "    <tr style=\"text-align: right;\">\n",
       "      <th></th>\n",
       "      <th>PassengerId</th>\n",
       "      <th>Pclass</th>\n",
       "      <th>Name</th>\n",
       "      <th>Sex</th>\n",
       "      <th>Age</th>\n",
       "      <th>SibSp</th>\n",
       "      <th>Parch</th>\n",
       "      <th>Ticket</th>\n",
       "      <th>Fare</th>\n",
       "      <th>Cabin</th>\n",
       "      <th>Embarked</th>\n",
       "    </tr>\n",
       "  </thead>\n",
       "  <tbody>\n",
       "    <tr>\n",
       "      <th>0</th>\n",
       "      <td>892</td>\n",
       "      <td>3</td>\n",
       "      <td>Kelly, Mr. James</td>\n",
       "      <td>male</td>\n",
       "      <td>34.5</td>\n",
       "      <td>0</td>\n",
       "      <td>0</td>\n",
       "      <td>330911</td>\n",
       "      <td>7.8292</td>\n",
       "      <td>NaN</td>\n",
       "      <td>Q</td>\n",
       "    </tr>\n",
       "    <tr>\n",
       "      <th>1</th>\n",
       "      <td>893</td>\n",
       "      <td>3</td>\n",
       "      <td>Wilkes, Mrs. James (Ellen Needs)</td>\n",
       "      <td>female</td>\n",
       "      <td>47.0</td>\n",
       "      <td>1</td>\n",
       "      <td>0</td>\n",
       "      <td>363272</td>\n",
       "      <td>7.0000</td>\n",
       "      <td>NaN</td>\n",
       "      <td>S</td>\n",
       "    </tr>\n",
       "    <tr>\n",
       "      <th>2</th>\n",
       "      <td>894</td>\n",
       "      <td>2</td>\n",
       "      <td>Myles, Mr. Thomas Francis</td>\n",
       "      <td>male</td>\n",
       "      <td>62.0</td>\n",
       "      <td>0</td>\n",
       "      <td>0</td>\n",
       "      <td>240276</td>\n",
       "      <td>9.6875</td>\n",
       "      <td>NaN</td>\n",
       "      <td>Q</td>\n",
       "    </tr>\n",
       "    <tr>\n",
       "      <th>3</th>\n",
       "      <td>895</td>\n",
       "      <td>3</td>\n",
       "      <td>Wirz, Mr. Albert</td>\n",
       "      <td>male</td>\n",
       "      <td>27.0</td>\n",
       "      <td>0</td>\n",
       "      <td>0</td>\n",
       "      <td>315154</td>\n",
       "      <td>8.6625</td>\n",
       "      <td>NaN</td>\n",
       "      <td>S</td>\n",
       "    </tr>\n",
       "    <tr>\n",
       "      <th>4</th>\n",
       "      <td>896</td>\n",
       "      <td>3</td>\n",
       "      <td>Hirvonen, Mrs. Alexander (Helga E Lindqvist)</td>\n",
       "      <td>female</td>\n",
       "      <td>22.0</td>\n",
       "      <td>1</td>\n",
       "      <td>1</td>\n",
       "      <td>3101298</td>\n",
       "      <td>12.2875</td>\n",
       "      <td>NaN</td>\n",
       "      <td>S</td>\n",
       "    </tr>\n",
       "  </tbody>\n",
       "</table>\n",
       "</div>"
      ],
      "text/plain": [
       "   PassengerId  Pclass                                          Name     Sex  \\\n",
       "0          892       3                              Kelly, Mr. James    male   \n",
       "1          893       3              Wilkes, Mrs. James (Ellen Needs)  female   \n",
       "2          894       2                     Myles, Mr. Thomas Francis    male   \n",
       "3          895       3                              Wirz, Mr. Albert    male   \n",
       "4          896       3  Hirvonen, Mrs. Alexander (Helga E Lindqvist)  female   \n",
       "\n",
       "    Age  SibSp  Parch   Ticket     Fare Cabin Embarked  \n",
       "0  34.5      0      0   330911   7.8292   NaN        Q  \n",
       "1  47.0      1      0   363272   7.0000   NaN        S  \n",
       "2  62.0      0      0   240276   9.6875   NaN        Q  \n",
       "3  27.0      0      0   315154   8.6625   NaN        S  \n",
       "4  22.0      1      1  3101298  12.2875   NaN        S  "
      ]
     },
     "execution_count": 54,
     "metadata": {},
     "output_type": "execute_result"
    }
   ],
   "source": [
    "titanic_model_2 = pd.read_csv('./data/test.csv')   # Для второго варианта модели читаем файл test.csv в pandas. \n",
    "# сохраняем файл в датафрейм titanic_model_2\n",
    "titanic_model_2.head() # выводим файл (первые строки, смотрим, корректно ли пришли данные)"
   ]
  },
  {
   "cell_type": "code",
   "execution_count": null,
   "id": "7cd998d5-8a3b-47b1-9bee-c54673eefa79",
   "metadata": {},
   "outputs": [],
   "source": []
  },
  {
   "cell_type": "code",
   "execution_count": 55,
   "id": "8e71fe92-ac4a-44a7-acc2-34cdc1d18566",
   "metadata": {},
   "outputs": [],
   "source": [
    "def alive_class(Pclass):             # Пишем функцию alive_class для сопоставления данных c классом с 0 и 1\n",
    "    if Pclass == 1:       # То есть если класс каюты 1 - возвращается 1, человек выжил\n",
    "        return 1\n",
    "    else: \n",
    "        return 0            # иначе возвращается 0, - человек погиб"
   ]
  },
  {
   "cell_type": "code",
   "execution_count": null,
   "id": "516715bb-d9d9-46ca-a5ed-d65a0ebe651f",
   "metadata": {},
   "outputs": [],
   "source": []
  },
  {
   "cell_type": "code",
   "execution_count": 56,
   "id": "1a04f939-4ff1-4914-8277-aa3c11ae9201",
   "metadata": {},
   "outputs": [],
   "source": [
    "seclass = titanic_model_2['Pclass'].apply(alive_class) # формируем серию, для того, чтобы включить ее в колонку Survived \n",
    "# (вводимую ниже)\n",
    "# предполагается прямая зависимость между классом и выживаемостью - если класс 1 - то выжил (1), если 2-3, то нет (0)"
   ]
  },
  {
   "cell_type": "code",
   "execution_count": 57,
   "id": "1b75536e-eb6b-4295-9acb-fa3e99406485",
   "metadata": {},
   "outputs": [],
   "source": [
    "titanic_model_2['Survived'] = seclass   # создаем новую колонку в датафрейме titanic_model_2 и отображаем в ней серию seclass"
   ]
  },
  {
   "cell_type": "code",
   "execution_count": 58,
   "id": "93dae1c5-50e8-4452-bf85-223c3368de77",
   "metadata": {},
   "outputs": [],
   "source": [
    "titanic_model_itog_2 = pd.DataFrame(titanic_model_2.PassengerId) # создаем новый датафрейм с ID пассажира"
   ]
  },
  {
   "cell_type": "code",
   "execution_count": 59,
   "id": "6cc09dd1-c6ef-406f-bc3e-c4cfbe6e7e79",
   "metadata": {},
   "outputs": [
    {
     "data": {
      "text/html": [
       "<div>\n",
       "<style scoped>\n",
       "    .dataframe tbody tr th:only-of-type {\n",
       "        vertical-align: middle;\n",
       "    }\n",
       "\n",
       "    .dataframe tbody tr th {\n",
       "        vertical-align: top;\n",
       "    }\n",
       "\n",
       "    .dataframe thead th {\n",
       "        text-align: right;\n",
       "    }\n",
       "</style>\n",
       "<table border=\"1\" class=\"dataframe\">\n",
       "  <thead>\n",
       "    <tr style=\"text-align: right;\">\n",
       "      <th></th>\n",
       "      <th>PassengerId</th>\n",
       "    </tr>\n",
       "  </thead>\n",
       "  <tbody>\n",
       "    <tr>\n",
       "      <th>0</th>\n",
       "      <td>892</td>\n",
       "    </tr>\n",
       "    <tr>\n",
       "      <th>1</th>\n",
       "      <td>893</td>\n",
       "    </tr>\n",
       "    <tr>\n",
       "      <th>2</th>\n",
       "      <td>894</td>\n",
       "    </tr>\n",
       "    <tr>\n",
       "      <th>3</th>\n",
       "      <td>895</td>\n",
       "    </tr>\n",
       "    <tr>\n",
       "      <th>4</th>\n",
       "      <td>896</td>\n",
       "    </tr>\n",
       "  </tbody>\n",
       "</table>\n",
       "</div>"
      ],
      "text/plain": [
       "   PassengerId\n",
       "0          892\n",
       "1          893\n",
       "2          894\n",
       "3          895\n",
       "4          896"
      ]
     },
     "execution_count": 59,
     "metadata": {},
     "output_type": "execute_result"
    }
   ],
   "source": [
    "titanic_model_itog_2.head() # проверяем на всякий случай, как он выглядит"
   ]
  },
  {
   "cell_type": "code",
   "execution_count": 60,
   "id": "5c605cc6-c776-4a6a-833f-5c69cd1ef481",
   "metadata": {},
   "outputs": [],
   "source": [
    "titanic_model_itog_2['Survived'] = titanic_model_2.Survived # добавляем в итоговый датафрейм модели столбец с выжившими"
   ]
  },
  {
   "cell_type": "code",
   "execution_count": 61,
   "id": "3ca79043-ffc7-4324-a9d9-57c0f44351ad",
   "metadata": {},
   "outputs": [
    {
     "data": {
      "text/html": [
       "<div>\n",
       "<style scoped>\n",
       "    .dataframe tbody tr th:only-of-type {\n",
       "        vertical-align: middle;\n",
       "    }\n",
       "\n",
       "    .dataframe tbody tr th {\n",
       "        vertical-align: top;\n",
       "    }\n",
       "\n",
       "    .dataframe thead th {\n",
       "        text-align: right;\n",
       "    }\n",
       "</style>\n",
       "<table border=\"1\" class=\"dataframe\">\n",
       "  <thead>\n",
       "    <tr style=\"text-align: right;\">\n",
       "      <th></th>\n",
       "      <th>PassengerId</th>\n",
       "      <th>Survived</th>\n",
       "    </tr>\n",
       "  </thead>\n",
       "  <tbody>\n",
       "    <tr>\n",
       "      <th>0</th>\n",
       "      <td>892</td>\n",
       "      <td>0</td>\n",
       "    </tr>\n",
       "    <tr>\n",
       "      <th>1</th>\n",
       "      <td>893</td>\n",
       "      <td>0</td>\n",
       "    </tr>\n",
       "    <tr>\n",
       "      <th>2</th>\n",
       "      <td>894</td>\n",
       "      <td>0</td>\n",
       "    </tr>\n",
       "    <tr>\n",
       "      <th>3</th>\n",
       "      <td>895</td>\n",
       "      <td>0</td>\n",
       "    </tr>\n",
       "    <tr>\n",
       "      <th>4</th>\n",
       "      <td>896</td>\n",
       "      <td>0</td>\n",
       "    </tr>\n",
       "  </tbody>\n",
       "</table>\n",
       "</div>"
      ],
      "text/plain": [
       "   PassengerId  Survived\n",
       "0          892         0\n",
       "1          893         0\n",
       "2          894         0\n",
       "3          895         0\n",
       "4          896         0"
      ]
     },
     "execution_count": 61,
     "metadata": {},
     "output_type": "execute_result"
    }
   ],
   "source": [
    "titanic_model_itog_2.head() # смотрим на всякий случай, как он выглядит - получаются 2 колонки с PassengerID и Survived,\n",
    "# не считая колонки с индексом"
   ]
  },
  {
   "cell_type": "code",
   "execution_count": 62,
   "id": "24b5cf8e-9053-40ed-80a5-ed6d5226a597",
   "metadata": {},
   "outputs": [],
   "source": [
    "titanic_model_itog_2.to_csv('./data/model_itog_var2.csv', index = False)  # сохраняем сформированный датафрейм \n",
    "# в файл csv модели model_itog_2 (второй вариант модели),\n",
    "# без индекса (поэтому пишем index = False). Файл сохранен в папке data"
   ]
  },
  {
   "cell_type": "code",
   "execution_count": 63,
   "id": "63545d6f-7e01-4d53-9715-cdb1d1996ca5",
   "metadata": {},
   "outputs": [],
   "source": [
    "# На www.kaggle.com файл размещен, точность предсказания 0,67224 (т.е. хуже, чем в варианте 1 модели)"
   ]
  },
  {
   "cell_type": "code",
   "execution_count": null,
   "id": "c56306e5-9acd-4091-9ff4-7196ebd01d66",
   "metadata": {},
   "outputs": [],
   "source": []
  },
  {
   "cell_type": "code",
   "execution_count": null,
   "id": "0003cb38-68d8-4105-a5c0-16425aad4856",
   "metadata": {},
   "outputs": [],
   "source": []
  },
  {
   "cell_type": "code",
   "execution_count": null,
   "id": "202fef1b-9fcf-4e81-af63-c2ee23e51b2e",
   "metadata": {},
   "outputs": [],
   "source": []
  }
 ],
 "metadata": {
  "kernelspec": {
   "display_name": "Python 3 (ipykernel)",
   "language": "python",
   "name": "python3"
  },
  "language_info": {
   "codemirror_mode": {
    "name": "ipython",
    "version": 3
   },
   "file_extension": ".py",
   "mimetype": "text/x-python",
   "name": "python",
   "nbconvert_exporter": "python",
   "pygments_lexer": "ipython3",
   "version": "3.9.7"
  }
 },
 "nbformat": 4,
 "nbformat_minor": 5
}

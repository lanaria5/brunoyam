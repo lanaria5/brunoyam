{
 "cells": [
  {
   "cell_type": "markdown",
   "id": "af99802b-4096-4e4a-ac08-20276e6f7aa8",
   "metadata": {},
   "source": [
    "# Домашняя работа к уроку 3 \"Базы данных\"\n",
    "Нужно придумать небольшую базу данных и написать к ней запросы.\n",
    "В базе должно быть минимум 4 таблицы и хотя бы две связи вида one-to-many или many-to-many. \n",
    "Можно решить как при помощи pandas, так и при помощи SQL.\n",
    "Запросы должны быть осмысленными и должны решать какую-то задачу.\n",
    "\n",
    "## Easy\n",
    "Выгрузить данные и отфильтровать их по какому-то значению.\n",
    "Пример запроса с БД, приведенной выше: вывести учителей старше 30 лет.\n",
    "\n",
    "## Normal\n",
    "Написать запрос на объединение двух или более таблиц, также в запросе должна быть фильтрация\n",
    "Пример запроса с БД, приведенной выше: найти имя учителя моложе 30 лет, который ведет математику\n",
    "\n",
    "## Hard\n",
    "Написать запрос, который посчитает какую-то сложную аналитику по БД, используя как можно больше таблиц. \n",
    "Построить графики и сделать выводы.\n",
    "Пример запроса с БД, приведеной выше: задание 5."
   ]
  },
  {
   "cell_type": "markdown",
   "id": "63e0d3e7-74ed-41f8-a209-81e9bf7568c9",
   "metadata": {},
   "source": [
    "ОТВЕТ НА ДЗ\n",
    "\n",
    "## Описание базы\n",
    "Описание: Придумываем небольшую базу. Пусть это будет фирма Березка, у которой 5 офисов, расположенных в разных городах, в каждом из которых трудятся работники - минимум один.\n",
    "Причем каждый офис оказывает какие-то услуги и в каждом офисе кто-то работает.\n",
    "Один офис может оказывать несколько услуг и в каждом офисе может работать один или несколько работников.\n",
    "Один работник может работать только в одном офисе. Каждая услуга может оказываться в каких-то нескольких офисах (в одном или нескольких). Также имеются сведения, что работники были награждены - имеются данные о премировании по работникам в ведомости по премиям."
   ]
  },
  {
   "cell_type": "code",
   "execution_count": 1,
   "id": "2b1a2cbb-8dd6-4955-bfd9-35c333900b16",
   "metadata": {},
   "outputs": [],
   "source": [
    "import pandas as pd\n",
    "import sqlite3"
   ]
  },
  {
   "cell_type": "code",
   "execution_count": 2,
   "id": "447ab67a-d7d3-42b5-a4a6-1e64ac6e5104",
   "metadata": {},
   "outputs": [],
   "source": [
    "sql = sqlite3.connect('data/JSC_Berezka.db')"
   ]
  },
  {
   "cell_type": "markdown",
   "id": "6cfef829-fd4e-474d-817c-594cc2f3f19a",
   "metadata": {},
   "source": [
    "Формируем таблицу с несколькими офисами фирмы, в которых она осуществляет свою деятельность, их названиями и расположением"
   ]
  },
  {
   "cell_type": "code",
   "execution_count": 3,
   "id": "30e3a781-ea33-4e55-aed4-6c1013d9a377",
   "metadata": {
    "tags": []
   },
   "outputs": [
    {
     "data": {
      "text/html": [
       "<div>\n",
       "<style scoped>\n",
       "    .dataframe tbody tr th:only-of-type {\n",
       "        vertical-align: middle;\n",
       "    }\n",
       "\n",
       "    .dataframe tbody tr th {\n",
       "        vertical-align: top;\n",
       "    }\n",
       "\n",
       "    .dataframe thead th {\n",
       "        text-align: right;\n",
       "    }\n",
       "</style>\n",
       "<table border=\"1\" class=\"dataframe\">\n",
       "  <thead>\n",
       "    <tr style=\"text-align: right;\">\n",
       "      <th></th>\n",
       "      <th>office</th>\n",
       "      <th>location</th>\n",
       "    </tr>\n",
       "  </thead>\n",
       "  <tbody>\n",
       "    <tr>\n",
       "      <th>0</th>\n",
       "      <td>office-North</td>\n",
       "      <td>Murmansk</td>\n",
       "    </tr>\n",
       "    <tr>\n",
       "      <th>1</th>\n",
       "      <td>office-South</td>\n",
       "      <td>Krasnodar</td>\n",
       "    </tr>\n",
       "    <tr>\n",
       "      <th>2</th>\n",
       "      <td>office-East</td>\n",
       "      <td>Moscow</td>\n",
       "    </tr>\n",
       "    <tr>\n",
       "      <th>3</th>\n",
       "      <td>office-West</td>\n",
       "      <td>Kaliningrad</td>\n",
       "    </tr>\n",
       "    <tr>\n",
       "      <th>4</th>\n",
       "      <td>office-Central</td>\n",
       "      <td>Moscow</td>\n",
       "    </tr>\n",
       "  </tbody>\n",
       "</table>\n",
       "</div>"
      ],
      "text/plain": [
       "           office     location\n",
       "0    office-North     Murmansk\n",
       "1    office-South    Krasnodar\n",
       "2     office-East       Moscow\n",
       "3     office-West  Kaliningrad\n",
       "4  office-Central       Moscow"
      ]
     },
     "execution_count": 3,
     "metadata": {},
     "output_type": "execute_result"
    }
   ],
   "source": [
    "offices = [\"office-North\", \"office-South\", \"office-East\", \"office-West\", \"office-Central\"]\n",
    "location = [\"Murmansk\", \"Krasnodar\", \"Moscow\", \"Kaliningrad\", \"Moscow\"]\n",
    "offices_df = pd.DataFrame({'office': offices, 'location': location})\n",
    "offices_df"
   ]
  },
  {
   "cell_type": "markdown",
   "id": "536a0e2b-6a6b-4e42-9d5a-92094db5acd1",
   "metadata": {},
   "source": [
    "Сохраняем эту таблицу в датафрейм, sql, проверяем, что все корректно (через проверочный запрос pd.read_sql):"
   ]
  },
  {
   "cell_type": "code",
   "execution_count": 4,
   "id": "cb11695e-1881-404d-b5a5-3c2105963e44",
   "metadata": {},
   "outputs": [
    {
     "data": {
      "text/html": [
       "<div>\n",
       "<style scoped>\n",
       "    .dataframe tbody tr th:only-of-type {\n",
       "        vertical-align: middle;\n",
       "    }\n",
       "\n",
       "    .dataframe tbody tr th {\n",
       "        vertical-align: top;\n",
       "    }\n",
       "\n",
       "    .dataframe thead th {\n",
       "        text-align: right;\n",
       "    }\n",
       "</style>\n",
       "<table border=\"1\" class=\"dataframe\">\n",
       "  <thead>\n",
       "    <tr style=\"text-align: right;\">\n",
       "      <th></th>\n",
       "      <th>id</th>\n",
       "      <th>office</th>\n",
       "      <th>location</th>\n",
       "    </tr>\n",
       "  </thead>\n",
       "  <tbody>\n",
       "    <tr>\n",
       "      <th>0</th>\n",
       "      <td>0</td>\n",
       "      <td>office-North</td>\n",
       "      <td>Murmansk</td>\n",
       "    </tr>\n",
       "    <tr>\n",
       "      <th>1</th>\n",
       "      <td>1</td>\n",
       "      <td>office-South</td>\n",
       "      <td>Krasnodar</td>\n",
       "    </tr>\n",
       "    <tr>\n",
       "      <th>2</th>\n",
       "      <td>2</td>\n",
       "      <td>office-East</td>\n",
       "      <td>Moscow</td>\n",
       "    </tr>\n",
       "    <tr>\n",
       "      <th>3</th>\n",
       "      <td>3</td>\n",
       "      <td>office-West</td>\n",
       "      <td>Kaliningrad</td>\n",
       "    </tr>\n",
       "    <tr>\n",
       "      <th>4</th>\n",
       "      <td>4</td>\n",
       "      <td>office-Central</td>\n",
       "      <td>Moscow</td>\n",
       "    </tr>\n",
       "  </tbody>\n",
       "</table>\n",
       "</div>"
      ],
      "text/plain": [
       "   id          office     location\n",
       "0   0    office-North     Murmansk\n",
       "1   1    office-South    Krasnodar\n",
       "2   2     office-East       Moscow\n",
       "3   3     office-West  Kaliningrad\n",
       "4   4  office-Central       Moscow"
      ]
     },
     "execution_count": 4,
     "metadata": {},
     "output_type": "execute_result"
    }
   ],
   "source": [
    "offices_df.to_sql('offices', sql, index_label=\"id\", if_exists=\"replace\")\n",
    "pd.read_sql(\"SELECT * FROM offices\", sql)"
   ]
  },
  {
   "cell_type": "markdown",
   "id": "20104263-ac30-4349-b413-abc9f5fa84c9",
   "metadata": {},
   "source": [
    "Формируем таблицу с работниками фирмы и описанием каждого работника. Сохраняем таблицу в датафрейм, sql"
   ]
  },
  {
   "cell_type": "code",
   "execution_count": 5,
   "id": "8b815607-48df-40d1-b109-5cf3e0acd8e3",
   "metadata": {},
   "outputs": [
    {
     "data": {
      "text/html": [
       "<div>\n",
       "<style scoped>\n",
       "    .dataframe tbody tr th:only-of-type {\n",
       "        vertical-align: middle;\n",
       "    }\n",
       "\n",
       "    .dataframe tbody tr th {\n",
       "        vertical-align: top;\n",
       "    }\n",
       "\n",
       "    .dataframe thead th {\n",
       "        text-align: right;\n",
       "    }\n",
       "</style>\n",
       "<table border=\"1\" class=\"dataframe\">\n",
       "  <thead>\n",
       "    <tr style=\"text-align: right;\">\n",
       "      <th></th>\n",
       "      <th>name</th>\n",
       "      <th>age</th>\n",
       "      <th>sex</th>\n",
       "      <th>position</th>\n",
       "      <th>salary</th>\n",
       "      <th>education</th>\n",
       "      <th>office_id</th>\n",
       "    </tr>\n",
       "  </thead>\n",
       "  <tbody>\n",
       "    <tr>\n",
       "      <th>0</th>\n",
       "      <td>Anna</td>\n",
       "      <td>25</td>\n",
       "      <td>female</td>\n",
       "      <td>junior_manager</td>\n",
       "      <td>50000</td>\n",
       "      <td>data_science</td>\n",
       "      <td>1</td>\n",
       "    </tr>\n",
       "    <tr>\n",
       "      <th>1</th>\n",
       "      <td>Alex</td>\n",
       "      <td>26</td>\n",
       "      <td>male</td>\n",
       "      <td>junior_manager</td>\n",
       "      <td>58000</td>\n",
       "      <td>economics</td>\n",
       "      <td>0</td>\n",
       "    </tr>\n",
       "    <tr>\n",
       "      <th>2</th>\n",
       "      <td>Catherine</td>\n",
       "      <td>35</td>\n",
       "      <td>female</td>\n",
       "      <td>senior_manager</td>\n",
       "      <td>45000</td>\n",
       "      <td>IT</td>\n",
       "      <td>2</td>\n",
       "    </tr>\n",
       "    <tr>\n",
       "      <th>3</th>\n",
       "      <td>Mary</td>\n",
       "      <td>34</td>\n",
       "      <td>female</td>\n",
       "      <td>director</td>\n",
       "      <td>120000</td>\n",
       "      <td>economics</td>\n",
       "      <td>4</td>\n",
       "    </tr>\n",
       "    <tr>\n",
       "      <th>4</th>\n",
       "      <td>Tina</td>\n",
       "      <td>28</td>\n",
       "      <td>female</td>\n",
       "      <td>assistant</td>\n",
       "      <td>25000</td>\n",
       "      <td>economics</td>\n",
       "      <td>3</td>\n",
       "    </tr>\n",
       "    <tr>\n",
       "      <th>5</th>\n",
       "      <td>Valeria</td>\n",
       "      <td>40</td>\n",
       "      <td>female</td>\n",
       "      <td>senior_manager</td>\n",
       "      <td>68000</td>\n",
       "      <td>PR</td>\n",
       "      <td>4</td>\n",
       "    </tr>\n",
       "    <tr>\n",
       "      <th>6</th>\n",
       "      <td>Viktor</td>\n",
       "      <td>33</td>\n",
       "      <td>male</td>\n",
       "      <td>assistant</td>\n",
       "      <td>35000</td>\n",
       "      <td>IT</td>\n",
       "      <td>3</td>\n",
       "    </tr>\n",
       "    <tr>\n",
       "      <th>7</th>\n",
       "      <td>Peter</td>\n",
       "      <td>52</td>\n",
       "      <td>male</td>\n",
       "      <td>senior_manager</td>\n",
       "      <td>49000</td>\n",
       "      <td>PR</td>\n",
       "      <td>3</td>\n",
       "    </tr>\n",
       "  </tbody>\n",
       "</table>\n",
       "</div>"
      ],
      "text/plain": [
       "        name  age     sex        position  salary     education  office_id\n",
       "0       Anna   25  female  junior_manager   50000  data_science          1\n",
       "1       Alex   26    male  junior_manager   58000     economics          0\n",
       "2  Catherine   35  female  senior_manager   45000            IT          2\n",
       "3       Mary   34  female        director  120000     economics          4\n",
       "4       Tina   28  female       assistant   25000     economics          3\n",
       "5    Valeria   40  female  senior_manager   68000            PR          4\n",
       "6     Viktor   33    male       assistant   35000            IT          3\n",
       "7      Peter   52    male  senior_manager   49000            PR          3"
      ]
     },
     "execution_count": 5,
     "metadata": {},
     "output_type": "execute_result"
    }
   ],
   "source": [
    "names = [\"Anna\", \"Alex\", \"Catherine\", \"Mary\", \"Tina\", \"Valeria\", \"Viktor\", \"Peter\"]\n",
    "age = [25, 26, 35, 34, 28, 40, 33, 52]\n",
    "sex = [\"female\",\"male\",\"female\",\"female\",\"female\",\"female\",\"male\", \"male\"]\n",
    "position = [\"junior_manager\", \"junior_manager\", \"senior_manager\", \"director\", \"assistant\", \n",
    "            \"senior_manager\", \"assistant\", \"senior_manager\"]    # должность\n",
    "salary = [50000, 58000, 45000, 120000, 25000, 68000, 35000, 49000]    # в этой базе salary - оклад, а не зарплата'\n",
    "education = [\"data_science\", \"economics\", \"IT\", \"economics\", \"economics\", \"PR\", \"IT\", \"PR\"]\n",
    "office_id = [1, 0, 2, 4, 3, 4, 3, 3]   # офис работы каждого сотрудника\n",
    "workers_df = pd.DataFrame({'name': names, 'age': age, 'sex': sex, 'position': position, \n",
    "                           'salary': salary, 'education': education,\n",
    "                           'office_id':office_id})\n",
    "workers_df"
   ]
  },
  {
   "cell_type": "markdown",
   "id": "d172bf7f-5860-4fd9-8005-9529feab2620",
   "metadata": {},
   "source": [
    "Сохраняем таблицу в датафрейм, проверяем корректность:"
   ]
  },
  {
   "cell_type": "code",
   "execution_count": 6,
   "id": "ceae0630-d669-4bd4-b02b-cf18ca5addd4",
   "metadata": {},
   "outputs": [
    {
     "data": {
      "text/html": [
       "<div>\n",
       "<style scoped>\n",
       "    .dataframe tbody tr th:only-of-type {\n",
       "        vertical-align: middle;\n",
       "    }\n",
       "\n",
       "    .dataframe tbody tr th {\n",
       "        vertical-align: top;\n",
       "    }\n",
       "\n",
       "    .dataframe thead th {\n",
       "        text-align: right;\n",
       "    }\n",
       "</style>\n",
       "<table border=\"1\" class=\"dataframe\">\n",
       "  <thead>\n",
       "    <tr style=\"text-align: right;\">\n",
       "      <th></th>\n",
       "      <th>id</th>\n",
       "      <th>name</th>\n",
       "      <th>age</th>\n",
       "      <th>sex</th>\n",
       "      <th>position</th>\n",
       "      <th>salary</th>\n",
       "      <th>education</th>\n",
       "      <th>office_id</th>\n",
       "    </tr>\n",
       "  </thead>\n",
       "  <tbody>\n",
       "    <tr>\n",
       "      <th>0</th>\n",
       "      <td>0</td>\n",
       "      <td>Anna</td>\n",
       "      <td>25</td>\n",
       "      <td>female</td>\n",
       "      <td>junior_manager</td>\n",
       "      <td>50000</td>\n",
       "      <td>data_science</td>\n",
       "      <td>1</td>\n",
       "    </tr>\n",
       "    <tr>\n",
       "      <th>1</th>\n",
       "      <td>1</td>\n",
       "      <td>Alex</td>\n",
       "      <td>26</td>\n",
       "      <td>male</td>\n",
       "      <td>junior_manager</td>\n",
       "      <td>58000</td>\n",
       "      <td>economics</td>\n",
       "      <td>0</td>\n",
       "    </tr>\n",
       "    <tr>\n",
       "      <th>2</th>\n",
       "      <td>2</td>\n",
       "      <td>Catherine</td>\n",
       "      <td>35</td>\n",
       "      <td>female</td>\n",
       "      <td>senior_manager</td>\n",
       "      <td>45000</td>\n",
       "      <td>IT</td>\n",
       "      <td>2</td>\n",
       "    </tr>\n",
       "    <tr>\n",
       "      <th>3</th>\n",
       "      <td>3</td>\n",
       "      <td>Mary</td>\n",
       "      <td>34</td>\n",
       "      <td>female</td>\n",
       "      <td>director</td>\n",
       "      <td>120000</td>\n",
       "      <td>economics</td>\n",
       "      <td>4</td>\n",
       "    </tr>\n",
       "    <tr>\n",
       "      <th>4</th>\n",
       "      <td>4</td>\n",
       "      <td>Tina</td>\n",
       "      <td>28</td>\n",
       "      <td>female</td>\n",
       "      <td>assistant</td>\n",
       "      <td>25000</td>\n",
       "      <td>economics</td>\n",
       "      <td>3</td>\n",
       "    </tr>\n",
       "    <tr>\n",
       "      <th>5</th>\n",
       "      <td>5</td>\n",
       "      <td>Valeria</td>\n",
       "      <td>40</td>\n",
       "      <td>female</td>\n",
       "      <td>senior_manager</td>\n",
       "      <td>68000</td>\n",
       "      <td>PR</td>\n",
       "      <td>4</td>\n",
       "    </tr>\n",
       "    <tr>\n",
       "      <th>6</th>\n",
       "      <td>6</td>\n",
       "      <td>Viktor</td>\n",
       "      <td>33</td>\n",
       "      <td>male</td>\n",
       "      <td>assistant</td>\n",
       "      <td>35000</td>\n",
       "      <td>IT</td>\n",
       "      <td>3</td>\n",
       "    </tr>\n",
       "    <tr>\n",
       "      <th>7</th>\n",
       "      <td>7</td>\n",
       "      <td>Peter</td>\n",
       "      <td>52</td>\n",
       "      <td>male</td>\n",
       "      <td>senior_manager</td>\n",
       "      <td>49000</td>\n",
       "      <td>PR</td>\n",
       "      <td>3</td>\n",
       "    </tr>\n",
       "  </tbody>\n",
       "</table>\n",
       "</div>"
      ],
      "text/plain": [
       "   id       name  age     sex        position  salary     education  office_id\n",
       "0   0       Anna   25  female  junior_manager   50000  data_science          1\n",
       "1   1       Alex   26    male  junior_manager   58000     economics          0\n",
       "2   2  Catherine   35  female  senior_manager   45000            IT          2\n",
       "3   3       Mary   34  female        director  120000     economics          4\n",
       "4   4       Tina   28  female       assistant   25000     economics          3\n",
       "5   5    Valeria   40  female  senior_manager   68000            PR          4\n",
       "6   6     Viktor   33    male       assistant   35000            IT          3\n",
       "7   7      Peter   52    male  senior_manager   49000            PR          3"
      ]
     },
     "execution_count": 6,
     "metadata": {},
     "output_type": "execute_result"
    }
   ],
   "source": [
    "workers_df.to_sql('workers', sql, index_label=\"id\", if_exists=\"replace\")\n",
    "pd.read_sql(\"SELECT * FROM workers\", sql)"
   ]
  },
  {
   "cell_type": "markdown",
   "id": "eb61f0a0-b07a-4b8d-84ca-1b223c369f2a",
   "metadata": {},
   "source": [
    "Формируем таблицу с оказываемыми фирмой в целом услугами и ценой каждой единицы услуги, сохраняем в таблицу"
   ]
  },
  {
   "cell_type": "code",
   "execution_count": 7,
   "id": "088bf153-8bf9-4638-b804-05efc3815597",
   "metadata": {},
   "outputs": [
    {
     "data": {
      "text/html": [
       "<div>\n",
       "<style scoped>\n",
       "    .dataframe tbody tr th:only-of-type {\n",
       "        vertical-align: middle;\n",
       "    }\n",
       "\n",
       "    .dataframe tbody tr th {\n",
       "        vertical-align: top;\n",
       "    }\n",
       "\n",
       "    .dataframe thead th {\n",
       "        text-align: right;\n",
       "    }\n",
       "</style>\n",
       "<table border=\"1\" class=\"dataframe\">\n",
       "  <thead>\n",
       "    <tr style=\"text-align: right;\">\n",
       "      <th></th>\n",
       "      <th>services</th>\n",
       "      <th>profit_per_service</th>\n",
       "    </tr>\n",
       "  </thead>\n",
       "  <tbody>\n",
       "    <tr>\n",
       "      <th>0</th>\n",
       "      <td>consulting</td>\n",
       "      <td>100</td>\n",
       "    </tr>\n",
       "    <tr>\n",
       "      <th>1</th>\n",
       "      <td>report generation</td>\n",
       "      <td>500</td>\n",
       "    </tr>\n",
       "    <tr>\n",
       "      <th>2</th>\n",
       "      <td>formation of the plan</td>\n",
       "      <td>250</td>\n",
       "    </tr>\n",
       "    <tr>\n",
       "      <th>3</th>\n",
       "      <td>model development</td>\n",
       "      <td>120</td>\n",
       "    </tr>\n",
       "    <tr>\n",
       "      <th>4</th>\n",
       "      <td>tax consultation</td>\n",
       "      <td>400</td>\n",
       "    </tr>\n",
       "  </tbody>\n",
       "</table>\n",
       "</div>"
      ],
      "text/plain": [
       "                services  profit_per_service\n",
       "0             consulting                 100\n",
       "1      report generation                 500\n",
       "2  formation of the plan                 250\n",
       "3      model development                 120\n",
       "4       tax consultation                 400"
      ]
     },
     "execution_count": 7,
     "metadata": {},
     "output_type": "execute_result"
    }
   ],
   "source": [
    "services = [\"consulting\", \"report generation\", \"formation of the plan\", \"model development\", \"tax consultation\"]\n",
    "profit_per_service = [100, 500, 250, 120, 400]\n",
    "services_df = pd.DataFrame({'services': services, 'profit_per_service': profit_per_service})\n",
    "services_df"
   ]
  },
  {
   "cell_type": "code",
   "execution_count": 8,
   "id": "08b62466-eb91-4e55-8f16-cb9c7ddef121",
   "metadata": {},
   "outputs": [
    {
     "data": {
      "text/html": [
       "<div>\n",
       "<style scoped>\n",
       "    .dataframe tbody tr th:only-of-type {\n",
       "        vertical-align: middle;\n",
       "    }\n",
       "\n",
       "    .dataframe tbody tr th {\n",
       "        vertical-align: top;\n",
       "    }\n",
       "\n",
       "    .dataframe thead th {\n",
       "        text-align: right;\n",
       "    }\n",
       "</style>\n",
       "<table border=\"1\" class=\"dataframe\">\n",
       "  <thead>\n",
       "    <tr style=\"text-align: right;\">\n",
       "      <th></th>\n",
       "      <th>id</th>\n",
       "      <th>services</th>\n",
       "      <th>profit_per_service</th>\n",
       "    </tr>\n",
       "  </thead>\n",
       "  <tbody>\n",
       "    <tr>\n",
       "      <th>0</th>\n",
       "      <td>0</td>\n",
       "      <td>consulting</td>\n",
       "      <td>100</td>\n",
       "    </tr>\n",
       "    <tr>\n",
       "      <th>1</th>\n",
       "      <td>1</td>\n",
       "      <td>report generation</td>\n",
       "      <td>500</td>\n",
       "    </tr>\n",
       "    <tr>\n",
       "      <th>2</th>\n",
       "      <td>2</td>\n",
       "      <td>formation of the plan</td>\n",
       "      <td>250</td>\n",
       "    </tr>\n",
       "    <tr>\n",
       "      <th>3</th>\n",
       "      <td>3</td>\n",
       "      <td>model development</td>\n",
       "      <td>120</td>\n",
       "    </tr>\n",
       "    <tr>\n",
       "      <th>4</th>\n",
       "      <td>4</td>\n",
       "      <td>tax consultation</td>\n",
       "      <td>400</td>\n",
       "    </tr>\n",
       "  </tbody>\n",
       "</table>\n",
       "</div>"
      ],
      "text/plain": [
       "   id               services  profit_per_service\n",
       "0   0             consulting                 100\n",
       "1   1      report generation                 500\n",
       "2   2  formation of the plan                 250\n",
       "3   3      model development                 120\n",
       "4   4       tax consultation                 400"
      ]
     },
     "execution_count": 8,
     "metadata": {},
     "output_type": "execute_result"
    }
   ],
   "source": [
    "services_df.to_sql('services', sql, index_label=\"id\", if_exists=\"replace\")\n",
    "pd.read_sql(\"SELECT * FROM services\", sql)"
   ]
  },
  {
   "cell_type": "markdown",
   "id": "af0958c4-8bcf-406f-b474-802b9430f9d8",
   "metadata": {},
   "source": [
    "Сопоставим id офисов с оказываемыми каждым офисом услугами (т.е. какие услуги в каком офисе оказываются). Отражено в таблице \"Услуги (оказываемые) в офисах\" (services_to_offices)"
   ]
  },
  {
   "cell_type": "code",
   "execution_count": 9,
   "id": "4dbc4248-65cf-4db8-8145-de10b0419267",
   "metadata": {},
   "outputs": [
    {
     "data": {
      "text/html": [
       "<div>\n",
       "<style scoped>\n",
       "    .dataframe tbody tr th:only-of-type {\n",
       "        vertical-align: middle;\n",
       "    }\n",
       "\n",
       "    .dataframe tbody tr th {\n",
       "        vertical-align: top;\n",
       "    }\n",
       "\n",
       "    .dataframe thead th {\n",
       "        text-align: right;\n",
       "    }\n",
       "</style>\n",
       "<table border=\"1\" class=\"dataframe\">\n",
       "  <thead>\n",
       "    <tr style=\"text-align: right;\">\n",
       "      <th></th>\n",
       "      <th>service_id</th>\n",
       "      <th>offices_id</th>\n",
       "    </tr>\n",
       "  </thead>\n",
       "  <tbody>\n",
       "    <tr>\n",
       "      <th>0</th>\n",
       "      <td>0</td>\n",
       "      <td>0</td>\n",
       "    </tr>\n",
       "    <tr>\n",
       "      <th>1</th>\n",
       "      <td>1</td>\n",
       "      <td>0</td>\n",
       "    </tr>\n",
       "    <tr>\n",
       "      <th>2</th>\n",
       "      <td>3</td>\n",
       "      <td>1</td>\n",
       "    </tr>\n",
       "    <tr>\n",
       "      <th>3</th>\n",
       "      <td>3</td>\n",
       "      <td>2</td>\n",
       "    </tr>\n",
       "    <tr>\n",
       "      <th>4</th>\n",
       "      <td>4</td>\n",
       "      <td>3</td>\n",
       "    </tr>\n",
       "    <tr>\n",
       "      <th>5</th>\n",
       "      <td>0</td>\n",
       "      <td>3</td>\n",
       "    </tr>\n",
       "    <tr>\n",
       "      <th>6</th>\n",
       "      <td>1</td>\n",
       "      <td>4</td>\n",
       "    </tr>\n",
       "    <tr>\n",
       "      <th>7</th>\n",
       "      <td>2</td>\n",
       "      <td>4</td>\n",
       "    </tr>\n",
       "    <tr>\n",
       "      <th>8</th>\n",
       "      <td>2</td>\n",
       "      <td>1</td>\n",
       "    </tr>\n",
       "    <tr>\n",
       "      <th>9</th>\n",
       "      <td>2</td>\n",
       "      <td>3</td>\n",
       "    </tr>\n",
       "  </tbody>\n",
       "</table>\n",
       "</div>"
      ],
      "text/plain": [
       "   service_id  offices_id\n",
       "0           0           0\n",
       "1           1           0\n",
       "2           3           1\n",
       "3           3           2\n",
       "4           4           3\n",
       "5           0           3\n",
       "6           1           4\n",
       "7           2           4\n",
       "8           2           1\n",
       "9           2           3"
      ]
     },
     "execution_count": 9,
     "metadata": {},
     "output_type": "execute_result"
    }
   ],
   "source": [
    "service_id = [0, 1, 3, 3, 4, 0, 1, 2, 2, 2]\n",
    "offices_id = [0, 0, 1, 2, 3, 3, 4, 4, 1, 3]\n",
    "\n",
    "services_to_offices_df = pd.DataFrame({'service_id': service_id, 'offices_id': offices_id})\n",
    "services_to_offices_df"
   ]
  },
  {
   "cell_type": "markdown",
   "id": "a1602d0f-ab2e-4810-89b4-dd258d685595",
   "metadata": {},
   "source": [
    "Сохраним таблицу в sql, проверим корректность"
   ]
  },
  {
   "cell_type": "code",
   "execution_count": 10,
   "id": "1655e9ac-bc1a-4236-bbcd-1f0944874890",
   "metadata": {
    "tags": []
   },
   "outputs": [],
   "source": [
    "services_to_offices_df.to_sql(\"services_to_offices\", sql, index_label=\"id\", if_exists=\"replace\")"
   ]
  },
  {
   "cell_type": "code",
   "execution_count": 11,
   "id": "6dba77d3-2991-4d86-8397-4b9ffbde7247",
   "metadata": {},
   "outputs": [
    {
     "data": {
      "text/html": [
       "<div>\n",
       "<style scoped>\n",
       "    .dataframe tbody tr th:only-of-type {\n",
       "        vertical-align: middle;\n",
       "    }\n",
       "\n",
       "    .dataframe tbody tr th {\n",
       "        vertical-align: top;\n",
       "    }\n",
       "\n",
       "    .dataframe thead th {\n",
       "        text-align: right;\n",
       "    }\n",
       "</style>\n",
       "<table border=\"1\" class=\"dataframe\">\n",
       "  <thead>\n",
       "    <tr style=\"text-align: right;\">\n",
       "      <th></th>\n",
       "      <th>id</th>\n",
       "      <th>service_id</th>\n",
       "      <th>offices_id</th>\n",
       "    </tr>\n",
       "  </thead>\n",
       "  <tbody>\n",
       "    <tr>\n",
       "      <th>0</th>\n",
       "      <td>0</td>\n",
       "      <td>0</td>\n",
       "      <td>0</td>\n",
       "    </tr>\n",
       "    <tr>\n",
       "      <th>1</th>\n",
       "      <td>1</td>\n",
       "      <td>1</td>\n",
       "      <td>0</td>\n",
       "    </tr>\n",
       "    <tr>\n",
       "      <th>2</th>\n",
       "      <td>2</td>\n",
       "      <td>3</td>\n",
       "      <td>1</td>\n",
       "    </tr>\n",
       "    <tr>\n",
       "      <th>3</th>\n",
       "      <td>3</td>\n",
       "      <td>3</td>\n",
       "      <td>2</td>\n",
       "    </tr>\n",
       "    <tr>\n",
       "      <th>4</th>\n",
       "      <td>4</td>\n",
       "      <td>4</td>\n",
       "      <td>3</td>\n",
       "    </tr>\n",
       "    <tr>\n",
       "      <th>5</th>\n",
       "      <td>5</td>\n",
       "      <td>0</td>\n",
       "      <td>3</td>\n",
       "    </tr>\n",
       "    <tr>\n",
       "      <th>6</th>\n",
       "      <td>6</td>\n",
       "      <td>1</td>\n",
       "      <td>4</td>\n",
       "    </tr>\n",
       "    <tr>\n",
       "      <th>7</th>\n",
       "      <td>7</td>\n",
       "      <td>2</td>\n",
       "      <td>4</td>\n",
       "    </tr>\n",
       "    <tr>\n",
       "      <th>8</th>\n",
       "      <td>8</td>\n",
       "      <td>2</td>\n",
       "      <td>1</td>\n",
       "    </tr>\n",
       "    <tr>\n",
       "      <th>9</th>\n",
       "      <td>9</td>\n",
       "      <td>2</td>\n",
       "      <td>3</td>\n",
       "    </tr>\n",
       "  </tbody>\n",
       "</table>\n",
       "</div>"
      ],
      "text/plain": [
       "   id  service_id  offices_id\n",
       "0   0           0           0\n",
       "1   1           1           0\n",
       "2   2           3           1\n",
       "3   3           3           2\n",
       "4   4           4           3\n",
       "5   5           0           3\n",
       "6   6           1           4\n",
       "7   7           2           4\n",
       "8   8           2           1\n",
       "9   9           2           3"
      ]
     },
     "execution_count": 11,
     "metadata": {},
     "output_type": "execute_result"
    }
   ],
   "source": [
    "pd.read_sql(\"SELECT * FROM services_to_offices\", sql)"
   ]
  },
  {
   "cell_type": "code",
   "execution_count": null,
   "id": "3386af33-bc1a-4bdc-b187-b318a5cdf1a0",
   "metadata": {},
   "outputs": [],
   "source": []
  },
  {
   "cell_type": "markdown",
   "id": "9f0bcd57-c3dc-4386-aa3b-cd72fdb2e7f6",
   "metadata": {},
   "source": [
    "Также у нас есть таблица наград работников (ведомость премирования) - сопоставлены id работников и суммы выплаченных премий"
   ]
  },
  {
   "cell_type": "code",
   "execution_count": 12,
   "id": "10964986-4754-489f-a6ce-dcc9ee6a87ac",
   "metadata": {},
   "outputs": [
    {
     "data": {
      "text/html": [
       "<div>\n",
       "<style scoped>\n",
       "    .dataframe tbody tr th:only-of-type {\n",
       "        vertical-align: middle;\n",
       "    }\n",
       "\n",
       "    .dataframe tbody tr th {\n",
       "        vertical-align: top;\n",
       "    }\n",
       "\n",
       "    .dataframe thead th {\n",
       "        text-align: right;\n",
       "    }\n",
       "</style>\n",
       "<table border=\"1\" class=\"dataframe\">\n",
       "  <thead>\n",
       "    <tr style=\"text-align: right;\">\n",
       "      <th></th>\n",
       "      <th>id_best</th>\n",
       "      <th>bonus</th>\n",
       "    </tr>\n",
       "  </thead>\n",
       "  <tbody>\n",
       "    <tr>\n",
       "      <th>0</th>\n",
       "      <td>7</td>\n",
       "      <td>150000</td>\n",
       "    </tr>\n",
       "    <tr>\n",
       "      <th>1</th>\n",
       "      <td>6</td>\n",
       "      <td>130000</td>\n",
       "    </tr>\n",
       "    <tr>\n",
       "      <th>2</th>\n",
       "      <td>5</td>\n",
       "      <td>41000</td>\n",
       "    </tr>\n",
       "    <tr>\n",
       "      <th>3</th>\n",
       "      <td>4</td>\n",
       "      <td>28000</td>\n",
       "    </tr>\n",
       "    <tr>\n",
       "      <th>4</th>\n",
       "      <td>3</td>\n",
       "      <td>65000</td>\n",
       "    </tr>\n",
       "    <tr>\n",
       "      <th>5</th>\n",
       "      <td>2</td>\n",
       "      <td>69000</td>\n",
       "    </tr>\n",
       "    <tr>\n",
       "      <th>6</th>\n",
       "      <td>1</td>\n",
       "      <td>48000</td>\n",
       "    </tr>\n",
       "    <tr>\n",
       "      <th>7</th>\n",
       "      <td>0</td>\n",
       "      <td>2000</td>\n",
       "    </tr>\n",
       "  </tbody>\n",
       "</table>\n",
       "</div>"
      ],
      "text/plain": [
       "   id_best   bonus\n",
       "0        7  150000\n",
       "1        6  130000\n",
       "2        5   41000\n",
       "3        4   28000\n",
       "4        3   65000\n",
       "5        2   69000\n",
       "6        1   48000\n",
       "7        0    2000"
      ]
     },
     "execution_count": 12,
     "metadata": {},
     "output_type": "execute_result"
    }
   ],
   "source": [
    "id_best = [7, 6, 5, 4, 3, 2, 1, 0]\n",
    "bonus = [150000, 130000, 41000, 28000, 65000, 69000, 48000, 2000]\n",
    "bonus_df = pd.DataFrame({'id_best': id_best, 'bonus': bonus})\n",
    "bonus_df"
   ]
  },
  {
   "cell_type": "code",
   "execution_count": 13,
   "id": "45228e01-a8d2-4763-94f7-aaf5b5cf5662",
   "metadata": {},
   "outputs": [],
   "source": [
    "bonus_df.to_sql(\"bonus\", sql, index_label=\"id\", if_exists=\"replace\")"
   ]
  },
  {
   "cell_type": "code",
   "execution_count": 14,
   "id": "0b18e605-886b-488f-bcca-675b15a7364d",
   "metadata": {},
   "outputs": [
    {
     "data": {
      "text/html": [
       "<div>\n",
       "<style scoped>\n",
       "    .dataframe tbody tr th:only-of-type {\n",
       "        vertical-align: middle;\n",
       "    }\n",
       "\n",
       "    .dataframe tbody tr th {\n",
       "        vertical-align: top;\n",
       "    }\n",
       "\n",
       "    .dataframe thead th {\n",
       "        text-align: right;\n",
       "    }\n",
       "</style>\n",
       "<table border=\"1\" class=\"dataframe\">\n",
       "  <thead>\n",
       "    <tr style=\"text-align: right;\">\n",
       "      <th></th>\n",
       "      <th>id</th>\n",
       "      <th>id_best</th>\n",
       "      <th>bonus</th>\n",
       "    </tr>\n",
       "  </thead>\n",
       "  <tbody>\n",
       "    <tr>\n",
       "      <th>0</th>\n",
       "      <td>0</td>\n",
       "      <td>7</td>\n",
       "      <td>150000</td>\n",
       "    </tr>\n",
       "    <tr>\n",
       "      <th>1</th>\n",
       "      <td>1</td>\n",
       "      <td>6</td>\n",
       "      <td>130000</td>\n",
       "    </tr>\n",
       "    <tr>\n",
       "      <th>2</th>\n",
       "      <td>2</td>\n",
       "      <td>5</td>\n",
       "      <td>41000</td>\n",
       "    </tr>\n",
       "    <tr>\n",
       "      <th>3</th>\n",
       "      <td>3</td>\n",
       "      <td>4</td>\n",
       "      <td>28000</td>\n",
       "    </tr>\n",
       "    <tr>\n",
       "      <th>4</th>\n",
       "      <td>4</td>\n",
       "      <td>3</td>\n",
       "      <td>65000</td>\n",
       "    </tr>\n",
       "    <tr>\n",
       "      <th>5</th>\n",
       "      <td>5</td>\n",
       "      <td>2</td>\n",
       "      <td>69000</td>\n",
       "    </tr>\n",
       "    <tr>\n",
       "      <th>6</th>\n",
       "      <td>6</td>\n",
       "      <td>1</td>\n",
       "      <td>48000</td>\n",
       "    </tr>\n",
       "    <tr>\n",
       "      <th>7</th>\n",
       "      <td>7</td>\n",
       "      <td>0</td>\n",
       "      <td>2000</td>\n",
       "    </tr>\n",
       "  </tbody>\n",
       "</table>\n",
       "</div>"
      ],
      "text/plain": [
       "   id  id_best   bonus\n",
       "0   0        7  150000\n",
       "1   1        6  130000\n",
       "2   2        5   41000\n",
       "3   3        4   28000\n",
       "4   4        3   65000\n",
       "5   5        2   69000\n",
       "6   6        1   48000\n",
       "7   7        0    2000"
      ]
     },
     "execution_count": 14,
     "metadata": {},
     "output_type": "execute_result"
    }
   ],
   "source": [
    "pd.read_sql(\"SELECT * FROM bonus\", sql)  # смотрим, корректно ли записалась таблица"
   ]
  },
  {
   "cell_type": "code",
   "execution_count": null,
   "id": "75a33180-c794-4114-b5b6-b5aa01d6e7a0",
   "metadata": {},
   "outputs": [],
   "source": []
  },
  {
   "cell_type": "markdown",
   "id": "400576ad-ee58-4dfb-8f86-ffec437791a0",
   "metadata": {},
   "source": [
    "# Для задачи EASY \n",
    "приведены различные простые варианты запросов к выгружаемым данным, отфильтрованные по какому-то значению"
   ]
  },
  {
   "cell_type": "markdown",
   "id": "9a1d4fb4-bd16-4519-a0f1-3afbe2291da5",
   "metadata": {},
   "source": [
    "Выведем, например, всех работников фирмы женского пола, у которых оклад в месяц больше 40000.\n",
    "Выгружать будем из таблицы workers"
   ]
  },
  {
   "cell_type": "code",
   "execution_count": 15,
   "id": "dba63307-adea-497a-a2f0-19f75a1418f4",
   "metadata": {
    "tags": []
   },
   "outputs": [
    {
     "data": {
      "text/html": [
       "<div>\n",
       "<style scoped>\n",
       "    .dataframe tbody tr th:only-of-type {\n",
       "        vertical-align: middle;\n",
       "    }\n",
       "\n",
       "    .dataframe tbody tr th {\n",
       "        vertical-align: top;\n",
       "    }\n",
       "\n",
       "    .dataframe thead th {\n",
       "        text-align: right;\n",
       "    }\n",
       "</style>\n",
       "<table border=\"1\" class=\"dataframe\">\n",
       "  <thead>\n",
       "    <tr style=\"text-align: right;\">\n",
       "      <th></th>\n",
       "      <th>name</th>\n",
       "      <th>sex</th>\n",
       "      <th>salary</th>\n",
       "    </tr>\n",
       "  </thead>\n",
       "  <tbody>\n",
       "    <tr>\n",
       "      <th>0</th>\n",
       "      <td>Anna</td>\n",
       "      <td>female</td>\n",
       "      <td>50000</td>\n",
       "    </tr>\n",
       "    <tr>\n",
       "      <th>1</th>\n",
       "      <td>Catherine</td>\n",
       "      <td>female</td>\n",
       "      <td>45000</td>\n",
       "    </tr>\n",
       "    <tr>\n",
       "      <th>2</th>\n",
       "      <td>Mary</td>\n",
       "      <td>female</td>\n",
       "      <td>120000</td>\n",
       "    </tr>\n",
       "    <tr>\n",
       "      <th>3</th>\n",
       "      <td>Valeria</td>\n",
       "      <td>female</td>\n",
       "      <td>68000</td>\n",
       "    </tr>\n",
       "  </tbody>\n",
       "</table>\n",
       "</div>"
      ],
      "text/plain": [
       "        name     sex  salary\n",
       "0       Anna  female   50000\n",
       "1  Catherine  female   45000\n",
       "2       Mary  female  120000\n",
       "3    Valeria  female   68000"
      ]
     },
     "execution_count": 15,
     "metadata": {},
     "output_type": "execute_result"
    }
   ],
   "source": [
    "pd.read_sql(\"SELECT name, sex, salary FROM workers WHERE sex = 'female' AND salary > 40000\", sql)"
   ]
  },
  {
   "cell_type": "markdown",
   "id": "c1802798-ce49-4e3d-b897-6199a3874571",
   "metadata": {},
   "source": [
    "Выведем всех работников фирмы мужского пола, у которых оклад в месяц больше 40000. Выгружать будем из таблицы workers"
   ]
  },
  {
   "cell_type": "code",
   "execution_count": 16,
   "id": "ebaf5266-1cff-4e86-a1f6-355278e4d2f4",
   "metadata": {},
   "outputs": [
    {
     "data": {
      "text/html": [
       "<div>\n",
       "<style scoped>\n",
       "    .dataframe tbody tr th:only-of-type {\n",
       "        vertical-align: middle;\n",
       "    }\n",
       "\n",
       "    .dataframe tbody tr th {\n",
       "        vertical-align: top;\n",
       "    }\n",
       "\n",
       "    .dataframe thead th {\n",
       "        text-align: right;\n",
       "    }\n",
       "</style>\n",
       "<table border=\"1\" class=\"dataframe\">\n",
       "  <thead>\n",
       "    <tr style=\"text-align: right;\">\n",
       "      <th></th>\n",
       "      <th>name</th>\n",
       "      <th>sex</th>\n",
       "      <th>salary</th>\n",
       "    </tr>\n",
       "  </thead>\n",
       "  <tbody>\n",
       "    <tr>\n",
       "      <th>0</th>\n",
       "      <td>Alex</td>\n",
       "      <td>male</td>\n",
       "      <td>58000</td>\n",
       "    </tr>\n",
       "    <tr>\n",
       "      <th>1</th>\n",
       "      <td>Peter</td>\n",
       "      <td>male</td>\n",
       "      <td>49000</td>\n",
       "    </tr>\n",
       "  </tbody>\n",
       "</table>\n",
       "</div>"
      ],
      "text/plain": [
       "    name   sex  salary\n",
       "0   Alex  male   58000\n",
       "1  Peter  male   49000"
      ]
     },
     "execution_count": 16,
     "metadata": {},
     "output_type": "execute_result"
    }
   ],
   "source": [
    "pd.read_sql(\"SELECT name, sex, salary FROM workers WHERE sex = 'male' AND salary > 40000\", sql)"
   ]
  },
  {
   "cell_type": "markdown",
   "id": "3d751915-a813-49de-b978-e260e4bd8832",
   "metadata": {},
   "source": [
    "Выведем всех работников с экономическим образованием, у которых зарплата больше 50000:"
   ]
  },
  {
   "cell_type": "code",
   "execution_count": 17,
   "id": "1ee1d68a-bd53-4dfc-935c-94ee0851bf94",
   "metadata": {},
   "outputs": [
    {
     "data": {
      "text/html": [
       "<div>\n",
       "<style scoped>\n",
       "    .dataframe tbody tr th:only-of-type {\n",
       "        vertical-align: middle;\n",
       "    }\n",
       "\n",
       "    .dataframe tbody tr th {\n",
       "        vertical-align: top;\n",
       "    }\n",
       "\n",
       "    .dataframe thead th {\n",
       "        text-align: right;\n",
       "    }\n",
       "</style>\n",
       "<table border=\"1\" class=\"dataframe\">\n",
       "  <thead>\n",
       "    <tr style=\"text-align: right;\">\n",
       "      <th></th>\n",
       "      <th>id</th>\n",
       "      <th>name</th>\n",
       "      <th>education</th>\n",
       "      <th>salary</th>\n",
       "    </tr>\n",
       "  </thead>\n",
       "  <tbody>\n",
       "    <tr>\n",
       "      <th>0</th>\n",
       "      <td>1</td>\n",
       "      <td>Alex</td>\n",
       "      <td>economics</td>\n",
       "      <td>58000</td>\n",
       "    </tr>\n",
       "    <tr>\n",
       "      <th>1</th>\n",
       "      <td>3</td>\n",
       "      <td>Mary</td>\n",
       "      <td>economics</td>\n",
       "      <td>120000</td>\n",
       "    </tr>\n",
       "  </tbody>\n",
       "</table>\n",
       "</div>"
      ],
      "text/plain": [
       "   id  name  education  salary\n",
       "0   1  Alex  economics   58000\n",
       "1   3  Mary  economics  120000"
      ]
     },
     "execution_count": 17,
     "metadata": {},
     "output_type": "execute_result"
    }
   ],
   "source": [
    "pd.read_sql(\"\"\"SELECT id, name, education, salary \n",
    "            FROM workers WHERE education = 'economics' AND salary > 50000\"\"\", sql)"
   ]
  },
  {
   "cell_type": "markdown",
   "id": "2e747600-bce0-472f-a3ab-7624cc8e572a",
   "metadata": {},
   "source": [
    "Выведем всех работников, у которых зарплата больше 40 000 и с должностью senior_manager или assistant"
   ]
  },
  {
   "cell_type": "code",
   "execution_count": 18,
   "id": "41e89e46-6f19-4e5c-ad9d-5a397d3e02aa",
   "metadata": {},
   "outputs": [
    {
     "data": {
      "text/html": [
       "<div>\n",
       "<style scoped>\n",
       "    .dataframe tbody tr th:only-of-type {\n",
       "        vertical-align: middle;\n",
       "    }\n",
       "\n",
       "    .dataframe tbody tr th {\n",
       "        vertical-align: top;\n",
       "    }\n",
       "\n",
       "    .dataframe thead th {\n",
       "        text-align: right;\n",
       "    }\n",
       "</style>\n",
       "<table border=\"1\" class=\"dataframe\">\n",
       "  <thead>\n",
       "    <tr style=\"text-align: right;\">\n",
       "      <th></th>\n",
       "      <th>id</th>\n",
       "      <th>name</th>\n",
       "      <th>position</th>\n",
       "      <th>salary</th>\n",
       "    </tr>\n",
       "  </thead>\n",
       "  <tbody>\n",
       "    <tr>\n",
       "      <th>0</th>\n",
       "      <td>2</td>\n",
       "      <td>Catherine</td>\n",
       "      <td>senior_manager</td>\n",
       "      <td>45000</td>\n",
       "    </tr>\n",
       "    <tr>\n",
       "      <th>1</th>\n",
       "      <td>5</td>\n",
       "      <td>Valeria</td>\n",
       "      <td>senior_manager</td>\n",
       "      <td>68000</td>\n",
       "    </tr>\n",
       "    <tr>\n",
       "      <th>2</th>\n",
       "      <td>7</td>\n",
       "      <td>Peter</td>\n",
       "      <td>senior_manager</td>\n",
       "      <td>49000</td>\n",
       "    </tr>\n",
       "  </tbody>\n",
       "</table>\n",
       "</div>"
      ],
      "text/plain": [
       "   id       name        position  salary\n",
       "0   2  Catherine  senior_manager   45000\n",
       "1   5    Valeria  senior_manager   68000\n",
       "2   7      Peter  senior_manager   49000"
      ]
     },
     "execution_count": 18,
     "metadata": {},
     "output_type": "execute_result"
    }
   ],
   "source": [
    "pd.read_sql(\"\"\"SELECT id, name, position, salary FROM workers WHERE salary > 40000 \n",
    "AND (position = 'senior_manager' OR position = 'assistant')\"\"\", sql)"
   ]
  },
  {
   "cell_type": "markdown",
   "id": "5c89f666-ec37-41ab-8b75-eea726bdce42",
   "metadata": {},
   "source": [
    "Выведем всех работников, у которых зарплата больше 33 000, женского пола, старше 25 лет и с должностью senior_manager"
   ]
  },
  {
   "cell_type": "code",
   "execution_count": 19,
   "id": "cc2013f2-969a-47b6-acfe-65ab22975f8e",
   "metadata": {},
   "outputs": [
    {
     "data": {
      "text/html": [
       "<div>\n",
       "<style scoped>\n",
       "    .dataframe tbody tr th:only-of-type {\n",
       "        vertical-align: middle;\n",
       "    }\n",
       "\n",
       "    .dataframe tbody tr th {\n",
       "        vertical-align: top;\n",
       "    }\n",
       "\n",
       "    .dataframe thead th {\n",
       "        text-align: right;\n",
       "    }\n",
       "</style>\n",
       "<table border=\"1\" class=\"dataframe\">\n",
       "  <thead>\n",
       "    <tr style=\"text-align: right;\">\n",
       "      <th></th>\n",
       "      <th>id</th>\n",
       "      <th>name</th>\n",
       "      <th>age</th>\n",
       "      <th>sex</th>\n",
       "      <th>position</th>\n",
       "      <th>salary</th>\n",
       "    </tr>\n",
       "  </thead>\n",
       "  <tbody>\n",
       "    <tr>\n",
       "      <th>0</th>\n",
       "      <td>2</td>\n",
       "      <td>Catherine</td>\n",
       "      <td>35</td>\n",
       "      <td>female</td>\n",
       "      <td>senior_manager</td>\n",
       "      <td>45000</td>\n",
       "    </tr>\n",
       "    <tr>\n",
       "      <th>1</th>\n",
       "      <td>5</td>\n",
       "      <td>Valeria</td>\n",
       "      <td>40</td>\n",
       "      <td>female</td>\n",
       "      <td>senior_manager</td>\n",
       "      <td>68000</td>\n",
       "    </tr>\n",
       "  </tbody>\n",
       "</table>\n",
       "</div>"
      ],
      "text/plain": [
       "   id       name  age     sex        position  salary\n",
       "0   2  Catherine   35  female  senior_manager   45000\n",
       "1   5    Valeria   40  female  senior_manager   68000"
      ]
     },
     "execution_count": 19,
     "metadata": {},
     "output_type": "execute_result"
    }
   ],
   "source": [
    "pd.read_sql(\"\"\"SELECT id, name, age, sex, position, salary FROM workers \n",
    "WHERE salary > 30000 AND sex = 'female' AND position = 'senior_manager' AND age > 25\"\"\", sql)"
   ]
  },
  {
   "cell_type": "markdown",
   "id": "90dade64-de0f-43fa-be3d-779fa6c6f96e",
   "metadata": {},
   "source": [
    "Выведем все офисы, расположенные в Краснодаре"
   ]
  },
  {
   "cell_type": "code",
   "execution_count": 20,
   "id": "59eec24c-8f7c-4120-84fc-9a9b19c40690",
   "metadata": {},
   "outputs": [
    {
     "data": {
      "text/html": [
       "<div>\n",
       "<style scoped>\n",
       "    .dataframe tbody tr th:only-of-type {\n",
       "        vertical-align: middle;\n",
       "    }\n",
       "\n",
       "    .dataframe tbody tr th {\n",
       "        vertical-align: top;\n",
       "    }\n",
       "\n",
       "    .dataframe thead th {\n",
       "        text-align: right;\n",
       "    }\n",
       "</style>\n",
       "<table border=\"1\" class=\"dataframe\">\n",
       "  <thead>\n",
       "    <tr style=\"text-align: right;\">\n",
       "      <th></th>\n",
       "      <th>id</th>\n",
       "      <th>office</th>\n",
       "      <th>location</th>\n",
       "    </tr>\n",
       "  </thead>\n",
       "  <tbody>\n",
       "    <tr>\n",
       "      <th>0</th>\n",
       "      <td>1</td>\n",
       "      <td>office-South</td>\n",
       "      <td>Krasnodar</td>\n",
       "    </tr>\n",
       "  </tbody>\n",
       "</table>\n",
       "</div>"
      ],
      "text/plain": [
       "   id        office   location\n",
       "0   1  office-South  Krasnodar"
      ]
     },
     "execution_count": 20,
     "metadata": {},
     "output_type": "execute_result"
    }
   ],
   "source": [
    "pd.read_sql(\"\"\"SELECT id, office, location FROM offices \n",
    "WHERE location = 'Krasnodar'\"\"\", sql)"
   ]
  },
  {
   "cell_type": "markdown",
   "id": "fd7ffec6-691e-4c47-955f-1af64030de3b",
   "metadata": {},
   "source": [
    "и в Москве"
   ]
  },
  {
   "cell_type": "code",
   "execution_count": 21,
   "id": "eaad14d9-bda5-4e56-b74a-a8a5ee7b8646",
   "metadata": {},
   "outputs": [
    {
     "data": {
      "text/html": [
       "<div>\n",
       "<style scoped>\n",
       "    .dataframe tbody tr th:only-of-type {\n",
       "        vertical-align: middle;\n",
       "    }\n",
       "\n",
       "    .dataframe tbody tr th {\n",
       "        vertical-align: top;\n",
       "    }\n",
       "\n",
       "    .dataframe thead th {\n",
       "        text-align: right;\n",
       "    }\n",
       "</style>\n",
       "<table border=\"1\" class=\"dataframe\">\n",
       "  <thead>\n",
       "    <tr style=\"text-align: right;\">\n",
       "      <th></th>\n",
       "      <th>id</th>\n",
       "      <th>office</th>\n",
       "      <th>location</th>\n",
       "    </tr>\n",
       "  </thead>\n",
       "  <tbody>\n",
       "    <tr>\n",
       "      <th>0</th>\n",
       "      <td>2</td>\n",
       "      <td>office-East</td>\n",
       "      <td>Moscow</td>\n",
       "    </tr>\n",
       "    <tr>\n",
       "      <th>1</th>\n",
       "      <td>4</td>\n",
       "      <td>office-Central</td>\n",
       "      <td>Moscow</td>\n",
       "    </tr>\n",
       "  </tbody>\n",
       "</table>\n",
       "</div>"
      ],
      "text/plain": [
       "   id          office location\n",
       "0   2     office-East   Moscow\n",
       "1   4  office-Central   Moscow"
      ]
     },
     "execution_count": 21,
     "metadata": {},
     "output_type": "execute_result"
    }
   ],
   "source": [
    "pd.read_sql(\"\"\"SELECT id, office, location FROM offices \n",
    "WHERE location = 'Moscow'\"\"\", sql)"
   ]
  },
  {
   "cell_type": "markdown",
   "id": "b49d7252-30d1-4669-976b-2376d2bed67c",
   "metadata": {},
   "source": [
    "Найдем услугу с максимальной стоимостью за единицу"
   ]
  },
  {
   "cell_type": "code",
   "execution_count": 22,
   "id": "95ca8d03-07f0-4e5d-b236-7c699ca3d42a",
   "metadata": {
    "tags": []
   },
   "outputs": [
    {
     "data": {
      "text/html": [
       "<div>\n",
       "<style scoped>\n",
       "    .dataframe tbody tr th:only-of-type {\n",
       "        vertical-align: middle;\n",
       "    }\n",
       "\n",
       "    .dataframe tbody tr th {\n",
       "        vertical-align: top;\n",
       "    }\n",
       "\n",
       "    .dataframe thead th {\n",
       "        text-align: right;\n",
       "    }\n",
       "</style>\n",
       "<table border=\"1\" class=\"dataframe\">\n",
       "  <thead>\n",
       "    <tr style=\"text-align: right;\">\n",
       "      <th></th>\n",
       "      <th>id</th>\n",
       "      <th>services</th>\n",
       "      <th>profit_per_service</th>\n",
       "      <th>MAX(profit_per_service)</th>\n",
       "    </tr>\n",
       "  </thead>\n",
       "  <tbody>\n",
       "    <tr>\n",
       "      <th>0</th>\n",
       "      <td>1</td>\n",
       "      <td>report generation</td>\n",
       "      <td>500</td>\n",
       "      <td>500</td>\n",
       "    </tr>\n",
       "  </tbody>\n",
       "</table>\n",
       "</div>"
      ],
      "text/plain": [
       "   id           services  profit_per_service  MAX(profit_per_service)\n",
       "0   1  report generation                 500                      500"
      ]
     },
     "execution_count": 22,
     "metadata": {},
     "output_type": "execute_result"
    }
   ],
   "source": [
    "pd.read_sql(\"\"\"SELECT id, services, profit_per_service, MAX(profit_per_service) \n",
    "FROM services \n",
    " \"\"\", sql)"
   ]
  },
  {
   "cell_type": "markdown",
   "id": "698d90a3-becd-4085-879c-ef5b3dfb8978",
   "metadata": {},
   "source": [
    "Найдем среднюю стоимость единицы услуги (по всем услугам оказываемым фирмой)"
   ]
  },
  {
   "cell_type": "code",
   "execution_count": 23,
   "id": "eeab3199-6d0a-486b-960f-986af972d4bd",
   "metadata": {
    "tags": []
   },
   "outputs": [
    {
     "data": {
      "text/html": [
       "<div>\n",
       "<style scoped>\n",
       "    .dataframe tbody tr th:only-of-type {\n",
       "        vertical-align: middle;\n",
       "    }\n",
       "\n",
       "    .dataframe tbody tr th {\n",
       "        vertical-align: top;\n",
       "    }\n",
       "\n",
       "    .dataframe thead th {\n",
       "        text-align: right;\n",
       "    }\n",
       "</style>\n",
       "<table border=\"1\" class=\"dataframe\">\n",
       "  <thead>\n",
       "    <tr style=\"text-align: right;\">\n",
       "      <th></th>\n",
       "      <th>AVG_profit</th>\n",
       "    </tr>\n",
       "  </thead>\n",
       "  <tbody>\n",
       "    <tr>\n",
       "      <th>0</th>\n",
       "      <td>274.0</td>\n",
       "    </tr>\n",
       "  </tbody>\n",
       "</table>\n",
       "</div>"
      ],
      "text/plain": [
       "   AVG_profit\n",
       "0       274.0"
      ]
     },
     "execution_count": 23,
     "metadata": {},
     "output_type": "execute_result"
    }
   ],
   "source": [
    "pd.read_sql(\"\"\"SELECT AVG(profit_per_service) as AVG_profit\n",
    "FROM services \"\"\", sql)"
   ]
  },
  {
   "cell_type": "code",
   "execution_count": null,
   "id": "39f815b5-919f-4b5f-a91b-44756dcc7d70",
   "metadata": {},
   "outputs": [],
   "source": []
  },
  {
   "cell_type": "markdown",
   "id": "0aef5738-b7c3-4bd0-bcbc-2d81f8e35d69",
   "metadata": {},
   "source": [
    "# Для задач Normal и Hard"
   ]
  },
  {
   "cell_type": "markdown",
   "id": "d52d9c4f-d88f-4fb0-ac33-0e2da6f08a9e",
   "metadata": {
    "tags": []
   },
   "source": [
    "Объединим таблицы и отфильтруем их"
   ]
  },
  {
   "cell_type": "markdown",
   "id": "6ace74c1-1dd5-48fd-ace0-89fe43765f4c",
   "metadata": {},
   "source": [
    "Изучим информацию о работниках и офисах, с учетом распределения по ним рабочей силы и доходов работников (оклад, премия, совокупный доход)."
   ]
  },
  {
   "cell_type": "markdown",
   "id": "f8f8a099-f6a5-4990-88be-977cf95987a4",
   "metadata": {},
   "source": [
    "Вариант 1 - для задачи Normal - нас интересуют молодые работники (до 40 лет) конкретного офиса - office-West.\n",
    "Объединим сведения из таблиц о работниках и офисах с учетом возраста работников и наименования офиса (тех работников, чей возраст меньше 40 и кто в то же время работает в office-West), а также добавим колонку с совокупным доходом (оклад + бонус).\n",
    "Узнаем подробную информацию о молодых работниках, которые трудятся в office-West - их возрасте, должности, образовании, совокупных доходах"
   ]
  },
  {
   "cell_type": "code",
   "execution_count": 24,
   "id": "daf9631c-b281-48fb-b259-6ed84e75c564",
   "metadata": {},
   "outputs": [
    {
     "data": {
      "text/html": [
       "<div>\n",
       "<style scoped>\n",
       "    .dataframe tbody tr th:only-of-type {\n",
       "        vertical-align: middle;\n",
       "    }\n",
       "\n",
       "    .dataframe tbody tr th {\n",
       "        vertical-align: top;\n",
       "    }\n",
       "\n",
       "    .dataframe thead th {\n",
       "        text-align: right;\n",
       "    }\n",
       "</style>\n",
       "<table border=\"1\" class=\"dataframe\">\n",
       "  <thead>\n",
       "    <tr style=\"text-align: right;\">\n",
       "      <th></th>\n",
       "      <th>worker_name</th>\n",
       "      <th>worker_id</th>\n",
       "      <th>age</th>\n",
       "      <th>worker_position</th>\n",
       "      <th>education</th>\n",
       "      <th>office_id</th>\n",
       "      <th>office</th>\n",
       "      <th>location_office</th>\n",
       "      <th>worker_salary</th>\n",
       "      <th>bonus</th>\n",
       "      <th>total_income</th>\n",
       "    </tr>\n",
       "  </thead>\n",
       "  <tbody>\n",
       "    <tr>\n",
       "      <th>0</th>\n",
       "      <td>Tina</td>\n",
       "      <td>4</td>\n",
       "      <td>28</td>\n",
       "      <td>assistant</td>\n",
       "      <td>economics</td>\n",
       "      <td>3</td>\n",
       "      <td>office-West</td>\n",
       "      <td>Kaliningrad</td>\n",
       "      <td>25000</td>\n",
       "      <td>28000</td>\n",
       "      <td>53000</td>\n",
       "    </tr>\n",
       "    <tr>\n",
       "      <th>1</th>\n",
       "      <td>Viktor</td>\n",
       "      <td>6</td>\n",
       "      <td>33</td>\n",
       "      <td>assistant</td>\n",
       "      <td>IT</td>\n",
       "      <td>3</td>\n",
       "      <td>office-West</td>\n",
       "      <td>Kaliningrad</td>\n",
       "      <td>35000</td>\n",
       "      <td>130000</td>\n",
       "      <td>165000</td>\n",
       "    </tr>\n",
       "  </tbody>\n",
       "</table>\n",
       "</div>"
      ],
      "text/plain": [
       "  worker_name  worker_id  age worker_position  education  office_id  \\\n",
       "0        Tina          4   28       assistant  economics          3   \n",
       "1      Viktor          6   33       assistant         IT          3   \n",
       "\n",
       "        office location_office  worker_salary   bonus  total_income  \n",
       "0  office-West     Kaliningrad          25000   28000         53000  \n",
       "1  office-West     Kaliningrad          35000  130000        165000  "
      ]
     },
     "execution_count": 24,
     "metadata": {},
     "output_type": "execute_result"
    }
   ],
   "source": [
    "df_worker_location_YOUNG = pd.read_sql(\n",
    "    \"\"\"\n",
    "    SELECT w.name as worker_name,\n",
    "    w.id as worker_id,\n",
    "    w.age as age,\n",
    "    w.position as worker_position,\n",
    "    w.education as education,\n",
    "    o.id as office_id,\n",
    "    o.office as office,\n",
    "    o.location as location_office,\n",
    "    w.salary as worker_salary,\n",
    "    b.bonus as bonus,\n",
    "    w.salary + b.bonus as total_income\n",
    "    FROM workers as w\n",
    "    JOIN offices as o ON o.id = w.office_id\n",
    "    JOIN bonus as b ON b.id_best = w.id\n",
    "    WHERE w.age < 40 AND o.office = 'office-West'\n",
    "    GROUP BY worker_id\n",
    "    \"\"\", sql)\n",
    "df_worker_location_YOUNG"
   ]
  },
  {
   "cell_type": "code",
   "execution_count": 25,
   "id": "5ce1f8ee-d444-4b02-a05b-8e59b7324612",
   "metadata": {},
   "outputs": [],
   "source": [
    "df_worker_location_YOUNG.to_sql(\"worker_location_YOUNG\", sql, index_label=\"id\", if_exists=\"replace\") # запишем в таблицу"
   ]
  },
  {
   "cell_type": "code",
   "execution_count": 26,
   "id": "ae920027-c87a-403b-b079-d65840ccc358",
   "metadata": {},
   "outputs": [
    {
     "data": {
      "text/html": [
       "<div>\n",
       "<style scoped>\n",
       "    .dataframe tbody tr th:only-of-type {\n",
       "        vertical-align: middle;\n",
       "    }\n",
       "\n",
       "    .dataframe tbody tr th {\n",
       "        vertical-align: top;\n",
       "    }\n",
       "\n",
       "    .dataframe thead th {\n",
       "        text-align: right;\n",
       "    }\n",
       "</style>\n",
       "<table border=\"1\" class=\"dataframe\">\n",
       "  <thead>\n",
       "    <tr style=\"text-align: right;\">\n",
       "      <th></th>\n",
       "      <th>AVG_worker_salary_per_worker</th>\n",
       "      <th>AVG_bonus_per_worker</th>\n",
       "      <th>AVG_total_income_per_worker</th>\n",
       "    </tr>\n",
       "  </thead>\n",
       "  <tbody>\n",
       "    <tr>\n",
       "      <th>0</th>\n",
       "      <td>30000.0</td>\n",
       "      <td>79000.0</td>\n",
       "      <td>109000.0</td>\n",
       "    </tr>\n",
       "  </tbody>\n",
       "</table>\n",
       "</div>"
      ],
      "text/plain": [
       "   AVG_worker_salary_per_worker  AVG_bonus_per_worker  \\\n",
       "0                       30000.0               79000.0   \n",
       "\n",
       "   AVG_total_income_per_worker  \n",
       "0                     109000.0  "
      ]
     },
     "execution_count": 26,
     "metadata": {},
     "output_type": "execute_result"
    }
   ],
   "source": [
    "pd.read_sql(\"\"\"SELECT AVG(worker_salary) as AVG_worker_salary_per_worker,\n",
    "AVG(bonus) as AVG_bonus_per_worker,\n",
    "AVG(total_income) as AVG_total_income_per_worker\n",
    "FROM worker_location_YOUNG \"\"\", sql)"
   ]
  },
  {
   "cell_type": "code",
   "execution_count": 27,
   "id": "2e284077-4632-4ccd-92ee-8b350e7a2f15",
   "metadata": {},
   "outputs": [
    {
     "data": {
      "text/html": [
       "<div>\n",
       "<style scoped>\n",
       "    .dataframe tbody tr th:only-of-type {\n",
       "        vertical-align: middle;\n",
       "    }\n",
       "\n",
       "    .dataframe tbody tr th {\n",
       "        vertical-align: top;\n",
       "    }\n",
       "\n",
       "    .dataframe thead th {\n",
       "        text-align: right;\n",
       "    }\n",
       "</style>\n",
       "<table border=\"1\" class=\"dataframe\">\n",
       "  <thead>\n",
       "    <tr style=\"text-align: right;\">\n",
       "      <th></th>\n",
       "      <th>MAX_worker_salary_per_worker</th>\n",
       "      <th>MAX_bonus_per_worker</th>\n",
       "      <th>MAX_total_income_per_worker</th>\n",
       "    </tr>\n",
       "  </thead>\n",
       "  <tbody>\n",
       "    <tr>\n",
       "      <th>0</th>\n",
       "      <td>35000</td>\n",
       "      <td>130000</td>\n",
       "      <td>165000</td>\n",
       "    </tr>\n",
       "  </tbody>\n",
       "</table>\n",
       "</div>"
      ],
      "text/plain": [
       "   MAX_worker_salary_per_worker  MAX_bonus_per_worker  \\\n",
       "0                         35000                130000   \n",
       "\n",
       "   MAX_total_income_per_worker  \n",
       "0                       165000  "
      ]
     },
     "execution_count": 27,
     "metadata": {},
     "output_type": "execute_result"
    }
   ],
   "source": [
    "pd.read_sql(\"\"\"SELECT MAX(worker_salary) as MAX_worker_salary_per_worker,\n",
    "MAX(bonus) as MAX_bonus_per_worker,\n",
    "MAX(total_income) as MAX_total_income_per_worker\n",
    "FROM worker_location_YOUNG \"\"\", sql)"
   ]
  },
  {
   "cell_type": "markdown",
   "id": "26f0c1af-1165-4239-806b-9b1364c36ae6",
   "metadata": {
    "tags": []
   },
   "source": [
    "Вывод: в office-West трудятся 2 работника младше 40 лет, причем средний их доход на душу по office-West составляет 109 000, премия - 79000, а оклад - 30 000. Максимальный оклад молодого работника в office-West - 35 000, премия - 130 000, доход - 165 000 - то есть молодым работником с самым высоким доходом является Виктор."
   ]
  },
  {
   "cell_type": "code",
   "execution_count": null,
   "id": "9be6ed3e-c4ce-4de1-81c0-448259983b70",
   "metadata": {},
   "outputs": [],
   "source": []
  },
  {
   "cell_type": "code",
   "execution_count": null,
   "id": "1822ad56-fb6f-45fd-8b0b-963a62856b0c",
   "metadata": {},
   "outputs": [],
   "source": []
  },
  {
   "cell_type": "markdown",
   "id": "c57ac508-5bbe-45d0-a15b-6ea9cdfc75a6",
   "metadata": {},
   "source": [
    "Вариант 2 запроса к таблицам базы - для задачи Hard - \n",
    "Для начала объединим таблицы о работникаx и офисах, чтобы узнать названия офисов в которых они (конкретные работники) работают и их расположение и разместим информацию в алфавитном порядке по именам работников, а также учтем полученные ими бонусы и рассчитаем общий доход каждого работника в новой колонке и превышение совокупного дохода над окладом работников.\n",
    "Т.е. цель запроса - получить в одной таблице информацию о работниках, офисе работы и его расположении, а также совокупном доходе каждого работника.\n",
    "Эта таблица потребуется нам для дальнейшей аналитики при анализе распределения средних доходов работников на душу в разрезе по офисам фирмыб а также по работникам (см. далее)"
   ]
  },
  {
   "cell_type": "code",
   "execution_count": 28,
   "id": "da9957e1-5647-4269-a768-1881a7571d79",
   "metadata": {},
   "outputs": [
    {
     "data": {
      "text/html": [
       "<div>\n",
       "<style scoped>\n",
       "    .dataframe tbody tr th:only-of-type {\n",
       "        vertical-align: middle;\n",
       "    }\n",
       "\n",
       "    .dataframe tbody tr th {\n",
       "        vertical-align: top;\n",
       "    }\n",
       "\n",
       "    .dataframe thead th {\n",
       "        text-align: right;\n",
       "    }\n",
       "</style>\n",
       "<table border=\"1\" class=\"dataframe\">\n",
       "  <thead>\n",
       "    <tr style=\"text-align: right;\">\n",
       "      <th></th>\n",
       "      <th>worker_name</th>\n",
       "      <th>worker_id</th>\n",
       "      <th>age</th>\n",
       "      <th>office_id</th>\n",
       "      <th>office</th>\n",
       "      <th>location_office</th>\n",
       "      <th>worker_salary</th>\n",
       "      <th>bonus</th>\n",
       "      <th>total_income</th>\n",
       "      <th>total_income_to_salary</th>\n",
       "    </tr>\n",
       "  </thead>\n",
       "  <tbody>\n",
       "    <tr>\n",
       "      <th>0</th>\n",
       "      <td>Alex</td>\n",
       "      <td>1</td>\n",
       "      <td>26</td>\n",
       "      <td>0</td>\n",
       "      <td>office-North</td>\n",
       "      <td>Murmansk</td>\n",
       "      <td>58000</td>\n",
       "      <td>48000</td>\n",
       "      <td>106000</td>\n",
       "      <td>1</td>\n",
       "    </tr>\n",
       "    <tr>\n",
       "      <th>1</th>\n",
       "      <td>Anna</td>\n",
       "      <td>0</td>\n",
       "      <td>25</td>\n",
       "      <td>1</td>\n",
       "      <td>office-South</td>\n",
       "      <td>Krasnodar</td>\n",
       "      <td>50000</td>\n",
       "      <td>2000</td>\n",
       "      <td>52000</td>\n",
       "      <td>1</td>\n",
       "    </tr>\n",
       "    <tr>\n",
       "      <th>2</th>\n",
       "      <td>Catherine</td>\n",
       "      <td>2</td>\n",
       "      <td>35</td>\n",
       "      <td>2</td>\n",
       "      <td>office-East</td>\n",
       "      <td>Moscow</td>\n",
       "      <td>45000</td>\n",
       "      <td>69000</td>\n",
       "      <td>114000</td>\n",
       "      <td>2</td>\n",
       "    </tr>\n",
       "    <tr>\n",
       "      <th>3</th>\n",
       "      <td>Mary</td>\n",
       "      <td>3</td>\n",
       "      <td>34</td>\n",
       "      <td>4</td>\n",
       "      <td>office-Central</td>\n",
       "      <td>Moscow</td>\n",
       "      <td>120000</td>\n",
       "      <td>65000</td>\n",
       "      <td>185000</td>\n",
       "      <td>1</td>\n",
       "    </tr>\n",
       "    <tr>\n",
       "      <th>4</th>\n",
       "      <td>Peter</td>\n",
       "      <td>7</td>\n",
       "      <td>52</td>\n",
       "      <td>3</td>\n",
       "      <td>office-West</td>\n",
       "      <td>Kaliningrad</td>\n",
       "      <td>49000</td>\n",
       "      <td>150000</td>\n",
       "      <td>199000</td>\n",
       "      <td>4</td>\n",
       "    </tr>\n",
       "    <tr>\n",
       "      <th>5</th>\n",
       "      <td>Tina</td>\n",
       "      <td>4</td>\n",
       "      <td>28</td>\n",
       "      <td>3</td>\n",
       "      <td>office-West</td>\n",
       "      <td>Kaliningrad</td>\n",
       "      <td>25000</td>\n",
       "      <td>28000</td>\n",
       "      <td>53000</td>\n",
       "      <td>2</td>\n",
       "    </tr>\n",
       "    <tr>\n",
       "      <th>6</th>\n",
       "      <td>Valeria</td>\n",
       "      <td>5</td>\n",
       "      <td>40</td>\n",
       "      <td>4</td>\n",
       "      <td>office-Central</td>\n",
       "      <td>Moscow</td>\n",
       "      <td>68000</td>\n",
       "      <td>41000</td>\n",
       "      <td>109000</td>\n",
       "      <td>1</td>\n",
       "    </tr>\n",
       "    <tr>\n",
       "      <th>7</th>\n",
       "      <td>Viktor</td>\n",
       "      <td>6</td>\n",
       "      <td>33</td>\n",
       "      <td>3</td>\n",
       "      <td>office-West</td>\n",
       "      <td>Kaliningrad</td>\n",
       "      <td>35000</td>\n",
       "      <td>130000</td>\n",
       "      <td>165000</td>\n",
       "      <td>4</td>\n",
       "    </tr>\n",
       "  </tbody>\n",
       "</table>\n",
       "</div>"
      ],
      "text/plain": [
       "  worker_name  worker_id  age  office_id          office location_office  \\\n",
       "0        Alex          1   26          0    office-North        Murmansk   \n",
       "1        Anna          0   25          1    office-South       Krasnodar   \n",
       "2   Catherine          2   35          2     office-East          Moscow   \n",
       "3        Mary          3   34          4  office-Central          Moscow   \n",
       "4       Peter          7   52          3     office-West     Kaliningrad   \n",
       "5        Tina          4   28          3     office-West     Kaliningrad   \n",
       "6     Valeria          5   40          4  office-Central          Moscow   \n",
       "7      Viktor          6   33          3     office-West     Kaliningrad   \n",
       "\n",
       "   worker_salary   bonus  total_income  total_income_to_salary  \n",
       "0          58000   48000        106000                       1  \n",
       "1          50000    2000         52000                       1  \n",
       "2          45000   69000        114000                       2  \n",
       "3         120000   65000        185000                       1  \n",
       "4          49000  150000        199000                       4  \n",
       "5          25000   28000         53000                       2  \n",
       "6          68000   41000        109000                       1  \n",
       "7          35000  130000        165000                       4  "
      ]
     },
     "execution_count": 28,
     "metadata": {},
     "output_type": "execute_result"
    }
   ],
   "source": [
    "df_worker_location = pd.read_sql(\n",
    "    \"\"\"\n",
    "    SELECT w.name as worker_name,\n",
    "    w.id as worker_id,\n",
    "    w.age as age,\n",
    "    o.id as office_id,\n",
    "    o.office as office,\n",
    "    o.location as location_office,\n",
    "    w.salary as worker_salary,\n",
    "    b.bonus as bonus,\n",
    "    w.salary+b.bonus as total_income,\n",
    "    ((w.salary+b.bonus)/w.salary) as total_income_to_salary\n",
    "    FROM workers as w\n",
    "    JOIN offices as o ON o.id = w.office_id\n",
    "    JOIN bonus as b ON b.id_best = w.id\n",
    "    ORDER BY worker_name\n",
    "       \"\"\", sql)\n",
    "df_worker_location"
   ]
  },
  {
   "cell_type": "code",
   "execution_count": 29,
   "id": "02e5c8cb-bed1-4f9f-a095-ceed63f162eb",
   "metadata": {},
   "outputs": [
    {
     "name": "stdout",
     "output_type": "stream",
     "text": [
      "В целом по фирме совокупный доход всех работников составил 983000 рублей. В том числе по окладам = 450000 , по премиям 533000\n",
      "В структуре совокупного дохода преобладают премии -  54.22 процентов от всех доходов работников в целом.\n",
      "На долю премий приходится 45.78 процентов от всех доходов.\n"
     ]
    }
   ],
   "source": [
    "ti = df_worker_location.total_income.sum()\n",
    "ws = df_worker_location.worker_salary.sum()\n",
    "bo = df_worker_location.bonus.sum()\n",
    "bo_to_ti = round(bo/ti*100, 2)\n",
    "ws_to_ti = round(ws/ti*100, 2)\n",
    "print('В целом по фирме совокупный доход всех работников составил', ti, 'рублей. В том числе по окладам =', ws, ', по премиям', bo)\n",
    "print('В структуре совокупного дохода преобладают премии - ', bo_to_ti, 'процентов от всех доходов работников в целом.')\n",
    "print('На долю премий приходится', ws_to_ti, 'процентов от всех доходов.')"
   ]
  },
  {
   "cell_type": "markdown",
   "id": "7e9efda2-3e91-4f0c-a451-543f9becbef3",
   "metadata": {},
   "source": [
    "Распределение совокупного дохода каждого из работников в структуре их доходов в целом по фирме - на диаграмме."
   ]
  },
  {
   "cell_type": "code",
   "execution_count": 30,
   "id": "69f39380-4273-40fe-9ff6-7a1a53d31a2d",
   "metadata": {},
   "outputs": [
    {
     "data": {
      "text/plain": [
       "<AxesSubplot:ylabel='total_income'>"
      ]
     },
     "execution_count": 30,
     "metadata": {},
     "output_type": "execute_result"
    },
    {
     "data": {
      "image/png": "[encoded data removed]",
      "text/plain": [
       "<Figure size 432x288 with 1 Axes>"
      ]
     },
     "metadata": {},
     "output_type": "display_data"
    }
   ],
   "source": [
    "df_worker_location.total_income.plot(kind = \"pie\")"
   ]
  },
  {
   "cell_type": "markdown",
   "id": "ea0da9f2-4554-449b-9187-b48afc64d1cf",
   "metadata": {},
   "source": [
    "Махимальный совокупный доход - у Петера, минимальный - у Анны"
   ]
  },
  {
   "cell_type": "code",
   "execution_count": 31,
   "id": "8ed24245-8c9d-4e6b-9845-cb2ddb258727",
   "metadata": {},
   "outputs": [
    {
     "data": {
      "text/plain": [
       "<AxesSubplot:ylabel='worker_salary'>"
      ]
     },
     "execution_count": 31,
     "metadata": {},
     "output_type": "execute_result"
    },
    {
     "data": {
      "image/png": "[encoded data removed]",
      "text/plain": [
       "<Figure size 432x288 with 1 Axes>"
      ]
     },
     "metadata": {},
     "output_type": "display_data"
    }
   ],
   "source": [
    "df_worker_location.worker_salary.plot(kind = \"pie\")"
   ]
  },
  {
   "cell_type": "markdown",
   "id": "f7463470-4311-40ba-af36-b8a7b33e6223",
   "metadata": {},
   "source": [
    "При этом максимальный оклад - у Mary, а минимальный - у Тины"
   ]
  },
  {
   "cell_type": "code",
   "execution_count": 32,
   "id": "e5165205-3543-41b6-a213-3263082f70bc",
   "metadata": {},
   "outputs": [
    {
     "data": {
      "text/plain": [
       "<AxesSubplot:ylabel='bonus'>"
      ]
     },
     "execution_count": 32,
     "metadata": {},
     "output_type": "execute_result"
    },
    {
     "data": {
      "image/png": "[encoded data removed]",
      "text/plain": [
       "<Figure size 432x288 with 1 Axes>"
      ]
     },
     "metadata": {},
     "output_type": "display_data"
    }
   ],
   "source": [
    "df_worker_location.bonus.plot(kind = \"pie\")"
   ]
  },
  {
   "cell_type": "markdown",
   "id": "c0200e55-955c-44f5-ae0e-14e2aa16198c",
   "metadata": {},
   "source": [
    "Самую большую премию получил Петер, самую маленькую - Анна."
   ]
  },
  {
   "cell_type": "markdown",
   "id": "bb3b4f69-448f-44d6-b06f-d1c51795958f",
   "metadata": {},
   "source": [
    "Можем удалить столбцы, которые не требуются для дальнейшей аналитики по совокупному доходу работников на душу и среднем возрасте работников в разрезе по офисам."
   ]
  },
  {
   "cell_type": "code",
   "execution_count": 33,
   "id": "9cbb5318-a140-4083-b0bb-c98c0fe01da0",
   "metadata": {},
   "outputs": [],
   "source": [
    "df_worker_location.drop(['worker_id', 'office_id', 'total_income_to_salary'], axis = 1, inplace = True)"
   ]
  },
  {
   "cell_type": "code",
   "execution_count": 34,
   "id": "e450a3f0-1180-4085-b941-67cb09ff9d92",
   "metadata": {},
   "outputs": [],
   "source": [
    "df_worker_location.to_sql(\"worker_location\", sql, index_label=\"id\", if_exists=\"replace\")"
   ]
  },
  {
   "cell_type": "markdown",
   "id": "5e4eed11-7b8d-42a1-b20f-667adc3d93d2",
   "metadata": {},
   "source": [
    "Посмотрим распределение работников по возрастам "
   ]
  },
  {
   "cell_type": "code",
   "execution_count": 35,
   "id": "06fc2776-51e5-4248-a6a3-16e487302296",
   "metadata": {},
   "outputs": [
    {
     "data": {
      "text/plain": [
       "<AxesSubplot:>"
      ]
     },
     "execution_count": 35,
     "metadata": {},
     "output_type": "execute_result"
    },
    {
     "data": {
      "image/png": "[encoded data removed]",
      "text/plain": [
       "<Figure size 432x288 with 1 Axes>"
      ]
     },
     "metadata": {
      "needs_background": "light"
     },
     "output_type": "display_data"
    }
   ],
   "source": [
    "df_worker_location.age.plot.bar(y=['age'], x='worker_name')"
   ]
  },
  {
   "cell_type": "markdown",
   "id": "37868dcb-d585-4479-acb4-7d7d98a57315",
   "metadata": {},
   "source": [
    "Определим средний возраст и средние доходы на душу работника в целом по компании независимо от офиса работы/\n",
    "Данные отражены в сформированном датафрейме по запросу:"
   ]
  },
  {
   "cell_type": "code",
   "execution_count": 36,
   "id": "5bd5dff2-e234-4f4a-a19d-7addec01f5e0",
   "metadata": {},
   "outputs": [
    {
     "data": {
      "text/html": [
       "<div>\n",
       "<style scoped>\n",
       "    .dataframe tbody tr th:only-of-type {\n",
       "        vertical-align: middle;\n",
       "    }\n",
       "\n",
       "    .dataframe tbody tr th {\n",
       "        vertical-align: top;\n",
       "    }\n",
       "\n",
       "    .dataframe thead th {\n",
       "        text-align: right;\n",
       "    }\n",
       "</style>\n",
       "<table border=\"1\" class=\"dataframe\">\n",
       "  <thead>\n",
       "    <tr style=\"text-align: right;\">\n",
       "      <th></th>\n",
       "      <th>AVG_age</th>\n",
       "      <th>AVG_worker_salary</th>\n",
       "      <th>AVG_bonus</th>\n",
       "      <th>AVG_total_income</th>\n",
       "    </tr>\n",
       "  </thead>\n",
       "  <tbody>\n",
       "    <tr>\n",
       "      <th>0</th>\n",
       "      <td>34.125</td>\n",
       "      <td>56250.0</td>\n",
       "      <td>66625.0</td>\n",
       "      <td>122875.0</td>\n",
       "    </tr>\n",
       "  </tbody>\n",
       "</table>\n",
       "</div>"
      ],
      "text/plain": [
       "   AVG_age  AVG_worker_salary  AVG_bonus  AVG_total_income\n",
       "0   34.125            56250.0    66625.0          122875.0"
      ]
     },
     "execution_count": 36,
     "metadata": {},
     "output_type": "execute_result"
    }
   ],
   "source": [
    "df_worker_AVG = pd.read_sql(\n",
    "    \"\"\"\n",
    "    SELECT AVG(w.age) as AVG_age,\n",
    "    AVG(w.worker_salary) as AVG_worker_salary,\n",
    "    AVG(w.bonus) as AVG_bonus,\n",
    "    AVG(w.worker_salary+w.bonus) as AVG_total_income\n",
    "    FROM worker_location as w\n",
    "           \"\"\", sql)\n",
    "df_worker_AVG"
   ]
  },
  {
   "cell_type": "code",
   "execution_count": 37,
   "id": "ab242433-f5fa-4248-86eb-7ddcee74eca2",
   "metadata": {},
   "outputs": [
    {
     "name": "stdout",
     "output_type": "stream",
     "text": [
      "Средний возраст работников фирмы, лет 34\n",
      "Средний оклад работников фирмы, руб 56250\n",
      "Средняя премия работников фирмы, руб 66625\n",
      "Средний совокупный доход работников фирмы, руб 122875\n"
     ]
    }
   ],
   "source": [
    "AVG_age = int(df_worker_AVG.AVG_age)\n",
    "AVG_worker_salary = int(df_worker_AVG.AVG_worker_salary)\n",
    "AVG_bonus = int(df_worker_AVG.AVG_bonus)\n",
    "AVG_total_income = int(df_worker_AVG.AVG_total_income)\n",
    "print('Средний возраст работников фирмы, лет', AVG_age)\n",
    "print('Средний оклад работников фирмы, руб', AVG_worker_salary)\n",
    "print('Средняя премия работников фирмы, руб', AVG_bonus)\n",
    "print('Средний совокупный доход работников фирмы, руб', AVG_total_income)"
   ]
  },
  {
   "cell_type": "code",
   "execution_count": 38,
   "id": "e8c2ec5a-e73c-44a2-89ed-876eb1514392",
   "metadata": {},
   "outputs": [
    {
     "name": "stdout",
     "output_type": "stream",
     "text": [
      "Число работников фирмы старше (или равно) среднего возраста =  4 или 50.0 % общего числа\n",
      "Число работников фирмы младше среднего возраста =  4 или 50.0 % общего числа\n"
     ]
    }
   ],
   "source": [
    "older_AVG = df_worker_location[df_worker_location.age >= AVG_age].worker_name.count()\n",
    "older_AVG_part = older_AVG/df_worker_location.worker_name.count()*100\n",
    "younger_AVG = df_worker_location[df_worker_location.age < AVG_age].worker_name.count()\n",
    "younger_AVG_part = younger_AVG/df_worker_location.worker_name.count()*100\n",
    "print('Число работников фирмы старше (или равно) среднего возраста = ', older_AVG, \"или\", older_AVG_part, \"% общего числа\")\n",
    "print('Число работников фирмы младше среднего возраста = ', younger_AVG, \"или\", younger_AVG_part, \"% общего числа\" )"
   ]
  },
  {
   "cell_type": "code",
   "execution_count": null,
   "id": "87eddb12-8e5c-447d-9c46-445d6ca054d8",
   "metadata": {},
   "outputs": [],
   "source": []
  },
  {
   "cell_type": "code",
   "execution_count": null,
   "id": "c3a219de-a6ab-4a4e-928f-62927897b78a",
   "metadata": {},
   "outputs": [],
   "source": []
  },
  {
   "cell_type": "markdown",
   "id": "6490c280-1466-48d4-a3f7-8246958e7556",
   "metadata": {},
   "source": [
    "Как видим, средний оклад работников на душу - 56250, премия - 66625, а доход - 122875 руб, при том что средний возраст персонала = 34 года.\n",
    "Причем из числа всех работников - только у 3x человек совокупный доход составляет более среднего (или равно) - 122875 руб., о чем свидетельствует приведенный ниже запрос (совокупный доход наиболее богатых работников расположен в порядке возрастания):"
   ]
  },
  {
   "cell_type": "code",
   "execution_count": 39,
   "id": "ac649232-1833-4124-a7b9-c660d999a752",
   "metadata": {
    "tags": []
   },
   "outputs": [
    {
     "data": {
      "text/html": [
       "<div>\n",
       "<style scoped>\n",
       "    .dataframe tbody tr th:only-of-type {\n",
       "        vertical-align: middle;\n",
       "    }\n",
       "\n",
       "    .dataframe tbody tr th {\n",
       "        vertical-align: top;\n",
       "    }\n",
       "\n",
       "    .dataframe thead th {\n",
       "        text-align: right;\n",
       "    }\n",
       "</style>\n",
       "<table border=\"1\" class=\"dataframe\">\n",
       "  <thead>\n",
       "    <tr style=\"text-align: right;\">\n",
       "      <th></th>\n",
       "      <th>worker_name</th>\n",
       "      <th>age</th>\n",
       "      <th>office</th>\n",
       "      <th>worker_salary</th>\n",
       "      <th>bonus</th>\n",
       "      <th>total_income</th>\n",
       "    </tr>\n",
       "  </thead>\n",
       "  <tbody>\n",
       "    <tr>\n",
       "      <th>0</th>\n",
       "      <td>Viktor</td>\n",
       "      <td>33</td>\n",
       "      <td>office-West</td>\n",
       "      <td>35000</td>\n",
       "      <td>130000</td>\n",
       "      <td>165000</td>\n",
       "    </tr>\n",
       "    <tr>\n",
       "      <th>1</th>\n",
       "      <td>Mary</td>\n",
       "      <td>34</td>\n",
       "      <td>office-Central</td>\n",
       "      <td>120000</td>\n",
       "      <td>65000</td>\n",
       "      <td>185000</td>\n",
       "    </tr>\n",
       "    <tr>\n",
       "      <th>2</th>\n",
       "      <td>Peter</td>\n",
       "      <td>52</td>\n",
       "      <td>office-West</td>\n",
       "      <td>49000</td>\n",
       "      <td>150000</td>\n",
       "      <td>199000</td>\n",
       "    </tr>\n",
       "  </tbody>\n",
       "</table>\n",
       "</div>"
      ],
      "text/plain": [
       "  worker_name  age          office  worker_salary   bonus  total_income\n",
       "0      Viktor   33     office-West          35000  130000        165000\n",
       "1        Mary   34  office-Central         120000   65000        185000\n",
       "2       Peter   52     office-West          49000  150000        199000"
      ]
     },
     "execution_count": 39,
     "metadata": {},
     "output_type": "execute_result"
    }
   ],
   "source": [
    "df_worker_location_AVG_total_income = pd.read_sql(\n",
    "    \"\"\"\n",
    "    SELECT w.worker_name as worker_name,\n",
    "    w.age as age,\n",
    "    w.office as office,\n",
    "    w.worker_salary as worker_salary,\n",
    "    w.bonus as bonus,\n",
    "    w.worker_salary+w.bonus as total_income\n",
    "    FROM worker_location as w\n",
    "    WHERE total_income >= 122875\n",
    "    ORDER BY total_income\n",
    "       \"\"\", sql)\n",
    "df_worker_location_AVG_total_income"
   ]
  },
  {
   "cell_type": "code",
   "execution_count": 40,
   "id": "0fcf2fe5-3304-4c6c-b4ba-01f897774ab4",
   "metadata": {},
   "outputs": [
    {
     "name": "stdout",
     "output_type": "stream",
     "text": [
      "На работников с доходом выше среднего приходится 37.5 процентов работников от общего числа сотрудников фирмы\n"
     ]
    }
   ],
   "source": [
    "rich = df_worker_location[df_worker_location.total_income >= AVG_total_income].worker_name.count()/workers_df.name.count()*100\n",
    "print('На работников с доходом выше среднего приходится', rich, 'процентов работников от общего числа сотрудников фирмы')"
   ]
  },
  {
   "cell_type": "code",
   "execution_count": 41,
   "id": "56bac1fb-8e98-4c1c-b64e-43959b37144b",
   "metadata": {},
   "outputs": [
    {
     "name": "stdout",
     "output_type": "stream",
     "text": [
      "Число работников с совокупным доходом выше среднего составляет всего 3 человека\n",
      "У остальных работников фирмы доход ниже среднего\n"
     ]
    }
   ],
   "source": [
    "rich_2 = df_worker_location_AVG_total_income.worker_name.count()  # число работников с высоким общим доходом\n",
    "print('Число работников с совокупным доходом выше среднего составляет всего',rich_2,'человека')\n",
    "print('У остальных работников фирмы доход ниже среднего')"
   ]
  },
  {
   "cell_type": "code",
   "execution_count": null,
   "id": "98a223b3-4982-47c6-a28c-18a1b425694b",
   "metadata": {},
   "outputs": [],
   "source": []
  },
  {
   "cell_type": "markdown",
   "id": "e83e05e5-ba14-4b0a-a4a2-dcec5c0cb345",
   "metadata": {},
   "source": [
    "Найдем средний оклад работников на душу и средний совокупный доход работника на душу в разрезе по офисам \n",
    "и средний возраст работников в разрезе по каждому офису, на основании полученных в результате выполнения запроса данных."
   ]
  },
  {
   "cell_type": "code",
   "execution_count": 42,
   "id": "c6fb9dbd-9451-4ff1-a7c5-bc4345c72017",
   "metadata": {},
   "outputs": [
    {
     "data": {
      "text/html": [
       "<div>\n",
       "<style scoped>\n",
       "    .dataframe tbody tr th:only-of-type {\n",
       "        vertical-align: middle;\n",
       "    }\n",
       "\n",
       "    .dataframe tbody tr th {\n",
       "        vertical-align: top;\n",
       "    }\n",
       "\n",
       "    .dataframe thead th {\n",
       "        text-align: right;\n",
       "    }\n",
       "</style>\n",
       "<table border=\"1\" class=\"dataframe\">\n",
       "  <thead>\n",
       "    <tr style=\"text-align: right;\">\n",
       "      <th></th>\n",
       "      <th>age</th>\n",
       "      <th>worker_salary</th>\n",
       "      <th>bonus</th>\n",
       "      <th>total_income</th>\n",
       "    </tr>\n",
       "    <tr>\n",
       "      <th>office</th>\n",
       "      <th></th>\n",
       "      <th></th>\n",
       "      <th></th>\n",
       "      <th></th>\n",
       "    </tr>\n",
       "  </thead>\n",
       "  <tbody>\n",
       "    <tr>\n",
       "      <th>office-Central</th>\n",
       "      <td>37.0</td>\n",
       "      <td>94000.0</td>\n",
       "      <td>53000.0</td>\n",
       "      <td>147000.0</td>\n",
       "    </tr>\n",
       "    <tr>\n",
       "      <th>office-East</th>\n",
       "      <td>35.0</td>\n",
       "      <td>45000.0</td>\n",
       "      <td>69000.0</td>\n",
       "      <td>114000.0</td>\n",
       "    </tr>\n",
       "    <tr>\n",
       "      <th>office-North</th>\n",
       "      <td>26.0</td>\n",
       "      <td>58000.0</td>\n",
       "      <td>48000.0</td>\n",
       "      <td>106000.0</td>\n",
       "    </tr>\n",
       "    <tr>\n",
       "      <th>office-South</th>\n",
       "      <td>25.0</td>\n",
       "      <td>50000.0</td>\n",
       "      <td>2000.0</td>\n",
       "      <td>52000.0</td>\n",
       "    </tr>\n",
       "    <tr>\n",
       "      <th>office-West</th>\n",
       "      <td>38.0</td>\n",
       "      <td>36333.0</td>\n",
       "      <td>102667.0</td>\n",
       "      <td>139000.0</td>\n",
       "    </tr>\n",
       "  </tbody>\n",
       "</table>\n",
       "</div>"
      ],
      "text/plain": [
       "                 age  worker_salary     bonus  total_income\n",
       "office                                                     \n",
       "office-Central  37.0        94000.0   53000.0      147000.0\n",
       "office-East     35.0        45000.0   69000.0      114000.0\n",
       "office-North    26.0        58000.0   48000.0      106000.0\n",
       "office-South    25.0        50000.0    2000.0       52000.0\n",
       "office-West     38.0        36333.0  102667.0      139000.0"
      ]
     },
     "execution_count": 42,
     "metadata": {},
     "output_type": "execute_result"
    }
   ],
   "source": [
    "df_worker_location_mean = df_worker_location.groupby(['office']).mean().round(0)\n",
    "df_worker_location_mean"
   ]
  },
  {
   "cell_type": "code",
   "execution_count": 43,
   "id": "b1643a55-d3d9-41fb-a1b3-0709deab4cc6",
   "metadata": {
    "tags": []
   },
   "outputs": [
    {
     "data": {
      "text/html": [
       "<div>\n",
       "<style scoped>\n",
       "    .dataframe tbody tr th:only-of-type {\n",
       "        vertical-align: middle;\n",
       "    }\n",
       "\n",
       "    .dataframe tbody tr th {\n",
       "        vertical-align: top;\n",
       "    }\n",
       "\n",
       "    .dataframe thead th {\n",
       "        text-align: right;\n",
       "    }\n",
       "</style>\n",
       "<table border=\"1\" class=\"dataframe\">\n",
       "  <thead>\n",
       "    <tr style=\"text-align: right;\">\n",
       "      <th></th>\n",
       "      <th>id</th>\n",
       "      <th>age</th>\n",
       "      <th>worker_salary</th>\n",
       "      <th>bonus</th>\n",
       "      <th>total_income</th>\n",
       "    </tr>\n",
       "  </thead>\n",
       "  <tbody>\n",
       "    <tr>\n",
       "      <th>0</th>\n",
       "      <td>office-Central</td>\n",
       "      <td>37.0</td>\n",
       "      <td>94000.0</td>\n",
       "      <td>53000.0</td>\n",
       "      <td>147000.0</td>\n",
       "    </tr>\n",
       "    <tr>\n",
       "      <th>1</th>\n",
       "      <td>office-East</td>\n",
       "      <td>35.0</td>\n",
       "      <td>45000.0</td>\n",
       "      <td>69000.0</td>\n",
       "      <td>114000.0</td>\n",
       "    </tr>\n",
       "    <tr>\n",
       "      <th>2</th>\n",
       "      <td>office-North</td>\n",
       "      <td>26.0</td>\n",
       "      <td>58000.0</td>\n",
       "      <td>48000.0</td>\n",
       "      <td>106000.0</td>\n",
       "    </tr>\n",
       "    <tr>\n",
       "      <th>3</th>\n",
       "      <td>office-South</td>\n",
       "      <td>25.0</td>\n",
       "      <td>50000.0</td>\n",
       "      <td>2000.0</td>\n",
       "      <td>52000.0</td>\n",
       "    </tr>\n",
       "    <tr>\n",
       "      <th>4</th>\n",
       "      <td>office-West</td>\n",
       "      <td>38.0</td>\n",
       "      <td>36333.0</td>\n",
       "      <td>102667.0</td>\n",
       "      <td>139000.0</td>\n",
       "    </tr>\n",
       "  </tbody>\n",
       "</table>\n",
       "</div>"
      ],
      "text/plain": [
       "               id   age  worker_salary     bonus  total_income\n",
       "0  office-Central  37.0        94000.0   53000.0      147000.0\n",
       "1     office-East  35.0        45000.0   69000.0      114000.0\n",
       "2    office-North  26.0        58000.0   48000.0      106000.0\n",
       "3    office-South  25.0        50000.0    2000.0       52000.0\n",
       "4     office-West  38.0        36333.0  102667.0      139000.0"
      ]
     },
     "execution_count": 43,
     "metadata": {},
     "output_type": "execute_result"
    }
   ],
   "source": [
    "df_worker_location_mean.to_sql(\"worker_location_mean\", sql, index_label=\"id\", if_exists=\"replace\") # запишем результат в sql\n",
    "pd.read_sql(\"SELECT * FROM worker_location_mean\", sql)"
   ]
  },
  {
   "cell_type": "markdown",
   "id": "e055af5c-0712-44d7-87d1-d1161611adb3",
   "metadata": {},
   "source": [
    "Также можем определить совокупный доход работников (не на душу) в целом по каждому офису:"
   ]
  },
  {
   "cell_type": "code",
   "execution_count": 44,
   "id": "09c521e9-be8d-4db2-a532-a13f9124bd39",
   "metadata": {},
   "outputs": [
    {
     "data": {
      "text/html": [
       "<div>\n",
       "<style scoped>\n",
       "    .dataframe tbody tr th:only-of-type {\n",
       "        vertical-align: middle;\n",
       "    }\n",
       "\n",
       "    .dataframe tbody tr th {\n",
       "        vertical-align: top;\n",
       "    }\n",
       "\n",
       "    .dataframe thead th {\n",
       "        text-align: right;\n",
       "    }\n",
       "</style>\n",
       "<table border=\"1\" class=\"dataframe\">\n",
       "  <thead>\n",
       "    <tr style=\"text-align: right;\">\n",
       "      <th></th>\n",
       "      <th>age</th>\n",
       "      <th>worker_salary</th>\n",
       "      <th>bonus</th>\n",
       "      <th>total_income</th>\n",
       "    </tr>\n",
       "    <tr>\n",
       "      <th>office</th>\n",
       "      <th></th>\n",
       "      <th></th>\n",
       "      <th></th>\n",
       "      <th></th>\n",
       "    </tr>\n",
       "  </thead>\n",
       "  <tbody>\n",
       "    <tr>\n",
       "      <th>office-Central</th>\n",
       "      <td>74</td>\n",
       "      <td>188000</td>\n",
       "      <td>106000</td>\n",
       "      <td>294000</td>\n",
       "    </tr>\n",
       "    <tr>\n",
       "      <th>office-East</th>\n",
       "      <td>35</td>\n",
       "      <td>45000</td>\n",
       "      <td>69000</td>\n",
       "      <td>114000</td>\n",
       "    </tr>\n",
       "    <tr>\n",
       "      <th>office-North</th>\n",
       "      <td>26</td>\n",
       "      <td>58000</td>\n",
       "      <td>48000</td>\n",
       "      <td>106000</td>\n",
       "    </tr>\n",
       "    <tr>\n",
       "      <th>office-South</th>\n",
       "      <td>25</td>\n",
       "      <td>50000</td>\n",
       "      <td>2000</td>\n",
       "      <td>52000</td>\n",
       "    </tr>\n",
       "    <tr>\n",
       "      <th>office-West</th>\n",
       "      <td>113</td>\n",
       "      <td>109000</td>\n",
       "      <td>308000</td>\n",
       "      <td>417000</td>\n",
       "    </tr>\n",
       "  </tbody>\n",
       "</table>\n",
       "</div>"
      ],
      "text/plain": [
       "                age  worker_salary   bonus  total_income\n",
       "office                                                  \n",
       "office-Central   74         188000  106000        294000\n",
       "office-East      35          45000   69000        114000\n",
       "office-North     26          58000   48000        106000\n",
       "office-South     25          50000    2000         52000\n",
       "office-West     113         109000  308000        417000"
      ]
     },
     "execution_count": 44,
     "metadata": {},
     "output_type": "execute_result"
    }
   ],
   "source": [
    "df_worker_location_sum = df_worker_location.groupby(['office']).sum().round(0)\n",
    "df_worker_location_sum"
   ]
  },
  {
   "cell_type": "code",
   "execution_count": 45,
   "id": "1ca0178b-2804-4fdf-ae2b-7d662a628f1b",
   "metadata": {},
   "outputs": [
    {
     "data": {
      "text/plain": [
       "<AxesSubplot:ylabel='total_income'>"
      ]
     },
     "execution_count": 45,
     "metadata": {},
     "output_type": "execute_result"
    },
    {
     "data": {
      "image/png": "[encoded data removed]",
      "text/plain": [
       "<Figure size 432x288 with 1 Axes>"
      ]
     },
     "metadata": {},
     "output_type": "display_data"
    }
   ],
   "source": [
    "df_worker_location_sum.total_income.plot(kind = \"pie\")"
   ]
  },
  {
   "cell_type": "markdown",
   "id": "bdb9b9d1-14e0-4ed6-ba2d-c03bd1a2b22a",
   "metadata": {},
   "source": [
    "Самые большие расходы на оплату труда - в office-West, минимальные - в office-South"
   ]
  },
  {
   "cell_type": "code",
   "execution_count": 46,
   "id": "c0e3b970-483f-41af-8f7b-414cf3ad209f",
   "metadata": {},
   "outputs": [
    {
     "data": {
      "text/plain": [
       "<AxesSubplot:ylabel='worker_salary'>"
      ]
     },
     "execution_count": 46,
     "metadata": {},
     "output_type": "execute_result"
    },
    {
     "data": {
      "image/png": "[encoded data removed]",
      "text/plain": [
       "<Figure size 432x288 with 1 Axes>"
      ]
     },
     "metadata": {},
     "output_type": "display_data"
    }
   ],
   "source": [
    "df_worker_location_sum.worker_salary.plot(kind = \"pie\")"
   ]
  },
  {
   "cell_type": "markdown",
   "id": "d6c13ad8-54f0-4b1b-89af-9268d09d9024",
   "metadata": {},
   "source": [
    "Максимальный оклад также в office-Central"
   ]
  },
  {
   "cell_type": "code",
   "execution_count": 47,
   "id": "167d4fe0-7e37-48ec-bfc3-ff17c408325d",
   "metadata": {
    "tags": []
   },
   "outputs": [
    {
     "data": {
      "text/plain": [
       "<AxesSubplot:ylabel='bonus'>"
      ]
     },
     "execution_count": 47,
     "metadata": {},
     "output_type": "execute_result"
    },
    {
     "data": {
      "image/png": "[encoded data removed]",
      "text/plain": [
       "<Figure size 432x288 with 1 Axes>"
      ]
     },
     "metadata": {},
     "output_type": "display_data"
    }
   ],
   "source": [
    "df_worker_location_sum.bonus.plot(kind = \"pie\")"
   ]
  },
  {
   "cell_type": "markdown",
   "id": "b6855de2-bc21-48ae-bc90-803f9f540459",
   "metadata": {},
   "source": [
    "В то время как премия максимальна в office-West"
   ]
  },
  {
   "cell_type": "code",
   "execution_count": null,
   "id": "774ea79e-9457-4236-b16c-75e64fce8481",
   "metadata": {},
   "outputs": [],
   "source": []
  },
  {
   "cell_type": "markdown",
   "id": "ad1f4d48-63bb-4916-9266-1d16d9cf14fb",
   "metadata": {},
   "source": [
    "Посмотрим максимальные и минимальные средние оклад, премию и доход на душу работника в разрезе по офисам фирмы"
   ]
  },
  {
   "cell_type": "code",
   "execution_count": null,
   "id": "b32709d3-9771-4efb-8d08-2ba6c3f4be92",
   "metadata": {},
   "outputs": [],
   "source": []
  },
  {
   "cell_type": "code",
   "execution_count": 48,
   "id": "20859466-73c6-4d7c-925a-d4013b23018b",
   "metadata": {},
   "outputs": [
    {
     "data": {
      "text/html": [
       "<div>\n",
       "<style scoped>\n",
       "    .dataframe tbody tr th:only-of-type {\n",
       "        vertical-align: middle;\n",
       "    }\n",
       "\n",
       "    .dataframe tbody tr th {\n",
       "        vertical-align: top;\n",
       "    }\n",
       "\n",
       "    .dataframe thead th {\n",
       "        text-align: right;\n",
       "    }\n",
       "</style>\n",
       "<table border=\"1\" class=\"dataframe\">\n",
       "  <thead>\n",
       "    <tr style=\"text-align: right;\">\n",
       "      <th></th>\n",
       "      <th>MAX(worker_salary)</th>\n",
       "      <th>MAX(bonus)</th>\n",
       "      <th>MAX(total_income)</th>\n",
       "    </tr>\n",
       "  </thead>\n",
       "  <tbody>\n",
       "    <tr>\n",
       "      <th>0</th>\n",
       "      <td>94000.0</td>\n",
       "      <td>102667.0</td>\n",
       "      <td>147000.0</td>\n",
       "    </tr>\n",
       "  </tbody>\n",
       "</table>\n",
       "</div>"
      ],
      "text/plain": [
       "   MAX(worker_salary)  MAX(bonus)  MAX(total_income)\n",
       "0             94000.0    102667.0           147000.0"
      ]
     },
     "execution_count": 48,
     "metadata": {},
     "output_type": "execute_result"
    }
   ],
   "source": [
    "pd.read_sql(\"\"\"SELECT MAX(worker_salary), MAX(bonus), MAX(total_income)\n",
    "FROM worker_location_mean\n",
    " \"\"\", sql)"
   ]
  },
  {
   "cell_type": "code",
   "execution_count": 49,
   "id": "d6d1f999-45b3-4ba6-8021-51fa6b402d7c",
   "metadata": {},
   "outputs": [
    {
     "data": {
      "text/html": [
       "<div>\n",
       "<style scoped>\n",
       "    .dataframe tbody tr th:only-of-type {\n",
       "        vertical-align: middle;\n",
       "    }\n",
       "\n",
       "    .dataframe tbody tr th {\n",
       "        vertical-align: top;\n",
       "    }\n",
       "\n",
       "    .dataframe thead th {\n",
       "        text-align: right;\n",
       "    }\n",
       "</style>\n",
       "<table border=\"1\" class=\"dataframe\">\n",
       "  <thead>\n",
       "    <tr style=\"text-align: right;\">\n",
       "      <th></th>\n",
       "      <th>MIN(worker_salary)</th>\n",
       "      <th>MIN(bonus)</th>\n",
       "      <th>MIN(total_income)</th>\n",
       "    </tr>\n",
       "  </thead>\n",
       "  <tbody>\n",
       "    <tr>\n",
       "      <th>0</th>\n",
       "      <td>36333.0</td>\n",
       "      <td>2000.0</td>\n",
       "      <td>52000.0</td>\n",
       "    </tr>\n",
       "  </tbody>\n",
       "</table>\n",
       "</div>"
      ],
      "text/plain": [
       "   MIN(worker_salary)  MIN(bonus)  MIN(total_income)\n",
       "0             36333.0      2000.0            52000.0"
      ]
     },
     "execution_count": 49,
     "metadata": {},
     "output_type": "execute_result"
    }
   ],
   "source": [
    "pd.read_sql(\"\"\"SELECT MIN(worker_salary), MIN(bonus), MIN(total_income)\n",
    "FROM worker_location_mean\n",
    " \"\"\", sql)"
   ]
  },
  {
   "cell_type": "markdown",
   "id": "a0863afe-48f2-4003-b71d-74fa23db87c0",
   "metadata": {},
   "source": [
    "Отсортируем офисы фирмы по совокупному доходу на душу работника от большего к меньшему:"
   ]
  },
  {
   "cell_type": "code",
   "execution_count": 50,
   "id": "b11ff1e1-ba91-4fe7-b055-817a1143eba1",
   "metadata": {},
   "outputs": [
    {
     "data": {
      "text/html": [
       "<div>\n",
       "<style scoped>\n",
       "    .dataframe tbody tr th:only-of-type {\n",
       "        vertical-align: middle;\n",
       "    }\n",
       "\n",
       "    .dataframe tbody tr th {\n",
       "        vertical-align: top;\n",
       "    }\n",
       "\n",
       "    .dataframe thead th {\n",
       "        text-align: right;\n",
       "    }\n",
       "</style>\n",
       "<table border=\"1\" class=\"dataframe\">\n",
       "  <thead>\n",
       "    <tr style=\"text-align: right;\">\n",
       "      <th></th>\n",
       "      <th>age</th>\n",
       "      <th>worker_salary</th>\n",
       "      <th>bonus</th>\n",
       "      <th>total_income</th>\n",
       "    </tr>\n",
       "    <tr>\n",
       "      <th>office</th>\n",
       "      <th></th>\n",
       "      <th></th>\n",
       "      <th></th>\n",
       "      <th></th>\n",
       "    </tr>\n",
       "  </thead>\n",
       "  <tbody>\n",
       "    <tr>\n",
       "      <th>office-Central</th>\n",
       "      <td>37.0</td>\n",
       "      <td>94000.0</td>\n",
       "      <td>53000.0</td>\n",
       "      <td>147000.0</td>\n",
       "    </tr>\n",
       "    <tr>\n",
       "      <th>office-West</th>\n",
       "      <td>38.0</td>\n",
       "      <td>36333.0</td>\n",
       "      <td>102667.0</td>\n",
       "      <td>139000.0</td>\n",
       "    </tr>\n",
       "    <tr>\n",
       "      <th>office-East</th>\n",
       "      <td>35.0</td>\n",
       "      <td>45000.0</td>\n",
       "      <td>69000.0</td>\n",
       "      <td>114000.0</td>\n",
       "    </tr>\n",
       "    <tr>\n",
       "      <th>office-North</th>\n",
       "      <td>26.0</td>\n",
       "      <td>58000.0</td>\n",
       "      <td>48000.0</td>\n",
       "      <td>106000.0</td>\n",
       "    </tr>\n",
       "    <tr>\n",
       "      <th>office-South</th>\n",
       "      <td>25.0</td>\n",
       "      <td>50000.0</td>\n",
       "      <td>2000.0</td>\n",
       "      <td>52000.0</td>\n",
       "    </tr>\n",
       "  </tbody>\n",
       "</table>\n",
       "</div>"
      ],
      "text/plain": [
       "                 age  worker_salary     bonus  total_income\n",
       "office                                                     \n",
       "office-Central  37.0        94000.0   53000.0      147000.0\n",
       "office-West     38.0        36333.0  102667.0      139000.0\n",
       "office-East     35.0        45000.0   69000.0      114000.0\n",
       "office-North    26.0        58000.0   48000.0      106000.0\n",
       "office-South    25.0        50000.0    2000.0       52000.0"
      ]
     },
     "execution_count": 50,
     "metadata": {},
     "output_type": "execute_result"
    }
   ],
   "source": [
    "df_worker_location_max = df_worker_location_mean.round(0).sort_values(['total_income'], ascending = False)\n",
    "df_worker_location_max"
   ]
  },
  {
   "cell_type": "markdown",
   "id": "524fb7b7-f839-4e04-b12b-371d17dc34ef",
   "metadata": {},
   "source": [
    "Вывод:  Самый высокий средний совокупный общий доход работников на душу в среднем по офису в office-Central, минимальный - в office-South. Самый высокий средний оклад на душу по офису в целом  - в office-Central, самый низкий - в office-West. "
   ]
  },
  {
   "cell_type": "markdown",
   "id": "669d0db6-0c87-4291-9cc5-e37b60f16ebb",
   "metadata": {},
   "source": [
    "При анализе распределения совокупного дохода на душу и с учетом построения графиков в разрезе офисов (ниже) мы видим, что максимальный средний доход (total_income) на душу в разрезе офисов - в office-Central, минимальный - в office-South. При этом максимальный оклад на душу преобладает в office-Central, минимальный - в office-West. Что касается премии - она максимальна в office-West и минимальна в office-South."
   ]
  },
  {
   "cell_type": "code",
   "execution_count": 51,
   "id": "ccd46485-c347-4bd6-9485-98fe453c553c",
   "metadata": {},
   "outputs": [
    {
     "data": {
      "text/html": [
       "<div>\n",
       "<style scoped>\n",
       "    .dataframe tbody tr th:only-of-type {\n",
       "        vertical-align: middle;\n",
       "    }\n",
       "\n",
       "    .dataframe tbody tr th {\n",
       "        vertical-align: top;\n",
       "    }\n",
       "\n",
       "    .dataframe thead th {\n",
       "        text-align: right;\n",
       "    }\n",
       "</style>\n",
       "<table border=\"1\" class=\"dataframe\">\n",
       "  <thead>\n",
       "    <tr style=\"text-align: right;\">\n",
       "      <th></th>\n",
       "      <th>office</th>\n",
       "      <th>worker_salary</th>\n",
       "    </tr>\n",
       "  </thead>\n",
       "  <tbody>\n",
       "    <tr>\n",
       "      <th>0</th>\n",
       "      <td>office-Central</td>\n",
       "      <td>94000.0</td>\n",
       "    </tr>\n",
       "    <tr>\n",
       "      <th>1</th>\n",
       "      <td>office-North</td>\n",
       "      <td>58000.0</td>\n",
       "    </tr>\n",
       "  </tbody>\n",
       "</table>\n",
       "</div>"
      ],
      "text/plain": [
       "           office  worker_salary\n",
       "0  office-Central        94000.0\n",
       "1    office-North        58000.0"
      ]
     },
     "execution_count": 51,
     "metadata": {},
     "output_type": "execute_result"
    }
   ],
   "source": [
    "# узнаем офисы, в которых средний оклад на душу выше среднего оклада на душу в целом по фирме\n",
    "pd.read_sql(\"\"\"SELECT w.id as office,  \n",
    "w.worker_salary as worker_salary\n",
    "FROM worker_location_mean as w\n",
    "WHERE w.worker_salary >= 56250\n",
    "ORDER BY worker_salary DESC\n",
    " \"\"\", sql)"
   ]
  },
  {
   "cell_type": "code",
   "execution_count": 52,
   "id": "41c3f8c0-f675-4128-a6e2-50441faaed72",
   "metadata": {},
   "outputs": [
    {
     "data": {
      "text/html": [
       "<div>\n",
       "<style scoped>\n",
       "    .dataframe tbody tr th:only-of-type {\n",
       "        vertical-align: middle;\n",
       "    }\n",
       "\n",
       "    .dataframe tbody tr th {\n",
       "        vertical-align: top;\n",
       "    }\n",
       "\n",
       "    .dataframe thead th {\n",
       "        text-align: right;\n",
       "    }\n",
       "</style>\n",
       "<table border=\"1\" class=\"dataframe\">\n",
       "  <thead>\n",
       "    <tr style=\"text-align: right;\">\n",
       "      <th></th>\n",
       "      <th>office</th>\n",
       "      <th>bonus</th>\n",
       "    </tr>\n",
       "  </thead>\n",
       "  <tbody>\n",
       "    <tr>\n",
       "      <th>0</th>\n",
       "      <td>office-West</td>\n",
       "      <td>102667.0</td>\n",
       "    </tr>\n",
       "    <tr>\n",
       "      <th>1</th>\n",
       "      <td>office-East</td>\n",
       "      <td>69000.0</td>\n",
       "    </tr>\n",
       "  </tbody>\n",
       "</table>\n",
       "</div>"
      ],
      "text/plain": [
       "        office     bonus\n",
       "0  office-West  102667.0\n",
       "1  office-East   69000.0"
      ]
     },
     "execution_count": 52,
     "metadata": {},
     "output_type": "execute_result"
    }
   ],
   "source": [
    "# узнаем офисы, в которых средняя премия на душу выше средней премии на душу по фирме\n",
    "pd.read_sql(\"\"\"SELECT w.id as office,\n",
    "w.bonus as bonus\n",
    "FROM worker_location_mean as w\n",
    "WHERE w.bonus >= 66625\n",
    "ORDER BY bonus DESC\n",
    " \"\"\", sql)"
   ]
  },
  {
   "cell_type": "code",
   "execution_count": 53,
   "id": "57d53189-9fac-4d2c-b933-1d7628469297",
   "metadata": {},
   "outputs": [
    {
     "data": {
      "text/html": [
       "<div>\n",
       "<style scoped>\n",
       "    .dataframe tbody tr th:only-of-type {\n",
       "        vertical-align: middle;\n",
       "    }\n",
       "\n",
       "    .dataframe tbody tr th {\n",
       "        vertical-align: top;\n",
       "    }\n",
       "\n",
       "    .dataframe thead th {\n",
       "        text-align: right;\n",
       "    }\n",
       "</style>\n",
       "<table border=\"1\" class=\"dataframe\">\n",
       "  <thead>\n",
       "    <tr style=\"text-align: right;\">\n",
       "      <th></th>\n",
       "      <th>office</th>\n",
       "      <th>total_income</th>\n",
       "    </tr>\n",
       "  </thead>\n",
       "  <tbody>\n",
       "    <tr>\n",
       "      <th>0</th>\n",
       "      <td>office-Central</td>\n",
       "      <td>147000.0</td>\n",
       "    </tr>\n",
       "    <tr>\n",
       "      <th>1</th>\n",
       "      <td>office-West</td>\n",
       "      <td>139000.0</td>\n",
       "    </tr>\n",
       "  </tbody>\n",
       "</table>\n",
       "</div>"
      ],
      "text/plain": [
       "           office  total_income\n",
       "0  office-Central      147000.0\n",
       "1     office-West      139000.0"
      ]
     },
     "execution_count": 53,
     "metadata": {},
     "output_type": "execute_result"
    }
   ],
   "source": [
    "# узнаем офисы, в которых средний доход на душу итого выше среднего совокупного дохода на душу по фирме\n",
    "pd.read_sql(\"\"\"SELECT w.id as office,\n",
    "w.total_income as total_income\n",
    "FROM worker_location_mean as w\n",
    "WHERE w.total_income >= 122875\n",
    "ORDER BY total_income DESC\n",
    " \"\"\", sql)"
   ]
  },
  {
   "cell_type": "code",
   "execution_count": 54,
   "id": "0f1b4897-d289-44b6-a949-8aa2a3b94289",
   "metadata": {},
   "outputs": [
    {
     "data": {
      "text/html": [
       "<div>\n",
       "<style scoped>\n",
       "    .dataframe tbody tr th:only-of-type {\n",
       "        vertical-align: middle;\n",
       "    }\n",
       "\n",
       "    .dataframe tbody tr th {\n",
       "        vertical-align: top;\n",
       "    }\n",
       "\n",
       "    .dataframe thead th {\n",
       "        text-align: right;\n",
       "    }\n",
       "</style>\n",
       "<table border=\"1\" class=\"dataframe\">\n",
       "  <thead>\n",
       "    <tr style=\"text-align: right;\">\n",
       "      <th></th>\n",
       "      <th>office</th>\n",
       "      <th>total_income</th>\n",
       "    </tr>\n",
       "  </thead>\n",
       "  <tbody>\n",
       "    <tr>\n",
       "      <th>0</th>\n",
       "      <td>office-South</td>\n",
       "      <td>52000.0</td>\n",
       "    </tr>\n",
       "    <tr>\n",
       "      <th>1</th>\n",
       "      <td>office-North</td>\n",
       "      <td>106000.0</td>\n",
       "    </tr>\n",
       "    <tr>\n",
       "      <th>2</th>\n",
       "      <td>office-East</td>\n",
       "      <td>114000.0</td>\n",
       "    </tr>\n",
       "  </tbody>\n",
       "</table>\n",
       "</div>"
      ],
      "text/plain": [
       "         office  total_income\n",
       "0  office-South       52000.0\n",
       "1  office-North      106000.0\n",
       "2   office-East      114000.0"
      ]
     },
     "execution_count": 54,
     "metadata": {},
     "output_type": "execute_result"
    }
   ],
   "source": [
    "# узнаем офисы, в которых средний доход на душу итого ниже среднего совокупного дохода на душу по фирме\n",
    "pd.read_sql(\"\"\"SELECT w.id as office,\n",
    "w.total_income as total_income\n",
    "FROM worker_location_mean as w\n",
    "WHERE w.total_income < 122875\n",
    "ORDER BY total_income \n",
    " \"\"\", sql)"
   ]
  },
  {
   "cell_type": "markdown",
   "id": "80f14755-4419-424c-96fc-bf22736a8047",
   "metadata": {},
   "source": [
    "Таким образом, из 5ти офисов фирмы - превышают средние значения показателей оклада, премии и совокупного дохода только два офиса, причем в зависимости от рассматриваемого среднего показателя эти офисы различаются\n",
    "- по совокупному доходу на душу - office-Central и office-West\n",
    "- по премии на душу - office-East и office-West\n",
    "- по окладу - office-Central и office-North\n",
    "\n",
    "При этом в office-Central самый высокий совокупный доход на душу и оклад на душу, а самый низкий - в office-South"
   ]
  },
  {
   "cell_type": "code",
   "execution_count": 55,
   "id": "7fa36b58-b592-495a-a84f-6c6fd41453f8",
   "metadata": {},
   "outputs": [
    {
     "data": {
      "text/plain": [
       "<AxesSubplot:xlabel='office'>"
      ]
     },
     "execution_count": 55,
     "metadata": {},
     "output_type": "execute_result"
    },
    {
     "data": {
      "image/png": "[encoded data removed]",
      "text/plain": [
       "<Figure size 432x288 with 1 Axes>"
      ]
     },
     "metadata": {
      "needs_background": "light"
     },
     "output_type": "display_data"
    }
   ],
   "source": [
    "# График со значениями среднего оклада, премии, совокупного дохода на душу\n",
    "df_worker_location_mean.plot(y = [\"worker_salary\", \"bonus\", \"total_income\"], kind = \"bar\")"
   ]
  },
  {
   "cell_type": "code",
   "execution_count": 56,
   "id": "744feedc-3d29-4532-a096-4f54fdce1dc1",
   "metadata": {
    "tags": []
   },
   "outputs": [
    {
     "data": {
      "text/plain": [
       "<AxesSubplot:ylabel='office'>"
      ]
     },
     "execution_count": 56,
     "metadata": {},
     "output_type": "execute_result"
    },
    {
     "data": {
      "image/png": "[encoded data removed]",
      "text/plain": [
       "<Figure size 432x288 with 1 Axes>"
      ]
     },
     "metadata": {
      "needs_background": "light"
     },
     "output_type": "display_data"
    }
   ],
   "source": [
    "df_worker_location_mean.total_income.plot(kind = 'barh') # совокупный средний доход на душу по офисам"
   ]
  },
  {
   "cell_type": "code",
   "execution_count": 57,
   "id": "12ec97a6-1c27-4e2b-a260-a13900cc7e51",
   "metadata": {},
   "outputs": [
    {
     "data": {
      "text/plain": [
       "<AxesSubplot:ylabel='office'>"
      ]
     },
     "execution_count": 57,
     "metadata": {},
     "output_type": "execute_result"
    },
    {
     "data": {
      "image/png": "[encoded data removed]",
      "text/plain": [
       "<Figure size 432x288 with 1 Axes>"
      ]
     },
     "metadata": {
      "needs_background": "light"
     },
     "output_type": "display_data"
    }
   ],
   "source": [
    "df_worker_location_mean.worker_salary.plot(kind = 'barh') # совокупный средний оклад на душу по офисам"
   ]
  },
  {
   "cell_type": "code",
   "execution_count": 58,
   "id": "8a448081-ce67-44dd-90ba-b986e40843e3",
   "metadata": {},
   "outputs": [
    {
     "data": {
      "text/plain": [
       "<AxesSubplot:ylabel='office'>"
      ]
     },
     "execution_count": 58,
     "metadata": {},
     "output_type": "execute_result"
    },
    {
     "data": {
      "image/png": "[encoded data removed]",
      "text/plain": [
       "<Figure size 432x288 with 1 Axes>"
      ]
     },
     "metadata": {
      "needs_background": "light"
     },
     "output_type": "display_data"
    }
   ],
   "source": [
    "df_worker_location_mean.bonus.plot(kind = 'barh') # совокупная средняя премия на душу по офисам"
   ]
  },
  {
   "cell_type": "markdown",
   "id": "d0166996-6f79-4b7a-8f7e-24808d00c9d0",
   "metadata": {},
   "source": [
    "При анализе распределения среднего возраста работников по офисам получаем, что самые молодые работники трудятся в office-South, в то время как самый высокий средний возраст работников - в office-West"
   ]
  },
  {
   "cell_type": "code",
   "execution_count": null,
   "id": "666570cd-7ad7-45e3-bd57-b9993da65d77",
   "metadata": {},
   "outputs": [],
   "source": []
  },
  {
   "cell_type": "code",
   "execution_count": 59,
   "id": "cb59beed-b27a-48c5-b8f2-7d213de4a31f",
   "metadata": {},
   "outputs": [
    {
     "data": {
      "text/plain": [
       "<AxesSubplot:xlabel='office'>"
      ]
     },
     "execution_count": 59,
     "metadata": {},
     "output_type": "execute_result"
    },
    {
     "data": {
      "image/png": "[encoded data removed]",
      "text/plain": [
       "<Figure size 432x288 with 1 Axes>"
      ]
     },
     "metadata": {
      "needs_background": "light"
     },
     "output_type": "display_data"
    }
   ],
   "source": [
    "df_worker_location_mean.age.plot(kind = 'bar')"
   ]
  },
  {
   "cell_type": "markdown",
   "id": "48e89ddb-6b89-4424-9dfb-ae98a03fddfb",
   "metadata": {},
   "source": [
    "Сопоставив данные о совокупном доходе на душу и распределении работников по возрастам в разрезе по каждому офису, можем отметить, что самый низкий доход на душу в офисе, в котором самый низкий средний возраст работников - office-South"
   ]
  },
  {
   "cell_type": "markdown",
   "id": "2656374c-bad9-4b09-8603-29950b845e2d",
   "metadata": {},
   "source": [
    "Посмотрим также, за предоставление каких услуг отвечают конкретные работники. Сформируем запрос из таблиц workers, offices, services_to_offices.\n",
    "По каждой строке получим информацию о работнике и оказываемым им услугам в привязке к конкретному офису, месте оказания конкретной услуги.\n",
    "Узнаем, кто из работников, а также сколько работников отвечает за предоставление конкретных услуг и о месте оказания каждой услуги"
   ]
  },
  {
   "cell_type": "code",
   "execution_count": 60,
   "id": "b58112bb-94bf-455d-b03b-176c18dd9eba",
   "metadata": {},
   "outputs": [
    {
     "data": {
      "text/html": [
       "<div>\n",
       "<style scoped>\n",
       "    .dataframe tbody tr th:only-of-type {\n",
       "        vertical-align: middle;\n",
       "    }\n",
       "\n",
       "    .dataframe tbody tr th {\n",
       "        vertical-align: top;\n",
       "    }\n",
       "\n",
       "    .dataframe thead th {\n",
       "        text-align: right;\n",
       "    }\n",
       "</style>\n",
       "<table border=\"1\" class=\"dataframe\">\n",
       "  <thead>\n",
       "    <tr style=\"text-align: right;\">\n",
       "      <th></th>\n",
       "      <th>worker_name</th>\n",
       "      <th>office</th>\n",
       "      <th>location_office</th>\n",
       "      <th>services</th>\n",
       "      <th>service_id</th>\n",
       "    </tr>\n",
       "  </thead>\n",
       "  <tbody>\n",
       "    <tr>\n",
       "      <th>0</th>\n",
       "      <td>Alex</td>\n",
       "      <td>office-North</td>\n",
       "      <td>Murmansk</td>\n",
       "      <td>consulting</td>\n",
       "      <td>0</td>\n",
       "    </tr>\n",
       "    <tr>\n",
       "      <th>1</th>\n",
       "      <td>Alex</td>\n",
       "      <td>office-North</td>\n",
       "      <td>Murmansk</td>\n",
       "      <td>report generation</td>\n",
       "      <td>1</td>\n",
       "    </tr>\n",
       "    <tr>\n",
       "      <th>2</th>\n",
       "      <td>Anna</td>\n",
       "      <td>office-South</td>\n",
       "      <td>Krasnodar</td>\n",
       "      <td>model development</td>\n",
       "      <td>3</td>\n",
       "    </tr>\n",
       "    <tr>\n",
       "      <th>3</th>\n",
       "      <td>Catherine</td>\n",
       "      <td>office-East</td>\n",
       "      <td>Moscow</td>\n",
       "      <td>model development</td>\n",
       "      <td>3</td>\n",
       "    </tr>\n",
       "    <tr>\n",
       "      <th>4</th>\n",
       "      <td>Peter</td>\n",
       "      <td>office-West</td>\n",
       "      <td>Kaliningrad</td>\n",
       "      <td>tax consultation</td>\n",
       "      <td>4</td>\n",
       "    </tr>\n",
       "    <tr>\n",
       "      <th>5</th>\n",
       "      <td>Tina</td>\n",
       "      <td>office-West</td>\n",
       "      <td>Kaliningrad</td>\n",
       "      <td>tax consultation</td>\n",
       "      <td>4</td>\n",
       "    </tr>\n",
       "    <tr>\n",
       "      <th>6</th>\n",
       "      <td>Viktor</td>\n",
       "      <td>office-West</td>\n",
       "      <td>Kaliningrad</td>\n",
       "      <td>tax consultation</td>\n",
       "      <td>4</td>\n",
       "    </tr>\n",
       "    <tr>\n",
       "      <th>7</th>\n",
       "      <td>Peter</td>\n",
       "      <td>office-West</td>\n",
       "      <td>Kaliningrad</td>\n",
       "      <td>consulting</td>\n",
       "      <td>0</td>\n",
       "    </tr>\n",
       "    <tr>\n",
       "      <th>8</th>\n",
       "      <td>Tina</td>\n",
       "      <td>office-West</td>\n",
       "      <td>Kaliningrad</td>\n",
       "      <td>consulting</td>\n",
       "      <td>0</td>\n",
       "    </tr>\n",
       "    <tr>\n",
       "      <th>9</th>\n",
       "      <td>Viktor</td>\n",
       "      <td>office-West</td>\n",
       "      <td>Kaliningrad</td>\n",
       "      <td>consulting</td>\n",
       "      <td>0</td>\n",
       "    </tr>\n",
       "    <tr>\n",
       "      <th>10</th>\n",
       "      <td>Mary</td>\n",
       "      <td>office-Central</td>\n",
       "      <td>Moscow</td>\n",
       "      <td>report generation</td>\n",
       "      <td>1</td>\n",
       "    </tr>\n",
       "    <tr>\n",
       "      <th>11</th>\n",
       "      <td>Valeria</td>\n",
       "      <td>office-Central</td>\n",
       "      <td>Moscow</td>\n",
       "      <td>report generation</td>\n",
       "      <td>1</td>\n",
       "    </tr>\n",
       "    <tr>\n",
       "      <th>12</th>\n",
       "      <td>Mary</td>\n",
       "      <td>office-Central</td>\n",
       "      <td>Moscow</td>\n",
       "      <td>formation of the plan</td>\n",
       "      <td>2</td>\n",
       "    </tr>\n",
       "    <tr>\n",
       "      <th>13</th>\n",
       "      <td>Valeria</td>\n",
       "      <td>office-Central</td>\n",
       "      <td>Moscow</td>\n",
       "      <td>formation of the plan</td>\n",
       "      <td>2</td>\n",
       "    </tr>\n",
       "    <tr>\n",
       "      <th>14</th>\n",
       "      <td>Anna</td>\n",
       "      <td>office-South</td>\n",
       "      <td>Krasnodar</td>\n",
       "      <td>formation of the plan</td>\n",
       "      <td>2</td>\n",
       "    </tr>\n",
       "    <tr>\n",
       "      <th>15</th>\n",
       "      <td>Peter</td>\n",
       "      <td>office-West</td>\n",
       "      <td>Kaliningrad</td>\n",
       "      <td>formation of the plan</td>\n",
       "      <td>2</td>\n",
       "    </tr>\n",
       "    <tr>\n",
       "      <th>16</th>\n",
       "      <td>Tina</td>\n",
       "      <td>office-West</td>\n",
       "      <td>Kaliningrad</td>\n",
       "      <td>formation of the plan</td>\n",
       "      <td>2</td>\n",
       "    </tr>\n",
       "    <tr>\n",
       "      <th>17</th>\n",
       "      <td>Viktor</td>\n",
       "      <td>office-West</td>\n",
       "      <td>Kaliningrad</td>\n",
       "      <td>formation of the plan</td>\n",
       "      <td>2</td>\n",
       "    </tr>\n",
       "  </tbody>\n",
       "</table>\n",
       "</div>"
      ],
      "text/plain": [
       "   worker_name          office location_office               services  \\\n",
       "0         Alex    office-North        Murmansk             consulting   \n",
       "1         Alex    office-North        Murmansk      report generation   \n",
       "2         Anna    office-South       Krasnodar      model development   \n",
       "3    Catherine     office-East          Moscow      model development   \n",
       "4        Peter     office-West     Kaliningrad       tax consultation   \n",
       "5         Tina     office-West     Kaliningrad       tax consultation   \n",
       "6       Viktor     office-West     Kaliningrad       tax consultation   \n",
       "7        Peter     office-West     Kaliningrad             consulting   \n",
       "8         Tina     office-West     Kaliningrad             consulting   \n",
       "9       Viktor     office-West     Kaliningrad             consulting   \n",
       "10        Mary  office-Central          Moscow      report generation   \n",
       "11     Valeria  office-Central          Moscow      report generation   \n",
       "12        Mary  office-Central          Moscow  formation of the plan   \n",
       "13     Valeria  office-Central          Moscow  formation of the plan   \n",
       "14        Anna    office-South       Krasnodar  formation of the plan   \n",
       "15       Peter     office-West     Kaliningrad  formation of the plan   \n",
       "16        Tina     office-West     Kaliningrad  formation of the plan   \n",
       "17      Viktor     office-West     Kaliningrad  formation of the plan   \n",
       "\n",
       "    service_id  \n",
       "0            0  \n",
       "1            1  \n",
       "2            3  \n",
       "3            3  \n",
       "4            4  \n",
       "5            4  \n",
       "6            4  \n",
       "7            0  \n",
       "8            0  \n",
       "9            0  \n",
       "10           1  \n",
       "11           1  \n",
       "12           2  \n",
       "13           2  \n",
       "14           2  \n",
       "15           2  \n",
       "16           2  \n",
       "17           2  "
      ]
     },
     "execution_count": 60,
     "metadata": {},
     "output_type": "execute_result"
    }
   ],
   "source": [
    "df_worker_service_location = pd.read_sql(\n",
    "    \"\"\"\n",
    "    SELECT w.name as worker_name,\n",
    "    o.office as office,\n",
    "    o.location as location_office,\n",
    "    s.services as services,\n",
    "    s.id as service_id\n",
    "    FROM workers as w\n",
    "    JOIN offices as o ON o.id = w.office_id\n",
    "    JOIN services_to_offices as t ON  o.id = t.offices_id\n",
    "    JOIN services as s ON s.id = t.service_id\n",
    "        \"\"\", sql)\n",
    "df_worker_service_location"
   ]
  },
  {
   "cell_type": "code",
   "execution_count": 61,
   "id": "44a1d97d-512a-430f-839e-1b628b934705",
   "metadata": {},
   "outputs": [],
   "source": [
    "df_worker_service_location.to_sql(\"worker_service_location\", sql, index_label=\"id\", if_exists=\"replace\")"
   ]
  },
  {
   "cell_type": "code",
   "execution_count": 62,
   "id": "1cbb9c49-1561-4975-81dc-44713c489770",
   "metadata": {
    "tags": []
   },
   "outputs": [],
   "source": [
    "# посмотрим на число работников, оказывающих каждую услугу\n",
    "s1 = df_worker_service_location[df_worker_service_location.services == 'formation of the plan'].worker_name.count()\n",
    "s2 = df_worker_service_location[df_worker_service_location.services == 'report generation'].worker_name.count()\n",
    "s3 = df_worker_service_location[df_worker_service_location.services == 'consulting'].worker_name.count()\n",
    "s4 = df_worker_service_location[df_worker_service_location.services == 'tax consultation'].worker_name.count()\n",
    "s5 = df_worker_service_location[df_worker_service_location.services == 'model development'].worker_name.count()"
   ]
  },
  {
   "cell_type": "code",
   "execution_count": 63,
   "id": "25ebc6ac-999f-48f2-88a4-328e6cbbadc2",
   "metadata": {},
   "outputs": [
    {
     "name": "stdout",
     "output_type": "stream",
     "text": [
      "Услугу formation of the plan предоставляют 6 работников\n",
      "Услугу report generation предоставляют 3 работников\n",
      "Услугу consulting предоставляют 4 работников\n",
      "Услугу tax consultation предоставляют 3 работников\n",
      "Услугу model development предоставляют 2 работников\n"
     ]
    }
   ],
   "source": [
    "print('Услугу formation of the plan предоставляют', s1, 'работников')\n",
    "print('Услугу report generation предоставляют', s2, 'работников')\n",
    "print('Услугу consulting предоставляют', s3, 'работников')\n",
    "print('Услугу tax consultation предоставляют', s4, 'работников')\n",
    "print('Услугу model development предоставляют', s5, 'работников')"
   ]
  },
  {
   "cell_type": "markdown",
   "id": "998f6d23-71bb-4d06-a986-92756dedbbea",
   "metadata": {},
   "source": [
    "Большинство работников предоставляют услугу formation of the plan, причем все работники, работающие в каждом конкретном офисе фирмы предоставляют все услуги, оказываемые данным конкретным офисом"
   ]
  },
  {
   "cell_type": "markdown",
   "id": "a6ba9e20-5c83-4ad2-be73-4be0d5b3d441",
   "metadata": {},
   "source": [
    "Ниже узнаем, в каких офисах кто какие услуги оказывает:"
   ]
  },
  {
   "cell_type": "code",
   "execution_count": 64,
   "id": "c00b2892-77d0-4757-9087-31c0ca4e791c",
   "metadata": {},
   "outputs": [
    {
     "data": {
      "text/html": [
       "<div>\n",
       "<style scoped>\n",
       "    .dataframe tbody tr th:only-of-type {\n",
       "        vertical-align: middle;\n",
       "    }\n",
       "\n",
       "    .dataframe tbody tr th {\n",
       "        vertical-align: top;\n",
       "    }\n",
       "\n",
       "    .dataframe thead th {\n",
       "        text-align: right;\n",
       "    }\n",
       "</style>\n",
       "<table border=\"1\" class=\"dataframe\">\n",
       "  <thead>\n",
       "    <tr style=\"text-align: right;\">\n",
       "      <th></th>\n",
       "      <th>worker_name</th>\n",
       "      <th>office</th>\n",
       "      <th>location_office</th>\n",
       "      <th>services</th>\n",
       "      <th>service_id</th>\n",
       "    </tr>\n",
       "  </thead>\n",
       "  <tbody>\n",
       "    <tr>\n",
       "      <th>0</th>\n",
       "      <td>Alex</td>\n",
       "      <td>office-North</td>\n",
       "      <td>Murmansk</td>\n",
       "      <td>consulting</td>\n",
       "      <td>0</td>\n",
       "    </tr>\n",
       "    <tr>\n",
       "      <th>1</th>\n",
       "      <td>Alex</td>\n",
       "      <td>office-North</td>\n",
       "      <td>Murmansk</td>\n",
       "      <td>report generation</td>\n",
       "      <td>1</td>\n",
       "    </tr>\n",
       "  </tbody>\n",
       "</table>\n",
       "</div>"
      ],
      "text/plain": [
       "  worker_name        office location_office           services  service_id\n",
       "0        Alex  office-North        Murmansk         consulting           0\n",
       "1        Alex  office-North        Murmansk  report generation           1"
      ]
     },
     "execution_count": 64,
     "metadata": {},
     "output_type": "execute_result"
    }
   ],
   "source": [
    "# office-North\n",
    "pd.read_sql(\n",
    "    \"\"\"\n",
    "    SELECT worker_name,\n",
    "    office,\n",
    "    location_office,\n",
    "    services,\n",
    "    service_id\n",
    "    FROM worker_service_location\n",
    "    WHERE office = \"office-North\"\n",
    "    \"\"\", sql)"
   ]
  },
  {
   "cell_type": "code",
   "execution_count": 65,
   "id": "649cbaa6-e4d2-4d8c-9ba1-b611924db5c1",
   "metadata": {},
   "outputs": [
    {
     "data": {
      "text/html": [
       "<div>\n",
       "<style scoped>\n",
       "    .dataframe tbody tr th:only-of-type {\n",
       "        vertical-align: middle;\n",
       "    }\n",
       "\n",
       "    .dataframe tbody tr th {\n",
       "        vertical-align: top;\n",
       "    }\n",
       "\n",
       "    .dataframe thead th {\n",
       "        text-align: right;\n",
       "    }\n",
       "</style>\n",
       "<table border=\"1\" class=\"dataframe\">\n",
       "  <thead>\n",
       "    <tr style=\"text-align: right;\">\n",
       "      <th></th>\n",
       "      <th>worker_name</th>\n",
       "      <th>office</th>\n",
       "      <th>location_office</th>\n",
       "      <th>services</th>\n",
       "      <th>service_id</th>\n",
       "    </tr>\n",
       "  </thead>\n",
       "  <tbody>\n",
       "    <tr>\n",
       "      <th>0</th>\n",
       "      <td>Anna</td>\n",
       "      <td>office-South</td>\n",
       "      <td>Krasnodar</td>\n",
       "      <td>model development</td>\n",
       "      <td>3</td>\n",
       "    </tr>\n",
       "    <tr>\n",
       "      <th>1</th>\n",
       "      <td>Anna</td>\n",
       "      <td>office-South</td>\n",
       "      <td>Krasnodar</td>\n",
       "      <td>formation of the plan</td>\n",
       "      <td>2</td>\n",
       "    </tr>\n",
       "  </tbody>\n",
       "</table>\n",
       "</div>"
      ],
      "text/plain": [
       "  worker_name        office location_office               services  service_id\n",
       "0        Anna  office-South       Krasnodar      model development           3\n",
       "1        Anna  office-South       Krasnodar  formation of the plan           2"
      ]
     },
     "execution_count": 65,
     "metadata": {},
     "output_type": "execute_result"
    }
   ],
   "source": [
    "# office-South\n",
    "pd.read_sql(\n",
    "    \"\"\"\n",
    "    SELECT worker_name,\n",
    "    office,\n",
    "    location_office,\n",
    "    services,\n",
    "    service_id\n",
    "    FROM worker_service_location\n",
    "    WHERE office = \"office-South\"\n",
    "    \"\"\", sql)"
   ]
  },
  {
   "cell_type": "code",
   "execution_count": 66,
   "id": "58a58eab-7d6b-4887-b434-6adb1a211bca",
   "metadata": {},
   "outputs": [
    {
     "data": {
      "text/html": [
       "<div>\n",
       "<style scoped>\n",
       "    .dataframe tbody tr th:only-of-type {\n",
       "        vertical-align: middle;\n",
       "    }\n",
       "\n",
       "    .dataframe tbody tr th {\n",
       "        vertical-align: top;\n",
       "    }\n",
       "\n",
       "    .dataframe thead th {\n",
       "        text-align: right;\n",
       "    }\n",
       "</style>\n",
       "<table border=\"1\" class=\"dataframe\">\n",
       "  <thead>\n",
       "    <tr style=\"text-align: right;\">\n",
       "      <th></th>\n",
       "      <th>worker_name</th>\n",
       "      <th>office</th>\n",
       "      <th>location_office</th>\n",
       "      <th>services</th>\n",
       "      <th>service_id</th>\n",
       "    </tr>\n",
       "  </thead>\n",
       "  <tbody>\n",
       "    <tr>\n",
       "      <th>0</th>\n",
       "      <td>Catherine</td>\n",
       "      <td>office-East</td>\n",
       "      <td>Moscow</td>\n",
       "      <td>model development</td>\n",
       "      <td>3</td>\n",
       "    </tr>\n",
       "  </tbody>\n",
       "</table>\n",
       "</div>"
      ],
      "text/plain": [
       "  worker_name       office location_office           services  service_id\n",
       "0   Catherine  office-East          Moscow  model development           3"
      ]
     },
     "execution_count": 66,
     "metadata": {},
     "output_type": "execute_result"
    }
   ],
   "source": [
    "# office-East\n",
    "pd.read_sql(\n",
    "    \"\"\"\n",
    "    SELECT worker_name,\n",
    "    office,\n",
    "    location_office,\n",
    "    services,\n",
    "    service_id\n",
    "    FROM worker_service_location\n",
    "    WHERE office = \"office-East\"\n",
    "    \"\"\", sql)"
   ]
  },
  {
   "cell_type": "code",
   "execution_count": 67,
   "id": "2681e04b-10b3-40ba-9091-13f144c8629a",
   "metadata": {},
   "outputs": [
    {
     "data": {
      "text/html": [
       "<div>\n",
       "<style scoped>\n",
       "    .dataframe tbody tr th:only-of-type {\n",
       "        vertical-align: middle;\n",
       "    }\n",
       "\n",
       "    .dataframe tbody tr th {\n",
       "        vertical-align: top;\n",
       "    }\n",
       "\n",
       "    .dataframe thead th {\n",
       "        text-align: right;\n",
       "    }\n",
       "</style>\n",
       "<table border=\"1\" class=\"dataframe\">\n",
       "  <thead>\n",
       "    <tr style=\"text-align: right;\">\n",
       "      <th></th>\n",
       "      <th>worker_name</th>\n",
       "      <th>office</th>\n",
       "      <th>location_office</th>\n",
       "      <th>services</th>\n",
       "      <th>service_id</th>\n",
       "    </tr>\n",
       "  </thead>\n",
       "  <tbody>\n",
       "    <tr>\n",
       "      <th>0</th>\n",
       "      <td>Peter</td>\n",
       "      <td>office-West</td>\n",
       "      <td>Kaliningrad</td>\n",
       "      <td>tax consultation</td>\n",
       "      <td>4</td>\n",
       "    </tr>\n",
       "    <tr>\n",
       "      <th>1</th>\n",
       "      <td>Tina</td>\n",
       "      <td>office-West</td>\n",
       "      <td>Kaliningrad</td>\n",
       "      <td>tax consultation</td>\n",
       "      <td>4</td>\n",
       "    </tr>\n",
       "    <tr>\n",
       "      <th>2</th>\n",
       "      <td>Viktor</td>\n",
       "      <td>office-West</td>\n",
       "      <td>Kaliningrad</td>\n",
       "      <td>tax consultation</td>\n",
       "      <td>4</td>\n",
       "    </tr>\n",
       "    <tr>\n",
       "      <th>3</th>\n",
       "      <td>Peter</td>\n",
       "      <td>office-West</td>\n",
       "      <td>Kaliningrad</td>\n",
       "      <td>consulting</td>\n",
       "      <td>0</td>\n",
       "    </tr>\n",
       "    <tr>\n",
       "      <th>4</th>\n",
       "      <td>Tina</td>\n",
       "      <td>office-West</td>\n",
       "      <td>Kaliningrad</td>\n",
       "      <td>consulting</td>\n",
       "      <td>0</td>\n",
       "    </tr>\n",
       "    <tr>\n",
       "      <th>5</th>\n",
       "      <td>Viktor</td>\n",
       "      <td>office-West</td>\n",
       "      <td>Kaliningrad</td>\n",
       "      <td>consulting</td>\n",
       "      <td>0</td>\n",
       "    </tr>\n",
       "    <tr>\n",
       "      <th>6</th>\n",
       "      <td>Peter</td>\n",
       "      <td>office-West</td>\n",
       "      <td>Kaliningrad</td>\n",
       "      <td>formation of the plan</td>\n",
       "      <td>2</td>\n",
       "    </tr>\n",
       "    <tr>\n",
       "      <th>7</th>\n",
       "      <td>Tina</td>\n",
       "      <td>office-West</td>\n",
       "      <td>Kaliningrad</td>\n",
       "      <td>formation of the plan</td>\n",
       "      <td>2</td>\n",
       "    </tr>\n",
       "    <tr>\n",
       "      <th>8</th>\n",
       "      <td>Viktor</td>\n",
       "      <td>office-West</td>\n",
       "      <td>Kaliningrad</td>\n",
       "      <td>formation of the plan</td>\n",
       "      <td>2</td>\n",
       "    </tr>\n",
       "  </tbody>\n",
       "</table>\n",
       "</div>"
      ],
      "text/plain": [
       "  worker_name       office location_office               services  service_id\n",
       "0       Peter  office-West     Kaliningrad       tax consultation           4\n",
       "1        Tina  office-West     Kaliningrad       tax consultation           4\n",
       "2      Viktor  office-West     Kaliningrad       tax consultation           4\n",
       "3       Peter  office-West     Kaliningrad             consulting           0\n",
       "4        Tina  office-West     Kaliningrad             consulting           0\n",
       "5      Viktor  office-West     Kaliningrad             consulting           0\n",
       "6       Peter  office-West     Kaliningrad  formation of the plan           2\n",
       "7        Tina  office-West     Kaliningrad  formation of the plan           2\n",
       "8      Viktor  office-West     Kaliningrad  formation of the plan           2"
      ]
     },
     "execution_count": 67,
     "metadata": {},
     "output_type": "execute_result"
    }
   ],
   "source": [
    "# office-West\n",
    "pd.read_sql(\n",
    "    \"\"\"\n",
    "    SELECT worker_name,\n",
    "    office,\n",
    "    location_office,\n",
    "    services,\n",
    "    service_id\n",
    "    FROM worker_service_location\n",
    "    WHERE office = \"office-West\"\n",
    "    \"\"\", sql)"
   ]
  },
  {
   "cell_type": "code",
   "execution_count": 68,
   "id": "152c3482-f386-4a66-8abd-73740e260870",
   "metadata": {},
   "outputs": [
    {
     "data": {
      "text/html": [
       "<div>\n",
       "<style scoped>\n",
       "    .dataframe tbody tr th:only-of-type {\n",
       "        vertical-align: middle;\n",
       "    }\n",
       "\n",
       "    .dataframe tbody tr th {\n",
       "        vertical-align: top;\n",
       "    }\n",
       "\n",
       "    .dataframe thead th {\n",
       "        text-align: right;\n",
       "    }\n",
       "</style>\n",
       "<table border=\"1\" class=\"dataframe\">\n",
       "  <thead>\n",
       "    <tr style=\"text-align: right;\">\n",
       "      <th></th>\n",
       "      <th>worker_name</th>\n",
       "      <th>office</th>\n",
       "      <th>location_office</th>\n",
       "      <th>services</th>\n",
       "      <th>service_id</th>\n",
       "    </tr>\n",
       "  </thead>\n",
       "  <tbody>\n",
       "    <tr>\n",
       "      <th>0</th>\n",
       "      <td>Mary</td>\n",
       "      <td>office-Central</td>\n",
       "      <td>Moscow</td>\n",
       "      <td>report generation</td>\n",
       "      <td>1</td>\n",
       "    </tr>\n",
       "    <tr>\n",
       "      <th>1</th>\n",
       "      <td>Valeria</td>\n",
       "      <td>office-Central</td>\n",
       "      <td>Moscow</td>\n",
       "      <td>report generation</td>\n",
       "      <td>1</td>\n",
       "    </tr>\n",
       "    <tr>\n",
       "      <th>2</th>\n",
       "      <td>Mary</td>\n",
       "      <td>office-Central</td>\n",
       "      <td>Moscow</td>\n",
       "      <td>formation of the plan</td>\n",
       "      <td>2</td>\n",
       "    </tr>\n",
       "    <tr>\n",
       "      <th>3</th>\n",
       "      <td>Valeria</td>\n",
       "      <td>office-Central</td>\n",
       "      <td>Moscow</td>\n",
       "      <td>formation of the plan</td>\n",
       "      <td>2</td>\n",
       "    </tr>\n",
       "  </tbody>\n",
       "</table>\n",
       "</div>"
      ],
      "text/plain": [
       "  worker_name          office location_office               services  \\\n",
       "0        Mary  office-Central          Moscow      report generation   \n",
       "1     Valeria  office-Central          Moscow      report generation   \n",
       "2        Mary  office-Central          Moscow  formation of the plan   \n",
       "3     Valeria  office-Central          Moscow  formation of the plan   \n",
       "\n",
       "   service_id  \n",
       "0           1  \n",
       "1           1  \n",
       "2           2  \n",
       "3           2  "
      ]
     },
     "execution_count": 68,
     "metadata": {},
     "output_type": "execute_result"
    }
   ],
   "source": [
    "# office-Central\n",
    "pd.read_sql(\n",
    "    \"\"\"\n",
    "    SELECT worker_name,\n",
    "    office,\n",
    "    location_office,\n",
    "    services,\n",
    "    service_id\n",
    "    FROM worker_service_location\n",
    "    WHERE office = \"office-Central\"\n",
    "          \"\"\", sql)"
   ]
  },
  {
   "cell_type": "markdown",
   "id": "bec58ef7-75a4-4829-8310-90fe945effb9",
   "metadata": {},
   "source": [
    "Больше всего услуг оказывает office-West, меньше всего - office-East.\n",
    "В то же время в office-South всего один работник, оказывающий две услуги.\n",
    "При этом его совокупные доходы минимальны - также как и расходы на оплату труда в\n",
    "office-South. Соответственно, необходимо рассмотреть возможность повышения доходов работника"
   ]
  },
  {
   "cell_type": "code",
   "execution_count": null,
   "id": "af814698-f878-4f05-9efc-f86a1796b3d7",
   "metadata": {},
   "outputs": [],
   "source": []
  }
 ],
 "metadata": {
  "kernelspec": {
   "display_name": "Python 3",
   "language": "python",
   "name": "python3"
  },
  "language_info": {
   "codemirror_mode": {
    "name": "ipython",
    "version": 3
   },
   "file_extension": ".py",
   "mimetype": "text/x-python",
   "name": "python",
   "nbconvert_exporter": "python",
   "pygments_lexer": "ipython3",
   "version": "3.8.8"
  }
 },
 "nbformat": 4,
 "nbformat_minor": 5
}

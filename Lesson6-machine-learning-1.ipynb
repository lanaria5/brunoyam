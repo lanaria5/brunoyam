{
 "cells": [
  {
   "cell_type": "markdown",
   "id": "edccf41c-8423-400c-8dbc-61e38461493d",
   "metadata": {},
   "source": [
    "# Машинное обучение"
   ]
  },
  {
   "cell_type": "markdown",
   "id": "8e41fd0b-8571-42b3-ad1f-88cfae868b99",
   "metadata": {},
   "source": [
    "# Домашняя работа\n",
    "## Easy\n",
    "Для данных с Титаника обучить модели логистической регресси и решающего дерева на 80% обучающей выборки и проверить результат на 20%. У какой модели результат лучше?\n",
    "\n",
    "## Normal\n",
    "Используя кросс-валидацию, применить к данным Титаника модель RandomForestClassifier. Сравнить с первыми двумя моделями.\n"
   ]
  },
  {
   "cell_type": "code",
   "execution_count": null,
   "id": "5f2fb8f0-9cf0-426f-bb05-cba4febe8f81",
   "metadata": {},
   "outputs": [],
   "source": []
  },
  {
   "cell_type": "code",
   "execution_count": 1,
   "id": "f86bca48-3424-4c99-830a-f8e94020f2f2",
   "metadata": {},
   "outputs": [],
   "source": [
    "from sklearn.linear_model import LinearRegression, Ridge, Lasso\n",
    "from sklearn.model_selection import train_test_split\n",
    "from sklearn.metrics import mean_squared_error\n",
    "import pandas as pd\n",
    "import numpy as np\n",
    "import seaborn as sns\n",
    "import scipy\n",
    "import matplotlib.pyplot as plt\n",
    "from sklearn.linear_model import LogisticRegression\n",
    "from sklearn.metrics import accuracy_score, confusion_matrix\n",
    "from sklearn.tree import DecisionTreeClassifier\n",
    "from sklearn.ensemble import RandomForestClassifier\n",
    "from sklearn.model_selection import cross_val_score"
   ]
  },
  {
   "cell_type": "code",
   "execution_count": 2,
   "id": "fd604476-9da9-4bb1-981b-4c845501bfdf",
   "metadata": {
    "tags": []
   },
   "outputs": [
    {
     "data": {
      "text/html": [
       "<div>\n",
       "<style scoped>\n",
       "    .dataframe tbody tr th:only-of-type {\n",
       "        vertical-align: middle;\n",
       "    }\n",
       "\n",
       "    .dataframe tbody tr th {\n",
       "        vertical-align: top;\n",
       "    }\n",
       "\n",
       "    .dataframe thead th {\n",
       "        text-align: right;\n",
       "    }\n",
       "</style>\n",
       "<table border=\"1\" class=\"dataframe\">\n",
       "  <thead>\n",
       "    <tr style=\"text-align: right;\">\n",
       "      <th></th>\n",
       "      <th>PassengerId</th>\n",
       "      <th>Survived</th>\n",
       "      <th>Pclass</th>\n",
       "      <th>Name</th>\n",
       "      <th>Sex</th>\n",
       "      <th>Age</th>\n",
       "      <th>SibSp</th>\n",
       "      <th>Parch</th>\n",
       "      <th>Ticket</th>\n",
       "      <th>Fare</th>\n",
       "      <th>Cabin</th>\n",
       "      <th>Embarked</th>\n",
       "    </tr>\n",
       "  </thead>\n",
       "  <tbody>\n",
       "    <tr>\n",
       "      <th>0</th>\n",
       "      <td>1</td>\n",
       "      <td>0</td>\n",
       "      <td>3</td>\n",
       "      <td>Braund, Mr. Owen Harris</td>\n",
       "      <td>male</td>\n",
       "      <td>22.0</td>\n",
       "      <td>1</td>\n",
       "      <td>0</td>\n",
       "      <td>A/5 21171</td>\n",
       "      <td>7.2500</td>\n",
       "      <td>NaN</td>\n",
       "      <td>S</td>\n",
       "    </tr>\n",
       "    <tr>\n",
       "      <th>1</th>\n",
       "      <td>2</td>\n",
       "      <td>1</td>\n",
       "      <td>1</td>\n",
       "      <td>Cumings, Mrs. John Bradley (Florence Briggs Th...</td>\n",
       "      <td>female</td>\n",
       "      <td>38.0</td>\n",
       "      <td>1</td>\n",
       "      <td>0</td>\n",
       "      <td>PC 17599</td>\n",
       "      <td>71.2833</td>\n",
       "      <td>C85</td>\n",
       "      <td>C</td>\n",
       "    </tr>\n",
       "    <tr>\n",
       "      <th>2</th>\n",
       "      <td>3</td>\n",
       "      <td>1</td>\n",
       "      <td>3</td>\n",
       "      <td>Heikkinen, Miss. Laina</td>\n",
       "      <td>female</td>\n",
       "      <td>26.0</td>\n",
       "      <td>0</td>\n",
       "      <td>0</td>\n",
       "      <td>STON/O2. 3101282</td>\n",
       "      <td>7.9250</td>\n",
       "      <td>NaN</td>\n",
       "      <td>S</td>\n",
       "    </tr>\n",
       "    <tr>\n",
       "      <th>3</th>\n",
       "      <td>4</td>\n",
       "      <td>1</td>\n",
       "      <td>1</td>\n",
       "      <td>Futrelle, Mrs. Jacques Heath (Lily May Peel)</td>\n",
       "      <td>female</td>\n",
       "      <td>35.0</td>\n",
       "      <td>1</td>\n",
       "      <td>0</td>\n",
       "      <td>113803</td>\n",
       "      <td>53.1000</td>\n",
       "      <td>C123</td>\n",
       "      <td>S</td>\n",
       "    </tr>\n",
       "    <tr>\n",
       "      <th>4</th>\n",
       "      <td>5</td>\n",
       "      <td>0</td>\n",
       "      <td>3</td>\n",
       "      <td>Allen, Mr. William Henry</td>\n",
       "      <td>male</td>\n",
       "      <td>35.0</td>\n",
       "      <td>0</td>\n",
       "      <td>0</td>\n",
       "      <td>373450</td>\n",
       "      <td>8.0500</td>\n",
       "      <td>NaN</td>\n",
       "      <td>S</td>\n",
       "    </tr>\n",
       "  </tbody>\n",
       "</table>\n",
       "</div>"
      ],
      "text/plain": [
       "   PassengerId  Survived  Pclass  \\\n",
       "0            1         0       3   \n",
       "1            2         1       1   \n",
       "2            3         1       3   \n",
       "3            4         1       1   \n",
       "4            5         0       3   \n",
       "\n",
       "                                                Name     Sex   Age  SibSp  \\\n",
       "0                            Braund, Mr. Owen Harris    male  22.0      1   \n",
       "1  Cumings, Mrs. John Bradley (Florence Briggs Th...  female  38.0      1   \n",
       "2                             Heikkinen, Miss. Laina  female  26.0      0   \n",
       "3       Futrelle, Mrs. Jacques Heath (Lily May Peel)  female  35.0      1   \n",
       "4                           Allen, Mr. William Henry    male  35.0      0   \n",
       "\n",
       "   Parch            Ticket     Fare Cabin Embarked  \n",
       "0      0         A/5 21171   7.2500   NaN        S  \n",
       "1      0          PC 17599  71.2833   C85        C  \n",
       "2      0  STON/O2. 3101282   7.9250   NaN        S  \n",
       "3      0            113803  53.1000  C123        S  \n",
       "4      0            373450   8.0500   NaN        S  "
      ]
     },
     "execution_count": 2,
     "metadata": {},
     "output_type": "execute_result"
    }
   ],
   "source": [
    "titanic = pd.read_csv('./data/train.csv')   # читаем файл в pandas, сохраняем в датафрейме titanic\n",
    "titanic.head() # выводим файл (первые строки, смотрим, корректно ли)"
   ]
  },
  {
   "cell_type": "code",
   "execution_count": 3,
   "id": "c2ac2396-ec7e-480b-be02-d302acbb6be9",
   "metadata": {},
   "outputs": [],
   "source": [
    "def alive(sex):             # Пишем функцию для сопоставления данных по полу с 0 и 1\n",
    "    if sex == 'male':       # То есть если пол мужской - возвращается 0\n",
    "        return 0\n",
    "    else: \n",
    "        return 1     "
   ]
  },
  {
   "cell_type": "code",
   "execution_count": 4,
   "id": "63f7758f-6131-4390-a801-ce15cf4ced86",
   "metadata": {},
   "outputs": [],
   "source": [
    "sex_male_or_f = titanic['Sex'].apply(alive) # формируем серию, для того, чтобы включить ее в колонку"
   ]
  },
  {
   "cell_type": "code",
   "execution_count": 5,
   "id": "09cc6ca4-a8b5-4c32-8d17-3f2c1db3fe14",
   "metadata": {
    "tags": []
   },
   "outputs": [],
   "source": [
    "titanic['Sex_male_fe'] = sex_male_or_f   # создаем новую колонку в датафрейме titanic"
   ]
  },
  {
   "cell_type": "code",
   "execution_count": 6,
   "id": "143a83da-3f0c-4618-bfe3-381c6c55e710",
   "metadata": {},
   "outputs": [],
   "source": [
    "titanic = titanic.dropna()"
   ]
  },
  {
   "cell_type": "code",
   "execution_count": 7,
   "id": "161786c7-e0f2-4eb6-867e-1665a27c9937",
   "metadata": {},
   "outputs": [
    {
     "data": {
      "text/html": [
       "<div>\n",
       "<style scoped>\n",
       "    .dataframe tbody tr th:only-of-type {\n",
       "        vertical-align: middle;\n",
       "    }\n",
       "\n",
       "    .dataframe tbody tr th {\n",
       "        vertical-align: top;\n",
       "    }\n",
       "\n",
       "    .dataframe thead th {\n",
       "        text-align: right;\n",
       "    }\n",
       "</style>\n",
       "<table border=\"1\" class=\"dataframe\">\n",
       "  <thead>\n",
       "    <tr style=\"text-align: right;\">\n",
       "      <th></th>\n",
       "      <th>PassengerId</th>\n",
       "      <th>Survived</th>\n",
       "      <th>Pclass</th>\n",
       "      <th>Name</th>\n",
       "      <th>Sex</th>\n",
       "      <th>Age</th>\n",
       "      <th>SibSp</th>\n",
       "      <th>Parch</th>\n",
       "      <th>Ticket</th>\n",
       "      <th>Fare</th>\n",
       "      <th>Cabin</th>\n",
       "      <th>Embarked</th>\n",
       "      <th>Sex_male_fe</th>\n",
       "    </tr>\n",
       "  </thead>\n",
       "  <tbody>\n",
       "    <tr>\n",
       "      <th>1</th>\n",
       "      <td>2</td>\n",
       "      <td>1</td>\n",
       "      <td>1</td>\n",
       "      <td>Cumings, Mrs. John Bradley (Florence Briggs Th...</td>\n",
       "      <td>female</td>\n",
       "      <td>38.0</td>\n",
       "      <td>1</td>\n",
       "      <td>0</td>\n",
       "      <td>PC 17599</td>\n",
       "      <td>71.2833</td>\n",
       "      <td>C85</td>\n",
       "      <td>C</td>\n",
       "      <td>1</td>\n",
       "    </tr>\n",
       "    <tr>\n",
       "      <th>3</th>\n",
       "      <td>4</td>\n",
       "      <td>1</td>\n",
       "      <td>1</td>\n",
       "      <td>Futrelle, Mrs. Jacques Heath (Lily May Peel)</td>\n",
       "      <td>female</td>\n",
       "      <td>35.0</td>\n",
       "      <td>1</td>\n",
       "      <td>0</td>\n",
       "      <td>113803</td>\n",
       "      <td>53.1000</td>\n",
       "      <td>C123</td>\n",
       "      <td>S</td>\n",
       "      <td>1</td>\n",
       "    </tr>\n",
       "    <tr>\n",
       "      <th>6</th>\n",
       "      <td>7</td>\n",
       "      <td>0</td>\n",
       "      <td>1</td>\n",
       "      <td>McCarthy, Mr. Timothy J</td>\n",
       "      <td>male</td>\n",
       "      <td>54.0</td>\n",
       "      <td>0</td>\n",
       "      <td>0</td>\n",
       "      <td>17463</td>\n",
       "      <td>51.8625</td>\n",
       "      <td>E46</td>\n",
       "      <td>S</td>\n",
       "      <td>0</td>\n",
       "    </tr>\n",
       "    <tr>\n",
       "      <th>10</th>\n",
       "      <td>11</td>\n",
       "      <td>1</td>\n",
       "      <td>3</td>\n",
       "      <td>Sandstrom, Miss. Marguerite Rut</td>\n",
       "      <td>female</td>\n",
       "      <td>4.0</td>\n",
       "      <td>1</td>\n",
       "      <td>1</td>\n",
       "      <td>PP 9549</td>\n",
       "      <td>16.7000</td>\n",
       "      <td>G6</td>\n",
       "      <td>S</td>\n",
       "      <td>1</td>\n",
       "    </tr>\n",
       "    <tr>\n",
       "      <th>11</th>\n",
       "      <td>12</td>\n",
       "      <td>1</td>\n",
       "      <td>1</td>\n",
       "      <td>Bonnell, Miss. Elizabeth</td>\n",
       "      <td>female</td>\n",
       "      <td>58.0</td>\n",
       "      <td>0</td>\n",
       "      <td>0</td>\n",
       "      <td>113783</td>\n",
       "      <td>26.5500</td>\n",
       "      <td>C103</td>\n",
       "      <td>S</td>\n",
       "      <td>1</td>\n",
       "    </tr>\n",
       "  </tbody>\n",
       "</table>\n",
       "</div>"
      ],
      "text/plain": [
       "    PassengerId  Survived  Pclass  \\\n",
       "1             2         1       1   \n",
       "3             4         1       1   \n",
       "6             7         0       1   \n",
       "10           11         1       3   \n",
       "11           12         1       1   \n",
       "\n",
       "                                                 Name     Sex   Age  SibSp  \\\n",
       "1   Cumings, Mrs. John Bradley (Florence Briggs Th...  female  38.0      1   \n",
       "3        Futrelle, Mrs. Jacques Heath (Lily May Peel)  female  35.0      1   \n",
       "6                             McCarthy, Mr. Timothy J    male  54.0      0   \n",
       "10                    Sandstrom, Miss. Marguerite Rut  female   4.0      1   \n",
       "11                           Bonnell, Miss. Elizabeth  female  58.0      0   \n",
       "\n",
       "    Parch    Ticket     Fare Cabin Embarked  Sex_male_fe  \n",
       "1       0  PC 17599  71.2833   C85        C            1  \n",
       "3       0    113803  53.1000  C123        S            1  \n",
       "6       0     17463  51.8625   E46        S            0  \n",
       "10      1   PP 9549  16.7000    G6        S            1  \n",
       "11      0    113783  26.5500  C103        S            1  "
      ]
     },
     "execution_count": 7,
     "metadata": {},
     "output_type": "execute_result"
    }
   ],
   "source": [
    "titanic.head()"
   ]
  },
  {
   "cell_type": "code",
   "execution_count": null,
   "id": "c212e965-35d9-4c8e-88b3-6ed4c8e87870",
   "metadata": {},
   "outputs": [],
   "source": []
  },
  {
   "cell_type": "code",
   "execution_count": 8,
   "id": "b0fb0fe1-ded7-4d51-b445-24e17490fa80",
   "metadata": {},
   "outputs": [
    {
     "data": {
      "text/html": [
       "<div>\n",
       "<style scoped>\n",
       "    .dataframe tbody tr th:only-of-type {\n",
       "        vertical-align: middle;\n",
       "    }\n",
       "\n",
       "    .dataframe tbody tr th {\n",
       "        vertical-align: top;\n",
       "    }\n",
       "\n",
       "    .dataframe thead th {\n",
       "        text-align: right;\n",
       "    }\n",
       "</style>\n",
       "<table border=\"1\" class=\"dataframe\">\n",
       "  <thead>\n",
       "    <tr style=\"text-align: right;\">\n",
       "      <th></th>\n",
       "      <th>Pclass</th>\n",
       "      <th>Age</th>\n",
       "      <th>Sex_male_fe</th>\n",
       "    </tr>\n",
       "  </thead>\n",
       "  <tbody>\n",
       "    <tr>\n",
       "      <th>1</th>\n",
       "      <td>1</td>\n",
       "      <td>38.0</td>\n",
       "      <td>1</td>\n",
       "    </tr>\n",
       "    <tr>\n",
       "      <th>3</th>\n",
       "      <td>1</td>\n",
       "      <td>35.0</td>\n",
       "      <td>1</td>\n",
       "    </tr>\n",
       "    <tr>\n",
       "      <th>6</th>\n",
       "      <td>1</td>\n",
       "      <td>54.0</td>\n",
       "      <td>0</td>\n",
       "    </tr>\n",
       "    <tr>\n",
       "      <th>10</th>\n",
       "      <td>3</td>\n",
       "      <td>4.0</td>\n",
       "      <td>1</td>\n",
       "    </tr>\n",
       "    <tr>\n",
       "      <th>11</th>\n",
       "      <td>1</td>\n",
       "      <td>58.0</td>\n",
       "      <td>1</td>\n",
       "    </tr>\n",
       "  </tbody>\n",
       "</table>\n",
       "</div>"
      ],
      "text/plain": [
       "    Pclass   Age  Sex_male_fe\n",
       "1        1  38.0            1\n",
       "3        1  35.0            1\n",
       "6        1  54.0            0\n",
       "10       3   4.0            1\n",
       "11       1  58.0            1"
      ]
     },
     "execution_count": 8,
     "metadata": {},
     "output_type": "execute_result"
    }
   ],
   "source": [
    "x_df = titanic[['Pclass','Age','Sex_male_fe']]\n",
    "x_df.head()"
   ]
  },
  {
   "cell_type": "code",
   "execution_count": 9,
   "id": "b00b6742-6e33-41e2-8447-3e1c448c26f6",
   "metadata": {},
   "outputs": [
    {
     "data": {
      "text/html": [
       "<div>\n",
       "<style scoped>\n",
       "    .dataframe tbody tr th:only-of-type {\n",
       "        vertical-align: middle;\n",
       "    }\n",
       "\n",
       "    .dataframe tbody tr th {\n",
       "        vertical-align: top;\n",
       "    }\n",
       "\n",
       "    .dataframe thead th {\n",
       "        text-align: right;\n",
       "    }\n",
       "</style>\n",
       "<table border=\"1\" class=\"dataframe\">\n",
       "  <thead>\n",
       "    <tr style=\"text-align: right;\">\n",
       "      <th></th>\n",
       "      <th>Survived</th>\n",
       "    </tr>\n",
       "  </thead>\n",
       "  <tbody>\n",
       "    <tr>\n",
       "      <th>1</th>\n",
       "      <td>1</td>\n",
       "    </tr>\n",
       "    <tr>\n",
       "      <th>3</th>\n",
       "      <td>1</td>\n",
       "    </tr>\n",
       "    <tr>\n",
       "      <th>6</th>\n",
       "      <td>0</td>\n",
       "    </tr>\n",
       "    <tr>\n",
       "      <th>10</th>\n",
       "      <td>1</td>\n",
       "    </tr>\n",
       "    <tr>\n",
       "      <th>11</th>\n",
       "      <td>1</td>\n",
       "    </tr>\n",
       "  </tbody>\n",
       "</table>\n",
       "</div>"
      ],
      "text/plain": [
       "    Survived\n",
       "1          1\n",
       "3          1\n",
       "6          0\n",
       "10         1\n",
       "11         1"
      ]
     },
     "execution_count": 9,
     "metadata": {},
     "output_type": "execute_result"
    }
   ],
   "source": [
    "y_df = titanic[['Survived']]\n",
    "np.ravel(y_df)\n",
    "y_df.head()"
   ]
  },
  {
   "cell_type": "code",
   "execution_count": null,
   "id": "7afe36d3-e4b9-40a9-ac55-51db6017e457",
   "metadata": {},
   "outputs": [],
   "source": []
  },
  {
   "cell_type": "code",
   "execution_count": 10,
   "id": "6a2965bf-b584-4972-b808-74d98c7ce135",
   "metadata": {},
   "outputs": [
    {
     "data": {
      "text/plain": [
       "<seaborn.axisgrid.PairGrid at 0x2076bd1c3d0>"
      ]
     },
     "execution_count": 10,
     "metadata": {},
     "output_type": "execute_result"
    },
    {
     "data": {
      "image/png": "[encoded data removed]",
      "text/plain": [
       "<Figure size 720x720 with 20 Axes>"
      ]
     },
     "metadata": {
      "needs_background": "light"
     },
     "output_type": "display_data"
    }
   ],
   "source": [
    "full_df = pd.concat([x_df, y_df], axis=1)\n",
    "sns.pairplot(full_df)"
   ]
  },
  {
   "cell_type": "markdown",
   "id": "40fe4ffa-fb83-462b-9ec5-5847df1a52c6",
   "metadata": {},
   "source": [
    "\n",
    "Построим модель с одним признаком и оценим ее качество\n",
    "\n",
    "Для начала разобьем данные на train и test выборки"
   ]
  },
  {
   "cell_type": "code",
   "execution_count": 11,
   "id": "af815bf7-892e-4970-bbbc-32eef0a2a196",
   "metadata": {},
   "outputs": [
    {
     "data": {
      "text/plain": [
       "((146, 3), (37, 3))"
      ]
     },
     "execution_count": 11,
     "metadata": {},
     "output_type": "execute_result"
    }
   ],
   "source": [
    "x_train, x_test, y_train, y_test = train_test_split(x_df, y_df, train_size=0.8)\n",
    "x_train.shape, x_test.shape"
   ]
  },
  {
   "cell_type": "markdown",
   "id": "ba9ba192-c0e7-4dce-8f79-860082915af0",
   "metadata": {},
   "source": [
    "Cпрогнозируем при помощи логистической регрессии."
   ]
  },
  {
   "cell_type": "code",
   "execution_count": 12,
   "id": "a5b8b3ac-19f0-4d9b-9925-032063babe4f",
   "metadata": {},
   "outputs": [
    {
     "name": "stdout",
     "output_type": "stream",
     "text": [
      "accuracy_score по модели логистической регрессии = 0.8378378378378378\n"
     ]
    }
   ],
   "source": [
    "logmodel = LogisticRegression(max_iter = 50)\n",
    "logmodel.fit(x_train, y_train.values.ravel())\n",
    "y_pred = logmodel.predict(x_test)\n",
    "var1 = accuracy_score(y_pred, y_test)\n",
    "print('accuracy_score по модели логистической регрессии =', var1)"
   ]
  },
  {
   "cell_type": "code",
   "execution_count": 13,
   "id": "550779c9-9435-4a6c-984d-fd29b495bab3",
   "metadata": {},
   "outputs": [
    {
     "data": {
      "text/plain": [
       "array([[ 9,  4],\n",
       "       [ 2, 22]], dtype=int64)"
      ]
     },
     "execution_count": 13,
     "metadata": {},
     "output_type": "execute_result"
    }
   ],
   "source": [
    "confusion_matrix(y_test, y_pred)"
   ]
  },
  {
   "cell_type": "code",
   "execution_count": null,
   "id": "e475c42c-1220-4be2-aa08-3faced8e1a1c",
   "metadata": {},
   "outputs": [],
   "source": []
  },
  {
   "cell_type": "code",
   "execution_count": 14,
   "id": "637bafd6-4364-4a0e-9a1d-fb5f90d8133b",
   "metadata": {},
   "outputs": [
    {
     "name": "stdout",
     "output_type": "stream",
     "text": [
      "accuracy_score по модели DecisionTreeClassifier = 0.8648648648648649\n"
     ]
    }
   ],
   "source": [
    "dtcmodel = DecisionTreeClassifier(max_depth = 50)\n",
    "dtcmodel.fit(x_train, y_train.values.ravel())\n",
    "y_pred = dtcmodel.predict(x_test)\n",
    "var2 = accuracy_score(y_pred, y_test)\n",
    "print('accuracy_score по модели DecisionTreeClassifier =', var2)"
   ]
  },
  {
   "cell_type": "code",
   "execution_count": 15,
   "id": "bb394f0e-cdc5-403f-a27d-d79982e5e465",
   "metadata": {},
   "outputs": [
    {
     "data": {
      "text/plain": [
       "array([[11,  2],\n",
       "       [ 3, 21]], dtype=int64)"
      ]
     },
     "execution_count": 15,
     "metadata": {},
     "output_type": "execute_result"
    }
   ],
   "source": [
    "confusion_matrix(y_test, y_pred)"
   ]
  },
  {
   "cell_type": "code",
   "execution_count": 16,
   "id": "2cbec6fe-5b29-46e9-ae89-f9dbc93af6d7",
   "metadata": {},
   "outputs": [
    {
     "name": "stdout",
     "output_type": "stream",
     "text": [
      "Вывод по первым двум моделям:\n",
      "Модель DecisionTreeClassifier дает результат лучше\n"
     ]
    }
   ],
   "source": [
    "print ('Вывод по первым двум моделям:')\n",
    "if var1 > var2:\n",
    "    print ('Модель LogisticRegression дает лучший результат')\n",
    "elif var1 == var2:\n",
    "    print ('Модель LogisticRegression и модель DecisionTreeClassifier дают одинаковый результат')\n",
    "else:\n",
    "    print ('Модель DecisionTreeClassifier дает результат лучше')"
   ]
  },
  {
   "cell_type": "code",
   "execution_count": null,
   "id": "87defd12-d296-4c01-9cfc-69570e9fe178",
   "metadata": {},
   "outputs": [],
   "source": []
  },
  {
   "cell_type": "markdown",
   "id": "588844f5-b3dd-4566-9128-b396a77d8e65",
   "metadata": {},
   "source": [
    "## Normal\n",
    "Используя кросс-валидацию, применить к данным Титаника модель RandomForestClassifier. Сравнить с первыми двумя моделями."
   ]
  },
  {
   "cell_type": "code",
   "execution_count": 17,
   "id": "f52fbb1e-466e-41bd-82e7-3a1532f983f5",
   "metadata": {},
   "outputs": [
    {
     "name": "stdout",
     "output_type": "stream",
     "text": [
      "Справочно: accuracy_score по модели RandomForestClassifier = 0.8108108108108109\n"
     ]
    }
   ],
   "source": [
    "rfcmodel = RandomForestClassifier(n_estimators = 50)\n",
    "rfcmodel.fit(x_train, y_train.values.ravel())\n",
    "y_pred = rfcmodel.predict(x_test)\n",
    "var3 = accuracy_score(y_pred, y_test)\n",
    "print('Справочно: accuracy_score по модели RandomForestClassifier =', var3)"
   ]
  },
  {
   "cell_type": "markdown",
   "id": "36634c22-4342-44fe-bdf9-62a2e06790bb",
   "metadata": {},
   "source": [
    "Оценим качество модели 3 по cross_val_score:"
   ]
  },
  {
   "cell_type": "code",
   "execution_count": 18,
   "id": "9e3cb301-c9ee-4e09-95c3-7f1bdb32f44a",
   "metadata": {},
   "outputs": [
    {
     "name": "stdout",
     "output_type": "stream",
     "text": [
      "Среднее по кросс-валидации в модели RandomForestClassifier: 0.7614285714285713\n",
      "Качество на тестовой выборке RandomForestClassifier: 0.8108108108108109\n"
     ]
    }
   ],
   "source": [
    "rf = RandomForestClassifier(max_depth = 50)\n",
    "rf_result = cross_val_score(rf, x_train, y_train.values.ravel(), cv = 10).mean()\n",
    "print('Среднее по кросс-валидации в модели RandomForestClassifier:', rf_result)\n",
    "print('Качество на тестовой выборке RandomForestClassifier:', accuracy_score(rfcmodel.predict(x_test), y_test))"
   ]
  },
  {
   "cell_type": "code",
   "execution_count": null,
   "id": "130474c5-2ae4-499b-a246-b4a6da2a5a2e",
   "metadata": {},
   "outputs": [],
   "source": []
  },
  {
   "cell_type": "markdown",
   "id": "94c02b55-e102-4d26-b14d-ab3371b90153",
   "metadata": {},
   "source": [
    "Сравним итоговые результаты с моделью 1 и 2 в %% по accuracy score и с учетом кросс-валидации:"
   ]
  },
  {
   "cell_type": "code",
   "execution_count": 19,
   "id": "fda766c8-f268-48bc-b006-e7ec1c1719e3",
   "metadata": {},
   "outputs": [
    {
     "name": "stdout",
     "output_type": "stream",
     "text": [
      "accuracy_score по модели логистической регрессии = 83.78378378378379 %\n"
     ]
    }
   ],
   "source": [
    "print('accuracy_score по модели логистической регрессии =', var1*100, '%')"
   ]
  },
  {
   "cell_type": "code",
   "execution_count": 20,
   "id": "2a636165-6734-4d70-8f05-44b077084c10",
   "metadata": {},
   "outputs": [
    {
     "name": "stdout",
     "output_type": "stream",
     "text": [
      "accuracy_score по модели DecisionTreeClassifier = 86.48648648648648 %\n"
     ]
    }
   ],
   "source": [
    "print('accuracy_score по модели DecisionTreeClassifier =', var2*100, '%')"
   ]
  },
  {
   "cell_type": "code",
   "execution_count": 21,
   "id": "3fd89e34-fe75-42ba-971c-8cc81335347b",
   "metadata": {},
   "outputs": [
    {
     "name": "stdout",
     "output_type": "stream",
     "text": [
      "Справочно: accuracy_score по модели RandomForestClassifier = 81.08108108108108 %\n"
     ]
    }
   ],
   "source": [
    "print('Справочно: accuracy_score по модели RandomForestClassifier =', var3*100, '%')"
   ]
  },
  {
   "cell_type": "markdown",
   "id": "f19ffd0e-c848-43c3-aa3c-a9e1d146cd09",
   "metadata": {},
   "source": [
    "Вывод: по accuracy score наилучший результат у модели DecisionTreeClassifier"
   ]
  },
  {
   "cell_type": "code",
   "execution_count": null,
   "id": "a5eb637a-89d3-476b-8e0c-cf795fadea60",
   "metadata": {},
   "outputs": [],
   "source": []
  },
  {
   "cell_type": "code",
   "execution_count": 22,
   "id": "70ad1b9a-38a4-4994-8d14-46669372577a",
   "metadata": {},
   "outputs": [
    {
     "name": "stdout",
     "output_type": "stream",
     "text": [
      "Среднее по кросс-валидации в модели RandomForestClassifier: 76.14285714285714 %\n"
     ]
    }
   ],
   "source": [
    "print('Среднее по кросс-валидации в модели RandomForestClassifier:', rf_result*100, '%')"
   ]
  },
  {
   "cell_type": "code",
   "execution_count": 23,
   "id": "2713bcfa-9605-4d93-b641-59200ff717c6",
   "metadata": {},
   "outputs": [
    {
     "name": "stdout",
     "output_type": "stream",
     "text": [
      "Среднее по кросс-валидации в модели LogisticRegression: 75.47619047619048 %\n"
     ]
    }
   ],
   "source": [
    "lr = LogisticRegression(max_iter = 50)\n",
    "lr_result = cross_val_score(lr, x_train, y_train.values.ravel(), cv = 10).mean()\n",
    "print('Среднее по кросс-валидации в модели LogisticRegression:', lr_result*100,'%')"
   ]
  },
  {
   "cell_type": "code",
   "execution_count": 24,
   "id": "38964d63-a787-45df-824c-38f8db17caef",
   "metadata": {},
   "outputs": [
    {
     "name": "stdout",
     "output_type": "stream",
     "text": [
      "Среднее по кросс-валидации в модели DecisionTreeClassifier: 76.23809523809524 %\n"
     ]
    }
   ],
   "source": [
    "dt = DecisionTreeClassifier(max_depth = 50)\n",
    "dt_result = cross_val_score(dt, x_train, y_train.values.ravel(), cv = 10).mean()\n",
    "dt_result\n",
    "print('Среднее по кросс-валидации в модели DecisionTreeClassifier:', dt_result*100, '%')"
   ]
  },
  {
   "cell_type": "markdown",
   "id": "bbc82aea-9a84-4fb9-abce-6a5d297ef2b8",
   "metadata": {},
   "source": [
    "Вывод: таким образом, по кросс-валидации с учетом использованных параметров наилучший результат у модели DecisionTreeClassifier"
   ]
  },
  {
   "cell_type": "code",
   "execution_count": null,
   "id": "6ebcdde5-791a-481f-b7e5-ac1e042c21f2",
   "metadata": {},
   "outputs": [],
   "source": []
  }
 ],
 "metadata": {
  "kernelspec": {
   "display_name": "Python 3",
   "language": "python",
   "name": "python3"
  },
  "language_info": {
   "codemirror_mode": {
    "name": "ipython",
    "version": 3
   },
   "file_extension": ".py",
   "mimetype": "text/x-python",
   "name": "python",
   "nbconvert_exporter": "python",
   "pygments_lexer": "ipython3",
   "version": "3.8.8"
  }
 },
 "nbformat": 4,
 "nbformat_minor": 5
}
